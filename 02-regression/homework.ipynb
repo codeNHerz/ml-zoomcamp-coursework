{
 "cells": [
  {
   "cell_type": "code",
   "execution_count": null,
   "id": "4632d45e-e272-4dd7-9e1f-4d1e41619e16",
   "metadata": {},
   "outputs": [],
   "source": []
  },
  {
   "cell_type": "markdown",
   "id": "2c0d3c92-4007-46e6-ac36-4ac6059ea1d4",
   "metadata": {
    "execution": {
     "iopub.execute_input": "2025-09-30T18:01:23.311252Z",
     "iopub.status.busy": "2025-09-30T18:01:23.310833Z",
     "iopub.status.idle": "2025-09-30T18:01:23.331081Z",
     "shell.execute_reply": "2025-09-30T18:01:23.325822Z",
     "shell.execute_reply.started": "2025-09-30T18:01:23.311212Z"
    }
   },
   "source": [
    "predict ?"
   ]
  },
  {
   "cell_type": "markdown",
   "id": "20c7df72-b361-4bb5-9c45-2e2e168abfd5",
   "metadata": {},
   "source": [
    "72 \n",
    "auswahl an anweisungen die immer bei einembefehl ausgeführt werden???"
   ]
  },
  {
   "cell_type": "markdown",
   "id": "0269baa6-b5c0-4b46-9dc0-232dd84196e9",
   "metadata": {
    "execution": {
     "iopub.status.busy": "2025-09-30T18:01:23.332162Z",
     "iopub.status.idle": "2025-09-30T18:01:23.336225Z",
     "shell.execute_reply": "2025-09-30T18:01:23.335151Z",
     "shell.execute_reply.started": "2025-09-30T18:01:23.335110Z"
    }
   },
   "source": [
    "return x"
   ]
  },
  {
   "cell_type": "markdown",
   "id": "383e688c-04d4-47c9-a729-110405fc2143",
   "metadata": {
    "execution": {
     "iopub.status.busy": "2025-09-30T18:01:23.338098Z",
     "iopub.status.idle": "2025-09-30T18:01:23.344306Z",
     "shell.execute_reply": "2025-09-30T18:01:23.338660Z",
     "shell.execute_reply.started": "2025-09-30T18:01:23.338624Z"
    }
   },
   "source": [
    "2.12 ND 2,3,4 ??? wie sehen diese Autos aus"
   ]
  },
  {
   "cell_type": "markdown",
   "id": "90a9c3d0-1942-4df1-a23d-4186c34c8055",
   "metadata": {
    "execution": {
     "iopub.status.busy": "2025-09-30T18:01:23.347859Z",
     "iopub.status.idle": "2025-09-30T18:01:23.348831Z",
     "shell.execute_reply": "2025-09-30T18:01:23.348593Z",
     "shell.execute_reply.started": "2025-09-30T18:01:23.348567Z"
    }
   },
   "source": [
    "append?"
   ]
  },
  {
   "cell_type": "markdown",
   "id": "a7b9f0f8-b1b7-4f2d-acdd-ab06c0e81bdb",
   "metadata": {
    "execution": {
     "iopub.status.busy": "2025-09-30T18:01:23.359020Z",
     "iopub.status.idle": "2025-09-30T18:01:23.368494Z",
     "shell.execute_reply": "2025-09-30T18:01:23.367333Z",
     "shell.execute_reply.started": "2025-09-30T18:01:23.367283Z"
    }
   },
   "source": [
    "12: add a small number to diagonal \n"
   ]
  },
  {
   "cell_type": "markdown",
   "id": "093f9ddd-a056-45e5-81c6-60db9f6cd64d",
   "metadata": {},
   "source": [
    "HOMEWORK"
   ]
  },
  {
   "cell_type": "markdown",
   "id": "1faa172b-5634-472e-89b7-42ddb75ed2dd",
   "metadata": {},
   "source": [
    "The goal of this homework is to create a regression model for predicting the car fuel efficiency (column 'fuel_efficiency_mpg')."
   ]
  },
  {
   "cell_type": "code",
   "execution_count": 1,
   "id": "0191b373-0ecd-42b6-8541-22251816e9ee",
   "metadata": {
    "execution": {
     "iopub.execute_input": "2025-10-01T19:38:19.291725Z",
     "iopub.status.busy": "2025-10-01T19:38:19.291215Z",
     "iopub.status.idle": "2025-10-01T19:38:20.336421Z",
     "shell.execute_reply": "2025-10-01T19:38:20.335331Z",
     "shell.execute_reply.started": "2025-10-01T19:38:19.291687Z"
    }
   },
   "outputs": [],
   "source": [
    "import pandas as pd\n",
    "import numpy as np"
   ]
  },
  {
   "cell_type": "code",
   "execution_count": 2,
   "id": "67c7c2fb-598d-4666-8e4e-81444f2a3b16",
   "metadata": {
    "execution": {
     "iopub.execute_input": "2025-10-01T19:38:20.339058Z",
     "iopub.status.busy": "2025-10-01T19:38:20.338140Z",
     "iopub.status.idle": "2025-10-01T19:38:20.346345Z",
     "shell.execute_reply": "2025-10-01T19:38:20.345193Z",
     "shell.execute_reply.started": "2025-10-01T19:38:20.339012Z"
    }
   },
   "outputs": [],
   "source": [
    "data = 'https://raw.githubusercontent.com/alexeygrigorev/datasets/master/car_fuel_efficiency.csv'"
   ]
  },
  {
   "cell_type": "code",
   "execution_count": 3,
   "id": "14420db8-9284-41b5-9432-e59a00b7b6b1",
   "metadata": {
    "execution": {
     "iopub.execute_input": "2025-10-01T19:38:20.355445Z",
     "iopub.status.busy": "2025-10-01T19:38:20.354824Z",
     "iopub.status.idle": "2025-10-01T19:38:21.264351Z",
     "shell.execute_reply": "2025-10-01T19:38:21.262784Z",
     "shell.execute_reply.started": "2025-10-01T19:38:20.355409Z"
    }
   },
   "outputs": [
    {
     "name": "stdout",
     "output_type": "stream",
     "text": [
      "--2025-10-01 21:38:20--  https://raw.githubusercontent.com/alexeygrigorev/datasets/master/car_fuel_efficiency.csv\n",
      "Resolving raw.githubusercontent.com (raw.githubusercontent.com)... 185.199.111.133, 185.199.110.133, 185.199.109.133, ...\n",
      "Connecting to raw.githubusercontent.com (raw.githubusercontent.com)|185.199.111.133|:443... connected.\n",
      "HTTP request sent, awaiting response... 200 OK\n",
      "Length: 874188 (854K) [text/plain]\n",
      "Saving to: ‘car_fuel_efficiency.csv.22’\n",
      "\n",
      "car_fuel_efficiency 100%[===================>] 853.70K  2.73MB/s    in 0.3s    \n",
      "\n",
      "2025-10-01 21:38:21 (2.73 MB/s) - ‘car_fuel_efficiency.csv.22’ saved [874188/874188]\n",
      "\n"
     ]
    }
   ],
   "source": [
    "!wget $data "
   ]
  },
  {
   "cell_type": "code",
   "execution_count": 4,
   "id": "d214a657-d33f-433f-ab76-c14da66a6071",
   "metadata": {
    "execution": {
     "iopub.execute_input": "2025-10-01T19:38:21.267079Z",
     "iopub.status.busy": "2025-10-01T19:38:21.266234Z",
     "iopub.status.idle": "2025-10-01T19:38:21.333662Z",
     "shell.execute_reply": "2025-10-01T19:38:21.332923Z",
     "shell.execute_reply.started": "2025-10-01T19:38:21.267037Z"
    }
   },
   "outputs": [],
   "source": [
    "df = pd.read_csv('car_fuel_efficiency.csv')"
   ]
  },
  {
   "cell_type": "code",
   "execution_count": 5,
   "id": "a5e45de3-514f-4083-8590-440513040608",
   "metadata": {
    "execution": {
     "iopub.execute_input": "2025-10-01T19:38:21.335304Z",
     "iopub.status.busy": "2025-10-01T19:38:21.334980Z",
     "iopub.status.idle": "2025-10-01T19:38:21.358023Z",
     "shell.execute_reply": "2025-10-01T19:38:21.351969Z",
     "shell.execute_reply.started": "2025-10-01T19:38:21.335283Z"
    }
   },
   "outputs": [],
   "source": [
    "df = df[['engine_displacement','horsepower','vehicle_weight','model_year','fuel_efficiency_mpg']]"
   ]
  },
  {
   "cell_type": "code",
   "execution_count": 6,
   "id": "1a452b4e-970d-41a5-8794-72c7b8de9247",
   "metadata": {
    "execution": {
     "iopub.execute_input": "2025-10-01T19:38:21.366530Z",
     "iopub.status.busy": "2025-10-01T19:38:21.366209Z",
     "iopub.status.idle": "2025-10-01T19:38:23.756521Z",
     "shell.execute_reply": "2025-10-01T19:38:23.755842Z",
     "shell.execute_reply.started": "2025-10-01T19:38:21.366510Z"
    }
   },
   "outputs": [],
   "source": [
    "import matplotlib.pyplot as plt\n",
    "import seaborn as sns\n",
    "\n",
    "%matplotlib inline"
   ]
  },
  {
   "cell_type": "code",
   "execution_count": 7,
   "id": "eb83ab1a-6856-46af-b82a-a47a95793c49",
   "metadata": {
    "execution": {
     "iopub.execute_input": "2025-10-01T19:38:23.758226Z",
     "iopub.status.busy": "2025-10-01T19:38:23.757606Z",
     "iopub.status.idle": "2025-10-01T19:38:24.215068Z",
     "shell.execute_reply": "2025-10-01T19:38:24.211579Z",
     "shell.execute_reply.started": "2025-10-01T19:38:23.758195Z"
    }
   },
   "outputs": [
    {
     "data": {
      "text/plain": [
       "<Axes: xlabel='fuel_efficiency_mpg', ylabel='Count'>"
      ]
     },
     "execution_count": 7,
     "metadata": {},
     "output_type": "execute_result"
    },
    {
     "data": {
      "image/png": "[encoded data removed]",
      "text/plain": [
       "<Figure size 640x480 with 1 Axes>"
      ]
     },
     "metadata": {},
     "output_type": "display_data"
    }
   ],
   "source": [
    "sns.histplot(df.fuel_efficiency_mpg, bins=50)"
   ]
  },
  {
   "cell_type": "markdown",
   "id": "5c86bed3-50d8-4df5-b917-3d956e71d186",
   "metadata": {},
   "source": [
    "EDA\n",
    "Look at the fuel_efficiency_mpg variable. Does it have a long tail? NO"
   ]
  },
  {
   "cell_type": "markdown",
   "id": "7272f040-3730-4dac-bfbf-6e54292b73bb",
   "metadata": {},
   "source": [
    "### Question 1\n",
    "There's one column with missing values. What is it?"
   ]
  },
  {
   "cell_type": "code",
   "execution_count": 8,
   "id": "275b49b3-523d-4937-aee0-414b99ec89dd",
   "metadata": {
    "execution": {
     "iopub.execute_input": "2025-10-01T19:38:24.217274Z",
     "iopub.status.busy": "2025-10-01T19:38:24.216096Z",
     "iopub.status.idle": "2025-10-01T19:38:24.268434Z",
     "shell.execute_reply": "2025-10-01T19:38:24.266775Z",
     "shell.execute_reply.started": "2025-10-01T19:38:24.217237Z"
    }
   },
   "outputs": [
    {
     "data": {
      "text/plain": [
       "engine_displacement      0\n",
       "horsepower             708\n",
       "vehicle_weight           0\n",
       "model_year               0\n",
       "fuel_efficiency_mpg      0\n",
       "dtype: int64"
      ]
     },
     "execution_count": 8,
     "metadata": {},
     "output_type": "execute_result"
    }
   ],
   "source": [
    "df.isnull().sum()"
   ]
  },
  {
   "cell_type": "markdown",
   "id": "2a6c1f74-efe7-4a63-bbbd-feacf505c277",
   "metadata": {},
   "source": [
    "'horsepower'"
   ]
  },
  {
   "cell_type": "markdown",
   "id": "ae8960bf-7ea8-4df3-98a3-d9dd65a3a670",
   "metadata": {},
   "source": [
    "### Question 2\n",
    "What's the median (50% percentile) for variable 'horsepower'?"
   ]
  },
  {
   "cell_type": "code",
   "execution_count": 9,
   "id": "8ca4653d-1af1-4a6b-9cf4-f47a3079af7a",
   "metadata": {
    "execution": {
     "iopub.execute_input": "2025-10-01T19:38:24.270268Z",
     "iopub.status.busy": "2025-10-01T19:38:24.269812Z",
     "iopub.status.idle": "2025-10-01T19:38:24.294636Z",
     "shell.execute_reply": "2025-10-01T19:38:24.291359Z",
     "shell.execute_reply.started": "2025-10-01T19:38:24.270238Z"
    }
   },
   "outputs": [
    {
     "data": {
      "text/plain": [
       "149.0"
      ]
     },
     "execution_count": 9,
     "metadata": {},
     "output_type": "execute_result"
    }
   ],
   "source": [
    "df['horsepower'].median()"
   ]
  },
  {
   "cell_type": "markdown",
   "id": "2ea536b2-2a5b-4a0a-8dcd-cc375b874f03",
   "metadata": {},
   "source": [
    "Prepare and split the dataset\n",
    "Shuffle the dataset (the filtered one you created above), use seed 42.\n",
    "Split your data in train/val/test sets, with 60%/20%/20% distribution.\n",
    "Use the same code as in the lectures"
   ]
  },
  {
   "cell_type": "code",
   "execution_count": 10,
   "id": "38b320c1-9d42-4554-ae2b-7e256999dfdd",
   "metadata": {
    "execution": {
     "iopub.execute_input": "2025-10-01T19:38:24.300412Z",
     "iopub.status.busy": "2025-10-01T19:38:24.299463Z",
     "iopub.status.idle": "2025-10-01T19:38:24.307402Z",
     "shell.execute_reply": "2025-10-01T19:38:24.305616Z",
     "shell.execute_reply.started": "2025-10-01T19:38:24.300327Z"
    }
   },
   "outputs": [],
   "source": [
    "n = len(df)\n",
    "\n",
    "n_val = int(n * 0.2)\n",
    "n_test = int(n * 0.2)\n",
    "n_train = n - n_val - n_test"
   ]
  },
  {
   "cell_type": "code",
   "execution_count": 11,
   "id": "1347aef5-3c6c-4df5-be4e-8773d0d89811",
   "metadata": {
    "execution": {
     "iopub.execute_input": "2025-10-01T19:38:24.310988Z",
     "iopub.status.busy": "2025-10-01T19:38:24.310165Z",
     "iopub.status.idle": "2025-10-01T19:38:24.322524Z",
     "shell.execute_reply": "2025-10-01T19:38:24.321481Z",
     "shell.execute_reply.started": "2025-10-01T19:38:24.310878Z"
    }
   },
   "outputs": [
    {
     "data": {
      "text/plain": [
       "9704"
      ]
     },
     "execution_count": 11,
     "metadata": {},
     "output_type": "execute_result"
    }
   ],
   "source": [
    "n"
   ]
  },
  {
   "cell_type": "code",
   "execution_count": 12,
   "id": "622007c6-439e-41f3-a26a-654d9769cbe0",
   "metadata": {
    "execution": {
     "iopub.execute_input": "2025-10-01T19:38:24.324398Z",
     "iopub.status.busy": "2025-10-01T19:38:24.323922Z",
     "iopub.status.idle": "2025-10-01T19:38:24.332775Z",
     "shell.execute_reply": "2025-10-01T19:38:24.331252Z",
     "shell.execute_reply.started": "2025-10-01T19:38:24.324368Z"
    }
   },
   "outputs": [],
   "source": [
    "df_train = df.iloc[:n_train]\n",
    "df_val = df.iloc[n_train:n_train+n_val]\n",
    "df_test = df.iloc[n_train+n_val:]"
   ]
  },
  {
   "cell_type": "markdown",
   "id": "81dd714a-0167-42e2-a760-a105fd0960b7",
   "metadata": {},
   "source": [
    "Datenset gesplittet 60/20/20"
   ]
  },
  {
   "cell_type": "code",
   "execution_count": 13,
   "id": "debe594f-4cfa-48a5-bba5-5186f91c5b32",
   "metadata": {
    "execution": {
     "iopub.execute_input": "2025-10-01T19:38:24.336346Z",
     "iopub.status.busy": "2025-10-01T19:38:24.334907Z",
     "iopub.status.idle": "2025-10-01T19:38:24.342946Z",
     "shell.execute_reply": "2025-10-01T19:38:24.341563Z",
     "shell.execute_reply.started": "2025-10-01T19:38:24.336306Z"
    }
   },
   "outputs": [],
   "source": [
    "idx = np.arange(n)"
   ]
  },
  {
   "cell_type": "code",
   "execution_count": 14,
   "id": "808ea959-bd57-40cc-bb32-8adc7d01796b",
   "metadata": {
    "execution": {
     "iopub.execute_input": "2025-10-01T19:38:24.345130Z",
     "iopub.status.busy": "2025-10-01T19:38:24.344402Z",
     "iopub.status.idle": "2025-10-01T19:38:24.354160Z",
     "shell.execute_reply": "2025-10-01T19:38:24.352961Z",
     "shell.execute_reply.started": "2025-10-01T19:38:24.345096Z"
    }
   },
   "outputs": [],
   "source": [
    "np.random.seed(42)\n",
    "\n",
    "np.random.shuffle(idx)\n"
   ]
  },
  {
   "cell_type": "markdown",
   "id": "e45dbcbd-7b7c-446e-90c6-6be914f7d22b",
   "metadata": {},
   "source": [
    "Datenset geshuffelt"
   ]
  },
  {
   "cell_type": "code",
   "execution_count": 15,
   "id": "b6e4bde9-ad30-4409-b827-d8a81d69210d",
   "metadata": {
    "execution": {
     "iopub.execute_input": "2025-10-01T19:38:24.356051Z",
     "iopub.status.busy": "2025-10-01T19:38:24.355426Z",
     "iopub.status.idle": "2025-10-01T19:38:24.370256Z",
     "shell.execute_reply": "2025-10-01T19:38:24.365882Z",
     "shell.execute_reply.started": "2025-10-01T19:38:24.356017Z"
    }
   },
   "outputs": [],
   "source": [
    "df_train = df.iloc[idx[:n_train]]\n",
    "df_val = df.iloc[idx[n_train:n_train+n_val]]\n",
    "df_test = df.iloc[idx[n_train+n_val:]]"
   ]
  },
  {
   "cell_type": "code",
   "execution_count": 16,
   "id": "ec48e2c5-5465-4224-8cc1-71b2c1bb6ab6",
   "metadata": {
    "execution": {
     "iopub.execute_input": "2025-10-01T19:38:24.373735Z",
     "iopub.status.busy": "2025-10-01T19:38:24.372728Z",
     "iopub.status.idle": "2025-10-01T19:38:24.404989Z",
     "shell.execute_reply": "2025-10-01T19:38:24.403813Z",
     "shell.execute_reply.started": "2025-10-01T19:38:24.373699Z"
    }
   },
   "outputs": [
    {
     "data": {
      "text/html": [
       "<div>\n",
       "<style scoped>\n",
       "    .dataframe tbody tr th:only-of-type {\n",
       "        vertical-align: middle;\n",
       "    }\n",
       "\n",
       "    .dataframe tbody tr th {\n",
       "        vertical-align: top;\n",
       "    }\n",
       "\n",
       "    .dataframe thead th {\n",
       "        text-align: right;\n",
       "    }\n",
       "</style>\n",
       "<table border=\"1\" class=\"dataframe\">\n",
       "  <thead>\n",
       "    <tr style=\"text-align: right;\">\n",
       "      <th></th>\n",
       "      <th>engine_displacement</th>\n",
       "      <th>horsepower</th>\n",
       "      <th>vehicle_weight</th>\n",
       "      <th>model_year</th>\n",
       "      <th>fuel_efficiency_mpg</th>\n",
       "    </tr>\n",
       "  </thead>\n",
       "  <tbody>\n",
       "    <tr>\n",
       "      <th>483</th>\n",
       "      <td>220</td>\n",
       "      <td>144.0</td>\n",
       "      <td>2535.887591</td>\n",
       "      <td>2009</td>\n",
       "      <td>16.642943</td>\n",
       "    </tr>\n",
       "    <tr>\n",
       "      <th>7506</th>\n",
       "      <td>160</td>\n",
       "      <td>141.0</td>\n",
       "      <td>2741.170484</td>\n",
       "      <td>2019</td>\n",
       "      <td>16.298377</td>\n",
       "    </tr>\n",
       "    <tr>\n",
       "      <th>8795</th>\n",
       "      <td>230</td>\n",
       "      <td>155.0</td>\n",
       "      <td>2471.880237</td>\n",
       "      <td>2017</td>\n",
       "      <td>18.591822</td>\n",
       "    </tr>\n",
       "    <tr>\n",
       "      <th>1688</th>\n",
       "      <td>150</td>\n",
       "      <td>206.0</td>\n",
       "      <td>3748.164469</td>\n",
       "      <td>2015</td>\n",
       "      <td>11.818843</td>\n",
       "    </tr>\n",
       "    <tr>\n",
       "      <th>6217</th>\n",
       "      <td>300</td>\n",
       "      <td>111.0</td>\n",
       "      <td>2135.716359</td>\n",
       "      <td>2006</td>\n",
       "      <td>19.402209</td>\n",
       "    </tr>\n",
       "  </tbody>\n",
       "</table>\n",
       "</div>"
      ],
      "text/plain": [
       "      engine_displacement  horsepower  vehicle_weight  model_year  \\\n",
       "483                   220       144.0     2535.887591        2009   \n",
       "7506                  160       141.0     2741.170484        2019   \n",
       "8795                  230       155.0     2471.880237        2017   \n",
       "1688                  150       206.0     3748.164469        2015   \n",
       "6217                  300       111.0     2135.716359        2006   \n",
       "\n",
       "      fuel_efficiency_mpg  \n",
       "483             16.642943  \n",
       "7506            16.298377  \n",
       "8795            18.591822  \n",
       "1688            11.818843  \n",
       "6217            19.402209  "
      ]
     },
     "execution_count": 16,
     "metadata": {},
     "output_type": "execute_result"
    }
   ],
   "source": [
    "df_train.head()"
   ]
  },
  {
   "cell_type": "markdown",
   "id": "47dab0da-1826-4998-b3e1-c084dbb2eeb6",
   "metadata": {},
   "source": [
    "### Question 3\n",
    "We need to deal with missing values for the column from Q1.\n",
    "We have two options: fill it with 0 or with the mean of this variable.\n",
    "Try both options. For each, train a linear regression model without regularization using the code from the lessons.\n",
    "For computing the mean, use the training only!\n",
    "Use the validation dataset to evaluate the models and compare the RMSE of each option.\n",
    "Round the RMSE scores to 2 decimal digits using round(score, 2)\n",
    "Which option gives better RMSE?\n"
   ]
  },
  {
   "cell_type": "code",
   "execution_count": 17,
   "id": "92b2af4b-f76b-4c39-a240-b5f5f91fb042",
   "metadata": {
    "execution": {
     "iopub.execute_input": "2025-10-01T19:38:24.408465Z",
     "iopub.status.busy": "2025-10-01T19:38:24.407872Z",
     "iopub.status.idle": "2025-10-01T19:38:24.414186Z",
     "shell.execute_reply": "2025-10-01T19:38:24.412946Z",
     "shell.execute_reply.started": "2025-10-01T19:38:24.408400Z"
    }
   },
   "outputs": [],
   "source": [
    "df_0 = df.fillna(0)"
   ]
  },
  {
   "cell_type": "markdown",
   "id": "4172aae4-0335-4dd6-b776-61bfee697167",
   "metadata": {},
   "source": [
    "fehlende Werte durch Null ersetzt und Fkt als df_0 definiert"
   ]
  },
  {
   "cell_type": "code",
   "execution_count": 18,
   "id": "93a07385-0a41-4289-aca1-e045be589a80",
   "metadata": {
    "execution": {
     "iopub.execute_input": "2025-10-01T19:38:24.419936Z",
     "iopub.status.busy": "2025-10-01T19:38:24.418523Z",
     "iopub.status.idle": "2025-10-01T19:38:24.432909Z",
     "shell.execute_reply": "2025-10-01T19:38:24.431092Z",
     "shell.execute_reply.started": "2025-10-01T19:38:24.419900Z"
    }
   },
   "outputs": [],
   "source": [
    "df_mean = df.fillna(df_train.horsepower.mean())"
   ]
  },
  {
   "cell_type": "markdown",
   "id": "a116e408-66bb-4340-924f-a68184461b6f",
   "metadata": {
    "execution": {
     "iopub.execute_input": "2025-10-01T18:03:26.029327Z",
     "iopub.status.busy": "2025-10-01T18:03:26.028936Z",
     "iopub.status.idle": "2025-10-01T18:03:26.042437Z",
     "shell.execute_reply": "2025-10-01T18:03:26.039774Z",
     "shell.execute_reply.started": "2025-10-01T18:03:26.029303Z"
    }
   },
   "source": [
    "fehlende Werte durch mean des trainingsdatensets von horsepower ersetzt und Fkt als df_mean definiert\n"
   ]
  },
  {
   "cell_type": "markdown",
   "id": "1471fa27-eab1-4714-b588-f6f131bbf017",
   "metadata": {},
   "source": [
    "Ein Modell mit linearer Regression trainieren mit fehlenden Werten = 0:"
   ]
  },
  {
   "cell_type": "code",
   "execution_count": 19,
   "id": "1cf0cc77-9360-4273-88c1-0cf8a84c025a",
   "metadata": {
    "execution": {
     "iopub.execute_input": "2025-10-01T19:38:24.438192Z",
     "iopub.status.busy": "2025-10-01T19:38:24.436374Z",
     "iopub.status.idle": "2025-10-01T19:38:24.444538Z",
     "shell.execute_reply": "2025-10-01T19:38:24.442299Z",
     "shell.execute_reply.started": "2025-10-01T19:38:24.438154Z"
    }
   },
   "outputs": [],
   "source": [
    "def train_linear_regression(X_0, y):\n",
    "    pass"
   ]
  },
  {
   "cell_type": "code",
   "execution_count": 20,
   "id": "250d3f7f-ff2d-4fcd-8eb3-be0847344b7a",
   "metadata": {
    "execution": {
     "iopub.execute_input": "2025-10-01T19:38:24.446394Z",
     "iopub.status.busy": "2025-10-01T19:38:24.445926Z",
     "iopub.status.idle": "2025-10-01T19:38:24.458134Z",
     "shell.execute_reply": "2025-10-01T19:38:24.455886Z",
     "shell.execute_reply.started": "2025-10-01T19:38:24.446362Z"
    }
   },
   "outputs": [],
   "source": [
    "df_0_train = df_0.iloc[idx[:n_train]]\n",
    "df_0_val = df.iloc[idx[n_train:n_train+n_val]]\n",
    "df_0_test = df.iloc[idx[n_train+n_val:]]"
   ]
  },
  {
   "cell_type": "code",
   "execution_count": 21,
   "id": "ed8cfbaf-95a1-435b-bd91-803735e78cee",
   "metadata": {
    "execution": {
     "iopub.execute_input": "2025-10-01T19:38:24.470587Z",
     "iopub.status.busy": "2025-10-01T19:38:24.469715Z",
     "iopub.status.idle": "2025-10-01T19:38:24.477324Z",
     "shell.execute_reply": "2025-10-01T19:38:24.475039Z",
     "shell.execute_reply.started": "2025-10-01T19:38:24.470559Z"
    }
   },
   "outputs": [],
   "source": [
    "#df_0_train.index"
   ]
  },
  {
   "cell_type": "code",
   "execution_count": 22,
   "id": "20ecb1ef-84d5-4712-a54d-07962528235d",
   "metadata": {
    "execution": {
     "iopub.execute_input": "2025-10-01T19:38:24.479985Z",
     "iopub.status.busy": "2025-10-01T19:38:24.479545Z",
     "iopub.status.idle": "2025-10-01T19:38:24.489009Z",
     "shell.execute_reply": "2025-10-01T19:38:24.487738Z",
     "shell.execute_reply.started": "2025-10-01T19:38:24.479952Z"
    }
   },
   "outputs": [],
   "source": [
    "y_train = np.log1p(df_0_train)\n",
    "y_val = np.log1p(df_0_val)\n",
    "y_test = np.log1p(df_0_test)"
   ]
  },
  {
   "cell_type": "code",
   "execution_count": 31,
   "id": "92616315-6cc9-40d2-9000-cc071a50f470",
   "metadata": {
    "execution": {
     "iopub.execute_input": "2025-10-01T19:39:25.718071Z",
     "iopub.status.busy": "2025-10-01T19:39:25.717371Z",
     "iopub.status.idle": "2025-10-01T19:39:25.725169Z",
     "shell.execute_reply": "2025-10-01T19:39:25.724404Z",
     "shell.execute_reply.started": "2025-10-01T19:39:25.718020Z"
    }
   },
   "outputs": [],
   "source": [
    "def train_linear_regression(X, y):\n",
    "    ones = np.ones(X.shape[0])\n",
    "    X = np.column_stack([ones, X])\n",
    "\n",
    "    XTX = X.T.dot(X)\n",
    "    XTX_inv = np.linalg.inv(XTX)\n",
    "    w = XTX_inv.dot(X.T).dot(y)\n",
    "    \n",
    "    return w[0], w[1:]"
   ]
  },
  {
   "cell_type": "code",
   "execution_count": 32,
   "id": "c3da22f3-66a8-4245-a380-c458f5de333f",
   "metadata": {
    "execution": {
     "iopub.execute_input": "2025-10-01T19:39:26.456593Z",
     "iopub.status.busy": "2025-10-01T19:39:26.455876Z",
     "iopub.status.idle": "2025-10-01T19:39:26.464728Z",
     "shell.execute_reply": "2025-10-01T19:39:26.463948Z",
     "shell.execute_reply.started": "2025-10-01T19:39:26.456560Z"
    }
   },
   "outputs": [],
   "source": [
    "base = ['engine_displacement', 'horsepower', 'vehicle_weight', 'model_year']"
   ]
  },
  {
   "cell_type": "code",
   "execution_count": 33,
   "id": "a1d22746-4570-4b89-b047-54dee5173eac",
   "metadata": {
    "execution": {
     "iopub.execute_input": "2025-10-01T19:39:26.792530Z",
     "iopub.status.busy": "2025-10-01T19:39:26.792103Z",
     "iopub.status.idle": "2025-10-01T19:39:26.800811Z",
     "shell.execute_reply": "2025-10-01T19:39:26.799290Z",
     "shell.execute_reply.started": "2025-10-01T19:39:26.792501Z"
    }
   },
   "outputs": [],
   "source": [
    "def prepare_X(df):\n",
    "    df_num = df [base]\n",
    "    df_num = df_num.fillna(0)\n",
    "    X = df_num.values\n",
    "    return X"
   ]
  },
  {
   "cell_type": "code",
   "execution_count": 34,
   "id": "7f6d0192-efee-4ca6-bfe4-bf8de491bcb0",
   "metadata": {
    "execution": {
     "iopub.execute_input": "2025-10-01T19:39:27.018234Z",
     "iopub.status.busy": "2025-10-01T19:39:27.017726Z",
     "iopub.status.idle": "2025-10-01T19:39:27.030716Z",
     "shell.execute_reply": "2025-10-01T19:39:27.027159Z",
     "shell.execute_reply.started": "2025-10-01T19:39:27.018186Z"
    }
   },
   "outputs": [],
   "source": [
    "X_0_train = prepare_X(df_0_train)\n",
    "w_0, w = train_linear_regression(X_0_train, y_train)"
   ]
  },
  {
   "cell_type": "code",
   "execution_count": 35,
   "id": "54d14157-40f9-4189-b3c5-7115574dab7c",
   "metadata": {
    "execution": {
     "iopub.execute_input": "2025-10-01T19:39:27.205814Z",
     "iopub.status.busy": "2025-10-01T19:39:27.205377Z",
     "iopub.status.idle": "2025-10-01T19:39:27.214652Z",
     "shell.execute_reply": "2025-10-01T19:39:27.213879Z",
     "shell.execute_reply.started": "2025-10-01T19:39:27.205784Z"
    }
   },
   "outputs": [],
   "source": [
    "#X_0_train = df_train.fillna(0).values\n",
    "\n",
    "#w0, w = train_linear_regression(X_0_train, y_train)\n",
    "\n",
    "y_pred = w_0 + X_0_train.dot(w)"
   ]
  },
  {
   "cell_type": "code",
   "execution_count": 36,
   "id": "aca0a89f-c252-43f1-8df5-40da8f6178e4",
   "metadata": {
    "execution": {
     "iopub.execute_input": "2025-10-01T19:39:27.703598Z",
     "iopub.status.busy": "2025-10-01T19:39:27.700704Z",
     "iopub.status.idle": "2025-10-01T19:39:27.708995Z",
     "shell.execute_reply": "2025-10-01T19:39:27.708269Z",
     "shell.execute_reply.started": "2025-10-01T19:39:27.703549Z"
    }
   },
   "outputs": [],
   "source": [
    "#df_0_train"
   ]
  },
  {
   "cell_type": "code",
   "execution_count": 37,
   "id": "b4116625-3053-4353-a3d1-000c658cb3b2",
   "metadata": {
    "execution": {
     "iopub.execute_input": "2025-10-01T19:39:28.138147Z",
     "iopub.status.busy": "2025-10-01T19:39:28.137771Z",
     "iopub.status.idle": "2025-10-01T19:39:28.145993Z",
     "shell.execute_reply": "2025-10-01T19:39:28.144993Z",
     "shell.execute_reply.started": "2025-10-01T19:39:28.138122Z"
    }
   },
   "outputs": [],
   "source": [
    "X_0_train = prepare_X(df_0_train)\n",
    "w_0, w = train_linear_regression(X_0_train, y_train)"
   ]
  },
  {
   "cell_type": "code",
   "execution_count": 42,
   "id": "397831d2-90ec-4c88-9375-79dc1183e46b",
   "metadata": {
    "execution": {
     "iopub.execute_input": "2025-10-01T19:40:00.703827Z",
     "iopub.status.busy": "2025-10-01T19:40:00.703417Z",
     "iopub.status.idle": "2025-10-01T19:40:00.710194Z",
     "shell.execute_reply": "2025-10-01T19:40:00.708040Z",
     "shell.execute_reply.started": "2025-10-01T19:40:00.703798Z"
    }
   },
   "outputs": [],
   "source": [
    "y_pred = w_0 + X_0_train.dot(w)"
   ]
  },
  {
   "cell_type": "code",
   "execution_count": 43,
   "id": "28637298-aafa-4a84-b815-cb637cb69115",
   "metadata": {
    "execution": {
     "iopub.execute_input": "2025-10-01T19:40:03.401304Z",
     "iopub.status.busy": "2025-10-01T19:40:03.400877Z",
     "iopub.status.idle": "2025-10-01T19:40:03.409796Z",
     "shell.execute_reply": "2025-10-01T19:40:03.407873Z",
     "shell.execute_reply.started": "2025-10-01T19:40:03.401274Z"
    }
   },
   "outputs": [
    {
     "data": {
      "text/plain": [
       "array([[ 5.39944796e-03,  4.79156508e-05, -3.80540339e-06,\n",
       "        -3.29853456e-10,  2.14827083e-06],\n",
       "       [ 4.18235328e-05,  2.42118229e-02, -9.46811026e-06,\n",
       "         3.62564893e-09,  2.21209296e-04],\n",
       "       [-5.83833770e-07,  8.92321195e-06,  3.41567948e-04,\n",
       "         1.46970439e-10, -3.23460699e-04],\n",
       "       [-1.77968557e-05, -1.54678602e-03, -5.76147359e-06,\n",
       "         4.96897887e-04,  1.64673232e-05]])"
      ]
     },
     "execution_count": 43,
     "metadata": {},
     "output_type": "execute_result"
    }
   ],
   "source": [
    "w"
   ]
  },
  {
   "cell_type": "code",
   "execution_count": 45,
   "id": "6e0a479f-87bf-4af8-bf60-3de29377c34a",
   "metadata": {
    "execution": {
     "iopub.execute_input": "2025-10-01T19:40:11.217769Z",
     "iopub.status.busy": "2025-10-01T19:40:11.217359Z",
     "iopub.status.idle": "2025-10-01T19:40:11.226177Z",
     "shell.execute_reply": "2025-10-01T19:40:11.225399Z",
     "shell.execute_reply.started": "2025-10-01T19:40:11.217740Z"
    }
   },
   "outputs": [
    {
     "data": {
      "text/plain": [
       "array([4.22095068, 4.34658927, 6.98132681, 6.60761654, 3.66466625])"
      ]
     },
     "execution_count": 45,
     "metadata": {},
     "output_type": "execute_result"
    }
   ],
   "source": [
    "w_0"
   ]
  },
  {
   "cell_type": "code",
   "execution_count": 46,
   "id": "c2b3779e-c623-4971-a1f1-b3819a5a09b6",
   "metadata": {
    "execution": {
     "iopub.execute_input": "2025-10-01T19:40:13.940861Z",
     "iopub.status.busy": "2025-10-01T19:40:13.940451Z",
     "iopub.status.idle": "2025-10-01T19:40:15.349759Z",
     "shell.execute_reply": "2025-10-01T19:40:15.343431Z",
     "shell.execute_reply.started": "2025-10-01T19:40:13.940832Z"
    }
   },
   "outputs": [
    {
     "data": {
      "image/png": "[encoded data removed]",
      "text/plain": [
       "<Figure size 600x600 with 1 Axes>"
      ]
     },
     "metadata": {},
     "output_type": "display_data"
    }
   ],
   "source": [
    "plt.figure(figsize=(6, 6))\n",
    "\n",
    "sns.histplot(y_train, label='target', color='red', alpha=1, bins=50)\n",
    "sns.histplot(y_pred, label='prediction', color='#blue', alpha=1, bins=50)\n",
    "\n",
    "plt.legend()\n",
    "\n",
    "plt.ylabel('fuel_efficiency_mpg')\n",
    "plt.xlabel('Log(??? + 1)')\n",
    "plt.title('fehlende Werte Null')\n",
    "\n",
    "\n",
    "plt.show()"
   ]
  },
  {
   "cell_type": "code",
   "execution_count": 49,
   "id": "746c47f9-d739-4212-90e4-ba316b4206da",
   "metadata": {
    "execution": {
     "iopub.execute_input": "2025-10-01T19:41:27.201155Z",
     "iopub.status.busy": "2025-10-01T19:41:27.200739Z",
     "iopub.status.idle": "2025-10-01T19:41:27.224632Z",
     "shell.execute_reply": "2025-10-01T19:41:27.221196Z",
     "shell.execute_reply.started": "2025-10-01T19:41:27.201125Z"
    }
   },
   "outputs": [],
   "source": [
    "def prepare_X(df_0_train):\n",
    "    df_num = df\n",
    "    df_num = df_num.fillna(0)\n",
    "    X = df_num.values\n",
    "    return X"
   ]
  },
  {
   "cell_type": "code",
   "execution_count": 48,
   "id": "68ac3a8e-eff4-4a50-8a97-9d3fe704d959",
   "metadata": {
    "execution": {
     "iopub.execute_input": "2025-10-01T19:41:24.949035Z",
     "iopub.status.busy": "2025-10-01T19:41:24.948760Z",
     "iopub.status.idle": "2025-10-01T19:41:24.957412Z",
     "shell.execute_reply": "2025-10-01T19:41:24.956524Z",
     "shell.execute_reply.started": "2025-10-01T19:41:24.949015Z"
    }
   },
   "outputs": [],
   "source": [
    "def rmse(y, y_pred):\n",
    "    error = y_pred - y\n",
    "    mse = (error ** 2).mean()\n",
    "    return np.sqrt(mse)"
   ]
  },
  {
   "cell_type": "code",
   "execution_count": 50,
   "id": "76554a87-e5f4-419f-86dd-132cd65f21b0",
   "metadata": {
    "execution": {
     "iopub.execute_input": "2025-10-01T19:41:29.938187Z",
     "iopub.status.busy": "2025-10-01T19:41:29.937672Z",
     "iopub.status.idle": "2025-10-01T19:41:29.963266Z",
     "shell.execute_reply": "2025-10-01T19:41:29.962496Z",
     "shell.execute_reply.started": "2025-10-01T19:41:29.938142Z"
    }
   },
   "outputs": [
    {
     "data": {
      "text/plain": [
       "engine_displacement    0.066032\n",
       "horsepower             0.609421\n",
       "vehicle_weight         0.021621\n",
       "model_year             0.000005\n",
       "fuel_efficiency_mpg    0.039086\n",
       "dtype: float64"
      ]
     },
     "execution_count": 50,
     "metadata": {},
     "output_type": "execute_result"
    }
   ],
   "source": [
    "rmse(y_train, y_pred)"
   ]
  },
  {
   "cell_type": "code",
   "execution_count": 51,
   "id": "d1bbd7cd-fae0-4142-a2ee-05145aae4b59",
   "metadata": {
    "execution": {
     "iopub.execute_input": "2025-10-01T19:41:31.946215Z",
     "iopub.status.busy": "2025-10-01T19:41:31.945147Z",
     "iopub.status.idle": "2025-10-01T19:41:31.992212Z",
     "shell.execute_reply": "2025-10-01T19:41:31.986462Z",
     "shell.execute_reply.started": "2025-10-01T19:41:31.946182Z"
    }
   },
   "outputs": [
    {
     "ename": "NameError",
     "evalue": "name 'w0' is not defined",
     "output_type": "error",
     "traceback": [
      "\u001b[0;31m---------------------------------------------------------------------------\u001b[0m",
      "\u001b[0;31mNameError\u001b[0m                                 Traceback (most recent call last)",
      "Cell \u001b[0;32mIn[51], line 2\u001b[0m\n\u001b[1;32m      1\u001b[0m X_0_val \u001b[38;5;241m=\u001b[39m prepare_X(df_0_val)\n\u001b[0;32m----> 2\u001b[0m y_pred \u001b[38;5;241m=\u001b[39m \u001b[43mw0\u001b[49m \u001b[38;5;241m+\u001b[39m X_0_val\u001b[38;5;241m.\u001b[39mdot(w)\n",
      "\u001b[0;31mNameError\u001b[0m: name 'w0' is not defined"
     ]
    }
   ],
   "source": [
    "X_0_val = prepare_X(df_0_val)\n",
    "y_pred = w0 + X_0_val.dot(w)"
   ]
  },
  {
   "cell_type": "code",
   "execution_count": null,
   "id": "ffc974f1-3f19-4997-b24c-c927b2b9efcb",
   "metadata": {
    "execution": {
     "iopub.status.busy": "2025-10-01T19:38:25.465787Z",
     "iopub.status.idle": "2025-10-01T19:38:25.466420Z",
     "shell.execute_reply": "2025-10-01T19:38:25.466078Z",
     "shell.execute_reply.started": "2025-10-01T19:38:25.466059Z"
    }
   },
   "outputs": [],
   "source": [
    "X_0_train = prepare_X(df_0_train)\n",
    "w_0, w = train_linear_regression(X_train, y_train)"
   ]
  },
  {
   "cell_type": "code",
   "execution_count": null,
   "id": "478145ba-9542-4bfe-aaf6-6c77ee57116d",
   "metadata": {},
   "outputs": [],
   "source": [
    "ab hier jetzt mit mean geplant:"
   ]
  },
  {
   "cell_type": "code",
   "execution_count": null,
   "id": "29787ad1-78e6-42f5-a81e-d1ac821796f6",
   "metadata": {
    "execution": {
     "iopub.status.busy": "2025-10-01T19:38:25.469642Z",
     "iopub.status.idle": "2025-10-01T19:38:25.472264Z",
     "shell.execute_reply": "2025-10-01T19:38:25.471425Z",
     "shell.execute_reply.started": "2025-10-01T19:38:25.471396Z"
    }
   },
   "outputs": [],
   "source": [
    "df_mean_train = df.iloc[idx[:n_train]]\n",
    "df_mean_val = df.iloc[idx[n_train:n_train+n_val]]\n",
    "df_mean_test = df.iloc[idx[n_train+n_val:]]\n"
   ]
  },
  {
   "cell_type": "code",
   "execution_count": null,
   "id": "e51b3b09-565e-4b02-8d55-058524fbc076",
   "metadata": {
    "execution": {
     "iopub.status.busy": "2025-10-01T19:38:25.475507Z",
     "iopub.status.idle": "2025-10-01T19:38:25.476357Z",
     "shell.execute_reply": "2025-10-01T19:38:25.475964Z",
     "shell.execute_reply.started": "2025-10-01T19:38:25.475941Z"
    }
   },
   "outputs": [],
   "source": [
    "def train_linear_regression(X, y):\n",
    "    ones = np.ones(X.shape[0])\n",
    "    X = np.column_stack([ones, X])\n",
    "\n",
    "    XTX = X.T.dot(X)\n",
    "    XTX_inv = np.linalg.inv(XTX)\n",
    "    w_full = XTX_inv.dot(X.T).dot(y)\n",
    "    \n",
    "    return w_full[0], w_full[1:]"
   ]
  },
  {
   "cell_type": "code",
   "execution_count": null,
   "id": "e2c00e73-b0ca-456b-973d-aab762772c8e",
   "metadata": {
    "execution": {
     "iopub.status.busy": "2025-10-01T19:38:25.480780Z",
     "iopub.status.idle": "2025-10-01T19:38:25.481790Z",
     "shell.execute_reply": "2025-10-01T19:38:25.481550Z",
     "shell.execute_reply.started": "2025-10-01T19:38:25.481527Z"
    }
   },
   "outputs": [],
   "source": [
    "df_train = df.iloc[idx[:n_train]]\n",
    "df_val = df.iloc[idx[n_train:n_train+n_val]]\n",
    "df_test = df.iloc[idx[n_train+n_val:]]"
   ]
  },
  {
   "cell_type": "code",
   "execution_count": null,
   "id": "eb447d94-b02c-453b-a586-2a4fc70ed5fc",
   "metadata": {},
   "outputs": [],
   "source": []
  },
  {
   "cell_type": "code",
   "execution_count": null,
   "id": "1ce424e4-fb8d-409c-afd5-6131f4477934",
   "metadata": {},
   "outputs": [],
   "source": [
    "\n",
    "\n"
   ]
  }
 ],
 "metadata": {
  "kernelspec": {
   "display_name": "Python 3 (ipykernel)",
   "language": "python",
   "name": "python3"
  },
  "language_info": {
   "codemirror_mode": {
    "name": "ipython",
    "version": 3
   },
   "file_extension": ".py",
   "mimetype": "text/x-python",
   "name": "python",
   "nbconvert_exporter": "python",
   "pygments_lexer": "ipython3",
   "version": "3.12.9"
  }
 },
 "nbformat": 4,
 "nbformat_minor": 5
}

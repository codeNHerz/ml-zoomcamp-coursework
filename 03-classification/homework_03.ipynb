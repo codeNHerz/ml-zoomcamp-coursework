{
 "cells": [
  {
   "cell_type": "markdown",
   "id": "02a9adfe",
   "metadata": {},
   "source": [
    "# Homework\n",
    "\n",
    "**_NOTE:_** sometimes your answer doesn't match one of the options exactly. That's fine. Select the option that's closest to your solution.\n",
    "\n",
    "## Dataset\n",
    "\n",
    "In this homework, we will use the lead scoring dataset Bank Marketing dataset. Download it from here.\n",
    "\n",
    "Or you can do it with wget:\n",
    "\n",
    "```bash\n",
    "wget https://raw.githubusercontent.com/alexeygrigorev/datasets/master/course_lead_scoring.csv\n",
    "```\n",
    "\n",
    "In this dataset our desired target for classification task will be converted variable - has the client signed up to the platform or not.\n",
    "\n",
    "## Data preparation\n",
    "\n",
    "- Check if the missing values are presented in the features.\n",
    "- If there are missing values:\n",
    "  - For caterogiral features, replace them with 'NA'\n",
    "  - For numerical features, replace with with 0.0"
   ]
  },
  {
   "cell_type": "code",
   "execution_count": 1,
   "id": "f4b6a8dc",
   "metadata": {
    "execution": {
     "iopub.execute_input": "2025-10-13T18:40:05.691426Z",
     "iopub.status.busy": "2025-10-13T18:40:05.691082Z",
     "iopub.status.idle": "2025-10-13T18:40:07.527099Z",
     "shell.execute_reply": "2025-10-13T18:40:07.526274Z",
     "shell.execute_reply.started": "2025-10-13T18:40:05.691398Z"
    }
   },
   "outputs": [],
   "source": [
    "import numpy as np\n",
    "import pandas as pd\n",
    "\n",
    "import matplotlib.pyplot as plt"
   ]
  },
  {
   "cell_type": "code",
   "execution_count": 2,
   "id": "d15337e7",
   "metadata": {
    "execution": {
     "iopub.execute_input": "2025-10-13T18:40:07.529129Z",
     "iopub.status.busy": "2025-10-13T18:40:07.528586Z",
     "iopub.status.idle": "2025-10-13T18:40:07.539783Z",
     "shell.execute_reply": "2025-10-13T18:40:07.538779Z",
     "shell.execute_reply.started": "2025-10-13T18:40:07.529067Z"
    }
   },
   "outputs": [],
   "source": [
    "data = 'https://raw.githubusercontent.com/alexeygrigorev/datasets/master/course_lead_scoring.csv'"
   ]
  },
  {
   "cell_type": "code",
   "execution_count": 3,
   "id": "cd284ca9",
   "metadata": {
    "execution": {
     "iopub.execute_input": "2025-10-13T18:40:07.579632Z",
     "iopub.status.busy": "2025-10-13T18:40:07.544874Z",
     "iopub.status.idle": "2025-10-13T18:40:08.001824Z",
     "shell.execute_reply": "2025-10-13T18:40:08.001032Z",
     "shell.execute_reply.started": "2025-10-13T18:40:07.579557Z"
    }
   },
   "outputs": [
    {
     "name": "stdout",
     "output_type": "stream",
     "text": [
      "--2025-10-13 20:40:07--  https://raw.githubusercontent.com/alexeygrigorev/datasets/master/course_lead_scoring.csv\n",
      "Resolving raw.githubusercontent.com (raw.githubusercontent.com)... 185.199.109.133, 185.199.111.133, 185.199.110.133, ...\n",
      "connected. to raw.githubusercontent.com (raw.githubusercontent.com)|185.199.109.133|:443... \n",
      "200 OKequest sent, awaiting response... \n",
      "Length: 80876 (79K) [text/plain]\n",
      "Saving to: ‘course_lead_scoring.csv’\n",
      "\n",
      "course_lead_scoring 100%[===================>]  78.98K  --.-KB/s    in 0.02s   \n",
      "\n",
      "2025-10-13 20:40:07 (3.37 MB/s) - ‘course_lead_scoring.csv’ saved [80876/80876]\n",
      "\n"
     ]
    }
   ],
   "source": [
    "!wget $data -O course_lead_scoring.csv"
   ]
  },
  {
   "cell_type": "code",
   "execution_count": 4,
   "id": "23ad0628",
   "metadata": {
    "execution": {
     "iopub.execute_input": "2025-10-13T18:40:08.011121Z",
     "iopub.status.busy": "2025-10-13T18:40:08.004863Z",
     "iopub.status.idle": "2025-10-13T18:40:08.074796Z",
     "shell.execute_reply": "2025-10-13T18:40:08.070145Z",
     "shell.execute_reply.started": "2025-10-13T18:40:08.011069Z"
    }
   },
   "outputs": [
    {
     "data": {
      "text/html": [
       "<div>\n",
       "<style scoped>\n",
       "    .dataframe tbody tr th:only-of-type {\n",
       "        vertical-align: middle;\n",
       "    }\n",
       "\n",
       "    .dataframe tbody tr th {\n",
       "        vertical-align: top;\n",
       "    }\n",
       "\n",
       "    .dataframe thead th {\n",
       "        text-align: right;\n",
       "    }\n",
       "</style>\n",
       "<table border=\"1\" class=\"dataframe\">\n",
       "  <thead>\n",
       "    <tr style=\"text-align: right;\">\n",
       "      <th></th>\n",
       "      <th>lead_source</th>\n",
       "      <th>industry</th>\n",
       "      <th>number_of_courses_viewed</th>\n",
       "      <th>annual_income</th>\n",
       "      <th>employment_status</th>\n",
       "      <th>location</th>\n",
       "      <th>interaction_count</th>\n",
       "      <th>lead_score</th>\n",
       "      <th>converted</th>\n",
       "    </tr>\n",
       "  </thead>\n",
       "  <tbody>\n",
       "    <tr>\n",
       "      <th>0</th>\n",
       "      <td>paid_ads</td>\n",
       "      <td>NaN</td>\n",
       "      <td>1</td>\n",
       "      <td>79450.0</td>\n",
       "      <td>unemployed</td>\n",
       "      <td>south_america</td>\n",
       "      <td>4</td>\n",
       "      <td>0.94</td>\n",
       "      <td>1</td>\n",
       "    </tr>\n",
       "    <tr>\n",
       "      <th>1</th>\n",
       "      <td>social_media</td>\n",
       "      <td>retail</td>\n",
       "      <td>1</td>\n",
       "      <td>46992.0</td>\n",
       "      <td>employed</td>\n",
       "      <td>south_america</td>\n",
       "      <td>1</td>\n",
       "      <td>0.80</td>\n",
       "      <td>0</td>\n",
       "    </tr>\n",
       "    <tr>\n",
       "      <th>2</th>\n",
       "      <td>events</td>\n",
       "      <td>healthcare</td>\n",
       "      <td>5</td>\n",
       "      <td>78796.0</td>\n",
       "      <td>unemployed</td>\n",
       "      <td>australia</td>\n",
       "      <td>3</td>\n",
       "      <td>0.69</td>\n",
       "      <td>1</td>\n",
       "    </tr>\n",
       "    <tr>\n",
       "      <th>3</th>\n",
       "      <td>paid_ads</td>\n",
       "      <td>retail</td>\n",
       "      <td>2</td>\n",
       "      <td>83843.0</td>\n",
       "      <td>NaN</td>\n",
       "      <td>australia</td>\n",
       "      <td>1</td>\n",
       "      <td>0.87</td>\n",
       "      <td>0</td>\n",
       "    </tr>\n",
       "    <tr>\n",
       "      <th>4</th>\n",
       "      <td>referral</td>\n",
       "      <td>education</td>\n",
       "      <td>3</td>\n",
       "      <td>85012.0</td>\n",
       "      <td>self_employed</td>\n",
       "      <td>europe</td>\n",
       "      <td>3</td>\n",
       "      <td>0.62</td>\n",
       "      <td>1</td>\n",
       "    </tr>\n",
       "    <tr>\n",
       "      <th>...</th>\n",
       "      <td>...</td>\n",
       "      <td>...</td>\n",
       "      <td>...</td>\n",
       "      <td>...</td>\n",
       "      <td>...</td>\n",
       "      <td>...</td>\n",
       "      <td>...</td>\n",
       "      <td>...</td>\n",
       "      <td>...</td>\n",
       "    </tr>\n",
       "    <tr>\n",
       "      <th>1457</th>\n",
       "      <td>referral</td>\n",
       "      <td>manufacturing</td>\n",
       "      <td>1</td>\n",
       "      <td>NaN</td>\n",
       "      <td>self_employed</td>\n",
       "      <td>north_america</td>\n",
       "      <td>4</td>\n",
       "      <td>0.53</td>\n",
       "      <td>1</td>\n",
       "    </tr>\n",
       "    <tr>\n",
       "      <th>1458</th>\n",
       "      <td>referral</td>\n",
       "      <td>technology</td>\n",
       "      <td>3</td>\n",
       "      <td>65259.0</td>\n",
       "      <td>student</td>\n",
       "      <td>europe</td>\n",
       "      <td>2</td>\n",
       "      <td>0.24</td>\n",
       "      <td>1</td>\n",
       "    </tr>\n",
       "    <tr>\n",
       "      <th>1459</th>\n",
       "      <td>paid_ads</td>\n",
       "      <td>technology</td>\n",
       "      <td>1</td>\n",
       "      <td>45688.0</td>\n",
       "      <td>student</td>\n",
       "      <td>north_america</td>\n",
       "      <td>3</td>\n",
       "      <td>0.02</td>\n",
       "      <td>1</td>\n",
       "    </tr>\n",
       "    <tr>\n",
       "      <th>1460</th>\n",
       "      <td>referral</td>\n",
       "      <td>NaN</td>\n",
       "      <td>5</td>\n",
       "      <td>71016.0</td>\n",
       "      <td>self_employed</td>\n",
       "      <td>north_america</td>\n",
       "      <td>0</td>\n",
       "      <td>0.25</td>\n",
       "      <td>1</td>\n",
       "    </tr>\n",
       "    <tr>\n",
       "      <th>1461</th>\n",
       "      <td>organic_search</td>\n",
       "      <td>finance</td>\n",
       "      <td>3</td>\n",
       "      <td>92855.0</td>\n",
       "      <td>student</td>\n",
       "      <td>north_america</td>\n",
       "      <td>3</td>\n",
       "      <td>0.41</td>\n",
       "      <td>1</td>\n",
       "    </tr>\n",
       "  </tbody>\n",
       "</table>\n",
       "<p>1462 rows × 9 columns</p>\n",
       "</div>"
      ],
      "text/plain": [
       "         lead_source       industry  number_of_courses_viewed  annual_income  \\\n",
       "0           paid_ads            NaN                         1        79450.0   \n",
       "1       social_media         retail                         1        46992.0   \n",
       "2             events     healthcare                         5        78796.0   \n",
       "3           paid_ads         retail                         2        83843.0   \n",
       "4           referral      education                         3        85012.0   \n",
       "...              ...            ...                       ...            ...   \n",
       "1457        referral  manufacturing                         1            NaN   \n",
       "1458        referral     technology                         3        65259.0   \n",
       "1459        paid_ads     technology                         1        45688.0   \n",
       "1460        referral            NaN                         5        71016.0   \n",
       "1461  organic_search        finance                         3        92855.0   \n",
       "\n",
       "     employment_status       location  interaction_count  lead_score  \\\n",
       "0           unemployed  south_america                  4        0.94   \n",
       "1             employed  south_america                  1        0.80   \n",
       "2           unemployed      australia                  3        0.69   \n",
       "3                  NaN      australia                  1        0.87   \n",
       "4        self_employed         europe                  3        0.62   \n",
       "...                ...            ...                ...         ...   \n",
       "1457     self_employed  north_america                  4        0.53   \n",
       "1458           student         europe                  2        0.24   \n",
       "1459           student  north_america                  3        0.02   \n",
       "1460     self_employed  north_america                  0        0.25   \n",
       "1461           student  north_america                  3        0.41   \n",
       "\n",
       "      converted  \n",
       "0             1  \n",
       "1             0  \n",
       "2             1  \n",
       "3             0  \n",
       "4             1  \n",
       "...         ...  \n",
       "1457          1  \n",
       "1458          1  \n",
       "1459          1  \n",
       "1460          1  \n",
       "1461          1  \n",
       "\n",
       "[1462 rows x 9 columns]"
      ]
     },
     "execution_count": 4,
     "metadata": {},
     "output_type": "execute_result"
    }
   ],
   "source": [
    "df = pd.read_csv('course_lead_scoring.csv')\n",
    "df#.head()"
   ]
  },
  {
   "cell_type": "code",
   "execution_count": 5,
   "id": "550ce14e-4409-4e4a-b7ce-397ef141a86e",
   "metadata": {
    "execution": {
     "iopub.execute_input": "2025-10-13T18:40:08.076808Z",
     "iopub.status.busy": "2025-10-13T18:40:08.076188Z",
     "iopub.status.idle": "2025-10-13T18:40:08.094524Z",
     "shell.execute_reply": "2025-10-13T18:40:08.091158Z",
     "shell.execute_reply.started": "2025-10-13T18:40:08.076772Z"
    }
   },
   "outputs": [
    {
     "data": {
      "text/plain": [
       "lead_source                  object\n",
       "industry                     object\n",
       "number_of_courses_viewed      int64\n",
       "annual_income               float64\n",
       "employment_status            object\n",
       "location                     object\n",
       "interaction_count             int64\n",
       "lead_score                  float64\n",
       "converted                     int64\n",
       "dtype: object"
      ]
     },
     "execution_count": 5,
     "metadata": {},
     "output_type": "execute_result"
    }
   ],
   "source": [
    "df.dtypes"
   ]
  },
  {
   "cell_type": "code",
   "execution_count": 6,
   "id": "d0f9d2d1",
   "metadata": {
    "execution": {
     "iopub.execute_input": "2025-10-13T18:40:08.110145Z",
     "iopub.status.busy": "2025-10-13T18:40:08.109260Z",
     "iopub.status.idle": "2025-10-13T18:40:08.136040Z",
     "shell.execute_reply": "2025-10-13T18:40:08.129092Z",
     "shell.execute_reply.started": "2025-10-13T18:40:08.110107Z"
    }
   },
   "outputs": [
    {
     "data": {
      "text/plain": [
       "Index(['number_of_courses_viewed', 'annual_income', 'interaction_count',\n",
       "       'lead_score'],\n",
       "      dtype='object')"
      ]
     },
     "execution_count": 6,
     "metadata": {},
     "output_type": "execute_result"
    }
   ],
   "source": [
    "numerical = ['number_of_courses_viewed', 'annual_income', 'interaction_count', 'lead_score']\n",
    "numerical = df.select_dtypes(exclude='object').columns.drop('converted')\n",
    "numerical = df.select_dtypes(exclude='object').columns.drop('converted')\n",
    "numerical"
   ]
  },
  {
   "cell_type": "code",
   "execution_count": 7,
   "id": "38074049-8dda-4191-b48d-1788f155c4c3",
   "metadata": {
    "execution": {
     "iopub.execute_input": "2025-10-13T18:40:08.144361Z",
     "iopub.status.busy": "2025-10-13T18:40:08.141828Z",
     "iopub.status.idle": "2025-10-13T18:40:08.156917Z",
     "shell.execute_reply": "2025-10-13T18:40:08.152734Z",
     "shell.execute_reply.started": "2025-10-13T18:40:08.144320Z"
    }
   },
   "outputs": [],
   "source": [
    "#categorical = ['lead_source', 'industry', 'employment_status', 'location']\n",
    "categorical = df.select_dtypes(include=['object']).columns"
   ]
  },
  {
   "cell_type": "code",
   "execution_count": 8,
   "id": "1eedec56-23f3-4b6f-8e1a-09eb7c7bce12",
   "metadata": {
    "execution": {
     "iopub.execute_input": "2025-10-13T18:40:08.162291Z",
     "iopub.status.busy": "2025-10-13T18:40:08.159428Z",
     "iopub.status.idle": "2025-10-13T18:40:08.179967Z",
     "shell.execute_reply": "2025-10-13T18:40:08.178049Z",
     "shell.execute_reply.started": "2025-10-13T18:40:08.162255Z"
    }
   },
   "outputs": [
    {
     "data": {
      "text/plain": [
       "Index(['lead_source', 'industry', 'employment_status', 'location'], dtype='object')"
      ]
     },
     "execution_count": 8,
     "metadata": {},
     "output_type": "execute_result"
    }
   ],
   "source": [
    "categorical"
   ]
  },
  {
   "cell_type": "code",
   "execution_count": 9,
   "id": "7505b9bb-80cf-4190-a80d-9bdce9b1546b",
   "metadata": {
    "execution": {
     "iopub.execute_input": "2025-10-13T18:40:08.183157Z",
     "iopub.status.busy": "2025-10-13T18:40:08.182074Z",
     "iopub.status.idle": "2025-10-13T18:40:08.194563Z",
     "shell.execute_reply": "2025-10-13T18:40:08.193193Z",
     "shell.execute_reply.started": "2025-10-13T18:40:08.183122Z"
    }
   },
   "outputs": [],
   "source": [
    "#df[categorical]\n",
    "#df[['lead_source', 'industry', 'employment_status', 'location']]"
   ]
  },
  {
   "cell_type": "code",
   "execution_count": 10,
   "id": "b65db25e-1f5c-4a49-a348-ea12f90759ab",
   "metadata": {
    "execution": {
     "iopub.execute_input": "2025-10-13T18:40:08.199050Z",
     "iopub.status.busy": "2025-10-13T18:40:08.196303Z",
     "iopub.status.idle": "2025-10-13T18:40:08.217012Z",
     "shell.execute_reply": "2025-10-13T18:40:08.214664Z",
     "shell.execute_reply.started": "2025-10-13T18:40:08.199012Z"
    }
   },
   "outputs": [],
   "source": [
    "df[numerical] = df[numerical].fillna(0.0)\n",
    "df[categorical] = df[categorical].fillna('NA')"
   ]
  },
  {
   "cell_type": "code",
   "execution_count": 11,
   "id": "8c36d822-04da-4224-bd08-a12663658ba8",
   "metadata": {
    "execution": {
     "iopub.execute_input": "2025-10-13T18:40:08.224436Z",
     "iopub.status.busy": "2025-10-13T18:40:08.218706Z",
     "iopub.status.idle": "2025-10-13T18:40:08.257725Z",
     "shell.execute_reply": "2025-10-13T18:40:08.248652Z",
     "shell.execute_reply.started": "2025-10-13T18:40:08.224408Z"
    }
   },
   "outputs": [
    {
     "data": {
      "text/html": [
       "<div>\n",
       "<style scoped>\n",
       "    .dataframe tbody tr th:only-of-type {\n",
       "        vertical-align: middle;\n",
       "    }\n",
       "\n",
       "    .dataframe tbody tr th {\n",
       "        vertical-align: top;\n",
       "    }\n",
       "\n",
       "    .dataframe thead th {\n",
       "        text-align: right;\n",
       "    }\n",
       "</style>\n",
       "<table border=\"1\" class=\"dataframe\">\n",
       "  <thead>\n",
       "    <tr style=\"text-align: right;\">\n",
       "      <th></th>\n",
       "      <th>lead_source</th>\n",
       "      <th>industry</th>\n",
       "      <th>number_of_courses_viewed</th>\n",
       "      <th>annual_income</th>\n",
       "      <th>employment_status</th>\n",
       "      <th>location</th>\n",
       "      <th>interaction_count</th>\n",
       "      <th>lead_score</th>\n",
       "      <th>converted</th>\n",
       "    </tr>\n",
       "  </thead>\n",
       "  <tbody>\n",
       "    <tr>\n",
       "      <th>0</th>\n",
       "      <td>paid_ads</td>\n",
       "      <td>NA</td>\n",
       "      <td>1</td>\n",
       "      <td>79450.0</td>\n",
       "      <td>unemployed</td>\n",
       "      <td>south_america</td>\n",
       "      <td>4</td>\n",
       "      <td>0.94</td>\n",
       "      <td>1</td>\n",
       "    </tr>\n",
       "    <tr>\n",
       "      <th>1</th>\n",
       "      <td>social_media</td>\n",
       "      <td>retail</td>\n",
       "      <td>1</td>\n",
       "      <td>46992.0</td>\n",
       "      <td>employed</td>\n",
       "      <td>south_america</td>\n",
       "      <td>1</td>\n",
       "      <td>0.80</td>\n",
       "      <td>0</td>\n",
       "    </tr>\n",
       "    <tr>\n",
       "      <th>2</th>\n",
       "      <td>events</td>\n",
       "      <td>healthcare</td>\n",
       "      <td>5</td>\n",
       "      <td>78796.0</td>\n",
       "      <td>unemployed</td>\n",
       "      <td>australia</td>\n",
       "      <td>3</td>\n",
       "      <td>0.69</td>\n",
       "      <td>1</td>\n",
       "    </tr>\n",
       "    <tr>\n",
       "      <th>3</th>\n",
       "      <td>paid_ads</td>\n",
       "      <td>retail</td>\n",
       "      <td>2</td>\n",
       "      <td>83843.0</td>\n",
       "      <td>NA</td>\n",
       "      <td>australia</td>\n",
       "      <td>1</td>\n",
       "      <td>0.87</td>\n",
       "      <td>0</td>\n",
       "    </tr>\n",
       "    <tr>\n",
       "      <th>4</th>\n",
       "      <td>referral</td>\n",
       "      <td>education</td>\n",
       "      <td>3</td>\n",
       "      <td>85012.0</td>\n",
       "      <td>self_employed</td>\n",
       "      <td>europe</td>\n",
       "      <td>3</td>\n",
       "      <td>0.62</td>\n",
       "      <td>1</td>\n",
       "    </tr>\n",
       "    <tr>\n",
       "      <th>...</th>\n",
       "      <td>...</td>\n",
       "      <td>...</td>\n",
       "      <td>...</td>\n",
       "      <td>...</td>\n",
       "      <td>...</td>\n",
       "      <td>...</td>\n",
       "      <td>...</td>\n",
       "      <td>...</td>\n",
       "      <td>...</td>\n",
       "    </tr>\n",
       "    <tr>\n",
       "      <th>1457</th>\n",
       "      <td>referral</td>\n",
       "      <td>manufacturing</td>\n",
       "      <td>1</td>\n",
       "      <td>0.0</td>\n",
       "      <td>self_employed</td>\n",
       "      <td>north_america</td>\n",
       "      <td>4</td>\n",
       "      <td>0.53</td>\n",
       "      <td>1</td>\n",
       "    </tr>\n",
       "    <tr>\n",
       "      <th>1458</th>\n",
       "      <td>referral</td>\n",
       "      <td>technology</td>\n",
       "      <td>3</td>\n",
       "      <td>65259.0</td>\n",
       "      <td>student</td>\n",
       "      <td>europe</td>\n",
       "      <td>2</td>\n",
       "      <td>0.24</td>\n",
       "      <td>1</td>\n",
       "    </tr>\n",
       "    <tr>\n",
       "      <th>1459</th>\n",
       "      <td>paid_ads</td>\n",
       "      <td>technology</td>\n",
       "      <td>1</td>\n",
       "      <td>45688.0</td>\n",
       "      <td>student</td>\n",
       "      <td>north_america</td>\n",
       "      <td>3</td>\n",
       "      <td>0.02</td>\n",
       "      <td>1</td>\n",
       "    </tr>\n",
       "    <tr>\n",
       "      <th>1460</th>\n",
       "      <td>referral</td>\n",
       "      <td>NA</td>\n",
       "      <td>5</td>\n",
       "      <td>71016.0</td>\n",
       "      <td>self_employed</td>\n",
       "      <td>north_america</td>\n",
       "      <td>0</td>\n",
       "      <td>0.25</td>\n",
       "      <td>1</td>\n",
       "    </tr>\n",
       "    <tr>\n",
       "      <th>1461</th>\n",
       "      <td>organic_search</td>\n",
       "      <td>finance</td>\n",
       "      <td>3</td>\n",
       "      <td>92855.0</td>\n",
       "      <td>student</td>\n",
       "      <td>north_america</td>\n",
       "      <td>3</td>\n",
       "      <td>0.41</td>\n",
       "      <td>1</td>\n",
       "    </tr>\n",
       "  </tbody>\n",
       "</table>\n",
       "<p>1462 rows × 9 columns</p>\n",
       "</div>"
      ],
      "text/plain": [
       "         lead_source       industry  number_of_courses_viewed  annual_income  \\\n",
       "0           paid_ads             NA                         1        79450.0   \n",
       "1       social_media         retail                         1        46992.0   \n",
       "2             events     healthcare                         5        78796.0   \n",
       "3           paid_ads         retail                         2        83843.0   \n",
       "4           referral      education                         3        85012.0   \n",
       "...              ...            ...                       ...            ...   \n",
       "1457        referral  manufacturing                         1            0.0   \n",
       "1458        referral     technology                         3        65259.0   \n",
       "1459        paid_ads     technology                         1        45688.0   \n",
       "1460        referral             NA                         5        71016.0   \n",
       "1461  organic_search        finance                         3        92855.0   \n",
       "\n",
       "     employment_status       location  interaction_count  lead_score  \\\n",
       "0           unemployed  south_america                  4        0.94   \n",
       "1             employed  south_america                  1        0.80   \n",
       "2           unemployed      australia                  3        0.69   \n",
       "3                   NA      australia                  1        0.87   \n",
       "4        self_employed         europe                  3        0.62   \n",
       "...                ...            ...                ...         ...   \n",
       "1457     self_employed  north_america                  4        0.53   \n",
       "1458           student         europe                  2        0.24   \n",
       "1459           student  north_america                  3        0.02   \n",
       "1460     self_employed  north_america                  0        0.25   \n",
       "1461           student  north_america                  3        0.41   \n",
       "\n",
       "      converted  \n",
       "0             1  \n",
       "1             0  \n",
       "2             1  \n",
       "3             0  \n",
       "4             1  \n",
       "...         ...  \n",
       "1457          1  \n",
       "1458          1  \n",
       "1459          1  \n",
       "1460          1  \n",
       "1461          1  \n",
       "\n",
       "[1462 rows x 9 columns]"
      ]
     },
     "execution_count": 11,
     "metadata": {},
     "output_type": "execute_result"
    }
   ],
   "source": [
    "df"
   ]
  },
  {
   "cell_type": "markdown",
   "id": "d384454e",
   "metadata": {},
   "source": [
    "# Question 1\n",
    "\n",
    "What is the most frequent observation (mode) for the column industry?\n",
    "\n",
    "- `NA`\n",
    "- `technology`\n",
    "- `healthcare`\n",
    "- `retail`"
   ]
  },
  {
   "cell_type": "code",
   "execution_count": 12,
   "id": "1b09f976-dce7-43b0-9d97-d7696fe7dac4",
   "metadata": {
    "execution": {
     "iopub.execute_input": "2025-10-13T18:40:08.261640Z",
     "iopub.status.busy": "2025-10-13T18:40:08.260261Z",
     "iopub.status.idle": "2025-10-13T18:40:08.283984Z",
     "shell.execute_reply": "2025-10-13T18:40:08.278326Z",
     "shell.execute_reply.started": "2025-10-13T18:40:08.261599Z"
    }
   },
   "outputs": [
    {
     "data": {
      "text/plain": [
       "0    retail\n",
       "Name: industry, dtype: object"
      ]
     },
     "execution_count": 12,
     "metadata": {},
     "output_type": "execute_result"
    }
   ],
   "source": [
    "df.industry.mode()"
   ]
  },
  {
   "cell_type": "markdown",
   "id": "e4382174",
   "metadata": {},
   "source": [
    "# Question 2\n",
    "\n",
    "Create the correlation matrix for the numerical features of your dataset. In a correlation matrix, you compute the correlation coefficient between every pair of features.\n",
    "\n",
    "What are the two features that have the biggest correlation?\n",
    "\n",
    "- `interaction_count` and `lead_score`\n",
    "- `number_of_courses_viewed` and `lead_score`\n",
    "- `number_of_courses_viewed` and `interaction_count`\n",
    "- `annual_income` and `interaction_count`\n",
    "\n",
    "Only consider the pairs above when answering this question.\n",
    "Split the data\n",
    "\n",
    "- Split your data in train/val/test sets with 60%/20%/20% distribution.\n",
    "- Use Scikit-Learn for that (the `train_test_split` function) and set the seed to ''42''.\n",
    "- Make sure that the target value `y` is not in your dataframe."
   ]
  },
  {
   "cell_type": "code",
   "execution_count": 13,
   "id": "df4221fd-81d3-4b76-aca5-53e2527d34a7",
   "metadata": {
    "execution": {
     "iopub.execute_input": "2025-10-13T18:40:08.290753Z",
     "iopub.status.busy": "2025-10-13T18:40:08.289081Z",
     "iopub.status.idle": "2025-10-13T18:40:08.316059Z",
     "shell.execute_reply": "2025-10-13T18:40:08.314795Z",
     "shell.execute_reply.started": "2025-10-13T18:40:08.290711Z"
    }
   },
   "outputs": [
    {
     "data": {
      "text/html": [
       "<div>\n",
       "<style scoped>\n",
       "    .dataframe tbody tr th:only-of-type {\n",
       "        vertical-align: middle;\n",
       "    }\n",
       "\n",
       "    .dataframe tbody tr th {\n",
       "        vertical-align: top;\n",
       "    }\n",
       "\n",
       "    .dataframe thead th {\n",
       "        text-align: right;\n",
       "    }\n",
       "</style>\n",
       "<table border=\"1\" class=\"dataframe\">\n",
       "  <thead>\n",
       "    <tr style=\"text-align: right;\">\n",
       "      <th></th>\n",
       "      <th>number_of_courses_viewed</th>\n",
       "      <th>annual_income</th>\n",
       "      <th>interaction_count</th>\n",
       "      <th>lead_score</th>\n",
       "    </tr>\n",
       "  </thead>\n",
       "  <tbody>\n",
       "    <tr>\n",
       "      <th>number_of_courses_viewed</th>\n",
       "      <td>1.000000</td>\n",
       "      <td>0.009770</td>\n",
       "      <td>-0.023565</td>\n",
       "      <td>-0.004879</td>\n",
       "    </tr>\n",
       "    <tr>\n",
       "      <th>annual_income</th>\n",
       "      <td>0.009770</td>\n",
       "      <td>1.000000</td>\n",
       "      <td>0.027036</td>\n",
       "      <td>0.015610</td>\n",
       "    </tr>\n",
       "    <tr>\n",
       "      <th>interaction_count</th>\n",
       "      <td>-0.023565</td>\n",
       "      <td>0.027036</td>\n",
       "      <td>1.000000</td>\n",
       "      <td>0.009888</td>\n",
       "    </tr>\n",
       "    <tr>\n",
       "      <th>lead_score</th>\n",
       "      <td>-0.004879</td>\n",
       "      <td>0.015610</td>\n",
       "      <td>0.009888</td>\n",
       "      <td>1.000000</td>\n",
       "    </tr>\n",
       "  </tbody>\n",
       "</table>\n",
       "</div>"
      ],
      "text/plain": [
       "                          number_of_courses_viewed  annual_income  \\\n",
       "number_of_courses_viewed                  1.000000       0.009770   \n",
       "annual_income                             0.009770       1.000000   \n",
       "interaction_count                        -0.023565       0.027036   \n",
       "lead_score                               -0.004879       0.015610   \n",
       "\n",
       "                          interaction_count  lead_score  \n",
       "number_of_courses_viewed          -0.023565   -0.004879  \n",
       "annual_income                      0.027036    0.015610  \n",
       "interaction_count                  1.000000    0.009888  \n",
       "lead_score                         0.009888    1.000000  "
      ]
     },
     "execution_count": 13,
     "metadata": {},
     "output_type": "execute_result"
    }
   ],
   "source": [
    "df[numerical].corr()"
   ]
  },
  {
   "cell_type": "markdown",
   "id": "df147c68-506f-4534-8963-f23f4eb903ed",
   "metadata": {},
   "source": [
    "interaction_count and lead_score: 0.009888, number_of_courses_viewed and lead_score: -0.004879"
   ]
  },
  {
   "cell_type": "markdown",
   "id": "07cd3ec4-da7b-475a-bfb4-abd0b6094706",
   "metadata": {},
   "source": [
    "number_of_courses_viewed and interaction_count: -0.023565\n"
   ]
  },
  {
   "cell_type": "markdown",
   "id": "e87b4e55-ee81-4135-8a24-4c3533bb0c28",
   "metadata": {},
   "source": [
    "annual_income and interaction_count: 0.027036\n"
   ]
  },
  {
   "cell_type": "code",
   "execution_count": 14,
   "id": "afd9e923-40cc-4e25-b999-585b4418c6b6",
   "metadata": {
    "execution": {
     "iopub.execute_input": "2025-10-13T18:40:08.323728Z",
     "iopub.status.busy": "2025-10-13T18:40:08.318370Z",
     "iopub.status.idle": "2025-10-13T18:40:09.723883Z",
     "shell.execute_reply": "2025-10-13T18:40:09.723146Z",
     "shell.execute_reply.started": "2025-10-13T18:40:08.323687Z"
    }
   },
   "outputs": [],
   "source": [
    "from sklearn.model_selection import train_test_split"
   ]
  },
  {
   "cell_type": "code",
   "execution_count": 15,
   "id": "44d5f16d-a90b-46ea-9b36-653ffcbe2fb6",
   "metadata": {
    "execution": {
     "iopub.execute_input": "2025-10-13T18:40:09.729101Z",
     "iopub.status.busy": "2025-10-13T18:40:09.728105Z",
     "iopub.status.idle": "2025-10-13T18:40:09.743313Z",
     "shell.execute_reply": "2025-10-13T18:40:09.742412Z",
     "shell.execute_reply.started": "2025-10-13T18:40:09.729063Z"
    }
   },
   "outputs": [],
   "source": [
    "df_train_full, df_test = train_test_split(df.drop(columns='converted'), test_size=0.2, random_state=42)"
   ]
  },
  {
   "cell_type": "code",
   "execution_count": 16,
   "id": "52ebeecf-87f7-473e-99ea-07fa33e179f2",
   "metadata": {
    "execution": {
     "iopub.execute_input": "2025-10-13T18:40:09.746871Z",
     "iopub.status.busy": "2025-10-13T18:40:09.744826Z",
     "iopub.status.idle": "2025-10-13T18:40:09.755713Z",
     "shell.execute_reply": "2025-10-13T18:40:09.754223Z",
     "shell.execute_reply.started": "2025-10-13T18:40:09.746836Z"
    }
   },
   "outputs": [],
   "source": [
    "df_train, df_val = train_test_split(df_train_full, test_size=293, random_state=42)"
   ]
  },
  {
   "cell_type": "code",
   "execution_count": 17,
   "id": "38424911-1d58-4298-ba66-8cf323917895",
   "metadata": {
    "execution": {
     "iopub.execute_input": "2025-10-13T18:40:09.758065Z",
     "iopub.status.busy": "2025-10-13T18:40:09.757660Z",
     "iopub.status.idle": "2025-10-13T18:40:09.812863Z",
     "shell.execute_reply": "2025-10-13T18:40:09.811833Z",
     "shell.execute_reply.started": "2025-10-13T18:40:09.758033Z"
    }
   },
   "outputs": [
    {
     "data": {
      "text/html": [
       "<div>\n",
       "<style scoped>\n",
       "    .dataframe tbody tr th:only-of-type {\n",
       "        vertical-align: middle;\n",
       "    }\n",
       "\n",
       "    .dataframe tbody tr th {\n",
       "        vertical-align: top;\n",
       "    }\n",
       "\n",
       "    .dataframe thead th {\n",
       "        text-align: right;\n",
       "    }\n",
       "</style>\n",
       "<table border=\"1\" class=\"dataframe\">\n",
       "  <thead>\n",
       "    <tr style=\"text-align: right;\">\n",
       "      <th></th>\n",
       "      <th>lead_source</th>\n",
       "      <th>industry</th>\n",
       "      <th>number_of_courses_viewed</th>\n",
       "      <th>annual_income</th>\n",
       "      <th>employment_status</th>\n",
       "      <th>location</th>\n",
       "      <th>interaction_count</th>\n",
       "      <th>lead_score</th>\n",
       "    </tr>\n",
       "  </thead>\n",
       "  <tbody>\n",
       "    <tr>\n",
       "      <th>1066</th>\n",
       "      <td>social_media</td>\n",
       "      <td>manufacturing</td>\n",
       "      <td>2</td>\n",
       "      <td>44403.0</td>\n",
       "      <td>self_employed</td>\n",
       "      <td>australia</td>\n",
       "      <td>1</td>\n",
       "      <td>0.71</td>\n",
       "    </tr>\n",
       "    <tr>\n",
       "      <th>638</th>\n",
       "      <td>events</td>\n",
       "      <td>retail</td>\n",
       "      <td>3</td>\n",
       "      <td>38048.0</td>\n",
       "      <td>student</td>\n",
       "      <td>north_america</td>\n",
       "      <td>6</td>\n",
       "      <td>0.97</td>\n",
       "    </tr>\n",
       "    <tr>\n",
       "      <th>799</th>\n",
       "      <td>social_media</td>\n",
       "      <td>education</td>\n",
       "      <td>2</td>\n",
       "      <td>71399.0</td>\n",
       "      <td>NA</td>\n",
       "      <td>europe</td>\n",
       "      <td>1</td>\n",
       "      <td>0.51</td>\n",
       "    </tr>\n",
       "    <tr>\n",
       "      <th>380</th>\n",
       "      <td>referral</td>\n",
       "      <td>education</td>\n",
       "      <td>2</td>\n",
       "      <td>47912.0</td>\n",
       "      <td>employed</td>\n",
       "      <td>australia</td>\n",
       "      <td>1</td>\n",
       "      <td>0.04</td>\n",
       "    </tr>\n",
       "    <tr>\n",
       "      <th>303</th>\n",
       "      <td>paid_ads</td>\n",
       "      <td>healthcare</td>\n",
       "      <td>1</td>\n",
       "      <td>34806.0</td>\n",
       "      <td>employed</td>\n",
       "      <td>europe</td>\n",
       "      <td>4</td>\n",
       "      <td>0.32</td>\n",
       "    </tr>\n",
       "    <tr>\n",
       "      <th>...</th>\n",
       "      <td>...</td>\n",
       "      <td>...</td>\n",
       "      <td>...</td>\n",
       "      <td>...</td>\n",
       "      <td>...</td>\n",
       "      <td>...</td>\n",
       "      <td>...</td>\n",
       "      <td>...</td>\n",
       "    </tr>\n",
       "    <tr>\n",
       "      <th>1130</th>\n",
       "      <td>events</td>\n",
       "      <td>manufacturing</td>\n",
       "      <td>1</td>\n",
       "      <td>57039.0</td>\n",
       "      <td>employed</td>\n",
       "      <td>south_america</td>\n",
       "      <td>2</td>\n",
       "      <td>0.30</td>\n",
       "    </tr>\n",
       "    <tr>\n",
       "      <th>1294</th>\n",
       "      <td>events</td>\n",
       "      <td>healthcare</td>\n",
       "      <td>2</td>\n",
       "      <td>56185.0</td>\n",
       "      <td>student</td>\n",
       "      <td>south_america</td>\n",
       "      <td>2</td>\n",
       "      <td>0.44</td>\n",
       "    </tr>\n",
       "    <tr>\n",
       "      <th>860</th>\n",
       "      <td>paid_ads</td>\n",
       "      <td>manufacturing</td>\n",
       "      <td>1</td>\n",
       "      <td>56402.0</td>\n",
       "      <td>student</td>\n",
       "      <td>north_america</td>\n",
       "      <td>1</td>\n",
       "      <td>0.02</td>\n",
       "    </tr>\n",
       "    <tr>\n",
       "      <th>1459</th>\n",
       "      <td>paid_ads</td>\n",
       "      <td>technology</td>\n",
       "      <td>1</td>\n",
       "      <td>45688.0</td>\n",
       "      <td>student</td>\n",
       "      <td>north_america</td>\n",
       "      <td>3</td>\n",
       "      <td>0.02</td>\n",
       "    </tr>\n",
       "    <tr>\n",
       "      <th>1126</th>\n",
       "      <td>events</td>\n",
       "      <td>manufacturing</td>\n",
       "      <td>0</td>\n",
       "      <td>43862.0</td>\n",
       "      <td>self_employed</td>\n",
       "      <td>asia</td>\n",
       "      <td>4</td>\n",
       "      <td>0.21</td>\n",
       "    </tr>\n",
       "  </tbody>\n",
       "</table>\n",
       "<p>1169 rows × 8 columns</p>\n",
       "</div>"
      ],
      "text/plain": [
       "       lead_source       industry  number_of_courses_viewed  annual_income  \\\n",
       "1066  social_media  manufacturing                         2        44403.0   \n",
       "638         events         retail                         3        38048.0   \n",
       "799   social_media      education                         2        71399.0   \n",
       "380       referral      education                         2        47912.0   \n",
       "303       paid_ads     healthcare                         1        34806.0   \n",
       "...            ...            ...                       ...            ...   \n",
       "1130        events  manufacturing                         1        57039.0   \n",
       "1294        events     healthcare                         2        56185.0   \n",
       "860       paid_ads  manufacturing                         1        56402.0   \n",
       "1459      paid_ads     technology                         1        45688.0   \n",
       "1126        events  manufacturing                         0        43862.0   \n",
       "\n",
       "     employment_status       location  interaction_count  lead_score  \n",
       "1066     self_employed      australia                  1        0.71  \n",
       "638            student  north_america                  6        0.97  \n",
       "799                 NA         europe                  1        0.51  \n",
       "380           employed      australia                  1        0.04  \n",
       "303           employed         europe                  4        0.32  \n",
       "...                ...            ...                ...         ...  \n",
       "1130          employed  south_america                  2        0.30  \n",
       "1294           student  south_america                  2        0.44  \n",
       "860            student  north_america                  1        0.02  \n",
       "1459           student  north_america                  3        0.02  \n",
       "1126     self_employed           asia                  4        0.21  \n",
       "\n",
       "[1169 rows x 8 columns]"
      ]
     },
     "execution_count": 17,
     "metadata": {},
     "output_type": "execute_result"
    }
   ],
   "source": [
    "df_train_full"
   ]
  },
  {
   "cell_type": "code",
   "execution_count": 18,
   "id": "84fc5ac0-e365-4a4b-8cbf-757297516d26",
   "metadata": {
    "execution": {
     "iopub.execute_input": "2025-10-13T18:40:09.817821Z",
     "iopub.status.busy": "2025-10-13T18:40:09.816630Z",
     "iopub.status.idle": "2025-10-13T18:40:09.848133Z",
     "shell.execute_reply": "2025-10-13T18:40:09.845343Z",
     "shell.execute_reply.started": "2025-10-13T18:40:09.817779Z"
    }
   },
   "outputs": [],
   "source": [
    "df_train = df_train.reset_index(drop=True)\n",
    "df_val = df_val.reset_index(drop=True)\n",
    "df_test = df_test.reset_index(drop=True)"
   ]
  },
  {
   "cell_type": "code",
   "execution_count": 19,
   "id": "8b5e4de0-456c-4f82-bcb0-f90ef5ce102f",
   "metadata": {
    "execution": {
     "iopub.execute_input": "2025-10-13T18:40:09.851746Z",
     "iopub.status.busy": "2025-10-13T18:40:09.849446Z",
     "iopub.status.idle": "2025-10-13T18:40:09.864550Z",
     "shell.execute_reply": "2025-10-13T18:40:09.860538Z",
     "shell.execute_reply.started": "2025-10-13T18:40:09.851705Z"
    }
   },
   "outputs": [],
   "source": [
    "y_train = df_train.values\n",
    "y_val = df_val.values\n",
    "y_test = df_test.values"
   ]
  },
  {
   "cell_type": "code",
   "execution_count": 20,
   "id": "b21a47d7-ef69-4f45-8efc-c0840448f3d9",
   "metadata": {
    "execution": {
     "iopub.execute_input": "2025-10-13T18:40:09.868367Z",
     "iopub.status.busy": "2025-10-13T18:40:09.867940Z",
     "iopub.status.idle": "2025-10-13T18:40:09.876813Z",
     "shell.execute_reply": "2025-10-13T18:40:09.876027Z",
     "shell.execute_reply.started": "2025-10-13T18:40:09.868306Z"
    }
   },
   "outputs": [],
   "source": [
    "df_train_full = df_train_full.reset_index(drop=True)"
   ]
  },
  {
   "cell_type": "markdown",
   "id": "d045bff7",
   "metadata": {},
   "source": [
    "# Question 3\n",
    "\n",
    "- Calculate the mutual information score between y and other categorical variables in the dataset. Use the training set only.\n",
    "- Round the scores to 2 decimals using round(score, 2).\n",
    "\n",
    "Which of these variables has the biggest mutual information score?\n",
    "\n",
    "- `industry`\n",
    "- `location`\n",
    "- `lead_source`\n",
    "- `employment_status`"
   ]
  },
  {
   "cell_type": "code",
   "execution_count": 21,
   "id": "3f95cc76-2d74-4928-bad1-40b8fd9d51d5",
   "metadata": {
    "execution": {
     "iopub.execute_input": "2025-10-13T18:40:09.891084Z",
     "iopub.status.busy": "2025-10-13T18:40:09.890683Z",
     "iopub.status.idle": "2025-10-13T18:40:09.897423Z",
     "shell.execute_reply": "2025-10-13T18:40:09.894907Z",
     "shell.execute_reply.started": "2025-10-13T18:40:09.891053Z"
    }
   },
   "outputs": [],
   "source": [
    "from sklearn.metrics import mutual_info_score"
   ]
  },
  {
   "cell_type": "code",
   "execution_count": 22,
   "id": "8637bc04-d54a-4b2b-a769-d7b72e90469a",
   "metadata": {
    "execution": {
     "iopub.execute_input": "2025-10-13T18:40:09.903310Z",
     "iopub.status.busy": "2025-10-13T18:40:09.900009Z",
     "iopub.status.idle": "2025-10-13T18:40:09.912028Z",
     "shell.execute_reply": "2025-10-13T18:40:09.911375Z",
     "shell.execute_reply.started": "2025-10-13T18:40:09.903220Z"
    }
   },
   "outputs": [],
   "source": [
    "df_train_full, df_test = train_test_split(df, test_size=0.2, random_state=42)"
   ]
  },
  {
   "cell_type": "code",
   "execution_count": 23,
   "id": "85c29bd7-6d4a-429e-b5c2-e7f999d187da",
   "metadata": {
    "execution": {
     "iopub.execute_input": "2025-10-13T18:40:09.914367Z",
     "iopub.status.busy": "2025-10-13T18:40:09.913608Z",
     "iopub.status.idle": "2025-10-13T18:40:09.925722Z",
     "shell.execute_reply": "2025-10-13T18:40:09.924851Z",
     "shell.execute_reply.started": "2025-10-13T18:40:09.914333Z"
    }
   },
   "outputs": [],
   "source": [
    "df_train, df_val = train_test_split(df_train_full, test_size=293, random_state=42)"
   ]
  },
  {
   "cell_type": "code",
   "execution_count": 24,
   "id": "fb8c3764-ac55-4539-b617-6729ab2b2e46",
   "metadata": {
    "execution": {
     "iopub.execute_input": "2025-10-13T18:40:09.929181Z",
     "iopub.status.busy": "2025-10-13T18:40:09.927214Z",
     "iopub.status.idle": "2025-10-13T18:40:09.970246Z",
     "shell.execute_reply": "2025-10-13T18:40:09.969379Z",
     "shell.execute_reply.started": "2025-10-13T18:40:09.929142Z"
    }
   },
   "outputs": [
    {
     "data": {
      "text/html": [
       "<div>\n",
       "<style scoped>\n",
       "    .dataframe tbody tr th:only-of-type {\n",
       "        vertical-align: middle;\n",
       "    }\n",
       "\n",
       "    .dataframe tbody tr th {\n",
       "        vertical-align: top;\n",
       "    }\n",
       "\n",
       "    .dataframe thead th {\n",
       "        text-align: right;\n",
       "    }\n",
       "</style>\n",
       "<table border=\"1\" class=\"dataframe\">\n",
       "  <thead>\n",
       "    <tr style=\"text-align: right;\">\n",
       "      <th></th>\n",
       "      <th>MI</th>\n",
       "    </tr>\n",
       "  </thead>\n",
       "  <tbody>\n",
       "    <tr>\n",
       "      <th>lead_source</th>\n",
       "      <td>0.04</td>\n",
       "    </tr>\n",
       "    <tr>\n",
       "      <th>employment_status</th>\n",
       "      <td>0.01</td>\n",
       "    </tr>\n",
       "    <tr>\n",
       "      <th>industry</th>\n",
       "      <td>0.01</td>\n",
       "    </tr>\n",
       "    <tr>\n",
       "      <th>location</th>\n",
       "      <td>0.00</td>\n",
       "    </tr>\n",
       "  </tbody>\n",
       "</table>\n",
       "</div>"
      ],
      "text/plain": [
       "                     MI\n",
       "lead_source        0.04\n",
       "employment_status  0.01\n",
       "industry           0.01\n",
       "location           0.00"
      ]
     },
     "execution_count": 24,
     "metadata": {},
     "output_type": "execute_result"
    }
   ],
   "source": [
    "def calculate_mi(series):\n",
    "    return mutual_info_score(series, df_train.converted)\n",
    "\n",
    "df_mi = df_train[categorical].apply(calculate_mi)\n",
    "df_mi = df_mi.sort_values(ascending=False).to_frame(name='MI')\n",
    "\n",
    "\n",
    "df_mi.round(2)"
   ]
  },
  {
   "cell_type": "markdown",
   "id": "8bb1ead4-825b-4419-83d1-8e63fac3572b",
   "metadata": {},
   "source": [
    "lead_source"
   ]
  },
  {
   "cell_type": "code",
   "execution_count": 25,
   "id": "638c11f4-8193-4815-87d7-45dcb5846d18",
   "metadata": {
    "execution": {
     "iopub.execute_input": "2025-10-13T18:40:09.972727Z",
     "iopub.status.busy": "2025-10-13T18:40:09.972141Z",
     "iopub.status.idle": "2025-10-13T18:40:09.977261Z",
     "shell.execute_reply": "2025-10-13T18:40:09.976397Z",
     "shell.execute_reply.started": "2025-10-13T18:40:09.972694Z"
    }
   },
   "outputs": [],
   "source": [
    "#df_train_full, df_test = train_test_split(df.drop(columns='converted'), test_size=0.2, random_state=42)"
   ]
  },
  {
   "cell_type": "markdown",
   "id": "59f37871",
   "metadata": {},
   "source": [
    "# Question 4\n",
    "\n",
    "- Now let's train a logistic regression.\n",
    "- Remember that we have several categorical variables in the dataset. Include them using one-hot encoding.\n",
    "- Fit the model on the training dataset.\n",
    "- To make sure the results are reproducible across different versions of Scikit-Learn, fit the model with these parameters:\n",
    "- model = LogisticRegression(solver='liblinear', C=1.0, max_iter=1000, random_state=42)\n",
    "- Calculate the accuracy on the validation dataset and round it to 2 decimal digits.\n",
    "\n",
    "What accuracy did you get?\n",
    "\n",
    "- 0.64\n",
    "- 0.74\n",
    "- 0.84\n",
    "- 0.94"
   ]
  },
  {
   "cell_type": "code",
   "execution_count": 26,
   "id": "1580f085-d1dc-4589-84ed-ba3545cd7e19",
   "metadata": {
    "execution": {
     "iopub.execute_input": "2025-10-13T18:40:09.980175Z",
     "iopub.status.busy": "2025-10-13T18:40:09.979142Z",
     "iopub.status.idle": "2025-10-13T18:40:09.984879Z",
     "shell.execute_reply": "2025-10-13T18:40:09.983800Z",
     "shell.execute_reply.started": "2025-10-13T18:40:09.980140Z"
    }
   },
   "outputs": [],
   "source": [
    "## One-hot encodingabs"
   ]
  },
  {
   "cell_type": "code",
   "execution_count": 27,
   "id": "4b8e1f22-4b7b-4fc3-87b0-2c9ecaf955f3",
   "metadata": {
    "execution": {
     "iopub.execute_input": "2025-10-13T18:40:09.987504Z",
     "iopub.status.busy": "2025-10-13T18:40:09.986775Z",
     "iopub.status.idle": "2025-10-13T18:40:10.007495Z",
     "shell.execute_reply": "2025-10-13T18:40:10.006754Z",
     "shell.execute_reply.started": "2025-10-13T18:40:09.987468Z"
    }
   },
   "outputs": [],
   "source": [
    "from sklearn.feature_extraction import DictVectorizer"
   ]
  },
  {
   "cell_type": "code",
   "execution_count": 28,
   "id": "18fc434e-81d4-49d0-bf0e-ac25a52c13d7",
   "metadata": {
    "execution": {
     "iopub.execute_input": "2025-10-13T18:40:10.009479Z",
     "iopub.status.busy": "2025-10-13T18:40:10.008885Z",
     "iopub.status.idle": "2025-10-13T18:40:10.019657Z",
     "shell.execute_reply": "2025-10-13T18:40:10.018723Z",
     "shell.execute_reply.started": "2025-10-13T18:40:10.009445Z"
    }
   },
   "outputs": [],
   "source": [
    "df_train, df_val = train_test_split(df_train_full, test_size=293, random_state=42)"
   ]
  },
  {
   "cell_type": "code",
   "execution_count": 29,
   "id": "9362cae6-7e96-4da9-bb54-02c36f9b4b91",
   "metadata": {
    "execution": {
     "iopub.execute_input": "2025-10-13T18:40:10.023353Z",
     "iopub.status.busy": "2025-10-13T18:40:10.022644Z",
     "iopub.status.idle": "2025-10-13T18:40:10.045519Z",
     "shell.execute_reply": "2025-10-13T18:40:10.044624Z",
     "shell.execute_reply.started": "2025-10-13T18:40:10.023322Z"
    }
   },
   "outputs": [
    {
     "data": {
      "text/html": [
       "<div>\n",
       "<style scoped>\n",
       "    .dataframe tbody tr th:only-of-type {\n",
       "        vertical-align: middle;\n",
       "    }\n",
       "\n",
       "    .dataframe tbody tr th {\n",
       "        vertical-align: top;\n",
       "    }\n",
       "\n",
       "    .dataframe thead th {\n",
       "        text-align: right;\n",
       "    }\n",
       "</style>\n",
       "<table border=\"1\" class=\"dataframe\">\n",
       "  <thead>\n",
       "    <tr style=\"text-align: right;\">\n",
       "      <th></th>\n",
       "      <th>lead_source</th>\n",
       "      <th>industry</th>\n",
       "      <th>number_of_courses_viewed</th>\n",
       "      <th>annual_income</th>\n",
       "      <th>employment_status</th>\n",
       "      <th>location</th>\n",
       "      <th>interaction_count</th>\n",
       "      <th>lead_score</th>\n",
       "      <th>converted</th>\n",
       "    </tr>\n",
       "  </thead>\n",
       "  <tbody>\n",
       "    <tr>\n",
       "      <th>1077</th>\n",
       "      <td>paid_ads</td>\n",
       "      <td>retail</td>\n",
       "      <td>0</td>\n",
       "      <td>58472.0</td>\n",
       "      <td>student</td>\n",
       "      <td>middle_east</td>\n",
       "      <td>5</td>\n",
       "      <td>0.03</td>\n",
       "      <td>0</td>\n",
       "    </tr>\n",
       "    <tr>\n",
       "      <th>463</th>\n",
       "      <td>organic_search</td>\n",
       "      <td>manufacturing</td>\n",
       "      <td>3</td>\n",
       "      <td>71738.0</td>\n",
       "      <td>student</td>\n",
       "      <td>middle_east</td>\n",
       "      <td>6</td>\n",
       "      <td>0.77</td>\n",
       "      <td>1</td>\n",
       "    </tr>\n",
       "    <tr>\n",
       "      <th>842</th>\n",
       "      <td>paid_ads</td>\n",
       "      <td>technology</td>\n",
       "      <td>3</td>\n",
       "      <td>81973.0</td>\n",
       "      <td>employed</td>\n",
       "      <td>north_america</td>\n",
       "      <td>2</td>\n",
       "      <td>0.59</td>\n",
       "      <td>1</td>\n",
       "    </tr>\n",
       "    <tr>\n",
       "      <th>835</th>\n",
       "      <td>NA</td>\n",
       "      <td>technology</td>\n",
       "      <td>1</td>\n",
       "      <td>74956.0</td>\n",
       "      <td>employed</td>\n",
       "      <td>europe</td>\n",
       "      <td>3</td>\n",
       "      <td>0.34</td>\n",
       "      <td>1</td>\n",
       "    </tr>\n",
       "    <tr>\n",
       "      <th>837</th>\n",
       "      <td>organic_search</td>\n",
       "      <td>retail</td>\n",
       "      <td>3</td>\n",
       "      <td>59335.0</td>\n",
       "      <td>student</td>\n",
       "      <td>australia</td>\n",
       "      <td>1</td>\n",
       "      <td>0.98</td>\n",
       "      <td>1</td>\n",
       "    </tr>\n",
       "    <tr>\n",
       "      <th>...</th>\n",
       "      <td>...</td>\n",
       "      <td>...</td>\n",
       "      <td>...</td>\n",
       "      <td>...</td>\n",
       "      <td>...</td>\n",
       "      <td>...</td>\n",
       "      <td>...</td>\n",
       "      <td>...</td>\n",
       "      <td>...</td>\n",
       "    </tr>\n",
       "    <tr>\n",
       "      <th>725</th>\n",
       "      <td>organic_search</td>\n",
       "      <td>other</td>\n",
       "      <td>1</td>\n",
       "      <td>43907.0</td>\n",
       "      <td>employed</td>\n",
       "      <td>australia</td>\n",
       "      <td>4</td>\n",
       "      <td>0.33</td>\n",
       "      <td>1</td>\n",
       "    </tr>\n",
       "    <tr>\n",
       "      <th>401</th>\n",
       "      <td>social_media</td>\n",
       "      <td>retail</td>\n",
       "      <td>3</td>\n",
       "      <td>64969.0</td>\n",
       "      <td>employed</td>\n",
       "      <td>north_america</td>\n",
       "      <td>1</td>\n",
       "      <td>0.18</td>\n",
       "      <td>0</td>\n",
       "    </tr>\n",
       "    <tr>\n",
       "      <th>957</th>\n",
       "      <td>NA</td>\n",
       "      <td>education</td>\n",
       "      <td>3</td>\n",
       "      <td>89042.0</td>\n",
       "      <td>employed</td>\n",
       "      <td>asia</td>\n",
       "      <td>4</td>\n",
       "      <td>0.75</td>\n",
       "      <td>1</td>\n",
       "    </tr>\n",
       "    <tr>\n",
       "      <th>992</th>\n",
       "      <td>social_media</td>\n",
       "      <td>manufacturing</td>\n",
       "      <td>1</td>\n",
       "      <td>0.0</td>\n",
       "      <td>self_employed</td>\n",
       "      <td>europe</td>\n",
       "      <td>1</td>\n",
       "      <td>0.65</td>\n",
       "      <td>0</td>\n",
       "    </tr>\n",
       "    <tr>\n",
       "      <th>1267</th>\n",
       "      <td>events</td>\n",
       "      <td>finance</td>\n",
       "      <td>4</td>\n",
       "      <td>50259.0</td>\n",
       "      <td>student</td>\n",
       "      <td>asia</td>\n",
       "      <td>3</td>\n",
       "      <td>0.54</td>\n",
       "      <td>1</td>\n",
       "    </tr>\n",
       "  </tbody>\n",
       "</table>\n",
       "<p>876 rows × 9 columns</p>\n",
       "</div>"
      ],
      "text/plain": [
       "         lead_source       industry  number_of_courses_viewed  annual_income  \\\n",
       "1077        paid_ads         retail                         0        58472.0   \n",
       "463   organic_search  manufacturing                         3        71738.0   \n",
       "842         paid_ads     technology                         3        81973.0   \n",
       "835               NA     technology                         1        74956.0   \n",
       "837   organic_search         retail                         3        59335.0   \n",
       "...              ...            ...                       ...            ...   \n",
       "725   organic_search          other                         1        43907.0   \n",
       "401     social_media         retail                         3        64969.0   \n",
       "957               NA      education                         3        89042.0   \n",
       "992     social_media  manufacturing                         1            0.0   \n",
       "1267          events        finance                         4        50259.0   \n",
       "\n",
       "     employment_status       location  interaction_count  lead_score  \\\n",
       "1077           student    middle_east                  5        0.03   \n",
       "463            student    middle_east                  6        0.77   \n",
       "842           employed  north_america                  2        0.59   \n",
       "835           employed         europe                  3        0.34   \n",
       "837            student      australia                  1        0.98   \n",
       "...                ...            ...                ...         ...   \n",
       "725           employed      australia                  4        0.33   \n",
       "401           employed  north_america                  1        0.18   \n",
       "957           employed           asia                  4        0.75   \n",
       "992      self_employed         europe                  1        0.65   \n",
       "1267           student           asia                  3        0.54   \n",
       "\n",
       "      converted  \n",
       "1077          0  \n",
       "463           1  \n",
       "842           1  \n",
       "835           1  \n",
       "837           1  \n",
       "...         ...  \n",
       "725           1  \n",
       "401           0  \n",
       "957           1  \n",
       "992           0  \n",
       "1267          1  \n",
       "\n",
       "[876 rows x 9 columns]"
      ]
     },
     "execution_count": 29,
     "metadata": {},
     "output_type": "execute_result"
    }
   ],
   "source": [
    "df_train"
   ]
  },
  {
   "cell_type": "code",
   "execution_count": 30,
   "id": "05265919-cd19-4f2f-ab5e-036867b2b5b1",
   "metadata": {
    "execution": {
     "iopub.execute_input": "2025-10-13T18:40:10.047074Z",
     "iopub.status.busy": "2025-10-13T18:40:10.046546Z",
     "iopub.status.idle": "2025-10-13T18:40:10.058187Z",
     "shell.execute_reply": "2025-10-13T18:40:10.056884Z",
     "shell.execute_reply.started": "2025-10-13T18:40:10.047003Z"
    }
   },
   "outputs": [],
   "source": [
    "categorical = list(categorical)\n",
    "numerical = list(numerical)"
   ]
  },
  {
   "cell_type": "code",
   "execution_count": 31,
   "id": "9c61bf89-0c4c-4698-a4e5-75996fcb6097",
   "metadata": {
    "execution": {
     "iopub.execute_input": "2025-10-13T18:40:10.060893Z",
     "iopub.status.busy": "2025-10-13T18:40:10.059380Z",
     "iopub.status.idle": "2025-10-13T18:40:10.080821Z",
     "shell.execute_reply": "2025-10-13T18:40:10.079675Z",
     "shell.execute_reply.started": "2025-10-13T18:40:10.060857Z"
    }
   },
   "outputs": [
    {
     "data": {
      "text/plain": [
       "{'lead_source': 'paid_ads',\n",
       " 'industry': 'retail',\n",
       " 'employment_status': 'student',\n",
       " 'location': 'middle_east',\n",
       " 'number_of_courses_viewed': 0,\n",
       " 'annual_income': 58472.0,\n",
       " 'interaction_count': 5,\n",
       " 'lead_score': 0.03}"
      ]
     },
     "execution_count": 31,
     "metadata": {},
     "output_type": "execute_result"
    }
   ],
   "source": [
    "train_dict = df_train[categorical + numerical].to_dict(orient='records')\n",
    "train_dict[0]"
   ]
  },
  {
   "cell_type": "code",
   "execution_count": 32,
   "id": "f3602547-ab42-4399-977c-41c4b4bbf7c4",
   "metadata": {
    "execution": {
     "iopub.execute_input": "2025-10-13T18:40:10.085107Z",
     "iopub.status.busy": "2025-10-13T18:40:10.082889Z",
     "iopub.status.idle": "2025-10-13T18:40:10.123644Z",
     "shell.execute_reply": "2025-10-13T18:40:10.122452Z",
     "shell.execute_reply.started": "2025-10-13T18:40:10.085019Z"
    }
   },
   "outputs": [],
   "source": [
    "dv = DictVectorizer(sparse=False)\n",
    "train_dict = df_train[categorical + numerical].to_dict(orient='records')\n",
    "X_train = dv.fit_transform(train_dict)\n",
    "\n",
    "val_dict = df_val[categorical + numerical].to_dict(orient='records')\n",
    "X_val = dv.transform(val_dict)"
   ]
  },
  {
   "cell_type": "code",
   "execution_count": 33,
   "id": "4854b69a-5b67-4d2b-910b-a81848356a97",
   "metadata": {
    "execution": {
     "iopub.execute_input": "2025-10-13T18:40:10.127238Z",
     "iopub.status.busy": "2025-10-13T18:40:10.126715Z",
     "iopub.status.idle": "2025-10-13T18:40:10.147897Z",
     "shell.execute_reply": "2025-10-13T18:40:10.146598Z",
     "shell.execute_reply.started": "2025-10-13T18:40:10.127207Z"
    }
   },
   "outputs": [],
   "source": [
    "X_train = dv.fit_transform(train_dict)"
   ]
  },
  {
   "cell_type": "code",
   "execution_count": 34,
   "id": "85d1451c-8640-4c7f-a5ec-bba5786933d5",
   "metadata": {
    "execution": {
     "iopub.execute_input": "2025-10-13T18:40:10.151772Z",
     "iopub.status.busy": "2025-10-13T18:40:10.148822Z",
     "iopub.status.idle": "2025-10-13T18:40:10.164553Z",
     "shell.execute_reply": "2025-10-13T18:40:10.162712Z",
     "shell.execute_reply.started": "2025-10-13T18:40:10.151734Z"
    }
   },
   "outputs": [
    {
     "data": {
      "text/plain": [
       "(876, 31)"
      ]
     },
     "execution_count": 34,
     "metadata": {},
     "output_type": "execute_result"
    }
   ],
   "source": [
    "X_train.shape"
   ]
  },
  {
   "cell_type": "code",
   "execution_count": 35,
   "id": "f42b1a6c-63f4-457d-943a-c30782842b6b",
   "metadata": {
    "execution": {
     "iopub.execute_input": "2025-10-13T18:40:10.170083Z",
     "iopub.status.busy": "2025-10-13T18:40:10.169313Z",
     "iopub.status.idle": "2025-10-13T18:40:10.177878Z",
     "shell.execute_reply": "2025-10-13T18:40:10.176968Z",
     "shell.execute_reply.started": "2025-10-13T18:40:10.170045Z"
    }
   },
   "outputs": [
    {
     "data": {
      "text/plain": [
       "array(['annual_income', 'employment_status=NA',\n",
       "       'employment_status=employed', 'employment_status=self_employed',\n",
       "       'employment_status=student', 'employment_status=unemployed',\n",
       "       'industry=NA', 'industry=education', 'industry=finance',\n",
       "       'industry=healthcare', 'industry=manufacturing', 'industry=other',\n",
       "       'industry=retail', 'industry=technology', 'interaction_count',\n",
       "       'lead_score', 'lead_source=NA', 'lead_source=events',\n",
       "       'lead_source=organic_search', 'lead_source=paid_ads',\n",
       "       'lead_source=referral', 'lead_source=social_media', 'location=NA',\n",
       "       'location=africa', 'location=asia', 'location=australia',\n",
       "       'location=europe', 'location=middle_east',\n",
       "       'location=north_america', 'location=south_america',\n",
       "       'number_of_courses_viewed'], dtype=object)"
      ]
     },
     "execution_count": 35,
     "metadata": {},
     "output_type": "execute_result"
    }
   ],
   "source": [
    "dv.get_feature_names_out()"
   ]
  },
  {
   "cell_type": "code",
   "execution_count": 36,
   "id": "3330ab2b-8f00-4685-80e2-3e03942e249a",
   "metadata": {
    "execution": {
     "iopub.execute_input": "2025-10-13T18:40:10.180521Z",
     "iopub.status.busy": "2025-10-13T18:40:10.179096Z",
     "iopub.status.idle": "2025-10-13T18:40:10.186996Z",
     "shell.execute_reply": "2025-10-13T18:40:10.185915Z",
     "shell.execute_reply.started": "2025-10-13T18:40:10.180485Z"
    }
   },
   "outputs": [],
   "source": [
    "y_train = df_train.converted.values\n",
    "y_val = df_val.converted.values"
   ]
  },
  {
   "cell_type": "code",
   "execution_count": 37,
   "id": "16edaee3-4747-4e75-af13-c86396f4debc",
   "metadata": {
    "execution": {
     "iopub.execute_input": "2025-10-13T18:40:10.189473Z",
     "iopub.status.busy": "2025-10-13T18:40:10.188021Z",
     "iopub.status.idle": "2025-10-13T18:40:10.287507Z",
     "shell.execute_reply": "2025-10-13T18:40:10.286735Z",
     "shell.execute_reply.started": "2025-10-13T18:40:10.189445Z"
    }
   },
   "outputs": [],
   "source": [
    "from sklearn.linear_model import LogisticRegression"
   ]
  },
  {
   "cell_type": "code",
   "execution_count": 38,
   "id": "634a5ab3-9a80-418e-83e7-79217624b7a4",
   "metadata": {
    "execution": {
     "iopub.execute_input": "2025-10-13T18:40:10.289889Z",
     "iopub.status.busy": "2025-10-13T18:40:10.288732Z",
     "iopub.status.idle": "2025-10-13T18:40:10.307951Z",
     "shell.execute_reply": "2025-10-13T18:40:10.306231Z",
     "shell.execute_reply.started": "2025-10-13T18:40:10.289850Z"
    }
   },
   "outputs": [
    {
     "data": {
      "text/html": [
       "<style>#sk-container-id-1 {\n",
       "  /* Definition of color scheme common for light and dark mode */\n",
       "  --sklearn-color-text: #000;\n",
       "  --sklearn-color-text-muted: #666;\n",
       "  --sklearn-color-line: gray;\n",
       "  /* Definition of color scheme for unfitted estimators */\n",
       "  --sklearn-color-unfitted-level-0: #fff5e6;\n",
       "  --sklearn-color-unfitted-level-1: #f6e4d2;\n",
       "  --sklearn-color-unfitted-level-2: #ffe0b3;\n",
       "  --sklearn-color-unfitted-level-3: chocolate;\n",
       "  /* Definition of color scheme for fitted estimators */\n",
       "  --sklearn-color-fitted-level-0: #f0f8ff;\n",
       "  --sklearn-color-fitted-level-1: #d4ebff;\n",
       "  --sklearn-color-fitted-level-2: #b3dbfd;\n",
       "  --sklearn-color-fitted-level-3: cornflowerblue;\n",
       "\n",
       "  /* Specific color for light theme */\n",
       "  --sklearn-color-text-on-default-background: var(--sg-text-color, var(--theme-code-foreground, var(--jp-content-font-color1, black)));\n",
       "  --sklearn-color-background: var(--sg-background-color, var(--theme-background, var(--jp-layout-color0, white)));\n",
       "  --sklearn-color-border-box: var(--sg-text-color, var(--theme-code-foreground, var(--jp-content-font-color1, black)));\n",
       "  --sklearn-color-icon: #696969;\n",
       "\n",
       "  @media (prefers-color-scheme: dark) {\n",
       "    /* Redefinition of color scheme for dark theme */\n",
       "    --sklearn-color-text-on-default-background: var(--sg-text-color, var(--theme-code-foreground, var(--jp-content-font-color1, white)));\n",
       "    --sklearn-color-background: var(--sg-background-color, var(--theme-background, var(--jp-layout-color0, #111)));\n",
       "    --sklearn-color-border-box: var(--sg-text-color, var(--theme-code-foreground, var(--jp-content-font-color1, white)));\n",
       "    --sklearn-color-icon: #878787;\n",
       "  }\n",
       "}\n",
       "\n",
       "#sk-container-id-1 {\n",
       "  color: var(--sklearn-color-text);\n",
       "}\n",
       "\n",
       "#sk-container-id-1 pre {\n",
       "  padding: 0;\n",
       "}\n",
       "\n",
       "#sk-container-id-1 input.sk-hidden--visually {\n",
       "  border: 0;\n",
       "  clip: rect(1px 1px 1px 1px);\n",
       "  clip: rect(1px, 1px, 1px, 1px);\n",
       "  height: 1px;\n",
       "  margin: -1px;\n",
       "  overflow: hidden;\n",
       "  padding: 0;\n",
       "  position: absolute;\n",
       "  width: 1px;\n",
       "}\n",
       "\n",
       "#sk-container-id-1 div.sk-dashed-wrapped {\n",
       "  border: 1px dashed var(--sklearn-color-line);\n",
       "  margin: 0 0.4em 0.5em 0.4em;\n",
       "  box-sizing: border-box;\n",
       "  padding-bottom: 0.4em;\n",
       "  background-color: var(--sklearn-color-background);\n",
       "}\n",
       "\n",
       "#sk-container-id-1 div.sk-container {\n",
       "  /* jupyter's `normalize.less` sets `[hidden] { display: none; }`\n",
       "     but bootstrap.min.css set `[hidden] { display: none !important; }`\n",
       "     so we also need the `!important` here to be able to override the\n",
       "     default hidden behavior on the sphinx rendered scikit-learn.org.\n",
       "     See: https://github.com/scikit-learn/scikit-learn/issues/21755 */\n",
       "  display: inline-block !important;\n",
       "  position: relative;\n",
       "}\n",
       "\n",
       "#sk-container-id-1 div.sk-text-repr-fallback {\n",
       "  display: none;\n",
       "}\n",
       "\n",
       "div.sk-parallel-item,\n",
       "div.sk-serial,\n",
       "div.sk-item {\n",
       "  /* draw centered vertical line to link estimators */\n",
       "  background-image: linear-gradient(var(--sklearn-color-text-on-default-background), var(--sklearn-color-text-on-default-background));\n",
       "  background-size: 2px 100%;\n",
       "  background-repeat: no-repeat;\n",
       "  background-position: center center;\n",
       "}\n",
       "\n",
       "/* Parallel-specific style estimator block */\n",
       "\n",
       "#sk-container-id-1 div.sk-parallel-item::after {\n",
       "  content: \"\";\n",
       "  width: 100%;\n",
       "  border-bottom: 2px solid var(--sklearn-color-text-on-default-background);\n",
       "  flex-grow: 1;\n",
       "}\n",
       "\n",
       "#sk-container-id-1 div.sk-parallel {\n",
       "  display: flex;\n",
       "  align-items: stretch;\n",
       "  justify-content: center;\n",
       "  background-color: var(--sklearn-color-background);\n",
       "  position: relative;\n",
       "}\n",
       "\n",
       "#sk-container-id-1 div.sk-parallel-item {\n",
       "  display: flex;\n",
       "  flex-direction: column;\n",
       "}\n",
       "\n",
       "#sk-container-id-1 div.sk-parallel-item:first-child::after {\n",
       "  align-self: flex-end;\n",
       "  width: 50%;\n",
       "}\n",
       "\n",
       "#sk-container-id-1 div.sk-parallel-item:last-child::after {\n",
       "  align-self: flex-start;\n",
       "  width: 50%;\n",
       "}\n",
       "\n",
       "#sk-container-id-1 div.sk-parallel-item:only-child::after {\n",
       "  width: 0;\n",
       "}\n",
       "\n",
       "/* Serial-specific style estimator block */\n",
       "\n",
       "#sk-container-id-1 div.sk-serial {\n",
       "  display: flex;\n",
       "  flex-direction: column;\n",
       "  align-items: center;\n",
       "  background-color: var(--sklearn-color-background);\n",
       "  padding-right: 1em;\n",
       "  padding-left: 1em;\n",
       "}\n",
       "\n",
       "\n",
       "/* Toggleable style: style used for estimator/Pipeline/ColumnTransformer box that is\n",
       "clickable and can be expanded/collapsed.\n",
       "- Pipeline and ColumnTransformer use this feature and define the default style\n",
       "- Estimators will overwrite some part of the style using the `sk-estimator` class\n",
       "*/\n",
       "\n",
       "/* Pipeline and ColumnTransformer style (default) */\n",
       "\n",
       "#sk-container-id-1 div.sk-toggleable {\n",
       "  /* Default theme specific background. It is overwritten whether we have a\n",
       "  specific estimator or a Pipeline/ColumnTransformer */\n",
       "  background-color: var(--sklearn-color-background);\n",
       "}\n",
       "\n",
       "/* Toggleable label */\n",
       "#sk-container-id-1 label.sk-toggleable__label {\n",
       "  cursor: pointer;\n",
       "  display: flex;\n",
       "  width: 100%;\n",
       "  margin-bottom: 0;\n",
       "  padding: 0.5em;\n",
       "  box-sizing: border-box;\n",
       "  text-align: center;\n",
       "  align-items: start;\n",
       "  justify-content: space-between;\n",
       "  gap: 0.5em;\n",
       "}\n",
       "\n",
       "#sk-container-id-1 label.sk-toggleable__label .caption {\n",
       "  font-size: 0.6rem;\n",
       "  font-weight: lighter;\n",
       "  color: var(--sklearn-color-text-muted);\n",
       "}\n",
       "\n",
       "#sk-container-id-1 label.sk-toggleable__label-arrow:before {\n",
       "  /* Arrow on the left of the label */\n",
       "  content: \"▸\";\n",
       "  float: left;\n",
       "  margin-right: 0.25em;\n",
       "  color: var(--sklearn-color-icon);\n",
       "}\n",
       "\n",
       "#sk-container-id-1 label.sk-toggleable__label-arrow:hover:before {\n",
       "  color: var(--sklearn-color-text);\n",
       "}\n",
       "\n",
       "/* Toggleable content - dropdown */\n",
       "\n",
       "#sk-container-id-1 div.sk-toggleable__content {\n",
       "  max-height: 0;\n",
       "  max-width: 0;\n",
       "  overflow: hidden;\n",
       "  text-align: left;\n",
       "  /* unfitted */\n",
       "  background-color: var(--sklearn-color-unfitted-level-0);\n",
       "}\n",
       "\n",
       "#sk-container-id-1 div.sk-toggleable__content.fitted {\n",
       "  /* fitted */\n",
       "  background-color: var(--sklearn-color-fitted-level-0);\n",
       "}\n",
       "\n",
       "#sk-container-id-1 div.sk-toggleable__content pre {\n",
       "  margin: 0.2em;\n",
       "  border-radius: 0.25em;\n",
       "  color: var(--sklearn-color-text);\n",
       "  /* unfitted */\n",
       "  background-color: var(--sklearn-color-unfitted-level-0);\n",
       "}\n",
       "\n",
       "#sk-container-id-1 div.sk-toggleable__content.fitted pre {\n",
       "  /* unfitted */\n",
       "  background-color: var(--sklearn-color-fitted-level-0);\n",
       "}\n",
       "\n",
       "#sk-container-id-1 input.sk-toggleable__control:checked~div.sk-toggleable__content {\n",
       "  /* Expand drop-down */\n",
       "  max-height: 200px;\n",
       "  max-width: 100%;\n",
       "  overflow: auto;\n",
       "}\n",
       "\n",
       "#sk-container-id-1 input.sk-toggleable__control:checked~label.sk-toggleable__label-arrow:before {\n",
       "  content: \"▾\";\n",
       "}\n",
       "\n",
       "/* Pipeline/ColumnTransformer-specific style */\n",
       "\n",
       "#sk-container-id-1 div.sk-label input.sk-toggleable__control:checked~label.sk-toggleable__label {\n",
       "  color: var(--sklearn-color-text);\n",
       "  background-color: var(--sklearn-color-unfitted-level-2);\n",
       "}\n",
       "\n",
       "#sk-container-id-1 div.sk-label.fitted input.sk-toggleable__control:checked~label.sk-toggleable__label {\n",
       "  background-color: var(--sklearn-color-fitted-level-2);\n",
       "}\n",
       "\n",
       "/* Estimator-specific style */\n",
       "\n",
       "/* Colorize estimator box */\n",
       "#sk-container-id-1 div.sk-estimator input.sk-toggleable__control:checked~label.sk-toggleable__label {\n",
       "  /* unfitted */\n",
       "  background-color: var(--sklearn-color-unfitted-level-2);\n",
       "}\n",
       "\n",
       "#sk-container-id-1 div.sk-estimator.fitted input.sk-toggleable__control:checked~label.sk-toggleable__label {\n",
       "  /* fitted */\n",
       "  background-color: var(--sklearn-color-fitted-level-2);\n",
       "}\n",
       "\n",
       "#sk-container-id-1 div.sk-label label.sk-toggleable__label,\n",
       "#sk-container-id-1 div.sk-label label {\n",
       "  /* The background is the default theme color */\n",
       "  color: var(--sklearn-color-text-on-default-background);\n",
       "}\n",
       "\n",
       "/* On hover, darken the color of the background */\n",
       "#sk-container-id-1 div.sk-label:hover label.sk-toggleable__label {\n",
       "  color: var(--sklearn-color-text);\n",
       "  background-color: var(--sklearn-color-unfitted-level-2);\n",
       "}\n",
       "\n",
       "/* Label box, darken color on hover, fitted */\n",
       "#sk-container-id-1 div.sk-label.fitted:hover label.sk-toggleable__label.fitted {\n",
       "  color: var(--sklearn-color-text);\n",
       "  background-color: var(--sklearn-color-fitted-level-2);\n",
       "}\n",
       "\n",
       "/* Estimator label */\n",
       "\n",
       "#sk-container-id-1 div.sk-label label {\n",
       "  font-family: monospace;\n",
       "  font-weight: bold;\n",
       "  display: inline-block;\n",
       "  line-height: 1.2em;\n",
       "}\n",
       "\n",
       "#sk-container-id-1 div.sk-label-container {\n",
       "  text-align: center;\n",
       "}\n",
       "\n",
       "/* Estimator-specific */\n",
       "#sk-container-id-1 div.sk-estimator {\n",
       "  font-family: monospace;\n",
       "  border: 1px dotted var(--sklearn-color-border-box);\n",
       "  border-radius: 0.25em;\n",
       "  box-sizing: border-box;\n",
       "  margin-bottom: 0.5em;\n",
       "  /* unfitted */\n",
       "  background-color: var(--sklearn-color-unfitted-level-0);\n",
       "}\n",
       "\n",
       "#sk-container-id-1 div.sk-estimator.fitted {\n",
       "  /* fitted */\n",
       "  background-color: var(--sklearn-color-fitted-level-0);\n",
       "}\n",
       "\n",
       "/* on hover */\n",
       "#sk-container-id-1 div.sk-estimator:hover {\n",
       "  /* unfitted */\n",
       "  background-color: var(--sklearn-color-unfitted-level-2);\n",
       "}\n",
       "\n",
       "#sk-container-id-1 div.sk-estimator.fitted:hover {\n",
       "  /* fitted */\n",
       "  background-color: var(--sklearn-color-fitted-level-2);\n",
       "}\n",
       "\n",
       "/* Specification for estimator info (e.g. \"i\" and \"?\") */\n",
       "\n",
       "/* Common style for \"i\" and \"?\" */\n",
       "\n",
       ".sk-estimator-doc-link,\n",
       "a:link.sk-estimator-doc-link,\n",
       "a:visited.sk-estimator-doc-link {\n",
       "  float: right;\n",
       "  font-size: smaller;\n",
       "  line-height: 1em;\n",
       "  font-family: monospace;\n",
       "  background-color: var(--sklearn-color-background);\n",
       "  border-radius: 1em;\n",
       "  height: 1em;\n",
       "  width: 1em;\n",
       "  text-decoration: none !important;\n",
       "  margin-left: 0.5em;\n",
       "  text-align: center;\n",
       "  /* unfitted */\n",
       "  border: var(--sklearn-color-unfitted-level-1) 1pt solid;\n",
       "  color: var(--sklearn-color-unfitted-level-1);\n",
       "}\n",
       "\n",
       ".sk-estimator-doc-link.fitted,\n",
       "a:link.sk-estimator-doc-link.fitted,\n",
       "a:visited.sk-estimator-doc-link.fitted {\n",
       "  /* fitted */\n",
       "  border: var(--sklearn-color-fitted-level-1) 1pt solid;\n",
       "  color: var(--sklearn-color-fitted-level-1);\n",
       "}\n",
       "\n",
       "/* On hover */\n",
       "div.sk-estimator:hover .sk-estimator-doc-link:hover,\n",
       ".sk-estimator-doc-link:hover,\n",
       "div.sk-label-container:hover .sk-estimator-doc-link:hover,\n",
       ".sk-estimator-doc-link:hover {\n",
       "  /* unfitted */\n",
       "  background-color: var(--sklearn-color-unfitted-level-3);\n",
       "  color: var(--sklearn-color-background);\n",
       "  text-decoration: none;\n",
       "}\n",
       "\n",
       "div.sk-estimator.fitted:hover .sk-estimator-doc-link.fitted:hover,\n",
       ".sk-estimator-doc-link.fitted:hover,\n",
       "div.sk-label-container:hover .sk-estimator-doc-link.fitted:hover,\n",
       ".sk-estimator-doc-link.fitted:hover {\n",
       "  /* fitted */\n",
       "  background-color: var(--sklearn-color-fitted-level-3);\n",
       "  color: var(--sklearn-color-background);\n",
       "  text-decoration: none;\n",
       "}\n",
       "\n",
       "/* Span, style for the box shown on hovering the info icon */\n",
       ".sk-estimator-doc-link span {\n",
       "  display: none;\n",
       "  z-index: 9999;\n",
       "  position: relative;\n",
       "  font-weight: normal;\n",
       "  right: .2ex;\n",
       "  padding: .5ex;\n",
       "  margin: .5ex;\n",
       "  width: min-content;\n",
       "  min-width: 20ex;\n",
       "  max-width: 50ex;\n",
       "  color: var(--sklearn-color-text);\n",
       "  box-shadow: 2pt 2pt 4pt #999;\n",
       "  /* unfitted */\n",
       "  background: var(--sklearn-color-unfitted-level-0);\n",
       "  border: .5pt solid var(--sklearn-color-unfitted-level-3);\n",
       "}\n",
       "\n",
       ".sk-estimator-doc-link.fitted span {\n",
       "  /* fitted */\n",
       "  background: var(--sklearn-color-fitted-level-0);\n",
       "  border: var(--sklearn-color-fitted-level-3);\n",
       "}\n",
       "\n",
       ".sk-estimator-doc-link:hover span {\n",
       "  display: block;\n",
       "}\n",
       "\n",
       "/* \"?\"-specific style due to the `<a>` HTML tag */\n",
       "\n",
       "#sk-container-id-1 a.estimator_doc_link {\n",
       "  float: right;\n",
       "  font-size: 1rem;\n",
       "  line-height: 1em;\n",
       "  font-family: monospace;\n",
       "  background-color: var(--sklearn-color-background);\n",
       "  border-radius: 1rem;\n",
       "  height: 1rem;\n",
       "  width: 1rem;\n",
       "  text-decoration: none;\n",
       "  /* unfitted */\n",
       "  color: var(--sklearn-color-unfitted-level-1);\n",
       "  border: var(--sklearn-color-unfitted-level-1) 1pt solid;\n",
       "}\n",
       "\n",
       "#sk-container-id-1 a.estimator_doc_link.fitted {\n",
       "  /* fitted */\n",
       "  border: var(--sklearn-color-fitted-level-1) 1pt solid;\n",
       "  color: var(--sklearn-color-fitted-level-1);\n",
       "}\n",
       "\n",
       "/* On hover */\n",
       "#sk-container-id-1 a.estimator_doc_link:hover {\n",
       "  /* unfitted */\n",
       "  background-color: var(--sklearn-color-unfitted-level-3);\n",
       "  color: var(--sklearn-color-background);\n",
       "  text-decoration: none;\n",
       "}\n",
       "\n",
       "#sk-container-id-1 a.estimator_doc_link.fitted:hover {\n",
       "  /* fitted */\n",
       "  background-color: var(--sklearn-color-fitted-level-3);\n",
       "}\n",
       "</style><div id=\"sk-container-id-1\" class=\"sk-top-container\"><div class=\"sk-text-repr-fallback\"><pre>LogisticRegression(max_iter=1000, random_state=42, solver=&#x27;liblinear&#x27;)</pre><b>In a Jupyter environment, please rerun this cell to show the HTML representation or trust the notebook. <br />On GitHub, the HTML representation is unable to render, please try loading this page with nbviewer.org.</b></div><div class=\"sk-container\" hidden><div class=\"sk-item\"><div class=\"sk-estimator fitted sk-toggleable\"><input class=\"sk-toggleable__control sk-hidden--visually\" id=\"sk-estimator-id-1\" type=\"checkbox\" checked><label for=\"sk-estimator-id-1\" class=\"sk-toggleable__label fitted sk-toggleable__label-arrow\"><div><div>LogisticRegression</div></div><div><a class=\"sk-estimator-doc-link fitted\" rel=\"noreferrer\" target=\"_blank\" href=\"https://scikit-learn.org/1.6/modules/generated/sklearn.linear_model.LogisticRegression.html\">?<span>Documentation for LogisticRegression</span></a><span class=\"sk-estimator-doc-link fitted\">i<span>Fitted</span></span></div></label><div class=\"sk-toggleable__content fitted\"><pre>LogisticRegression(max_iter=1000, random_state=42, solver=&#x27;liblinear&#x27;)</pre></div> </div></div></div></div>"
      ],
      "text/plain": [
       "LogisticRegression(max_iter=1000, random_state=42, solver='liblinear')"
      ]
     },
     "execution_count": 38,
     "metadata": {},
     "output_type": "execute_result"
    }
   ],
   "source": [
    "model = LogisticRegression(solver='liblinear', C=1.0, max_iter=1000, random_state=42)\n",
    "model.fit(X_train, y_train)"
   ]
  },
  {
   "cell_type": "code",
   "execution_count": 39,
   "id": "acad465f-364d-42c1-a0d9-724ec78219a1",
   "metadata": {
    "execution": {
     "iopub.execute_input": "2025-10-13T18:40:10.312152Z",
     "iopub.status.busy": "2025-10-13T18:40:10.311436Z",
     "iopub.status.idle": "2025-10-13T18:40:10.336050Z",
     "shell.execute_reply": "2025-10-13T18:40:10.333856Z",
     "shell.execute_reply.started": "2025-10-13T18:40:10.312125Z"
    }
   },
   "outputs": [
    {
     "data": {
      "text/plain": [
       "array([[0.38807837, 0.61192163],\n",
       "       [0.20017383, 0.79982617],\n",
       "       [0.46978656, 0.53021344],\n",
       "       [0.52868521, 0.47131479],\n",
       "       [0.42933868, 0.57066132],\n",
       "       [0.55772831, 0.44227169],\n",
       "       [0.12872331, 0.87127669],\n",
       "       [0.15116885, 0.84883115],\n",
       "       [0.16709963, 0.83290037],\n",
       "       [0.38502199, 0.61497801],\n",
       "       [0.45031973, 0.54968027],\n",
       "       [0.21846912, 0.78153088],\n",
       "       [0.30960214, 0.69039786],\n",
       "       [0.22982878, 0.77017122],\n",
       "       [0.4734056 , 0.5265944 ],\n",
       "       [0.08293575, 0.91706425],\n",
       "       [0.46829365, 0.53170635],\n",
       "       [0.57876951, 0.42123049],\n",
       "       [0.69853545, 0.30146455],\n",
       "       [0.15118417, 0.84881583],\n",
       "       [0.20511347, 0.79488653],\n",
       "       [0.26329625, 0.73670375],\n",
       "       [0.55472789, 0.44527211],\n",
       "       [0.35161617, 0.64838383],\n",
       "       [0.5823118 , 0.4176882 ],\n",
       "       [0.24606582, 0.75393418],\n",
       "       [0.09833884, 0.90166116],\n",
       "       [0.66096951, 0.33903049],\n",
       "       [0.56818569, 0.43181431],\n",
       "       [0.0319319 , 0.9680681 ],\n",
       "       [0.07981286, 0.92018714],\n",
       "       [0.62512012, 0.37487988],\n",
       "       [0.347699  , 0.652301  ],\n",
       "       [0.09349943, 0.90650057],\n",
       "       [0.24835883, 0.75164117],\n",
       "       [0.35797879, 0.64202121],\n",
       "       [0.17749925, 0.82250075],\n",
       "       [0.16624447, 0.83375553],\n",
       "       [0.340884  , 0.659116  ],\n",
       "       [0.69021147, 0.30978853],\n",
       "       [0.21057736, 0.78942264],\n",
       "       [0.64453634, 0.35546366],\n",
       "       [0.03482242, 0.96517758],\n",
       "       [0.36610696, 0.63389304],\n",
       "       [0.48725805, 0.51274195],\n",
       "       [0.46769467, 0.53230533],\n",
       "       [0.17712215, 0.82287785],\n",
       "       [0.255926  , 0.744074  ],\n",
       "       [0.26547687, 0.73452313],\n",
       "       [0.31044783, 0.68955217],\n",
       "       [0.53035557, 0.46964443],\n",
       "       [0.15460748, 0.84539252],\n",
       "       [0.44364757, 0.55635243],\n",
       "       [0.07362129, 0.92637871],\n",
       "       [0.34741979, 0.65258021],\n",
       "       [0.38473727, 0.61526273],\n",
       "       [0.36183005, 0.63816995],\n",
       "       [0.71695982, 0.28304018],\n",
       "       [0.51950176, 0.48049824],\n",
       "       [0.42109382, 0.57890618],\n",
       "       [0.64502658, 0.35497342],\n",
       "       [0.37824949, 0.62175051],\n",
       "       [0.61039222, 0.38960778],\n",
       "       [0.38843944, 0.61156056],\n",
       "       [0.14695722, 0.85304278],\n",
       "       [0.24569864, 0.75430136],\n",
       "       [0.10814046, 0.89185954],\n",
       "       [0.28053541, 0.71946459],\n",
       "       [0.04612377, 0.95387623],\n",
       "       [0.10790483, 0.89209517],\n",
       "       [0.24722912, 0.75277088],\n",
       "       [0.66149861, 0.33850139],\n",
       "       [0.38623407, 0.61376593],\n",
       "       [0.48377725, 0.51622275],\n",
       "       [0.35911063, 0.64088937],\n",
       "       [0.24021669, 0.75978331],\n",
       "       [0.10687924, 0.89312076],\n",
       "       [0.21765408, 0.78234592],\n",
       "       [0.42522198, 0.57477802],\n",
       "       [0.4769106 , 0.5230894 ],\n",
       "       [0.24837536, 0.75162464],\n",
       "       [0.54363354, 0.45636646],\n",
       "       [0.18420415, 0.81579585],\n",
       "       [0.20617727, 0.79382273],\n",
       "       [0.37813998, 0.62186002],\n",
       "       [0.61051553, 0.38948447],\n",
       "       [0.07992654, 0.92007346],\n",
       "       [0.20563848, 0.79436152],\n",
       "       [0.38806212, 0.61193788],\n",
       "       [0.07352441, 0.92647559],\n",
       "       [0.2467472 , 0.7532528 ],\n",
       "       [0.42955807, 0.57044193],\n",
       "       [0.39434698, 0.60565302],\n",
       "       [0.23154634, 0.76845366],\n",
       "       [0.61339867, 0.38660133],\n",
       "       [0.06317165, 0.93682835],\n",
       "       [0.38441452, 0.61558548],\n",
       "       [0.2924606 , 0.7075394 ],\n",
       "       [0.2847799 , 0.7152201 ],\n",
       "       [0.28483581, 0.71516419],\n",
       "       [0.55625699, 0.44374301],\n",
       "       [0.51500444, 0.48499556],\n",
       "       [0.32958023, 0.67041977],\n",
       "       [0.29095185, 0.70904815],\n",
       "       [0.17877704, 0.82122296],\n",
       "       [0.20168208, 0.79831792],\n",
       "       [0.32342838, 0.67657162],\n",
       "       [0.40381833, 0.59618167],\n",
       "       [0.10824494, 0.89175506],\n",
       "       [0.39374709, 0.60625291],\n",
       "       [0.10325522, 0.89674478],\n",
       "       [0.30889988, 0.69110012],\n",
       "       [0.48480821, 0.51519179],\n",
       "       [0.5465949 , 0.4534051 ],\n",
       "       [0.36656635, 0.63343365],\n",
       "       [0.55441895, 0.44558105],\n",
       "       [0.33602934, 0.66397066],\n",
       "       [0.56333461, 0.43666539],\n",
       "       [0.30026368, 0.69973632],\n",
       "       [0.13033252, 0.86966748],\n",
       "       [0.59729435, 0.40270565],\n",
       "       [0.48982889, 0.51017111],\n",
       "       [0.37955823, 0.62044177],\n",
       "       [0.50838236, 0.49161764],\n",
       "       [0.30236873, 0.69763127],\n",
       "       [0.15377867, 0.84622133],\n",
       "       [0.59488987, 0.40511013],\n",
       "       [0.1565267 , 0.8434733 ],\n",
       "       [0.41195288, 0.58804712],\n",
       "       [0.14489385, 0.85510615],\n",
       "       [0.21184711, 0.78815289],\n",
       "       [0.19027076, 0.80972924],\n",
       "       [0.53995613, 0.46004387],\n",
       "       [0.44545411, 0.55454589],\n",
       "       [0.289769  , 0.710231  ],\n",
       "       [0.3850908 , 0.6149092 ],\n",
       "       [0.1379413 , 0.8620587 ],\n",
       "       [0.19524674, 0.80475326],\n",
       "       [0.39070575, 0.60929425],\n",
       "       [0.35558824, 0.64441176],\n",
       "       [0.44806687, 0.55193313],\n",
       "       [0.43239626, 0.56760374],\n",
       "       [0.4810665 , 0.5189335 ],\n",
       "       [0.27411771, 0.72588229],\n",
       "       [0.56995696, 0.43004304],\n",
       "       [0.7664203 , 0.2335797 ],\n",
       "       [0.29086945, 0.70913055],\n",
       "       [0.34959289, 0.65040711],\n",
       "       [0.05415378, 0.94584622],\n",
       "       [0.19347104, 0.80652896],\n",
       "       [0.30614605, 0.69385395],\n",
       "       [0.15782713, 0.84217287],\n",
       "       [0.10142776, 0.89857224],\n",
       "       [0.18106255, 0.81893745],\n",
       "       [0.47545564, 0.52454436],\n",
       "       [0.79804549, 0.20195451],\n",
       "       [0.43374801, 0.56625199],\n",
       "       [0.31839973, 0.68160027],\n",
       "       [0.6596981 , 0.3403019 ],\n",
       "       [0.19395316, 0.80604684],\n",
       "       [0.36135383, 0.63864617],\n",
       "       [0.14435363, 0.85564637],\n",
       "       [0.31573165, 0.68426835],\n",
       "       [0.62810491, 0.37189509],\n",
       "       [0.19126574, 0.80873426],\n",
       "       [0.16646272, 0.83353728],\n",
       "       [0.42532935, 0.57467065],\n",
       "       [0.18794674, 0.81205326],\n",
       "       [0.10267411, 0.89732589],\n",
       "       [0.26936014, 0.73063986],\n",
       "       [0.15499451, 0.84500549],\n",
       "       [0.31245904, 0.68754096],\n",
       "       [0.28417713, 0.71582287],\n",
       "       [0.50566079, 0.49433921],\n",
       "       [0.02906502, 0.97093498],\n",
       "       [0.57698124, 0.42301876],\n",
       "       [0.34534131, 0.65465869],\n",
       "       [0.49662648, 0.50337352],\n",
       "       [0.25505531, 0.74494469],\n",
       "       [0.29564703, 0.70435297],\n",
       "       [0.57115541, 0.42884459],\n",
       "       [0.45932279, 0.54067721],\n",
       "       [0.0829003 , 0.9170997 ],\n",
       "       [0.22634192, 0.77365808],\n",
       "       [0.35888312, 0.64111688],\n",
       "       [0.20988627, 0.79011373],\n",
       "       [0.45752163, 0.54247837],\n",
       "       [0.29797811, 0.70202189],\n",
       "       [0.27988026, 0.72011974],\n",
       "       [0.61401397, 0.38598603],\n",
       "       [0.3040785 , 0.6959215 ],\n",
       "       [0.23594523, 0.76405477],\n",
       "       [0.34873118, 0.65126882],\n",
       "       [0.36099787, 0.63900213],\n",
       "       [0.39234126, 0.60765874],\n",
       "       [0.57443154, 0.42556846],\n",
       "       [0.38394264, 0.61605736],\n",
       "       [0.36746925, 0.63253075],\n",
       "       [0.27867781, 0.72132219],\n",
       "       [0.1523616 , 0.8476384 ],\n",
       "       [0.04154105, 0.95845895],\n",
       "       [0.27420602, 0.72579398],\n",
       "       [0.33726959, 0.66273041],\n",
       "       [0.36605003, 0.63394997],\n",
       "       [0.30671898, 0.69328102],\n",
       "       [0.39181951, 0.60818049],\n",
       "       [0.11820406, 0.88179594],\n",
       "       [0.49044689, 0.50955311],\n",
       "       [0.11851412, 0.88148588],\n",
       "       [0.21427829, 0.78572171],\n",
       "       [0.30740298, 0.69259702],\n",
       "       [0.31669371, 0.68330629],\n",
       "       [0.28387103, 0.71612897],\n",
       "       [0.10985779, 0.89014221],\n",
       "       [0.38955721, 0.61044279],\n",
       "       [0.31714612, 0.68285388],\n",
       "       [0.20391655, 0.79608345],\n",
       "       [0.52753136, 0.47246864],\n",
       "       [0.52340878, 0.47659122],\n",
       "       [0.23181495, 0.76818505],\n",
       "       [0.56552714, 0.43447286],\n",
       "       [0.29275477, 0.70724523],\n",
       "       [0.63890662, 0.36109338],\n",
       "       [0.42061099, 0.57938901],\n",
       "       [0.26394702, 0.73605298],\n",
       "       [0.23350949, 0.76649051],\n",
       "       [0.24888499, 0.75111501],\n",
       "       [0.37142809, 0.62857191],\n",
       "       [0.77262438, 0.22737562],\n",
       "       [0.52321431, 0.47678569],\n",
       "       [0.46116099, 0.53883901],\n",
       "       [0.13993308, 0.86006692],\n",
       "       [0.62387303, 0.37612697],\n",
       "       [0.3605206 , 0.6394794 ],\n",
       "       [0.2478044 , 0.7521956 ],\n",
       "       [0.19112664, 0.80887336],\n",
       "       [0.68888965, 0.31111035],\n",
       "       [0.38363949, 0.61636051],\n",
       "       [0.09205969, 0.90794031],\n",
       "       [0.27215891, 0.72784109],\n",
       "       [0.21837248, 0.78162752],\n",
       "       [0.43321901, 0.56678099],\n",
       "       [0.25053746, 0.74946254],\n",
       "       [0.2972984 , 0.7027016 ],\n",
       "       [0.13007755, 0.86992245],\n",
       "       [0.32488117, 0.67511883],\n",
       "       [0.52664834, 0.47335166],\n",
       "       [0.30815068, 0.69184932],\n",
       "       [0.10283094, 0.89716906],\n",
       "       [0.33650215, 0.66349785],\n",
       "       [0.53409306, 0.46590694],\n",
       "       [0.05875649, 0.94124351],\n",
       "       [0.14369435, 0.85630565],\n",
       "       [0.43161626, 0.56838374],\n",
       "       [0.18052341, 0.81947659],\n",
       "       [0.3319829 , 0.6680171 ],\n",
       "       [0.63961172, 0.36038828],\n",
       "       [0.24105604, 0.75894396],\n",
       "       [0.22337077, 0.77662923],\n",
       "       [0.38539632, 0.61460368],\n",
       "       [0.02276564, 0.97723436],\n",
       "       [0.38773085, 0.61226915],\n",
       "       [0.49635462, 0.50364538],\n",
       "       [0.09184116, 0.90815884],\n",
       "       [0.30672127, 0.69327873],\n",
       "       [0.13039832, 0.86960168],\n",
       "       [0.40195818, 0.59804182],\n",
       "       [0.58483562, 0.41516438],\n",
       "       [0.20978372, 0.79021628],\n",
       "       [0.43174118, 0.56825882],\n",
       "       [0.66720575, 0.33279425],\n",
       "       [0.10287765, 0.89712235],\n",
       "       [0.64999393, 0.35000607],\n",
       "       [0.38892865, 0.61107135],\n",
       "       [0.27173627, 0.72826373],\n",
       "       [0.45020261, 0.54979739],\n",
       "       [0.66322744, 0.33677256],\n",
       "       [0.47659911, 0.52340089],\n",
       "       [0.32413089, 0.67586911],\n",
       "       [0.25631563, 0.74368437],\n",
       "       [0.25637847, 0.74362153],\n",
       "       [0.56166342, 0.43833658],\n",
       "       [0.49758429, 0.50241571],\n",
       "       [0.41853036, 0.58146964],\n",
       "       [0.28382793, 0.71617207],\n",
       "       [0.21158114, 0.78841886],\n",
       "       [0.26676894, 0.73323106],\n",
       "       [0.14610107, 0.85389893],\n",
       "       [0.58065752, 0.41934248],\n",
       "       [0.28946102, 0.71053898],\n",
       "       [0.58181498, 0.41818502],\n",
       "       [0.25516484, 0.74483516],\n",
       "       [0.56708684, 0.43291316]])"
      ]
     },
     "execution_count": 39,
     "metadata": {},
     "output_type": "execute_result"
    }
   ],
   "source": [
    "model.predict_proba(X_val)"
   ]
  },
  {
   "cell_type": "code",
   "execution_count": 40,
   "id": "614c0b25-d027-4f12-8cc5-01912795860c",
   "metadata": {
    "execution": {
     "iopub.execute_input": "2025-10-13T18:40:10.339716Z",
     "iopub.status.busy": "2025-10-13T18:40:10.338526Z",
     "iopub.status.idle": "2025-10-13T18:40:10.348142Z",
     "shell.execute_reply": "2025-10-13T18:40:10.345269Z",
     "shell.execute_reply.started": "2025-10-13T18:40:10.339679Z"
    }
   },
   "outputs": [],
   "source": [
    "y_pred = model.predict_proba(X_val)[:, 1]"
   ]
  },
  {
   "cell_type": "code",
   "execution_count": 41,
   "id": "12184460-2090-4bbf-bef9-84c159b4dd37",
   "metadata": {
    "execution": {
     "iopub.execute_input": "2025-10-13T18:40:10.350717Z",
     "iopub.status.busy": "2025-10-13T18:40:10.350125Z",
     "iopub.status.idle": "2025-10-13T18:40:10.359877Z",
     "shell.execute_reply": "2025-10-13T18:40:10.358829Z",
     "shell.execute_reply.started": "2025-10-13T18:40:10.350683Z"
    }
   },
   "outputs": [],
   "source": [
    "converted = y_pred >= 0.5"
   ]
  },
  {
   "cell_type": "code",
   "execution_count": 42,
   "id": "c0167a47-b9c5-4d43-a4e4-775fd5d97cad",
   "metadata": {
    "execution": {
     "iopub.execute_input": "2025-10-13T18:40:10.362662Z",
     "iopub.status.busy": "2025-10-13T18:40:10.362010Z",
     "iopub.status.idle": "2025-10-13T18:40:10.378868Z",
     "shell.execute_reply": "2025-10-13T18:40:10.377412Z",
     "shell.execute_reply.started": "2025-10-13T18:40:10.362626Z"
    }
   },
   "outputs": [
    {
     "data": {
      "text/plain": [
       "0.6587082147463391"
      ]
     },
     "execution_count": 42,
     "metadata": {},
     "output_type": "execute_result"
    }
   ],
   "source": [
    "y_pred.mean()"
   ]
  },
  {
   "cell_type": "code",
   "execution_count": 43,
   "id": "6759e222-ced7-46e9-b00a-1d13e95cfc29",
   "metadata": {
    "execution": {
     "iopub.execute_input": "2025-10-13T18:40:10.381858Z",
     "iopub.status.busy": "2025-10-13T18:40:10.381053Z",
     "iopub.status.idle": "2025-10-13T18:40:10.395881Z",
     "shell.execute_reply": "2025-10-13T18:40:10.393768Z",
     "shell.execute_reply.started": "2025-10-13T18:40:10.381821Z"
    }
   },
   "outputs": [
    {
     "data": {
      "text/plain": [
       "0.6996587030716723"
      ]
     },
     "execution_count": 43,
     "metadata": {},
     "output_type": "execute_result"
    }
   ],
   "source": [
    "(y_val == converted).mean()"
   ]
  },
  {
   "cell_type": "code",
   "execution_count": 44,
   "id": "01e8db23-59e2-4e3e-b2e3-6c75214f8bcb",
   "metadata": {
    "execution": {
     "iopub.execute_input": "2025-10-13T18:40:10.399312Z",
     "iopub.status.busy": "2025-10-13T18:40:10.398672Z",
     "iopub.status.idle": "2025-10-13T18:40:10.406169Z",
     "shell.execute_reply": "2025-10-13T18:40:10.404809Z",
     "shell.execute_reply.started": "2025-10-13T18:40:10.399285Z"
    }
   },
   "outputs": [],
   "source": [
    "y_pred = model.predict(X_val)"
   ]
  },
  {
   "cell_type": "code",
   "execution_count": 45,
   "id": "be459e28-b4b1-47e0-8a2b-5c2f758b4e2f",
   "metadata": {
    "execution": {
     "iopub.execute_input": "2025-10-13T18:40:10.409244Z",
     "iopub.status.busy": "2025-10-13T18:40:10.408528Z",
     "iopub.status.idle": "2025-10-13T18:40:10.415135Z",
     "shell.execute_reply": "2025-10-13T18:40:10.413689Z",
     "shell.execute_reply.started": "2025-10-13T18:40:10.409208Z"
    }
   },
   "outputs": [],
   "source": [
    "from sklearn.metrics import accuracy_score, confusion_matrix, classification_report"
   ]
  },
  {
   "cell_type": "code",
   "execution_count": 46,
   "id": "50d6308c-b045-47fa-850c-696776a189e6",
   "metadata": {
    "execution": {
     "iopub.execute_input": "2025-10-13T18:40:10.416844Z",
     "iopub.status.busy": "2025-10-13T18:40:10.416225Z",
     "iopub.status.idle": "2025-10-13T18:40:10.427194Z",
     "shell.execute_reply": "2025-10-13T18:40:10.424562Z",
     "shell.execute_reply.started": "2025-10-13T18:40:10.416814Z"
    }
   },
   "outputs": [
    {
     "data": {
      "text/plain": [
       "0.7"
      ]
     },
     "execution_count": 46,
     "metadata": {},
     "output_type": "execute_result"
    }
   ],
   "source": [
    "round(accuracy_score(y_val, y_pred),2)"
   ]
  },
  {
   "cell_type": "code",
   "execution_count": 47,
   "id": "4d565bf9-bd1a-4a54-a202-d62e25976d5e",
   "metadata": {
    "execution": {
     "iopub.execute_input": "2025-10-13T18:40:10.429222Z",
     "iopub.status.busy": "2025-10-13T18:40:10.428658Z",
     "iopub.status.idle": "2025-10-13T18:40:10.453024Z",
     "shell.execute_reply": "2025-10-13T18:40:10.451533Z",
     "shell.execute_reply.started": "2025-10-13T18:40:10.429188Z"
    }
   },
   "outputs": [],
   "source": [
    "dicts_train_full = df_train_full[categorical + numerical].to_dict(orient='records')"
   ]
  },
  {
   "cell_type": "code",
   "execution_count": 48,
   "id": "237633b1-d73f-4e87-ac1a-5345a296bd13",
   "metadata": {
    "execution": {
     "iopub.execute_input": "2025-10-13T18:40:10.456280Z",
     "iopub.status.busy": "2025-10-13T18:40:10.455373Z",
     "iopub.status.idle": "2025-10-13T18:40:10.462160Z",
     "shell.execute_reply": "2025-10-13T18:40:10.460905Z",
     "shell.execute_reply.started": "2025-10-13T18:40:10.456254Z"
    }
   },
   "outputs": [],
   "source": [
    "dv = DictVectorizer(sparse=False)"
   ]
  },
  {
   "cell_type": "code",
   "execution_count": 49,
   "id": "b886ee1e-c655-4768-afb7-060ab37ac867",
   "metadata": {
    "execution": {
     "iopub.execute_input": "2025-10-13T18:40:10.464887Z",
     "iopub.status.busy": "2025-10-13T18:40:10.464392Z",
     "iopub.status.idle": "2025-10-13T18:40:10.494313Z",
     "shell.execute_reply": "2025-10-13T18:40:10.492136Z",
     "shell.execute_reply.started": "2025-10-13T18:40:10.464853Z"
    }
   },
   "outputs": [],
   "source": [
    "X_train_full = dv.fit_transform(dicts_train_full)"
   ]
  },
  {
   "cell_type": "code",
   "execution_count": 50,
   "id": "60d45116-ecde-4268-b425-c6995ee044e5",
   "metadata": {
    "execution": {
     "iopub.execute_input": "2025-10-13T18:40:10.496432Z",
     "iopub.status.busy": "2025-10-13T18:40:10.495902Z",
     "iopub.status.idle": "2025-10-13T18:40:10.501557Z",
     "shell.execute_reply": "2025-10-13T18:40:10.500195Z",
     "shell.execute_reply.started": "2025-10-13T18:40:10.496397Z"
    }
   },
   "outputs": [],
   "source": [
    "y_train_full = df_train_full.converted.values"
   ]
  },
  {
   "cell_type": "code",
   "execution_count": 51,
   "id": "4769e5c4-ac19-4ce2-832a-ed96c2b2aea5",
   "metadata": {
    "execution": {
     "iopub.execute_input": "2025-10-13T18:40:10.505336Z",
     "iopub.status.busy": "2025-10-13T18:40:10.503926Z",
     "iopub.status.idle": "2025-10-13T18:40:10.521810Z",
     "shell.execute_reply": "2025-10-13T18:40:10.520191Z",
     "shell.execute_reply.started": "2025-10-13T18:40:10.505307Z"
    }
   },
   "outputs": [
    {
     "data": {
      "text/html": [
       "<style>#sk-container-id-2 {\n",
       "  /* Definition of color scheme common for light and dark mode */\n",
       "  --sklearn-color-text: #000;\n",
       "  --sklearn-color-text-muted: #666;\n",
       "  --sklearn-color-line: gray;\n",
       "  /* Definition of color scheme for unfitted estimators */\n",
       "  --sklearn-color-unfitted-level-0: #fff5e6;\n",
       "  --sklearn-color-unfitted-level-1: #f6e4d2;\n",
       "  --sklearn-color-unfitted-level-2: #ffe0b3;\n",
       "  --sklearn-color-unfitted-level-3: chocolate;\n",
       "  /* Definition of color scheme for fitted estimators */\n",
       "  --sklearn-color-fitted-level-0: #f0f8ff;\n",
       "  --sklearn-color-fitted-level-1: #d4ebff;\n",
       "  --sklearn-color-fitted-level-2: #b3dbfd;\n",
       "  --sklearn-color-fitted-level-3: cornflowerblue;\n",
       "\n",
       "  /* Specific color for light theme */\n",
       "  --sklearn-color-text-on-default-background: var(--sg-text-color, var(--theme-code-foreground, var(--jp-content-font-color1, black)));\n",
       "  --sklearn-color-background: var(--sg-background-color, var(--theme-background, var(--jp-layout-color0, white)));\n",
       "  --sklearn-color-border-box: var(--sg-text-color, var(--theme-code-foreground, var(--jp-content-font-color1, black)));\n",
       "  --sklearn-color-icon: #696969;\n",
       "\n",
       "  @media (prefers-color-scheme: dark) {\n",
       "    /* Redefinition of color scheme for dark theme */\n",
       "    --sklearn-color-text-on-default-background: var(--sg-text-color, var(--theme-code-foreground, var(--jp-content-font-color1, white)));\n",
       "    --sklearn-color-background: var(--sg-background-color, var(--theme-background, var(--jp-layout-color0, #111)));\n",
       "    --sklearn-color-border-box: var(--sg-text-color, var(--theme-code-foreground, var(--jp-content-font-color1, white)));\n",
       "    --sklearn-color-icon: #878787;\n",
       "  }\n",
       "}\n",
       "\n",
       "#sk-container-id-2 {\n",
       "  color: var(--sklearn-color-text);\n",
       "}\n",
       "\n",
       "#sk-container-id-2 pre {\n",
       "  padding: 0;\n",
       "}\n",
       "\n",
       "#sk-container-id-2 input.sk-hidden--visually {\n",
       "  border: 0;\n",
       "  clip: rect(1px 1px 1px 1px);\n",
       "  clip: rect(1px, 1px, 1px, 1px);\n",
       "  height: 1px;\n",
       "  margin: -1px;\n",
       "  overflow: hidden;\n",
       "  padding: 0;\n",
       "  position: absolute;\n",
       "  width: 1px;\n",
       "}\n",
       "\n",
       "#sk-container-id-2 div.sk-dashed-wrapped {\n",
       "  border: 1px dashed var(--sklearn-color-line);\n",
       "  margin: 0 0.4em 0.5em 0.4em;\n",
       "  box-sizing: border-box;\n",
       "  padding-bottom: 0.4em;\n",
       "  background-color: var(--sklearn-color-background);\n",
       "}\n",
       "\n",
       "#sk-container-id-2 div.sk-container {\n",
       "  /* jupyter's `normalize.less` sets `[hidden] { display: none; }`\n",
       "     but bootstrap.min.css set `[hidden] { display: none !important; }`\n",
       "     so we also need the `!important` here to be able to override the\n",
       "     default hidden behavior on the sphinx rendered scikit-learn.org.\n",
       "     See: https://github.com/scikit-learn/scikit-learn/issues/21755 */\n",
       "  display: inline-block !important;\n",
       "  position: relative;\n",
       "}\n",
       "\n",
       "#sk-container-id-2 div.sk-text-repr-fallback {\n",
       "  display: none;\n",
       "}\n",
       "\n",
       "div.sk-parallel-item,\n",
       "div.sk-serial,\n",
       "div.sk-item {\n",
       "  /* draw centered vertical line to link estimators */\n",
       "  background-image: linear-gradient(var(--sklearn-color-text-on-default-background), var(--sklearn-color-text-on-default-background));\n",
       "  background-size: 2px 100%;\n",
       "  background-repeat: no-repeat;\n",
       "  background-position: center center;\n",
       "}\n",
       "\n",
       "/* Parallel-specific style estimator block */\n",
       "\n",
       "#sk-container-id-2 div.sk-parallel-item::after {\n",
       "  content: \"\";\n",
       "  width: 100%;\n",
       "  border-bottom: 2px solid var(--sklearn-color-text-on-default-background);\n",
       "  flex-grow: 1;\n",
       "}\n",
       "\n",
       "#sk-container-id-2 div.sk-parallel {\n",
       "  display: flex;\n",
       "  align-items: stretch;\n",
       "  justify-content: center;\n",
       "  background-color: var(--sklearn-color-background);\n",
       "  position: relative;\n",
       "}\n",
       "\n",
       "#sk-container-id-2 div.sk-parallel-item {\n",
       "  display: flex;\n",
       "  flex-direction: column;\n",
       "}\n",
       "\n",
       "#sk-container-id-2 div.sk-parallel-item:first-child::after {\n",
       "  align-self: flex-end;\n",
       "  width: 50%;\n",
       "}\n",
       "\n",
       "#sk-container-id-2 div.sk-parallel-item:last-child::after {\n",
       "  align-self: flex-start;\n",
       "  width: 50%;\n",
       "}\n",
       "\n",
       "#sk-container-id-2 div.sk-parallel-item:only-child::after {\n",
       "  width: 0;\n",
       "}\n",
       "\n",
       "/* Serial-specific style estimator block */\n",
       "\n",
       "#sk-container-id-2 div.sk-serial {\n",
       "  display: flex;\n",
       "  flex-direction: column;\n",
       "  align-items: center;\n",
       "  background-color: var(--sklearn-color-background);\n",
       "  padding-right: 1em;\n",
       "  padding-left: 1em;\n",
       "}\n",
       "\n",
       "\n",
       "/* Toggleable style: style used for estimator/Pipeline/ColumnTransformer box that is\n",
       "clickable and can be expanded/collapsed.\n",
       "- Pipeline and ColumnTransformer use this feature and define the default style\n",
       "- Estimators will overwrite some part of the style using the `sk-estimator` class\n",
       "*/\n",
       "\n",
       "/* Pipeline and ColumnTransformer style (default) */\n",
       "\n",
       "#sk-container-id-2 div.sk-toggleable {\n",
       "  /* Default theme specific background. It is overwritten whether we have a\n",
       "  specific estimator or a Pipeline/ColumnTransformer */\n",
       "  background-color: var(--sklearn-color-background);\n",
       "}\n",
       "\n",
       "/* Toggleable label */\n",
       "#sk-container-id-2 label.sk-toggleable__label {\n",
       "  cursor: pointer;\n",
       "  display: flex;\n",
       "  width: 100%;\n",
       "  margin-bottom: 0;\n",
       "  padding: 0.5em;\n",
       "  box-sizing: border-box;\n",
       "  text-align: center;\n",
       "  align-items: start;\n",
       "  justify-content: space-between;\n",
       "  gap: 0.5em;\n",
       "}\n",
       "\n",
       "#sk-container-id-2 label.sk-toggleable__label .caption {\n",
       "  font-size: 0.6rem;\n",
       "  font-weight: lighter;\n",
       "  color: var(--sklearn-color-text-muted);\n",
       "}\n",
       "\n",
       "#sk-container-id-2 label.sk-toggleable__label-arrow:before {\n",
       "  /* Arrow on the left of the label */\n",
       "  content: \"▸\";\n",
       "  float: left;\n",
       "  margin-right: 0.25em;\n",
       "  color: var(--sklearn-color-icon);\n",
       "}\n",
       "\n",
       "#sk-container-id-2 label.sk-toggleable__label-arrow:hover:before {\n",
       "  color: var(--sklearn-color-text);\n",
       "}\n",
       "\n",
       "/* Toggleable content - dropdown */\n",
       "\n",
       "#sk-container-id-2 div.sk-toggleable__content {\n",
       "  max-height: 0;\n",
       "  max-width: 0;\n",
       "  overflow: hidden;\n",
       "  text-align: left;\n",
       "  /* unfitted */\n",
       "  background-color: var(--sklearn-color-unfitted-level-0);\n",
       "}\n",
       "\n",
       "#sk-container-id-2 div.sk-toggleable__content.fitted {\n",
       "  /* fitted */\n",
       "  background-color: var(--sklearn-color-fitted-level-0);\n",
       "}\n",
       "\n",
       "#sk-container-id-2 div.sk-toggleable__content pre {\n",
       "  margin: 0.2em;\n",
       "  border-radius: 0.25em;\n",
       "  color: var(--sklearn-color-text);\n",
       "  /* unfitted */\n",
       "  background-color: var(--sklearn-color-unfitted-level-0);\n",
       "}\n",
       "\n",
       "#sk-container-id-2 div.sk-toggleable__content.fitted pre {\n",
       "  /* unfitted */\n",
       "  background-color: var(--sklearn-color-fitted-level-0);\n",
       "}\n",
       "\n",
       "#sk-container-id-2 input.sk-toggleable__control:checked~div.sk-toggleable__content {\n",
       "  /* Expand drop-down */\n",
       "  max-height: 200px;\n",
       "  max-width: 100%;\n",
       "  overflow: auto;\n",
       "}\n",
       "\n",
       "#sk-container-id-2 input.sk-toggleable__control:checked~label.sk-toggleable__label-arrow:before {\n",
       "  content: \"▾\";\n",
       "}\n",
       "\n",
       "/* Pipeline/ColumnTransformer-specific style */\n",
       "\n",
       "#sk-container-id-2 div.sk-label input.sk-toggleable__control:checked~label.sk-toggleable__label {\n",
       "  color: var(--sklearn-color-text);\n",
       "  background-color: var(--sklearn-color-unfitted-level-2);\n",
       "}\n",
       "\n",
       "#sk-container-id-2 div.sk-label.fitted input.sk-toggleable__control:checked~label.sk-toggleable__label {\n",
       "  background-color: var(--sklearn-color-fitted-level-2);\n",
       "}\n",
       "\n",
       "/* Estimator-specific style */\n",
       "\n",
       "/* Colorize estimator box */\n",
       "#sk-container-id-2 div.sk-estimator input.sk-toggleable__control:checked~label.sk-toggleable__label {\n",
       "  /* unfitted */\n",
       "  background-color: var(--sklearn-color-unfitted-level-2);\n",
       "}\n",
       "\n",
       "#sk-container-id-2 div.sk-estimator.fitted input.sk-toggleable__control:checked~label.sk-toggleable__label {\n",
       "  /* fitted */\n",
       "  background-color: var(--sklearn-color-fitted-level-2);\n",
       "}\n",
       "\n",
       "#sk-container-id-2 div.sk-label label.sk-toggleable__label,\n",
       "#sk-container-id-2 div.sk-label label {\n",
       "  /* The background is the default theme color */\n",
       "  color: var(--sklearn-color-text-on-default-background);\n",
       "}\n",
       "\n",
       "/* On hover, darken the color of the background */\n",
       "#sk-container-id-2 div.sk-label:hover label.sk-toggleable__label {\n",
       "  color: var(--sklearn-color-text);\n",
       "  background-color: var(--sklearn-color-unfitted-level-2);\n",
       "}\n",
       "\n",
       "/* Label box, darken color on hover, fitted */\n",
       "#sk-container-id-2 div.sk-label.fitted:hover label.sk-toggleable__label.fitted {\n",
       "  color: var(--sklearn-color-text);\n",
       "  background-color: var(--sklearn-color-fitted-level-2);\n",
       "}\n",
       "\n",
       "/* Estimator label */\n",
       "\n",
       "#sk-container-id-2 div.sk-label label {\n",
       "  font-family: monospace;\n",
       "  font-weight: bold;\n",
       "  display: inline-block;\n",
       "  line-height: 1.2em;\n",
       "}\n",
       "\n",
       "#sk-container-id-2 div.sk-label-container {\n",
       "  text-align: center;\n",
       "}\n",
       "\n",
       "/* Estimator-specific */\n",
       "#sk-container-id-2 div.sk-estimator {\n",
       "  font-family: monospace;\n",
       "  border: 1px dotted var(--sklearn-color-border-box);\n",
       "  border-radius: 0.25em;\n",
       "  box-sizing: border-box;\n",
       "  margin-bottom: 0.5em;\n",
       "  /* unfitted */\n",
       "  background-color: var(--sklearn-color-unfitted-level-0);\n",
       "}\n",
       "\n",
       "#sk-container-id-2 div.sk-estimator.fitted {\n",
       "  /* fitted */\n",
       "  background-color: var(--sklearn-color-fitted-level-0);\n",
       "}\n",
       "\n",
       "/* on hover */\n",
       "#sk-container-id-2 div.sk-estimator:hover {\n",
       "  /* unfitted */\n",
       "  background-color: var(--sklearn-color-unfitted-level-2);\n",
       "}\n",
       "\n",
       "#sk-container-id-2 div.sk-estimator.fitted:hover {\n",
       "  /* fitted */\n",
       "  background-color: var(--sklearn-color-fitted-level-2);\n",
       "}\n",
       "\n",
       "/* Specification for estimator info (e.g. \"i\" and \"?\") */\n",
       "\n",
       "/* Common style for \"i\" and \"?\" */\n",
       "\n",
       ".sk-estimator-doc-link,\n",
       "a:link.sk-estimator-doc-link,\n",
       "a:visited.sk-estimator-doc-link {\n",
       "  float: right;\n",
       "  font-size: smaller;\n",
       "  line-height: 1em;\n",
       "  font-family: monospace;\n",
       "  background-color: var(--sklearn-color-background);\n",
       "  border-radius: 1em;\n",
       "  height: 1em;\n",
       "  width: 1em;\n",
       "  text-decoration: none !important;\n",
       "  margin-left: 0.5em;\n",
       "  text-align: center;\n",
       "  /* unfitted */\n",
       "  border: var(--sklearn-color-unfitted-level-1) 1pt solid;\n",
       "  color: var(--sklearn-color-unfitted-level-1);\n",
       "}\n",
       "\n",
       ".sk-estimator-doc-link.fitted,\n",
       "a:link.sk-estimator-doc-link.fitted,\n",
       "a:visited.sk-estimator-doc-link.fitted {\n",
       "  /* fitted */\n",
       "  border: var(--sklearn-color-fitted-level-1) 1pt solid;\n",
       "  color: var(--sklearn-color-fitted-level-1);\n",
       "}\n",
       "\n",
       "/* On hover */\n",
       "div.sk-estimator:hover .sk-estimator-doc-link:hover,\n",
       ".sk-estimator-doc-link:hover,\n",
       "div.sk-label-container:hover .sk-estimator-doc-link:hover,\n",
       ".sk-estimator-doc-link:hover {\n",
       "  /* unfitted */\n",
       "  background-color: var(--sklearn-color-unfitted-level-3);\n",
       "  color: var(--sklearn-color-background);\n",
       "  text-decoration: none;\n",
       "}\n",
       "\n",
       "div.sk-estimator.fitted:hover .sk-estimator-doc-link.fitted:hover,\n",
       ".sk-estimator-doc-link.fitted:hover,\n",
       "div.sk-label-container:hover .sk-estimator-doc-link.fitted:hover,\n",
       ".sk-estimator-doc-link.fitted:hover {\n",
       "  /* fitted */\n",
       "  background-color: var(--sklearn-color-fitted-level-3);\n",
       "  color: var(--sklearn-color-background);\n",
       "  text-decoration: none;\n",
       "}\n",
       "\n",
       "/* Span, style for the box shown on hovering the info icon */\n",
       ".sk-estimator-doc-link span {\n",
       "  display: none;\n",
       "  z-index: 9999;\n",
       "  position: relative;\n",
       "  font-weight: normal;\n",
       "  right: .2ex;\n",
       "  padding: .5ex;\n",
       "  margin: .5ex;\n",
       "  width: min-content;\n",
       "  min-width: 20ex;\n",
       "  max-width: 50ex;\n",
       "  color: var(--sklearn-color-text);\n",
       "  box-shadow: 2pt 2pt 4pt #999;\n",
       "  /* unfitted */\n",
       "  background: var(--sklearn-color-unfitted-level-0);\n",
       "  border: .5pt solid var(--sklearn-color-unfitted-level-3);\n",
       "}\n",
       "\n",
       ".sk-estimator-doc-link.fitted span {\n",
       "  /* fitted */\n",
       "  background: var(--sklearn-color-fitted-level-0);\n",
       "  border: var(--sklearn-color-fitted-level-3);\n",
       "}\n",
       "\n",
       ".sk-estimator-doc-link:hover span {\n",
       "  display: block;\n",
       "}\n",
       "\n",
       "/* \"?\"-specific style due to the `<a>` HTML tag */\n",
       "\n",
       "#sk-container-id-2 a.estimator_doc_link {\n",
       "  float: right;\n",
       "  font-size: 1rem;\n",
       "  line-height: 1em;\n",
       "  font-family: monospace;\n",
       "  background-color: var(--sklearn-color-background);\n",
       "  border-radius: 1rem;\n",
       "  height: 1rem;\n",
       "  width: 1rem;\n",
       "  text-decoration: none;\n",
       "  /* unfitted */\n",
       "  color: var(--sklearn-color-unfitted-level-1);\n",
       "  border: var(--sklearn-color-unfitted-level-1) 1pt solid;\n",
       "}\n",
       "\n",
       "#sk-container-id-2 a.estimator_doc_link.fitted {\n",
       "  /* fitted */\n",
       "  border: var(--sklearn-color-fitted-level-1) 1pt solid;\n",
       "  color: var(--sklearn-color-fitted-level-1);\n",
       "}\n",
       "\n",
       "/* On hover */\n",
       "#sk-container-id-2 a.estimator_doc_link:hover {\n",
       "  /* unfitted */\n",
       "  background-color: var(--sklearn-color-unfitted-level-3);\n",
       "  color: var(--sklearn-color-background);\n",
       "  text-decoration: none;\n",
       "}\n",
       "\n",
       "#sk-container-id-2 a.estimator_doc_link.fitted:hover {\n",
       "  /* fitted */\n",
       "  background-color: var(--sklearn-color-fitted-level-3);\n",
       "}\n",
       "</style><div id=\"sk-container-id-2\" class=\"sk-top-container\"><div class=\"sk-text-repr-fallback\"><pre>LogisticRegression(max_iter=1000, random_state=42, solver=&#x27;liblinear&#x27;)</pre><b>In a Jupyter environment, please rerun this cell to show the HTML representation or trust the notebook. <br />On GitHub, the HTML representation is unable to render, please try loading this page with nbviewer.org.</b></div><div class=\"sk-container\" hidden><div class=\"sk-item\"><div class=\"sk-estimator fitted sk-toggleable\"><input class=\"sk-toggleable__control sk-hidden--visually\" id=\"sk-estimator-id-2\" type=\"checkbox\" checked><label for=\"sk-estimator-id-2\" class=\"sk-toggleable__label fitted sk-toggleable__label-arrow\"><div><div>LogisticRegression</div></div><div><a class=\"sk-estimator-doc-link fitted\" rel=\"noreferrer\" target=\"_blank\" href=\"https://scikit-learn.org/1.6/modules/generated/sklearn.linear_model.LogisticRegression.html\">?<span>Documentation for LogisticRegression</span></a><span class=\"sk-estimator-doc-link fitted\">i<span>Fitted</span></span></div></label><div class=\"sk-toggleable__content fitted\"><pre>LogisticRegression(max_iter=1000, random_state=42, solver=&#x27;liblinear&#x27;)</pre></div> </div></div></div></div>"
      ],
      "text/plain": [
       "LogisticRegression(max_iter=1000, random_state=42, solver='liblinear')"
      ]
     },
     "execution_count": 51,
     "metadata": {},
     "output_type": "execute_result"
    }
   ],
   "source": [
    "model = LogisticRegression(solver='liblinear', C=1.0, max_iter=1000, random_state=42)\n",
    "model.fit(X_train_full, y_train_full)"
   ]
  },
  {
   "cell_type": "code",
   "execution_count": 52,
   "id": "4005b306-7b5a-49a2-8d38-b23a5f06580e",
   "metadata": {
    "execution": {
     "iopub.execute_input": "2025-10-13T18:40:10.524450Z",
     "iopub.status.busy": "2025-10-13T18:40:10.523797Z",
     "iopub.status.idle": "2025-10-13T18:40:10.537817Z",
     "shell.execute_reply": "2025-10-13T18:40:10.534108Z",
     "shell.execute_reply.started": "2025-10-13T18:40:10.524415Z"
    }
   },
   "outputs": [
    {
     "data": {
      "text/plain": [
       "-0.07445362854435192"
      ]
     },
     "execution_count": 52,
     "metadata": {},
     "output_type": "execute_result"
    }
   ],
   "source": [
    "model.intercept_[0]"
   ]
  },
  {
   "cell_type": "code",
   "execution_count": 53,
   "id": "78b11726-0b33-4c6f-87ad-f273756599c4",
   "metadata": {
    "execution": {
     "iopub.execute_input": "2025-10-13T18:40:10.540686Z",
     "iopub.status.busy": "2025-10-13T18:40:10.540181Z",
     "iopub.status.idle": "2025-10-13T18:40:10.559374Z",
     "shell.execute_reply": "2025-10-13T18:40:10.556572Z",
     "shell.execute_reply.started": "2025-10-13T18:40:10.540582Z"
    }
   },
   "outputs": [
    {
     "data": {
      "text/plain": [
       "array([-0.   , -0.009,  0.029,  0.002,  0.008, -0.105, -0.023,  0.049,\n",
       "       -0.025, -0.017, -0.005, -0.01 , -0.025, -0.019,  0.306,  0.047,\n",
       "        0.007, -0.017, -0.015, -0.096,  0.069, -0.022,  0.004, -0.013,\n",
       "       -0.016, -0.009, -0.001,  0.   , -0.021, -0.019,  0.45 ])"
      ]
     },
     "execution_count": 53,
     "metadata": {},
     "output_type": "execute_result"
    }
   ],
   "source": [
    "model.coef_[0].round(3)"
   ]
  },
  {
   "cell_type": "code",
   "execution_count": 54,
   "id": "6ccc3f0c-db66-479d-b0d7-81f842913eea",
   "metadata": {
    "execution": {
     "iopub.execute_input": "2025-10-13T18:40:10.563177Z",
     "iopub.status.busy": "2025-10-13T18:40:10.561648Z",
     "iopub.status.idle": "2025-10-13T18:40:10.590544Z",
     "shell.execute_reply": "2025-10-13T18:40:10.588139Z",
     "shell.execute_reply.started": "2025-10-13T18:40:10.563139Z"
    }
   },
   "outputs": [],
   "source": [
    "dicts_test = df_test[categorical + numerical].to_dict(orient='records')"
   ]
  },
  {
   "cell_type": "code",
   "execution_count": 55,
   "id": "508f7426-6b69-4c45-b5f1-ba4e54f9b61e",
   "metadata": {
    "execution": {
     "iopub.execute_input": "2025-10-13T18:40:10.595100Z",
     "iopub.status.busy": "2025-10-13T18:40:10.593866Z",
     "iopub.status.idle": "2025-10-13T18:40:10.609026Z",
     "shell.execute_reply": "2025-10-13T18:40:10.605023Z",
     "shell.execute_reply.started": "2025-10-13T18:40:10.595061Z"
    }
   },
   "outputs": [],
   "source": [
    "X_test = dv.transform(dicts_test)"
   ]
  },
  {
   "cell_type": "code",
   "execution_count": 56,
   "id": "6a3027fa-7557-4220-b515-b2b3a69ec0df",
   "metadata": {
    "execution": {
     "iopub.execute_input": "2025-10-13T18:40:10.613557Z",
     "iopub.status.busy": "2025-10-13T18:40:10.612672Z",
     "iopub.status.idle": "2025-10-13T18:40:10.631574Z",
     "shell.execute_reply": "2025-10-13T18:40:10.630311Z",
     "shell.execute_reply.started": "2025-10-13T18:40:10.613521Z"
    }
   },
   "outputs": [],
   "source": [
    "y_pred = model.predict_proba(X_train)[:, 1]"
   ]
  },
  {
   "cell_type": "code",
   "execution_count": 57,
   "id": "1c09eb30-46e8-4ed6-801f-d2a9850889aa",
   "metadata": {
    "execution": {
     "iopub.execute_input": "2025-10-13T18:40:10.635078Z",
     "iopub.status.busy": "2025-10-13T18:40:10.634011Z",
     "iopub.status.idle": "2025-10-13T18:40:10.650806Z",
     "shell.execute_reply": "2025-10-13T18:40:10.648777Z",
     "shell.execute_reply.started": "2025-10-13T18:40:10.635041Z"
    }
   },
   "outputs": [
    {
     "data": {
      "text/plain": [
       "array([ True,  True,  True, False,  True,  True,  True,  True, False,\n",
       "        True, False,  True, False, False,  True,  True,  True,  True,\n",
       "        True, False,  True,  True,  True, False, False, False,  True,\n",
       "        True,  True,  True, False,  True, False,  True,  True,  True,\n",
       "        True,  True, False,  True,  True,  True,  True,  True,  True,\n",
       "        True,  True,  True, False,  True, False,  True,  True,  True,\n",
       "        True,  True,  True, False,  True,  True,  True,  True, False,\n",
       "        True, False,  True,  True,  True,  True,  True,  True, False,\n",
       "        True,  True,  True, False,  True,  True,  True, False,  True,\n",
       "        True, False, False, False,  True, False,  True,  True, False,\n",
       "        True,  True, False,  True, False, False, False,  True,  True,\n",
       "       False, False,  True,  True,  True,  True, False,  True,  True,\n",
       "        True,  True,  True,  True,  True,  True,  True,  True,  True,\n",
       "        True,  True,  True,  True,  True,  True, False,  True,  True,\n",
       "       False,  True,  True, False,  True,  True, False,  True,  True,\n",
       "        True,  True,  True,  True,  True,  True,  True,  True,  True,\n",
       "        True,  True,  True,  True,  True,  True, False,  True,  True,\n",
       "       False,  True,  True, False, False,  True,  True, False, False,\n",
       "        True, False,  True,  True,  True, False,  True,  True,  True,\n",
       "        True, False,  True,  True, False,  True,  True,  True,  True,\n",
       "        True,  True,  True,  True, False,  True,  True,  True,  True,\n",
       "        True,  True,  True,  True,  True, False, False, False,  True,\n",
       "        True,  True,  True,  True,  True, False,  True,  True, False,\n",
       "        True,  True,  True,  True,  True,  True,  True, False,  True,\n",
       "       False,  True,  True,  True, False,  True,  True,  True, False,\n",
       "        True, False, False,  True,  True,  True,  True, False,  True,\n",
       "       False,  True,  True,  True, False,  True,  True,  True,  True,\n",
       "        True, False, False, False,  True, False,  True,  True,  True,\n",
       "        True,  True,  True,  True, False,  True,  True,  True,  True,\n",
       "       False,  True,  True, False,  True,  True,  True,  True,  True,\n",
       "        True,  True,  True,  True,  True, False,  True,  True,  True,\n",
       "        True,  True, False,  True, False, False,  True,  True,  True,\n",
       "        True,  True,  True,  True,  True,  True,  True,  True, False,\n",
       "        True,  True,  True,  True,  True,  True,  True,  True,  True,\n",
       "       False,  True,  True,  True,  True,  True,  True,  True,  True,\n",
       "        True,  True,  True, False,  True,  True,  True,  True,  True,\n",
       "        True,  True,  True, False,  True,  True, False,  True,  True,\n",
       "        True,  True,  True,  True,  True,  True, False, False, False,\n",
       "       False,  True, False, False,  True,  True,  True,  True,  True,\n",
       "        True,  True,  True, False, False,  True,  True,  True, False,\n",
       "       False,  True,  True,  True, False,  True, False,  True,  True,\n",
       "       False,  True, False,  True,  True,  True,  True,  True,  True,\n",
       "        True, False,  True,  True,  True,  True, False, False,  True,\n",
       "        True,  True,  True,  True,  True, False,  True, False,  True,\n",
       "        True, False, False, False,  True, False,  True,  True,  True,\n",
       "       False,  True, False,  True, False,  True,  True,  True,  True,\n",
       "       False,  True,  True,  True,  True,  True,  True,  True,  True,\n",
       "        True,  True,  True,  True, False,  True, False,  True,  True,\n",
       "       False,  True,  True,  True,  True,  True,  True,  True,  True,\n",
       "        True, False,  True,  True,  True,  True,  True,  True,  True,\n",
       "        True,  True, False,  True,  True,  True, False, False,  True,\n",
       "       False,  True,  True,  True,  True,  True, False,  True,  True,\n",
       "       False,  True,  True,  True,  True,  True,  True,  True,  True,\n",
       "        True,  True, False,  True, False,  True,  True,  True,  True,\n",
       "        True,  True,  True,  True,  True,  True,  True, False,  True,\n",
       "        True,  True, False, False,  True,  True,  True,  True,  True,\n",
       "       False, False,  True,  True,  True,  True,  True,  True,  True,\n",
       "        True, False,  True, False,  True,  True,  True, False,  True,\n",
       "        True,  True,  True, False,  True,  True,  True,  True,  True,\n",
       "        True,  True,  True,  True,  True, False,  True, False,  True,\n",
       "        True,  True, False,  True,  True,  True,  True,  True,  True,\n",
       "        True,  True,  True,  True,  True,  True,  True,  True,  True,\n",
       "        True,  True, False,  True,  True,  True,  True,  True, False,\n",
       "        True,  True, False, False, False,  True,  True,  True,  True,\n",
       "        True,  True,  True,  True,  True,  True, False,  True,  True,\n",
       "        True,  True, False,  True, False, False,  True,  True,  True,\n",
       "        True,  True, False,  True,  True,  True,  True,  True,  True,\n",
       "        True,  True,  True,  True,  True,  True, False,  True,  True,\n",
       "        True,  True,  True,  True,  True,  True,  True,  True,  True,\n",
       "       False,  True,  True,  True,  True,  True,  True,  True,  True,\n",
       "        True,  True,  True, False,  True,  True, False,  True,  True,\n",
       "        True,  True,  True,  True,  True,  True, False,  True,  True,\n",
       "        True,  True,  True,  True,  True,  True, False,  True,  True,\n",
       "        True, False, False,  True,  True,  True,  True,  True,  True,\n",
       "       False,  True,  True,  True,  True, False,  True,  True, False,\n",
       "        True, False,  True,  True,  True, False,  True, False,  True,\n",
       "        True,  True,  True,  True, False, False,  True,  True,  True,\n",
       "       False, False,  True,  True,  True,  True,  True, False,  True,\n",
       "       False, False,  True,  True,  True,  True,  True,  True, False,\n",
       "        True,  True, False,  True,  True, False,  True,  True,  True,\n",
       "        True,  True,  True,  True, False,  True,  True,  True,  True,\n",
       "        True,  True,  True,  True,  True,  True,  True,  True,  True,\n",
       "        True,  True, False,  True,  True, False,  True,  True,  True,\n",
       "        True,  True,  True, False,  True, False,  True, False, False,\n",
       "        True,  True,  True,  True,  True, False, False,  True,  True,\n",
       "        True,  True,  True,  True,  True,  True,  True,  True,  True,\n",
       "        True,  True,  True,  True,  True,  True,  True,  True,  True,\n",
       "        True,  True,  True, False, False,  True,  True, False, False,\n",
       "        True,  True, False,  True,  True,  True,  True,  True,  True,\n",
       "        True,  True,  True,  True,  True,  True,  True,  True,  True,\n",
       "        True,  True,  True,  True,  True,  True,  True,  True,  True,\n",
       "        True, False, False,  True,  True,  True,  True,  True,  True,\n",
       "       False, False,  True, False,  True,  True, False,  True,  True,\n",
       "        True,  True,  True,  True,  True,  True,  True,  True,  True,\n",
       "        True,  True,  True,  True,  True, False,  True,  True, False,\n",
       "        True,  True, False,  True,  True,  True,  True,  True,  True,\n",
       "       False,  True,  True,  True,  True,  True,  True,  True,  True,\n",
       "        True,  True,  True])"
      ]
     },
     "execution_count": 57,
     "metadata": {},
     "output_type": "execute_result"
    }
   ],
   "source": [
    "converted_decision = (y_pred >= 0.5)\n",
    "converted_decision"
   ]
  },
  {
   "cell_type": "code",
   "execution_count": 58,
   "id": "5d86fb00-3a26-47a2-b6ae-93ad0adccb81",
   "metadata": {
    "execution": {
     "iopub.execute_input": "2025-10-13T18:40:10.654544Z",
     "iopub.status.busy": "2025-10-13T18:40:10.653814Z",
     "iopub.status.idle": "2025-10-13T18:40:10.662130Z",
     "shell.execute_reply": "2025-10-13T18:40:10.659045Z",
     "shell.execute_reply.started": "2025-10-13T18:40:10.654505Z"
    }
   },
   "outputs": [],
   "source": [
    "#(y_val == converted_decision).mean()"
   ]
  },
  {
   "cell_type": "code",
   "execution_count": 59,
   "id": "bdf692f5-4066-49dc-aa84-f1f893d23f9e",
   "metadata": {
    "execution": {
     "iopub.execute_input": "2025-10-13T18:40:10.664971Z",
     "iopub.status.busy": "2025-10-13T18:40:10.664510Z",
     "iopub.status.idle": "2025-10-13T18:40:10.671521Z",
     "shell.execute_reply": "2025-10-13T18:40:10.669568Z",
     "shell.execute_reply.started": "2025-10-13T18:40:10.664937Z"
    }
   },
   "outputs": [],
   "source": [
    "y_pred = model.predict(X_val)"
   ]
  },
  {
   "cell_type": "code",
   "execution_count": 60,
   "id": "f769c48c-7b1d-4306-bd89-d9b4a1abf53c",
   "metadata": {
    "execution": {
     "iopub.execute_input": "2025-10-13T18:40:10.676966Z",
     "iopub.status.busy": "2025-10-13T18:40:10.675833Z",
     "iopub.status.idle": "2025-10-13T18:40:10.690206Z",
     "shell.execute_reply": "2025-10-13T18:40:10.688094Z",
     "shell.execute_reply.started": "2025-10-13T18:40:10.676929Z"
    }
   },
   "outputs": [
    {
     "data": {
      "text/plain": [
       "0.7167235494880546"
      ]
     },
     "execution_count": 60,
     "metadata": {},
     "output_type": "execute_result"
    }
   ],
   "source": [
    "accuracy_score(y_val, y_pred)"
   ]
  },
  {
   "cell_type": "code",
   "execution_count": 61,
   "id": "8c2a9103-53c2-404f-b60d-0a781b076a11",
   "metadata": {
    "execution": {
     "iopub.execute_input": "2025-10-13T18:40:10.693824Z",
     "iopub.status.busy": "2025-10-13T18:40:10.693151Z",
     "iopub.status.idle": "2025-10-13T18:40:10.701910Z",
     "shell.execute_reply": "2025-10-13T18:40:10.698912Z",
     "shell.execute_reply.started": "2025-10-13T18:40:10.693799Z"
    }
   },
   "outputs": [],
   "source": [
    "ac = accuracy_score(y_val, y_pred)"
   ]
  },
  {
   "cell_type": "code",
   "execution_count": 62,
   "id": "3110881f-cf90-45df-909d-69271a9f8a50",
   "metadata": {
    "execution": {
     "iopub.execute_input": "2025-10-13T18:40:10.706780Z",
     "iopub.status.busy": "2025-10-13T18:40:10.705926Z",
     "iopub.status.idle": "2025-10-13T18:40:10.725335Z",
     "shell.execute_reply": "2025-10-13T18:40:10.721575Z",
     "shell.execute_reply.started": "2025-10-13T18:40:10.706696Z"
    }
   },
   "outputs": [
    {
     "data": {
      "text/plain": [
       "0.72"
      ]
     },
     "execution_count": 62,
     "metadata": {},
     "output_type": "execute_result"
    }
   ],
   "source": [
    "round(ac,2)"
   ]
  },
  {
   "cell_type": "markdown",
   "id": "ee87ede0",
   "metadata": {},
   "source": [
    "# Question 5\n",
    "\n",
    "- Let's find the least useful feature using the feature elimination technique.\n",
    "- Train a model using the same features and parameters as in Q4 (without rounding).\n",
    "- Now exclude each feature from this set and train a model without it. Record the accuracy for each model.\n",
    "- For each feature, calculate the difference between the original accuracy and the accuracy without the feature.\n",
    "\n",
    "Which of following feature has the smallest difference?\n",
    "\n",
    "- `'industry'`\n",
    "- `'employment_status'`\n",
    "- `'lead_score'`\n",
    "\n",
    "**_NOTE:_** The difference doesn't have to be positive."
   ]
  },
  {
   "cell_type": "markdown",
   "id": "54e47bac-2248-402b-bfdd-a67f174ad7a0",
   "metadata": {},
   "source": [
    "numerical = ['number_of_courses_viewed', 'annual_income', 'interaction_count', 'lead_score']\n",
    "categorical = ['lead_source', 'industry', 'employment_status', 'location']"
   ]
  },
  {
   "cell_type": "code",
   "execution_count": 63,
   "id": "a0ee1af6-b829-41bd-a662-016295d0c498",
   "metadata": {
    "execution": {
     "iopub.execute_input": "2025-10-13T18:40:10.728899Z",
     "iopub.status.busy": "2025-10-13T18:40:10.728124Z",
     "iopub.status.idle": "2025-10-13T18:40:10.750746Z",
     "shell.execute_reply": "2025-10-13T18:40:10.746393Z",
     "shell.execute_reply.started": "2025-10-13T18:40:10.728866Z"
    }
   },
   "outputs": [
    {
     "data": {
      "text/html": [
       "<div>\n",
       "<style scoped>\n",
       "    .dataframe tbody tr th:only-of-type {\n",
       "        vertical-align: middle;\n",
       "    }\n",
       "\n",
       "    .dataframe tbody tr th {\n",
       "        vertical-align: top;\n",
       "    }\n",
       "\n",
       "    .dataframe thead th {\n",
       "        text-align: right;\n",
       "    }\n",
       "</style>\n",
       "<table border=\"1\" class=\"dataframe\">\n",
       "  <thead>\n",
       "    <tr style=\"text-align: right;\">\n",
       "      <th></th>\n",
       "      <th>lead_source</th>\n",
       "      <th>converted</th>\n",
       "    </tr>\n",
       "  </thead>\n",
       "  <tbody>\n",
       "    <tr>\n",
       "      <th>0</th>\n",
       "      <td>paid_ads</td>\n",
       "      <td>1</td>\n",
       "    </tr>\n",
       "    <tr>\n",
       "      <th>1</th>\n",
       "      <td>social_media</td>\n",
       "      <td>0</td>\n",
       "    </tr>\n",
       "    <tr>\n",
       "      <th>2</th>\n",
       "      <td>events</td>\n",
       "      <td>1</td>\n",
       "    </tr>\n",
       "    <tr>\n",
       "      <th>3</th>\n",
       "      <td>paid_ads</td>\n",
       "      <td>0</td>\n",
       "    </tr>\n",
       "    <tr>\n",
       "      <th>4</th>\n",
       "      <td>referral</td>\n",
       "      <td>1</td>\n",
       "    </tr>\n",
       "    <tr>\n",
       "      <th>...</th>\n",
       "      <td>...</td>\n",
       "      <td>...</td>\n",
       "    </tr>\n",
       "    <tr>\n",
       "      <th>1457</th>\n",
       "      <td>referral</td>\n",
       "      <td>1</td>\n",
       "    </tr>\n",
       "    <tr>\n",
       "      <th>1458</th>\n",
       "      <td>referral</td>\n",
       "      <td>1</td>\n",
       "    </tr>\n",
       "    <tr>\n",
       "      <th>1459</th>\n",
       "      <td>paid_ads</td>\n",
       "      <td>1</td>\n",
       "    </tr>\n",
       "    <tr>\n",
       "      <th>1460</th>\n",
       "      <td>referral</td>\n",
       "      <td>1</td>\n",
       "    </tr>\n",
       "    <tr>\n",
       "      <th>1461</th>\n",
       "      <td>organic_search</td>\n",
       "      <td>1</td>\n",
       "    </tr>\n",
       "  </tbody>\n",
       "</table>\n",
       "<p>1462 rows × 2 columns</p>\n",
       "</div>"
      ],
      "text/plain": [
       "         lead_source  converted\n",
       "0           paid_ads          1\n",
       "1       social_media          0\n",
       "2             events          1\n",
       "3           paid_ads          0\n",
       "4           referral          1\n",
       "...              ...        ...\n",
       "1457        referral          1\n",
       "1458        referral          1\n",
       "1459        paid_ads          1\n",
       "1460        referral          1\n",
       "1461  organic_search          1\n",
       "\n",
       "[1462 rows x 2 columns]"
      ]
     },
     "execution_count": 63,
     "metadata": {},
     "output_type": "execute_result"
    }
   ],
   "source": [
    "df[['lead_source', 'converted']]"
   ]
  },
  {
   "cell_type": "code",
   "execution_count": 64,
   "id": "60e2c600-2cb8-4bfc-926b-51dfeb04af01",
   "metadata": {
    "execution": {
     "iopub.execute_input": "2025-10-13T18:40:10.754870Z",
     "iopub.status.busy": "2025-10-13T18:40:10.754000Z",
     "iopub.status.idle": "2025-10-13T18:40:10.766626Z",
     "shell.execute_reply": "2025-10-13T18:40:10.764701Z",
     "shell.execute_reply.started": "2025-10-13T18:40:10.754835Z"
    }
   },
   "outputs": [],
   "source": [
    "#df_train_full, df_test = train_test_split(df.drop(columns=['converted','lead_source']), test_size=0.2, random_state=42)"
   ]
  },
  {
   "cell_type": "code",
   "execution_count": 65,
   "id": "46255648-8e01-4ee5-9177-ec9d327837d2",
   "metadata": {
    "execution": {
     "iopub.execute_input": "2025-10-13T18:40:10.771185Z",
     "iopub.status.busy": "2025-10-13T18:40:10.770555Z",
     "iopub.status.idle": "2025-10-13T18:40:10.788396Z",
     "shell.execute_reply": "2025-10-13T18:40:10.781320Z",
     "shell.execute_reply.started": "2025-10-13T18:40:10.771149Z"
    }
   },
   "outputs": [],
   "source": [
    "X = df[numerical + categorical]\n",
    "y = df['converted']"
   ]
  },
  {
   "cell_type": "code",
   "execution_count": 66,
   "id": "38d5a234-56a9-4a5b-b017-3675cc49958f",
   "metadata": {
    "execution": {
     "iopub.execute_input": "2025-10-13T18:40:10.958580Z",
     "iopub.status.busy": "2025-10-13T18:40:10.957423Z",
     "iopub.status.idle": "2025-10-13T18:40:10.969204Z",
     "shell.execute_reply": "2025-10-13T18:40:10.967657Z",
     "shell.execute_reply.started": "2025-10-13T18:40:10.958542Z"
    }
   },
   "outputs": [],
   "source": [
    "df_train_full, df_test = train_test_split(df, test_size=0.2, random_state=42)"
   ]
  },
  {
   "cell_type": "code",
   "execution_count": 67,
   "id": "2fb36589-37d8-4bd7-818d-abfed9c4255b",
   "metadata": {
    "execution": {
     "iopub.execute_input": "2025-10-13T18:40:10.970908Z",
     "iopub.status.busy": "2025-10-13T18:40:10.970203Z",
     "iopub.status.idle": "2025-10-13T18:40:10.979977Z",
     "shell.execute_reply": "2025-10-13T18:40:10.978790Z",
     "shell.execute_reply.started": "2025-10-13T18:40:10.970874Z"
    }
   },
   "outputs": [],
   "source": [
    "df_train, df_val = train_test_split(df_train_full, test_size=293, random_state=42)"
   ]
  },
  {
   "cell_type": "code",
   "execution_count": 68,
   "id": "1d11a965-d3a7-4f76-b4dc-7b55eaca531b",
   "metadata": {
    "execution": {
     "iopub.execute_input": "2025-10-13T18:40:10.983771Z",
     "iopub.status.busy": "2025-10-13T18:40:10.982807Z",
     "iopub.status.idle": "2025-10-13T18:40:11.002677Z",
     "shell.execute_reply": "2025-10-13T18:40:10.997668Z",
     "shell.execute_reply.started": "2025-10-13T18:40:10.983735Z"
    }
   },
   "outputs": [],
   "source": [
    "dicts_train_full = df_train_full[categorical + numerical].to_dict(orient='records')"
   ]
  },
  {
   "cell_type": "code",
   "execution_count": 69,
   "id": "e98479a1-532c-40fb-ba11-f79ff3460215",
   "metadata": {
    "execution": {
     "iopub.execute_input": "2025-10-13T18:40:11.006011Z",
     "iopub.status.busy": "2025-10-13T18:40:11.005176Z",
     "iopub.status.idle": "2025-10-13T18:40:11.028802Z",
     "shell.execute_reply": "2025-10-13T18:40:11.026265Z",
     "shell.execute_reply.started": "2025-10-13T18:40:11.005975Z"
    }
   },
   "outputs": [],
   "source": [
    "dv = DictVectorizer(sparse=False)\n",
    "X_train_full = dv.fit_transform(dicts_train_full)"
   ]
  },
  {
   "cell_type": "code",
   "execution_count": 70,
   "id": "9364c8d5-1db3-4524-a97f-383c0caacb1a",
   "metadata": {
    "execution": {
     "iopub.execute_input": "2025-10-13T18:40:11.032248Z",
     "iopub.status.busy": "2025-10-13T18:40:11.031874Z",
     "iopub.status.idle": "2025-10-13T18:40:11.040074Z",
     "shell.execute_reply": "2025-10-13T18:40:11.037794Z",
     "shell.execute_reply.started": "2025-10-13T18:40:11.032216Z"
    }
   },
   "outputs": [],
   "source": [
    "y_train_full = df_train_full.converted.values"
   ]
  },
  {
   "cell_type": "code",
   "execution_count": 71,
   "id": "fa881f25-566e-4c44-ad84-1ee78c7fb398",
   "metadata": {
    "execution": {
     "iopub.execute_input": "2025-10-13T18:40:11.041787Z",
     "iopub.status.busy": "2025-10-13T18:40:11.041376Z",
     "iopub.status.idle": "2025-10-13T18:40:11.051229Z",
     "shell.execute_reply": "2025-10-13T18:40:11.050312Z",
     "shell.execute_reply.started": "2025-10-13T18:40:11.041754Z"
    }
   },
   "outputs": [],
   "source": [
    "dicts_test = df_test[categorical + numerical].to_dict(orient='records')"
   ]
  },
  {
   "cell_type": "code",
   "execution_count": 72,
   "id": "8ea2ee8f-f4ab-4a59-9eae-e8e562d5e7e0",
   "metadata": {
    "execution": {
     "iopub.execute_input": "2025-10-13T18:40:11.053927Z",
     "iopub.status.busy": "2025-10-13T18:40:11.052770Z",
     "iopub.status.idle": "2025-10-13T18:40:11.067299Z",
     "shell.execute_reply": "2025-10-13T18:40:11.065380Z",
     "shell.execute_reply.started": "2025-10-13T18:40:11.053839Z"
    }
   },
   "outputs": [],
   "source": [
    "X_test = dv.transform(dicts_test)"
   ]
  },
  {
   "cell_type": "code",
   "execution_count": 73,
   "id": "7a0cc370-444d-4643-8f39-8cb6c8e5688d",
   "metadata": {
    "execution": {
     "iopub.execute_input": "2025-10-13T18:40:11.071423Z",
     "iopub.status.busy": "2025-10-13T18:40:11.068526Z",
     "iopub.status.idle": "2025-10-13T18:40:11.077135Z",
     "shell.execute_reply": "2025-10-13T18:40:11.075590Z",
     "shell.execute_reply.started": "2025-10-13T18:40:11.071394Z"
    }
   },
   "outputs": [],
   "source": [
    "y_pred = model.predict_proba(X_test)[:, 1]"
   ]
  },
  {
   "cell_type": "code",
   "execution_count": 74,
   "id": "e75dfaca-603a-42dd-a703-13acf8b24379",
   "metadata": {
    "execution": {
     "iopub.execute_input": "2025-10-13T18:40:11.079173Z",
     "iopub.status.busy": "2025-10-13T18:40:11.078674Z",
     "iopub.status.idle": "2025-10-13T18:40:11.084200Z",
     "shell.execute_reply": "2025-10-13T18:40:11.083374Z",
     "shell.execute_reply.started": "2025-10-13T18:40:11.079139Z"
    }
   },
   "outputs": [],
   "source": [
    "converted = (y_pred >= 0.5)"
   ]
  },
  {
   "cell_type": "code",
   "execution_count": 75,
   "id": "c7497888-c3ef-472d-bb64-5d81f550b438",
   "metadata": {
    "execution": {
     "iopub.execute_input": "2025-10-13T18:40:11.086779Z",
     "iopub.status.busy": "2025-10-13T18:40:11.086295Z",
     "iopub.status.idle": "2025-10-13T18:40:11.092371Z",
     "shell.execute_reply": "2025-10-13T18:40:11.091729Z",
     "shell.execute_reply.started": "2025-10-13T18:40:11.086755Z"
    }
   },
   "outputs": [
    {
     "data": {
      "text/plain": [
       "0.5597269624573379"
      ]
     },
     "execution_count": 75,
     "metadata": {},
     "output_type": "execute_result"
    }
   ],
   "source": [
    "(y_val == converted).mean()"
   ]
  },
  {
   "cell_type": "code",
   "execution_count": 76,
   "id": "ece55d18-3c1d-47d8-a223-4ea2f086a32b",
   "metadata": {
    "execution": {
     "iopub.execute_input": "2025-10-13T18:40:11.094131Z",
     "iopub.status.busy": "2025-10-13T18:40:11.093316Z",
     "iopub.status.idle": "2025-10-13T18:40:11.104236Z",
     "shell.execute_reply": "2025-10-13T18:40:11.102884Z",
     "shell.execute_reply.started": "2025-10-13T18:40:11.094107Z"
    }
   },
   "outputs": [],
   "source": [
    "df_train_full, df_test = train_test_split(df, test_size=0.2, random_state=42)"
   ]
  },
  {
   "cell_type": "code",
   "execution_count": 77,
   "id": "48ba81b5-ca47-40ed-93fe-ad584393ae26",
   "metadata": {
    "execution": {
     "iopub.execute_input": "2025-10-13T18:40:11.106373Z",
     "iopub.status.busy": "2025-10-13T18:40:11.106007Z",
     "iopub.status.idle": "2025-10-13T18:40:11.112082Z",
     "shell.execute_reply": "2025-10-13T18:40:11.111424Z",
     "shell.execute_reply.started": "2025-10-13T18:40:11.106352Z"
    }
   },
   "outputs": [],
   "source": [
    "df_train, df_val = train_test_split(df_train_full, test_size=293, random_state=42)"
   ]
  },
  {
   "cell_type": "code",
   "execution_count": 78,
   "id": "1809ecc7-9154-469b-8378-69cb45771fa0",
   "metadata": {
    "execution": {
     "iopub.execute_input": "2025-10-13T18:40:11.113947Z",
     "iopub.status.busy": "2025-10-13T18:40:11.113460Z",
     "iopub.status.idle": "2025-10-13T18:40:11.118179Z",
     "shell.execute_reply": "2025-10-13T18:40:11.117594Z",
     "shell.execute_reply.started": "2025-10-13T18:40:11.113926Z"
    }
   },
   "outputs": [],
   "source": [
    "for col in numerical:\n",
    "    df[col] = pd.to_numeric(df[col], errors='coerce')"
   ]
  },
  {
   "cell_type": "code",
   "execution_count": 79,
   "id": "2fd57e13-0584-48b9-a462-ccfdd9b6e4be",
   "metadata": {
    "execution": {
     "iopub.execute_input": "2025-10-13T18:40:11.119752Z",
     "iopub.status.busy": "2025-10-13T18:40:11.119251Z",
     "iopub.status.idle": "2025-10-13T18:40:11.128709Z",
     "shell.execute_reply": "2025-10-13T18:40:11.127709Z",
     "shell.execute_reply.started": "2025-10-13T18:40:11.119730Z"
    }
   },
   "outputs": [
    {
     "name": "stdout",
     "output_type": "stream",
     "text": [
      "Baseline Accuracy (alle Features): 0.556\n"
     ]
    }
   ],
   "source": [
    "model = LogisticRegression(solver='liblinear', C=1.0, max_iter=1000, random_state=42)\n",
    "model.fit(X_train, y_train)\n",
    "y_pred = model.predict(X_test)\n",
    "baseline_acc = accuracy_score(y_val, y_pred)\n",
    "print(f\"Baseline Accuracy (alle Features): {baseline_acc:.3f}\")"
   ]
  },
  {
   "cell_type": "code",
   "execution_count": 80,
   "id": "4ed2876a-6dbb-4a5b-9e1f-d30a3e5f623d",
   "metadata": {
    "execution": {
     "iopub.execute_input": "2025-10-13T18:40:11.130188Z",
     "iopub.status.busy": "2025-10-13T18:40:11.129854Z",
     "iopub.status.idle": "2025-10-13T18:40:11.134280Z",
     "shell.execute_reply": "2025-10-13T18:40:11.133439Z",
     "shell.execute_reply.started": "2025-10-13T18:40:11.130158Z"
    }
   },
   "outputs": [],
   "source": [
    "# --- FEATURE ELIMINATION ---\n",
    "all_features = numerical + categorical\n",
    "feature_results = []"
   ]
  },
  {
   "cell_type": "code",
   "execution_count": 81,
   "id": "f4354890-ec38-46cb-8f19-f86a60bf3c22",
   "metadata": {
    "execution": {
     "iopub.execute_input": "2025-10-13T18:40:11.136016Z",
     "iopub.status.busy": "2025-10-13T18:40:11.135446Z",
     "iopub.status.idle": "2025-10-13T18:40:11.838465Z",
     "shell.execute_reply": "2025-10-13T18:40:11.833429Z",
     "shell.execute_reply.started": "2025-10-13T18:40:11.135986Z"
    }
   },
   "outputs": [
    {
     "ename": "AttributeError",
     "evalue": "'numpy.ndarray' object has no attribute 'drop'",
     "output_type": "error",
     "traceback": [
      "\u001b[0;31m---------------------------------------------------------------------------\u001b[0m",
      "\u001b[0;31mAttributeError\u001b[0m                            Traceback (most recent call last)",
      "Cell \u001b[0;32mIn[81], line 3\u001b[0m\n\u001b[1;32m      1\u001b[0m \u001b[38;5;28;01mfor\u001b[39;00m feature \u001b[38;5;129;01min\u001b[39;00m all_features:\n\u001b[1;32m      2\u001b[0m     \u001b[38;5;66;03m# Rohdaten reduzieren, Spalte entfernen\u001b[39;00m\n\u001b[0;32m----> 3\u001b[0m     X_train_reduced \u001b[38;5;241m=\u001b[39m \u001b[43mX_train\u001b[49m\u001b[38;5;241;43m.\u001b[39;49m\u001b[43mdrop\u001b[49m(columns\u001b[38;5;241m=\u001b[39m[feature])\n\u001b[1;32m      4\u001b[0m     X_test_reduced \u001b[38;5;241m=\u001b[39m X_test\u001b[38;5;241m.\u001b[39mdrop(columns\u001b[38;5;241m=\u001b[39m[feature])\n\u001b[1;32m      6\u001b[0m     \u001b[38;5;66;03m# Angepasster Preprocessor (mit korrekten Spaltenlisten)\u001b[39;00m\n",
      "\u001b[0;31mAttributeError\u001b[0m: 'numpy.ndarray' object has no attribute 'drop'"
     ]
    }
   ],
   "source": [
    "for feature in all_features:\n",
    "    # Rohdaten reduzieren, Spalte entfernen\n",
    "    X_train_reduced = X_train.drop(columns=[feature])\n",
    "    X_test_reduced = X_test.drop(columns=[feature])\n",
    "\n",
    "    # Angepasster Preprocessor (mit korrekten Spaltenlisten)\n",
    "    preprocessor_reduced = ColumnTransformer([\n",
    "        ('num', numeric_pipeline, [c for c in numerical if c != feature]),\n",
    "        ('cat', categorical_pipeline, [c for c in categorical if c != feature])\n",
    "    ])\n",
    "\n",
    "    # Neue Pipeline\n",
    "    model_reduced = Pipeline([\n",
    "        ('preprocessor', preprocessor_reduced),\n",
    "        ('clf', LogisticRegression(max_iter=1000))\n",
    "    ])\n",
    "\n",
    "    # Trainieren und bewerten\n",
    "    model_reduced.fit(X_train_reduced, y_train)\n",
    "    y_pred = model_reduced.predict(X_test_reduced)\n",
    "    acc = accuracy_score(y_test, y_pred)\n",
    "\n",
    "    feature_results.append({\n",
    "        'Feature_removed': feature,\n",
    "        'Accuracy': acc,\n",
    "        'Δ Accuracy': acc - baseline_acc\n",
    "    })\n",
    "\n",
    "results_df = pd.DataFrame(feature_results).sort_values('Accuracy', ascending=False)\n",
    "print(results_df)"
   ]
  },
  {
   "cell_type": "code",
   "execution_count": null,
   "id": "8f287629-ef11-4830-bfc4-64c75e860d8a",
   "metadata": {
    "execution": {
     "iopub.status.busy": "2025-10-13T18:40:11.840229Z",
     "iopub.status.idle": "2025-10-13T18:40:11.846680Z",
     "shell.execute_reply": "2025-10-13T18:40:11.846331Z",
     "shell.execute_reply.started": "2025-10-13T18:40:11.846303Z"
    }
   },
   "outputs": [],
   "source": [
    "# Ergebnisse als ataFrame anzeigen\n",
    "results_df = pd.DataFrame(feature_results).sort_values('Accuracy', ascending=False)\n",
    "print(\"\\n📊 Ergebnisse der Feature-Elimination:\")\n",
    "print(results_df)"
   ]
  },
  {
   "cell_type": "code",
   "execution_count": null,
   "id": "454fa5e2-7acc-484f-b629-e3b5d085db85",
   "metadata": {
    "execution": {
     "iopub.status.busy": "2025-10-13T18:40:11.882839Z",
     "iopub.status.idle": "2025-10-13T18:40:11.883545Z",
     "shell.execute_reply": "2025-10-13T18:40:11.883316Z",
     "shell.execute_reply.started": "2025-10-13T18:40:11.883292Z"
    }
   },
   "outputs": [],
   "source": [
    "# Optional: Differenz zur Baseline anzeigen\n",
    "results_df['Δ Accuracy'] = results_df['Accuracy'] - baseline_score\n",
    "print(\"\\nVergleich zur Baseline:\")\n",
    "print(results_df)"
   ]
  },
  {
   "cell_type": "markdown",
   "id": "c528428c",
   "metadata": {},
   "source": [
    "# Question 6\n",
    "\n",
    "- Now let's train a regularized logistic regression.\n",
    "- Let's try the following values of the parameter `C: [0.01, 0.1, 1, 10, 100]`.\n",
    "- Train models using all the features as in Q4.\n",
    "- Calculate the accuracy on the validation dataset and round it to 3 decimal digits.\n",
    "\n",
    "Which of these `C` leads to the best accuracy on the validation set?\n",
    "\n",
    "- 0.01\n",
    "- 0.1\n",
    "- 1\n",
    "- 10\n",
    "- 100\n",
    "\n",
    "**_NOTE:_** If there are multiple options, select the smallest C."
   ]
  },
  {
   "cell_type": "code",
   "execution_count": null,
   "id": "f3e9ba4d-6e4b-4c50-bac0-2db5f32de649",
   "metadata": {},
   "outputs": [],
   "source": []
  },
  {
   "cell_type": "code",
   "execution_count": null,
   "id": "87dc37c5-1e7d-4ab8-8a97-5d79c2a11e50",
   "metadata": {},
   "outputs": [],
   "source": []
  },
  {
   "cell_type": "markdown",
   "id": "d4dd3643",
   "metadata": {},
   "source": [
    "# Submit the results\n",
    "\n",
    "- Submit your results here: https://courses.datatalks.club/ml-zoomcamp-2025/homework/hw03\n",
    "- If your answer doesn't match options exactly, select the closest one"
   ]
  }
 ],
 "metadata": {
  "kernelspec": {
   "display_name": "Python 3 (ipykernel)",
   "language": "python",
   "name": "python3"
  },
  "language_info": {
   "codemirror_mode": {
    "name": "ipython",
    "version": 3
   },
   "file_extension": ".py",
   "mimetype": "text/x-python",
   "name": "python",
   "nbconvert_exporter": "python",
   "pygments_lexer": "ipython3",
   "version": "3.12.9"
  }
 },
 "nbformat": 4,
 "nbformat_minor": 5
}

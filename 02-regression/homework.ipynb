{
 "cells": [
  {
   "cell_type": "markdown",
   "id": "2c0d3c92-4007-46e6-ac36-4ac6059ea1d4",
   "metadata": {
    "execution": {
     "iopub.execute_input": "2025-09-30T18:01:23.311252Z",
     "iopub.status.busy": "2025-09-30T18:01:23.310833Z",
     "iopub.status.idle": "2025-09-30T18:01:23.331081Z",
     "shell.execute_reply": "2025-09-30T18:01:23.325822Z",
     "shell.execute_reply.started": "2025-09-30T18:01:23.311212Z"
    },
    "id": "2c0d3c92-4007-46e6-ac36-4ac6059ea1d4"
   },
   "source": [
    "predict ?"
   ]
  },
  {
   "cell_type": "markdown",
   "id": "20c7df72-b361-4bb5-9c45-2e2e168abfd5",
   "metadata": {
    "id": "20c7df72-b361-4bb5-9c45-2e2e168abfd5"
   },
   "source": [
    "72\n",
    "auswahl an anweisungen die immer bei einembefehl ausgeführt werden???"
   ]
  },
  {
   "cell_type": "markdown",
   "id": "0269baa6-b5c0-4b46-9dc0-232dd84196e9",
   "metadata": {
    "execution": {
     "iopub.status.busy": "2025-09-30T18:01:23.332162Z",
     "iopub.status.idle": "2025-09-30T18:01:23.336225Z",
     "shell.execute_reply": "2025-09-30T18:01:23.335151Z",
     "shell.execute_reply.started": "2025-09-30T18:01:23.335110Z"
    },
    "id": "0269baa6-b5c0-4b46-9dc0-232dd84196e9"
   },
   "source": [
    "return x"
   ]
  },
  {
   "cell_type": "markdown",
   "id": "383e688c-04d4-47c9-a729-110405fc2143",
   "metadata": {
    "execution": {
     "iopub.status.busy": "2025-09-30T18:01:23.338098Z",
     "iopub.status.idle": "2025-09-30T18:01:23.344306Z",
     "shell.execute_reply": "2025-09-30T18:01:23.338660Z",
     "shell.execute_reply.started": "2025-09-30T18:01:23.338624Z"
    },
    "id": "383e688c-04d4-47c9-a729-110405fc2143"
   },
   "source": [
    "2.12 ND 2,3,4 ??? wie sehen diese Autos aus"
   ]
  },
  {
   "cell_type": "markdown",
   "id": "90a9c3d0-1942-4df1-a23d-4186c34c8055",
   "metadata": {
    "execution": {
     "iopub.status.busy": "2025-09-30T18:01:23.347859Z",
     "iopub.status.idle": "2025-09-30T18:01:23.348831Z",
     "shell.execute_reply": "2025-09-30T18:01:23.348593Z",
     "shell.execute_reply.started": "2025-09-30T18:01:23.348567Z"
    },
    "id": "90a9c3d0-1942-4df1-a23d-4186c34c8055"
   },
   "source": [
    "append?"
   ]
  },
  {
   "cell_type": "markdown",
   "id": "a7b9f0f8-b1b7-4f2d-acdd-ab06c0e81bdb",
   "metadata": {
    "execution": {
     "iopub.status.busy": "2025-09-30T18:01:23.359020Z",
     "iopub.status.idle": "2025-09-30T18:01:23.368494Z",
     "shell.execute_reply": "2025-09-30T18:01:23.367333Z",
     "shell.execute_reply.started": "2025-09-30T18:01:23.367283Z"
    },
    "id": "a7b9f0f8-b1b7-4f2d-acdd-ab06c0e81bdb"
   },
   "source": [
    "12: add a small number to diagonal\n"
   ]
  },
  {
   "cell_type": "markdown",
   "id": "093f9ddd-a056-45e5-81c6-60db9f6cd64d",
   "metadata": {
    "id": "093f9ddd-a056-45e5-81c6-60db9f6cd64d"
   },
   "source": [
    "HOMEWORK"
   ]
  },
  {
   "cell_type": "markdown",
   "id": "1faa172b-5634-472e-89b7-42ddb75ed2dd",
   "metadata": {
    "id": "1faa172b-5634-472e-89b7-42ddb75ed2dd"
   },
   "source": [
    "The goal of this homework is to create a regression model for predicting the car fuel efficiency (column 'fuel_efficiency_mpg')."
   ]
  },
  {
   "cell_type": "code",
   "execution_count": 1,
   "id": "0191b373-0ecd-42b6-8541-22251816e9ee",
   "metadata": {
    "execution": {
     "iopub.execute_input": "2025-10-07T10:07:10.501611Z",
     "iopub.status.busy": "2025-10-07T10:07:10.490264Z",
     "iopub.status.idle": "2025-10-07T10:07:11.676558Z",
     "shell.execute_reply": "2025-10-07T10:07:11.675502Z",
     "shell.execute_reply.started": "2025-10-07T10:07:10.499594Z"
    },
    "id": "0191b373-0ecd-42b6-8541-22251816e9ee"
   },
   "outputs": [],
   "source": [
    "import pandas as pd\n",
    "import numpy as np"
   ]
  },
  {
   "cell_type": "code",
   "execution_count": 2,
   "id": "67c7c2fb-598d-4666-8e4e-81444f2a3b16",
   "metadata": {
    "execution": {
     "iopub.execute_input": "2025-10-07T10:07:11.678391Z",
     "iopub.status.busy": "2025-10-07T10:07:11.677657Z",
     "iopub.status.idle": "2025-10-07T10:07:11.697541Z",
     "shell.execute_reply": "2025-10-07T10:07:11.689355Z",
     "shell.execute_reply.started": "2025-10-07T10:07:11.678343Z"
    },
    "id": "67c7c2fb-598d-4666-8e4e-81444f2a3b16"
   },
   "outputs": [],
   "source": [
    "data = 'https://raw.githubusercontent.com/alexeygrigorev/datasets/master/car_fuel_efficiency.csv'"
   ]
  },
  {
   "cell_type": "code",
   "execution_count": 3,
   "id": "14420db8-9284-41b5-9432-e59a00b7b6b1",
   "metadata": {
    "colab": {
     "base_uri": "https://localhost:8080/"
    },
    "execution": {
     "iopub.execute_input": "2025-10-07T10:07:11.723507Z",
     "iopub.status.busy": "2025-10-07T10:07:11.713255Z",
     "iopub.status.idle": "2025-10-07T10:07:12.143584Z",
     "shell.execute_reply": "2025-10-07T10:07:12.142450Z",
     "shell.execute_reply.started": "2025-10-07T10:07:11.723353Z"
    },
    "id": "14420db8-9284-41b5-9432-e59a00b7b6b1",
    "outputId": "93d7e979-4706-453e-cad4-435a1d0a3363"
   },
   "outputs": [
    {
     "name": "stdout",
     "output_type": "stream",
     "text": [
      "--2025-10-07 12:07:11--  https://raw.githubusercontent.com/alexeygrigorev/datasets/master/car_fuel_efficiency.csv\n",
      "185.199.109.133, 185.199.110.133, 185.199.108.133, ...tent.com)... \n",
      "Connecting to raw.githubusercontent.com (raw.githubusercontent.com)|185.199.109.133|:443... connected.\n",
      "HTTP request sent, awaiting response... 200 OK\n",
      "Length: 874188 (854K) [text/plain]\n",
      "Saving to: ‘car_fuel_efficiency.csv’\n",
      "\n",
      "car_fuel_efficiency 100%[===================>] 853.70K  --.-KB/s    in 0.1s    \n",
      "\n",
      "2025-10-07 12:07:12 (7.77 MB/s) - ‘car_fuel_efficiency.csv’ saved [874188/874188]\n",
      "\n"
     ]
    }
   ],
   "source": [
    "!wget $data -O car_fuel_efficiency.csv"
   ]
  },
  {
   "cell_type": "code",
   "execution_count": 4,
   "id": "d214a657-d33f-433f-ab76-c14da66a6071",
   "metadata": {
    "execution": {
     "iopub.execute_input": "2025-10-07T10:07:12.148686Z",
     "iopub.status.busy": "2025-10-07T10:07:12.147698Z",
     "iopub.status.idle": "2025-10-07T10:07:12.210799Z",
     "shell.execute_reply": "2025-10-07T10:07:12.210193Z",
     "shell.execute_reply.started": "2025-10-07T10:07:12.148622Z"
    },
    "id": "d214a657-d33f-433f-ab76-c14da66a6071"
   },
   "outputs": [],
   "source": [
    "df = pd.read_csv('car_fuel_efficiency.csv')"
   ]
  },
  {
   "cell_type": "code",
   "execution_count": 5,
   "id": "a5e45de3-514f-4083-8590-440513040608",
   "metadata": {
    "execution": {
     "iopub.execute_input": "2025-10-07T10:07:12.213407Z",
     "iopub.status.busy": "2025-10-07T10:07:12.212084Z",
     "iopub.status.idle": "2025-10-07T10:07:12.235217Z",
     "shell.execute_reply": "2025-10-07T10:07:12.231169Z",
     "shell.execute_reply.started": "2025-10-07T10:07:12.213359Z"
    },
    "id": "a5e45de3-514f-4083-8590-440513040608"
   },
   "outputs": [],
   "source": [
    "df = df[['engine_displacement','horsepower','vehicle_weight','model_year','fuel_efficiency_mpg']]"
   ]
  },
  {
   "cell_type": "code",
   "execution_count": 6,
   "id": "1a452b4e-970d-41a5-8794-72c7b8de9247",
   "metadata": {
    "execution": {
     "iopub.execute_input": "2025-10-07T10:07:12.244485Z",
     "iopub.status.busy": "2025-10-07T10:07:12.244016Z",
     "iopub.status.idle": "2025-10-07T10:07:14.209888Z",
     "shell.execute_reply": "2025-10-07T10:07:14.208785Z",
     "shell.execute_reply.started": "2025-10-07T10:07:12.244463Z"
    },
    "id": "1a452b4e-970d-41a5-8794-72c7b8de9247"
   },
   "outputs": [],
   "source": [
    "import matplotlib.pyplot as plt\n",
    "import seaborn as sns\n",
    "\n",
    "%matplotlib inline"
   ]
  },
  {
   "cell_type": "code",
   "execution_count": 7,
   "id": "eb83ab1a-6856-46af-b82a-a47a95793c49",
   "metadata": {
    "colab": {
     "base_uri": "https://localhost:8080/",
     "height": 467
    },
    "execution": {
     "iopub.execute_input": "2025-10-07T10:07:14.264118Z",
     "iopub.status.busy": "2025-10-07T10:07:14.211924Z",
     "iopub.status.idle": "2025-10-07T10:07:14.767917Z",
     "shell.execute_reply": "2025-10-07T10:07:14.766820Z",
     "shell.execute_reply.started": "2025-10-07T10:07:14.264009Z"
    },
    "id": "eb83ab1a-6856-46af-b82a-a47a95793c49",
    "outputId": "8e9a56c9-597a-47c2-bf94-fd912eb154a1"
   },
   "outputs": [
    {
     "data": {
      "text/plain": [
       "<Axes: xlabel='fuel_efficiency_mpg', ylabel='Count'>"
      ]
     },
     "execution_count": 7,
     "metadata": {},
     "output_type": "execute_result"
    },
    {
     "data": {
      "image/png": "[encoded data removed]",
      "text/plain": [
       "<Figure size 640x480 with 1 Axes>"
      ]
     },
     "metadata": {},
     "output_type": "display_data"
    }
   ],
   "source": [
    "sns.histplot(df.fuel_efficiency_mpg, bins=50)"
   ]
  },
  {
   "cell_type": "markdown",
   "id": "5c86bed3-50d8-4df5-b917-3d956e71d186",
   "metadata": {
    "id": "5c86bed3-50d8-4df5-b917-3d956e71d186"
   },
   "source": [
    "EDA\n",
    "Look at the fuel_efficiency_mpg variable. Does it have a long tail? NO"
   ]
  },
  {
   "cell_type": "markdown",
   "id": "7272f040-3730-4dac-bfbf-6e54292b73bb",
   "metadata": {
    "id": "7272f040-3730-4dac-bfbf-6e54292b73bb"
   },
   "source": [
    "### Question 1\n",
    "There's one column with missing values. What is it?"
   ]
  },
  {
   "cell_type": "code",
   "execution_count": 8,
   "id": "275b49b3-523d-4937-aee0-414b99ec89dd",
   "metadata": {
    "colab": {
     "base_uri": "https://localhost:8080/",
     "height": 241
    },
    "execution": {
     "iopub.execute_input": "2025-10-07T10:07:14.799358Z",
     "iopub.status.busy": "2025-10-07T10:07:14.797826Z",
     "iopub.status.idle": "2025-10-07T10:07:14.825969Z",
     "shell.execute_reply": "2025-10-07T10:07:14.816333Z",
     "shell.execute_reply.started": "2025-10-07T10:07:14.799317Z"
    },
    "id": "275b49b3-523d-4937-aee0-414b99ec89dd",
    "outputId": "f084d18f-6164-46a7-8615-2b9d5d44a58f"
   },
   "outputs": [
    {
     "data": {
      "text/plain": [
       "engine_displacement      0\n",
       "horsepower             708\n",
       "vehicle_weight           0\n",
       "model_year               0\n",
       "fuel_efficiency_mpg      0\n",
       "dtype: int64"
      ]
     },
     "execution_count": 8,
     "metadata": {},
     "output_type": "execute_result"
    }
   ],
   "source": [
    "df.isnull().sum()"
   ]
  },
  {
   "cell_type": "markdown",
   "id": "2a6c1f74-efe7-4a63-bbbd-feacf505c277",
   "metadata": {
    "id": "2a6c1f74-efe7-4a63-bbbd-feacf505c277"
   },
   "source": [
    "'horsepower'"
   ]
  },
  {
   "cell_type": "markdown",
   "id": "ae8960bf-7ea8-4df3-98a3-d9dd65a3a670",
   "metadata": {
    "id": "ae8960bf-7ea8-4df3-98a3-d9dd65a3a670"
   },
   "source": [
    "### Question 2\n",
    "What's the median (50% percentile) for variable 'horsepower'?"
   ]
  },
  {
   "cell_type": "code",
   "execution_count": 9,
   "id": "8ca4653d-1af1-4a6b-9cf4-f47a3079af7a",
   "metadata": {
    "colab": {
     "base_uri": "https://localhost:8080/"
    },
    "execution": {
     "iopub.execute_input": "2025-10-07T10:07:14.831713Z",
     "iopub.status.busy": "2025-10-07T10:07:14.827856Z",
     "iopub.status.idle": "2025-10-07T10:07:14.852635Z",
     "shell.execute_reply": "2025-10-07T10:07:14.844761Z",
     "shell.execute_reply.started": "2025-10-07T10:07:14.831675Z"
    },
    "id": "8ca4653d-1af1-4a6b-9cf4-f47a3079af7a",
    "outputId": "1f940638-8c50-4958-b2c3-da054ab44ae1"
   },
   "outputs": [
    {
     "data": {
      "text/plain": [
       "149.0"
      ]
     },
     "execution_count": 9,
     "metadata": {},
     "output_type": "execute_result"
    }
   ],
   "source": [
    "df['horsepower'].median()"
   ]
  },
  {
   "cell_type": "markdown",
   "id": "2ea536b2-2a5b-4a0a-8dcd-cc375b874f03",
   "metadata": {
    "id": "2ea536b2-2a5b-4a0a-8dcd-cc375b874f03"
   },
   "source": [
    "Prepare and split the dataset\n",
    "Shuffle the dataset (the filtered one you created above), use seed 42.\n",
    "Split your data in train/val/test sets, with 60%/20%/20% distribution.\n",
    "Use the same code as in the lectures"
   ]
  },
  {
   "cell_type": "code",
   "execution_count": 10,
   "id": "38b320c1-9d42-4554-ae2b-7e256999dfdd",
   "metadata": {
    "execution": {
     "iopub.execute_input": "2025-10-07T10:07:14.860758Z",
     "iopub.status.busy": "2025-10-07T10:07:14.860332Z",
     "iopub.status.idle": "2025-10-07T10:07:14.877943Z",
     "shell.execute_reply": "2025-10-07T10:07:14.869888Z",
     "shell.execute_reply.started": "2025-10-07T10:07:14.860735Z"
    },
    "id": "38b320c1-9d42-4554-ae2b-7e256999dfdd"
   },
   "outputs": [],
   "source": [
    "n = len(df)\n",
    "\n",
    "n_val = int(n * 0.2)\n",
    "n_test = int(n * 0.2)\n",
    "n_train = n - n_val - n_test"
   ]
  },
  {
   "cell_type": "code",
   "execution_count": 11,
   "id": "1347aef5-3c6c-4df5-be4e-8773d0d89811",
   "metadata": {
    "colab": {
     "base_uri": "https://localhost:8080/"
    },
    "execution": {
     "iopub.execute_input": "2025-10-07T10:07:14.888624Z",
     "iopub.status.busy": "2025-10-07T10:07:14.888032Z",
     "iopub.status.idle": "2025-10-07T10:07:14.905660Z",
     "shell.execute_reply": "2025-10-07T10:07:14.904862Z",
     "shell.execute_reply.started": "2025-10-07T10:07:14.888589Z"
    },
    "id": "1347aef5-3c6c-4df5-be4e-8773d0d89811",
    "outputId": "f9626f8e-03f9-42a1-b44a-b790cc46dddf"
   },
   "outputs": [
    {
     "data": {
      "text/plain": [
       "9704"
      ]
     },
     "execution_count": 11,
     "metadata": {},
     "output_type": "execute_result"
    }
   ],
   "source": [
    "n"
   ]
  },
  {
   "cell_type": "markdown",
   "id": "81dd714a-0167-42e2-a760-a105fd0960b7",
   "metadata": {
    "id": "81dd714a-0167-42e2-a760-a105fd0960b7"
   },
   "source": [
    "Datenset gesplittet 60/20/20"
   ]
  },
  {
   "cell_type": "code",
   "execution_count": 12,
   "id": "debe594f-4cfa-48a5-bba5-5186f91c5b32",
   "metadata": {
    "execution": {
     "iopub.execute_input": "2025-10-07T10:07:14.912757Z",
     "iopub.status.busy": "2025-10-07T10:07:14.912104Z",
     "iopub.status.idle": "2025-10-07T10:07:14.923720Z",
     "shell.execute_reply": "2025-10-07T10:07:14.922608Z",
     "shell.execute_reply.started": "2025-10-07T10:07:14.912722Z"
    },
    "id": "debe594f-4cfa-48a5-bba5-5186f91c5b32"
   },
   "outputs": [],
   "source": [
    "idx = np.arange(n)"
   ]
  },
  {
   "cell_type": "code",
   "execution_count": 13,
   "id": "808ea959-bd57-40cc-bb32-8adc7d01796b",
   "metadata": {
    "execution": {
     "iopub.execute_input": "2025-10-07T10:07:14.931501Z",
     "iopub.status.busy": "2025-10-07T10:07:14.930805Z",
     "iopub.status.idle": "2025-10-07T10:07:14.943328Z",
     "shell.execute_reply": "2025-10-07T10:07:14.942297Z",
     "shell.execute_reply.started": "2025-10-07T10:07:14.931474Z"
    },
    "id": "808ea959-bd57-40cc-bb32-8adc7d01796b"
   },
   "outputs": [],
   "source": [
    "np.random.seed(42)\n",
    "\n",
    "np.random.shuffle(idx)\n"
   ]
  },
  {
   "cell_type": "markdown",
   "id": "e45dbcbd-7b7c-446e-90c6-6be914f7d22b",
   "metadata": {
    "id": "e45dbcbd-7b7c-446e-90c6-6be914f7d22b"
   },
   "source": [
    "Datenset geshuffelt"
   ]
  },
  {
   "cell_type": "code",
   "execution_count": 14,
   "id": "b6e4bde9-ad30-4409-b827-d8a81d69210d",
   "metadata": {
    "execution": {
     "iopub.execute_input": "2025-10-07T10:07:14.955000Z",
     "iopub.status.busy": "2025-10-07T10:07:14.948819Z",
     "iopub.status.idle": "2025-10-07T10:07:14.988623Z",
     "shell.execute_reply": "2025-10-07T10:07:14.987183Z",
     "shell.execute_reply.started": "2025-10-07T10:07:14.949706Z"
    },
    "id": "b6e4bde9-ad30-4409-b827-d8a81d69210d"
   },
   "outputs": [],
   "source": [
    "df_train = df.iloc[idx[:n_train]]\n",
    "#df_val = df.iloc[idx[n_train:n_train+n_val]]\n",
    "#df_test = df.iloc[idx[n_train+n_val:]]"
   ]
  },
  {
   "cell_type": "code",
   "execution_count": 15,
   "id": "ec48e2c5-5465-4224-8cc1-71b2c1bb6ab6",
   "metadata": {
    "colab": {
     "base_uri": "https://localhost:8080/",
     "height": 206
    },
    "execution": {
     "iopub.execute_input": "2025-10-07T10:07:14.997400Z",
     "iopub.status.busy": "2025-10-07T10:07:14.996196Z",
     "iopub.status.idle": "2025-10-07T10:07:15.038027Z",
     "shell.execute_reply": "2025-10-07T10:07:15.036675Z",
     "shell.execute_reply.started": "2025-10-07T10:07:14.997362Z"
    },
    "id": "ec48e2c5-5465-4224-8cc1-71b2c1bb6ab6",
    "outputId": "2b3f2e17-4d5e-4b2c-c495-598809eb7146"
   },
   "outputs": [
    {
     "data": {
      "text/html": [
       "<div>\n",
       "<style scoped>\n",
       "    .dataframe tbody tr th:only-of-type {\n",
       "        vertical-align: middle;\n",
       "    }\n",
       "\n",
       "    .dataframe tbody tr th {\n",
       "        vertical-align: top;\n",
       "    }\n",
       "\n",
       "    .dataframe thead th {\n",
       "        text-align: right;\n",
       "    }\n",
       "</style>\n",
       "<table border=\"1\" class=\"dataframe\">\n",
       "  <thead>\n",
       "    <tr style=\"text-align: right;\">\n",
       "      <th></th>\n",
       "      <th>engine_displacement</th>\n",
       "      <th>horsepower</th>\n",
       "      <th>vehicle_weight</th>\n",
       "      <th>model_year</th>\n",
       "      <th>fuel_efficiency_mpg</th>\n",
       "    </tr>\n",
       "  </thead>\n",
       "  <tbody>\n",
       "    <tr>\n",
       "      <th>483</th>\n",
       "      <td>220</td>\n",
       "      <td>144.0</td>\n",
       "      <td>2535.887591</td>\n",
       "      <td>2009</td>\n",
       "      <td>16.642943</td>\n",
       "    </tr>\n",
       "    <tr>\n",
       "      <th>7506</th>\n",
       "      <td>160</td>\n",
       "      <td>141.0</td>\n",
       "      <td>2741.170484</td>\n",
       "      <td>2019</td>\n",
       "      <td>16.298377</td>\n",
       "    </tr>\n",
       "    <tr>\n",
       "      <th>8795</th>\n",
       "      <td>230</td>\n",
       "      <td>155.0</td>\n",
       "      <td>2471.880237</td>\n",
       "      <td>2017</td>\n",
       "      <td>18.591822</td>\n",
       "    </tr>\n",
       "    <tr>\n",
       "      <th>1688</th>\n",
       "      <td>150</td>\n",
       "      <td>206.0</td>\n",
       "      <td>3748.164469</td>\n",
       "      <td>2015</td>\n",
       "      <td>11.818843</td>\n",
       "    </tr>\n",
       "    <tr>\n",
       "      <th>6217</th>\n",
       "      <td>300</td>\n",
       "      <td>111.0</td>\n",
       "      <td>2135.716359</td>\n",
       "      <td>2006</td>\n",
       "      <td>19.402209</td>\n",
       "    </tr>\n",
       "  </tbody>\n",
       "</table>\n",
       "</div>"
      ],
      "text/plain": [
       "      engine_displacement  horsepower  vehicle_weight  model_year  \\\n",
       "483                   220       144.0     2535.887591        2009   \n",
       "7506                  160       141.0     2741.170484        2019   \n",
       "8795                  230       155.0     2471.880237        2017   \n",
       "1688                  150       206.0     3748.164469        2015   \n",
       "6217                  300       111.0     2135.716359        2006   \n",
       "\n",
       "      fuel_efficiency_mpg  \n",
       "483             16.642943  \n",
       "7506            16.298377  \n",
       "8795            18.591822  \n",
       "1688            11.818843  \n",
       "6217            19.402209  "
      ]
     },
     "execution_count": 15,
     "metadata": {},
     "output_type": "execute_result"
    }
   ],
   "source": [
    "df_train.head()"
   ]
  },
  {
   "cell_type": "markdown",
   "id": "47dab0da-1826-4998-b3e1-c084dbb2eeb6",
   "metadata": {
    "id": "47dab0da-1826-4998-b3e1-c084dbb2eeb6"
   },
   "source": [
    "### Question 3\n",
    "We need to deal with missing values for the column from Q1.\n",
    "We have two options: fill it with 0 or with the mean of this variable.\n",
    "Try both options. For each, train a linear regression model without regularization using the code from the lessons.\n",
    "For computing the mean, use the training only!\n",
    "Use the validation dataset to evaluate the models and compare the RMSE of each option.\n",
    "Round the RMSE scores to 2 decimal digits using round(score, 2)\n",
    "Which option gives better RMSE?\n"
   ]
  },
  {
   "cell_type": "code",
   "execution_count": 16,
   "id": "92b2af4b-f76b-4c39-a240-b5f5f91fb042",
   "metadata": {
    "execution": {
     "iopub.execute_input": "2025-10-07T10:07:15.045363Z",
     "iopub.status.busy": "2025-10-07T10:07:15.044487Z",
     "iopub.status.idle": "2025-10-07T10:07:15.061922Z",
     "shell.execute_reply": "2025-10-07T10:07:15.058797Z",
     "shell.execute_reply.started": "2025-10-07T10:07:15.045323Z"
    },
    "id": "92b2af4b-f76b-4c39-a240-b5f5f91fb042"
   },
   "outputs": [],
   "source": [
    "df_0 = df.fillna(0)"
   ]
  },
  {
   "cell_type": "markdown",
   "id": "4172aae4-0335-4dd6-b776-61bfee697167",
   "metadata": {
    "id": "4172aae4-0335-4dd6-b776-61bfee697167"
   },
   "source": [
    "fehlende Werte durch Null ersetzt und Fkt als df_0 definiert"
   ]
  },
  {
   "cell_type": "code",
   "execution_count": 17,
   "id": "93a07385-0a41-4289-aca1-e045be589a80",
   "metadata": {
    "execution": {
     "iopub.execute_input": "2025-10-07T10:07:15.072055Z",
     "iopub.status.busy": "2025-10-07T10:07:15.071076Z",
     "iopub.status.idle": "2025-10-07T10:07:15.085141Z",
     "shell.execute_reply": "2025-10-07T10:07:15.080353Z",
     "shell.execute_reply.started": "2025-10-07T10:07:15.072027Z"
    },
    "id": "93a07385-0a41-4289-aca1-e045be589a80"
   },
   "outputs": [],
   "source": [
    "df_mean = df.fillna(df_train.horsepower.mean())"
   ]
  },
  {
   "cell_type": "markdown",
   "id": "a116e408-66bb-4340-924f-a68184461b6f",
   "metadata": {
    "execution": {
     "iopub.execute_input": "2025-10-01T18:03:26.029327Z",
     "iopub.status.busy": "2025-10-01T18:03:26.028936Z",
     "iopub.status.idle": "2025-10-01T18:03:26.042437Z",
     "shell.execute_reply": "2025-10-01T18:03:26.039774Z",
     "shell.execute_reply.started": "2025-10-01T18:03:26.029303Z"
    },
    "id": "a116e408-66bb-4340-924f-a68184461b6f"
   },
   "source": [
    "fehlende Werte durch mean des trainingsdatensets von horsepower ersetzt und Fkt als df_mean definiert\n"
   ]
  },
  {
   "cell_type": "markdown",
   "id": "1471fa27-eab1-4714-b588-f6f131bbf017",
   "metadata": {
    "id": "1471fa27-eab1-4714-b588-f6f131bbf017"
   },
   "source": [
    "Ein Modell mit linearer Regression trainieren mit fehlenden Werten = 0:"
   ]
  },
  {
   "cell_type": "code",
   "execution_count": 18,
   "id": "250d3f7f-ff2d-4fcd-8eb3-be0847344b7a",
   "metadata": {
    "execution": {
     "iopub.execute_input": "2025-10-07T10:07:15.088506Z",
     "iopub.status.busy": "2025-10-07T10:07:15.087727Z",
     "iopub.status.idle": "2025-10-07T10:07:15.118803Z",
     "shell.execute_reply": "2025-10-07T10:07:15.109587Z",
     "shell.execute_reply.started": "2025-10-07T10:07:15.088479Z"
    },
    "id": "250d3f7f-ff2d-4fcd-8eb3-be0847344b7a"
   },
   "outputs": [],
   "source": [
    "df_0_train = df_0.iloc[idx[:n_train]]\n",
    "df_0_val = df_0.iloc[idx[n_train:n_train+n_val]]\n",
    "df_0_test = df_0.iloc[idx[n_train+n_val:]]\n",
    "\n",
    "df_mean_train = df_mean.iloc[idx[:n_train]]\n",
    "df_mean_val = df_mean.iloc[idx[n_train:n_train+n_val]]\n",
    "df_mean_test = df_mean.iloc[idx[n_train+n_val:]]"
   ]
  },
  {
   "cell_type": "code",
   "execution_count": 19,
   "id": "73f00e8c",
   "metadata": {
    "execution": {
     "iopub.execute_input": "2025-10-07T10:07:15.136637Z",
     "iopub.status.busy": "2025-10-07T10:07:15.135966Z",
     "iopub.status.idle": "2025-10-07T10:07:15.184075Z",
     "shell.execute_reply": "2025-10-07T10:07:15.181617Z",
     "shell.execute_reply.started": "2025-10-07T10:07:15.136510Z"
    }
   },
   "outputs": [
    {
     "data": {
      "text/html": [
       "<div>\n",
       "<style scoped>\n",
       "    .dataframe tbody tr th:only-of-type {\n",
       "        vertical-align: middle;\n",
       "    }\n",
       "\n",
       "    .dataframe tbody tr th {\n",
       "        vertical-align: top;\n",
       "    }\n",
       "\n",
       "    .dataframe thead th {\n",
       "        text-align: right;\n",
       "    }\n",
       "</style>\n",
       "<table border=\"1\" class=\"dataframe\">\n",
       "  <thead>\n",
       "    <tr style=\"text-align: right;\">\n",
       "      <th></th>\n",
       "      <th>engine_displacement</th>\n",
       "      <th>horsepower</th>\n",
       "      <th>vehicle_weight</th>\n",
       "      <th>model_year</th>\n",
       "      <th>fuel_efficiency_mpg</th>\n",
       "    </tr>\n",
       "  </thead>\n",
       "  <tbody>\n",
       "    <tr>\n",
       "      <th>483</th>\n",
       "      <td>220</td>\n",
       "      <td>144.0</td>\n",
       "      <td>2535.887591</td>\n",
       "      <td>2009</td>\n",
       "      <td>16.642943</td>\n",
       "    </tr>\n",
       "    <tr>\n",
       "      <th>7506</th>\n",
       "      <td>160</td>\n",
       "      <td>141.0</td>\n",
       "      <td>2741.170484</td>\n",
       "      <td>2019</td>\n",
       "      <td>16.298377</td>\n",
       "    </tr>\n",
       "    <tr>\n",
       "      <th>8795</th>\n",
       "      <td>230</td>\n",
       "      <td>155.0</td>\n",
       "      <td>2471.880237</td>\n",
       "      <td>2017</td>\n",
       "      <td>18.591822</td>\n",
       "    </tr>\n",
       "    <tr>\n",
       "      <th>1688</th>\n",
       "      <td>150</td>\n",
       "      <td>206.0</td>\n",
       "      <td>3748.164469</td>\n",
       "      <td>2015</td>\n",
       "      <td>11.818843</td>\n",
       "    </tr>\n",
       "    <tr>\n",
       "      <th>6217</th>\n",
       "      <td>300</td>\n",
       "      <td>111.0</td>\n",
       "      <td>2135.716359</td>\n",
       "      <td>2006</td>\n",
       "      <td>19.402209</td>\n",
       "    </tr>\n",
       "    <tr>\n",
       "      <th>...</th>\n",
       "      <td>...</td>\n",
       "      <td>...</td>\n",
       "      <td>...</td>\n",
       "      <td>...</td>\n",
       "      <td>...</td>\n",
       "    </tr>\n",
       "    <tr>\n",
       "      <th>1696</th>\n",
       "      <td>260</td>\n",
       "      <td>139.0</td>\n",
       "      <td>2606.972984</td>\n",
       "      <td>2009</td>\n",
       "      <td>16.964054</td>\n",
       "    </tr>\n",
       "    <tr>\n",
       "      <th>5685</th>\n",
       "      <td>280</td>\n",
       "      <td>132.0</td>\n",
       "      <td>4004.214323</td>\n",
       "      <td>2014</td>\n",
       "      <td>10.059094</td>\n",
       "    </tr>\n",
       "    <tr>\n",
       "      <th>6735</th>\n",
       "      <td>210</td>\n",
       "      <td>152.0</td>\n",
       "      <td>2500.175687</td>\n",
       "      <td>2020</td>\n",
       "      <td>17.593237</td>\n",
       "    </tr>\n",
       "    <tr>\n",
       "      <th>2052</th>\n",
       "      <td>250</td>\n",
       "      <td>154.0</td>\n",
       "      <td>2254.313245</td>\n",
       "      <td>2002</td>\n",
       "      <td>18.925748</td>\n",
       "    </tr>\n",
       "    <tr>\n",
       "      <th>1776</th>\n",
       "      <td>210</td>\n",
       "      <td>152.0</td>\n",
       "      <td>2435.203606</td>\n",
       "      <td>2004</td>\n",
       "      <td>17.965284</td>\n",
       "    </tr>\n",
       "  </tbody>\n",
       "</table>\n",
       "<p>5824 rows × 5 columns</p>\n",
       "</div>"
      ],
      "text/plain": [
       "      engine_displacement  horsepower  vehicle_weight  model_year  \\\n",
       "483                   220       144.0     2535.887591        2009   \n",
       "7506                  160       141.0     2741.170484        2019   \n",
       "8795                  230       155.0     2471.880237        2017   \n",
       "1688                  150       206.0     3748.164469        2015   \n",
       "6217                  300       111.0     2135.716359        2006   \n",
       "...                   ...         ...             ...         ...   \n",
       "1696                  260       139.0     2606.972984        2009   \n",
       "5685                  280       132.0     4004.214323        2014   \n",
       "6735                  210       152.0     2500.175687        2020   \n",
       "2052                  250       154.0     2254.313245        2002   \n",
       "1776                  210       152.0     2435.203606        2004   \n",
       "\n",
       "      fuel_efficiency_mpg  \n",
       "483             16.642943  \n",
       "7506            16.298377  \n",
       "8795            18.591822  \n",
       "1688            11.818843  \n",
       "6217            19.402209  \n",
       "...                   ...  \n",
       "1696            16.964054  \n",
       "5685            10.059094  \n",
       "6735            17.593237  \n",
       "2052            18.925748  \n",
       "1776            17.965284  \n",
       "\n",
       "[5824 rows x 5 columns]"
      ]
     },
     "execution_count": 19,
     "metadata": {},
     "output_type": "execute_result"
    }
   ],
   "source": [
    "df_0_train"
   ]
  },
  {
   "cell_type": "code",
   "execution_count": 20,
   "id": "98197ac5",
   "metadata": {
    "execution": {
     "iopub.execute_input": "2025-10-07T10:07:15.187545Z",
     "iopub.status.busy": "2025-10-07T10:07:15.186614Z",
     "iopub.status.idle": "2025-10-07T10:07:15.198198Z",
     "shell.execute_reply": "2025-10-07T10:07:15.195754Z",
     "shell.execute_reply.started": "2025-10-07T10:07:15.187245Z"
    }
   },
   "outputs": [
    {
     "name": "stdout",
     "output_type": "stream",
     "text": [
      "5824\n",
      "1940\n",
      "1940\n",
      "5824\n",
      "1940\n",
      "1940\n"
     ]
    }
   ],
   "source": [
    "for df in [df_0_train, df_0_val, df_0_test, df_mean_train, df_mean_val, df_mean_test]:\n",
    "    print(len(df))\n",
    "    df.reset_index(drop=True, inplace=True)"
   ]
  },
  {
   "cell_type": "code",
   "execution_count": 21,
   "id": "1ac13ffb",
   "metadata": {
    "execution": {
     "iopub.execute_input": "2025-10-07T10:07:15.223392Z",
     "iopub.status.busy": "2025-10-07T10:07:15.222624Z",
     "iopub.status.idle": "2025-10-07T10:07:15.247137Z",
     "shell.execute_reply": "2025-10-07T10:07:15.246087Z",
     "shell.execute_reply.started": "2025-10-07T10:07:15.223348Z"
    }
   },
   "outputs": [
    {
     "data": {
      "text/html": [
       "<div>\n",
       "<style scoped>\n",
       "    .dataframe tbody tr th:only-of-type {\n",
       "        vertical-align: middle;\n",
       "    }\n",
       "\n",
       "    .dataframe tbody tr th {\n",
       "        vertical-align: top;\n",
       "    }\n",
       "\n",
       "    .dataframe thead th {\n",
       "        text-align: right;\n",
       "    }\n",
       "</style>\n",
       "<table border=\"1\" class=\"dataframe\">\n",
       "  <thead>\n",
       "    <tr style=\"text-align: right;\">\n",
       "      <th></th>\n",
       "      <th>engine_displacement</th>\n",
       "      <th>horsepower</th>\n",
       "      <th>vehicle_weight</th>\n",
       "      <th>model_year</th>\n",
       "      <th>fuel_efficiency_mpg</th>\n",
       "    </tr>\n",
       "  </thead>\n",
       "  <tbody>\n",
       "    <tr>\n",
       "      <th>0</th>\n",
       "      <td>220</td>\n",
       "      <td>144.0</td>\n",
       "      <td>2535.887591</td>\n",
       "      <td>2009</td>\n",
       "      <td>16.642943</td>\n",
       "    </tr>\n",
       "    <tr>\n",
       "      <th>1</th>\n",
       "      <td>160</td>\n",
       "      <td>141.0</td>\n",
       "      <td>2741.170484</td>\n",
       "      <td>2019</td>\n",
       "      <td>16.298377</td>\n",
       "    </tr>\n",
       "    <tr>\n",
       "      <th>2</th>\n",
       "      <td>230</td>\n",
       "      <td>155.0</td>\n",
       "      <td>2471.880237</td>\n",
       "      <td>2017</td>\n",
       "      <td>18.591822</td>\n",
       "    </tr>\n",
       "    <tr>\n",
       "      <th>3</th>\n",
       "      <td>150</td>\n",
       "      <td>206.0</td>\n",
       "      <td>3748.164469</td>\n",
       "      <td>2015</td>\n",
       "      <td>11.818843</td>\n",
       "    </tr>\n",
       "    <tr>\n",
       "      <th>4</th>\n",
       "      <td>300</td>\n",
       "      <td>111.0</td>\n",
       "      <td>2135.716359</td>\n",
       "      <td>2006</td>\n",
       "      <td>19.402209</td>\n",
       "    </tr>\n",
       "    <tr>\n",
       "      <th>...</th>\n",
       "      <td>...</td>\n",
       "      <td>...</td>\n",
       "      <td>...</td>\n",
       "      <td>...</td>\n",
       "      <td>...</td>\n",
       "    </tr>\n",
       "    <tr>\n",
       "      <th>5819</th>\n",
       "      <td>260</td>\n",
       "      <td>139.0</td>\n",
       "      <td>2606.972984</td>\n",
       "      <td>2009</td>\n",
       "      <td>16.964054</td>\n",
       "    </tr>\n",
       "    <tr>\n",
       "      <th>5820</th>\n",
       "      <td>280</td>\n",
       "      <td>132.0</td>\n",
       "      <td>4004.214323</td>\n",
       "      <td>2014</td>\n",
       "      <td>10.059094</td>\n",
       "    </tr>\n",
       "    <tr>\n",
       "      <th>5821</th>\n",
       "      <td>210</td>\n",
       "      <td>152.0</td>\n",
       "      <td>2500.175687</td>\n",
       "      <td>2020</td>\n",
       "      <td>17.593237</td>\n",
       "    </tr>\n",
       "    <tr>\n",
       "      <th>5822</th>\n",
       "      <td>250</td>\n",
       "      <td>154.0</td>\n",
       "      <td>2254.313245</td>\n",
       "      <td>2002</td>\n",
       "      <td>18.925748</td>\n",
       "    </tr>\n",
       "    <tr>\n",
       "      <th>5823</th>\n",
       "      <td>210</td>\n",
       "      <td>152.0</td>\n",
       "      <td>2435.203606</td>\n",
       "      <td>2004</td>\n",
       "      <td>17.965284</td>\n",
       "    </tr>\n",
       "  </tbody>\n",
       "</table>\n",
       "<p>5824 rows × 5 columns</p>\n",
       "</div>"
      ],
      "text/plain": [
       "      engine_displacement  horsepower  vehicle_weight  model_year  \\\n",
       "0                     220       144.0     2535.887591        2009   \n",
       "1                     160       141.0     2741.170484        2019   \n",
       "2                     230       155.0     2471.880237        2017   \n",
       "3                     150       206.0     3748.164469        2015   \n",
       "4                     300       111.0     2135.716359        2006   \n",
       "...                   ...         ...             ...         ...   \n",
       "5819                  260       139.0     2606.972984        2009   \n",
       "5820                  280       132.0     4004.214323        2014   \n",
       "5821                  210       152.0     2500.175687        2020   \n",
       "5822                  250       154.0     2254.313245        2002   \n",
       "5823                  210       152.0     2435.203606        2004   \n",
       "\n",
       "      fuel_efficiency_mpg  \n",
       "0               16.642943  \n",
       "1               16.298377  \n",
       "2               18.591822  \n",
       "3               11.818843  \n",
       "4               19.402209  \n",
       "...                   ...  \n",
       "5819            16.964054  \n",
       "5820            10.059094  \n",
       "5821            17.593237  \n",
       "5822            18.925748  \n",
       "5823            17.965284  \n",
       "\n",
       "[5824 rows x 5 columns]"
      ]
     },
     "execution_count": 21,
     "metadata": {},
     "output_type": "execute_result"
    }
   ],
   "source": [
    "df_0_train"
   ]
  },
  {
   "cell_type": "code",
   "execution_count": 22,
   "id": "ed8cfbaf-95a1-435b-bd91-803735e78cee",
   "metadata": {
    "execution": {
     "iopub.execute_input": "2025-10-07T10:07:15.248794Z",
     "iopub.status.busy": "2025-10-07T10:07:15.248280Z",
     "iopub.status.idle": "2025-10-07T10:07:15.257859Z",
     "shell.execute_reply": "2025-10-07T10:07:15.256553Z",
     "shell.execute_reply.started": "2025-10-07T10:07:15.248759Z"
    },
    "id": "ed8cfbaf-95a1-435b-bd91-803735e78cee"
   },
   "outputs": [],
   "source": [
    "def train_test_val_split(df, idx):\n",
    "    n = len(df)\n",
    "    n_val = int(n * 0.2)\n",
    "    n_test = int(n * 0.2)\n",
    "    n_train = n - n_val - n_test\n",
    "\n",
    "    df_train = df.iloc[idx[:n_train]]\n",
    "    df_val = df.iloc[idx[n_train:n_train+n_val]]\n",
    "    df_test = df.iloc[idx[n_train+n_val:]]\n",
    "\n",
    "    return df_train, df_val, df_test"
   ]
  },
  {
   "cell_type": "code",
   "execution_count": 23,
   "id": "503d86d1-d856-4b76-9eef-b9a90c934592",
   "metadata": {
    "execution": {
     "iopub.execute_input": "2025-10-07T10:07:15.261509Z",
     "iopub.status.busy": "2025-10-07T10:07:15.261023Z",
     "iopub.status.idle": "2025-10-07T10:07:15.274456Z",
     "shell.execute_reply": "2025-10-07T10:07:15.272484Z",
     "shell.execute_reply.started": "2025-10-07T10:07:15.261441Z"
    },
    "id": "503d86d1-d856-4b76-9eef-b9a90c934592"
   },
   "outputs": [],
   "source": [
    "df_0_train, df_0_val, df_0_test = train_test_val_split(df_0, idx)\n",
    "df_mean_train, df_mean_val, df_mean_test = train_test_val_split(df_mean, idx)"
   ]
  },
  {
   "cell_type": "code",
   "execution_count": 24,
   "id": "26362a2e-6d2b-41b2-84bc-95c0f25d83d3",
   "metadata": {
    "execution": {
     "iopub.execute_input": "2025-10-07T10:07:15.276676Z",
     "iopub.status.busy": "2025-10-07T10:07:15.276182Z",
     "iopub.status.idle": "2025-10-07T10:07:15.285741Z",
     "shell.execute_reply": "2025-10-07T10:07:15.284104Z",
     "shell.execute_reply.started": "2025-10-07T10:07:15.276647Z"
    },
    "id": "26362a2e-6d2b-41b2-84bc-95c0f25d83d3"
   },
   "outputs": [],
   "source": [
    "def X_y_split(df):\n",
    "    cols = ['engine_displacement', 'horsepower', 'vehicle_weight', 'model_year']\n",
    "\n",
    "    X = df[cols].values\n",
    "    y = df['fuel_efficiency_mpg'].values\n",
    "\n",
    "    return X, y"
   ]
  },
  {
   "cell_type": "code",
   "execution_count": 25,
   "id": "e0051f39-333c-43b0-97e3-02b84b35c620",
   "metadata": {
    "execution": {
     "iopub.execute_input": "2025-10-07T10:07:15.288269Z",
     "iopub.status.busy": "2025-10-07T10:07:15.287777Z",
     "iopub.status.idle": "2025-10-07T10:07:15.304325Z",
     "shell.execute_reply": "2025-10-07T10:07:15.303390Z",
     "shell.execute_reply.started": "2025-10-07T10:07:15.288233Z"
    },
    "id": "e0051f39-333c-43b0-97e3-02b84b35c620"
   },
   "outputs": [],
   "source": [
    "X_0_train, y_0_train = X_y_split(df_0_train)\n",
    "X_0_val, y_0_val = X_y_split(df_0_val)\n",
    "X_0_test, y_0_test = X_y_split(df_0_test)\n",
    "\n",
    "X_mean_train, y_mean_train = X_y_split(df_mean_train)\n",
    "X_mean_val, y_mean_val = X_y_split(df_mean_val)\n",
    "X_mean_test, y_mean_test = X_y_split(df_mean_test)\n",
    "\n",
    "#X_0_train, y_0_train,X_0_val, y_0_val, X_0_test, y_0_test, X_mean_train, y_0_train, X_mean_val, y_0_val, X_mean_test, y_0_test"
   ]
  },
  {
   "cell_type": "code",
   "execution_count": 26,
   "id": "92616315-6cc9-40d2-9000-cc071a50f470",
   "metadata": {
    "execution": {
     "iopub.execute_input": "2025-10-07T10:07:15.306250Z",
     "iopub.status.busy": "2025-10-07T10:07:15.305782Z",
     "iopub.status.idle": "2025-10-07T10:07:15.312530Z",
     "shell.execute_reply": "2025-10-07T10:07:15.311359Z",
     "shell.execute_reply.started": "2025-10-07T10:07:15.306216Z"
    },
    "id": "92616315-6cc9-40d2-9000-cc071a50f470"
   },
   "outputs": [],
   "source": [
    "def train_linear_regression(X, y):\n",
    "    ones = np.ones(X.shape[0])\n",
    "    X = np.column_stack([ones, X])\n",
    "\n",
    "    XTX = X.T.dot(X)\n",
    "    XTX_inv = np.linalg.inv(XTX)\n",
    "    w = XTX_inv.dot(X.T).dot(y)\n",
    "\n",
    "    return w[0], w[1:]"
   ]
  },
  {
   "cell_type": "code",
   "execution_count": 27,
   "id": "c3da22f3-66a8-4245-a380-c458f5de333f",
   "metadata": {
    "execution": {
     "iopub.execute_input": "2025-10-07T10:07:15.314733Z",
     "iopub.status.busy": "2025-10-07T10:07:15.314378Z",
     "iopub.status.idle": "2025-10-07T10:07:15.320322Z",
     "shell.execute_reply": "2025-10-07T10:07:15.319402Z",
     "shell.execute_reply.started": "2025-10-07T10:07:15.314709Z"
    },
    "id": "c3da22f3-66a8-4245-a380-c458f5de333f"
   },
   "outputs": [],
   "source": [
    "base = ['engine_displacement', 'horsepower', 'vehicle_weight', 'model_year']"
   ]
  },
  {
   "cell_type": "code",
   "execution_count": 28,
   "id": "7f6d0192-efee-4ca6-bfe4-bf8de491bcb0",
   "metadata": {
    "execution": {
     "iopub.execute_input": "2025-10-07T10:07:15.322242Z",
     "iopub.status.busy": "2025-10-07T10:07:15.321814Z",
     "iopub.status.idle": "2025-10-07T10:07:15.371530Z",
     "shell.execute_reply": "2025-10-07T10:07:15.370004Z",
     "shell.execute_reply.started": "2025-10-07T10:07:15.322209Z"
    },
    "id": "7f6d0192-efee-4ca6-bfe4-bf8de491bcb0"
   },
   "outputs": [],
   "source": [
    "w_0_0, w_0 = train_linear_regression(X_0_train, y_0_train)\n",
    "w_0_mean, w_mean = train_linear_regression(X_mean_train, y_mean_train)"
   ]
  },
  {
   "cell_type": "code",
   "execution_count": 29,
   "id": "54d14157-40f9-4189-b3c5-7115574dab7c",
   "metadata": {
    "execution": {
     "iopub.execute_input": "2025-10-07T10:07:15.375897Z",
     "iopub.status.busy": "2025-10-07T10:07:15.375011Z",
     "iopub.status.idle": "2025-10-07T10:07:15.474810Z",
     "shell.execute_reply": "2025-10-07T10:07:15.470020Z",
     "shell.execute_reply.started": "2025-10-07T10:07:15.375862Z"
    },
    "id": "54d14157-40f9-4189-b3c5-7115574dab7c"
   },
   "outputs": [],
   "source": [
    "y_0_pred = w_0_0 + X_0_train.dot(w_0)\n",
    "y_mean_pred = w_0_mean + X_mean_train.dot(w_mean)\n",
    "\n",
    "y_0_pred_test = w_0_0 + X_0_test.dot(w_0)\n",
    "y_mean_pred_test = w_0_0 + X_mean_test.dot(w_mean)\n",
    "\n",
    "y_0_pred_val = w_0_0 + X_0_val.dot(w_0)\n",
    "y_mean_pred_val = w_0_mean + X_mean_val.dot(w_mean)"
   ]
  },
  {
   "cell_type": "code",
   "execution_count": 30,
   "id": "pHEeuXzLpX8i",
   "metadata": {
    "execution": {
     "iopub.execute_input": "2025-10-07T10:07:15.500660Z",
     "iopub.status.busy": "2025-10-07T10:07:15.499518Z",
     "iopub.status.idle": "2025-10-07T10:07:15.566963Z",
     "shell.execute_reply": "2025-10-07T10:07:15.525671Z",
     "shell.execute_reply.started": "2025-10-07T10:07:15.500621Z"
    },
    "id": "pHEeuXzLpX8i"
   },
   "outputs": [],
   "source": [
    "def rmse(y, y_pred):\n",
    "    error = y_pred - y\n",
    "    mse = (error ** 2).mean()\n",
    "    return np.sqrt(mse)"
   ]
  },
  {
   "cell_type": "code",
   "execution_count": 31,
   "id": "335af0bd",
   "metadata": {
    "execution": {
     "iopub.execute_input": "2025-10-07T10:07:15.598373Z",
     "iopub.status.busy": "2025-10-07T10:07:15.597783Z",
     "iopub.status.idle": "2025-10-07T10:07:15.608023Z",
     "shell.execute_reply": "2025-10-07T10:07:15.606899Z",
     "shell.execute_reply.started": "2025-10-07T10:07:15.598340Z"
    }
   },
   "outputs": [
    {
     "data": {
      "text/plain": [
       "(0.52, 0.46)"
      ]
     },
     "execution_count": 31,
     "metadata": {},
     "output_type": "execute_result"
    }
   ],
   "source": [
    "round(rmse(y_0_val, y_0_pred_val), 2), round(rmse(y_0_val, y_mean_pred_val), 2)"
   ]
  },
  {
   "cell_type": "markdown",
   "id": "XRh7CJnprbrw",
   "metadata": {
    "id": "XRh7CJnprbrw"
   },
   "source": [
    "es ist besser mit dem mean\n"
   ]
  },
  {
   "cell_type": "markdown",
   "id": "5a926a51-834f-4e74-b152-2ea6a951cd8e",
   "metadata": {
    "id": "nbfqkJ0-q9oC"
   },
   "source": [
    "## Question 4\n",
    "- Now let's train a regularized linear regression.\n",
    "- For this question, fill the NAs with 0.\n",
    "- Try different values of r from this list: [0, 0.01, 0.1, 1, 5, 10, 100].\n",
    "- Use RMSE to evaluate the model on the validation dataset.\n",
    "- Round the RMSE scores to 2 decimal digits.\n",
    "- Which r gives the best RMSE?\n",
    "- If there are multiple options, select the smallest r."
   ]
  },
  {
   "cell_type": "code",
   "execution_count": 32,
   "id": "f464028c-54e9-4ca5-b7ab-c4fe46acb2e1",
   "metadata": {
    "execution": {
     "iopub.execute_input": "2025-10-07T10:07:15.613809Z",
     "iopub.status.busy": "2025-10-07T10:07:15.613455Z",
     "iopub.status.idle": "2025-10-07T10:07:15.624169Z",
     "shell.execute_reply": "2025-10-07T10:07:15.622187Z",
     "shell.execute_reply.started": "2025-10-07T10:07:15.613780Z"
    }
   },
   "outputs": [],
   "source": [
    "def train_linear_regression_reg(X, y, r=0.0):\n",
    "    ones = np.ones(X.shape[0])\n",
    "    X = np.column_stack([ones, X])\n",
    "\n",
    "    XTX = X.T.dot(X)\n",
    "    reg = r * np.eye(XTX.shape[0])\n",
    "    XTX = XTX + reg\n",
    "\n",
    "    XTX_inv = np.linalg.inv(XTX)\n",
    "    w = XTX_inv.dot(X.T).dot(y)\n",
    "\n",
    "    return w[0], w[1:]"
   ]
  },
  {
   "cell_type": "code",
   "execution_count": 33,
   "id": "4dca55ed-0d35-46ff-bdce-50c1d70ef2d5",
   "metadata": {
    "execution": {
     "iopub.execute_input": "2025-10-07T10:07:15.628297Z",
     "iopub.status.busy": "2025-10-07T10:07:15.627519Z",
     "iopub.status.idle": "2025-10-07T10:07:15.635140Z",
     "shell.execute_reply": "2025-10-07T10:07:15.634085Z",
     "shell.execute_reply.started": "2025-10-07T10:07:15.628273Z"
    }
   },
   "outputs": [],
   "source": [
    "def prepare_X(df):\n",
    "    df_num = df[base]\n",
    "    df_num = df_num.fillna(0)\n",
    "    X = df_num.values\n",
    "    return X"
   ]
  },
  {
   "cell_type": "code",
   "execution_count": 34,
   "id": "b232a04a-76aa-4892-9a8a-97e1b98fc7b4",
   "metadata": {
    "execution": {
     "iopub.execute_input": "2025-10-07T10:07:15.640454Z",
     "iopub.status.busy": "2025-10-07T10:07:15.639583Z",
     "iopub.status.idle": "2025-10-07T10:07:15.854680Z",
     "shell.execute_reply": "2025-10-07T10:07:15.853532Z",
     "shell.execute_reply.started": "2025-10-07T10:07:15.640421Z"
    }
   },
   "outputs": [
    {
     "name": "stdout",
     "output_type": "stream",
     "text": [
      "r= 0      w_0= 28.83    rmse= 0.52\n",
      "r= 0.01      w_0= 24.93    rmse= 0.52\n",
      "r= 0.1      w_0= 11.24    rmse= 0.52\n",
      "r= 1      w_0= 1.73    rmse= 0.52\n",
      "r= 5      w_0= 0.36    rmse= 0.52\n",
      "r= 10      w_0= 0.18    rmse= 0.52\n",
      "r= 100      w_0= 0.02    rmse= 0.52\n"
     ]
    }
   ],
   "source": [
    "for r in [0, 0.01, 0.1, 1, 5, 10, 100]:\n",
    "    w_0, w = train_linear_regression_reg(X_0_train, y_0_train, r=r)\n",
    "\n",
    "    X_0_val = prepare_X(df_0_val)\n",
    "    y_0_pred = w_0 + X_0_val.dot(w)\n",
    "    score = rmse(y_0_val, y_0_pred)\n",
    "\n",
    "    print(\"r=\", r,\"     w_0=\", round(w_0, 2), \"   rmse=\", round(score, 2))"
   ]
  },
  {
   "cell_type": "code",
   "execution_count": 35,
   "id": "d43b5c26-9f73-484b-911d-e746aa1b556d",
   "metadata": {
    "execution": {
     "iopub.execute_input": "2025-10-07T10:07:15.856564Z",
     "iopub.status.busy": "2025-10-07T10:07:15.856079Z",
     "iopub.status.idle": "2025-10-07T10:07:15.897467Z",
     "shell.execute_reply": "2025-10-07T10:07:15.896451Z",
     "shell.execute_reply.started": "2025-10-07T10:07:15.856530Z"
    }
   },
   "outputs": [
    {
     "name": "stdout",
     "output_type": "stream",
     "text": [
      "validation: 28.812024672654253\n",
      "test: 28.82979741108208\n"
     ]
    }
   ],
   "source": [
    "X_0_train = prepare_X(df_0_train)\n",
    "w0, w = train_linear_regression_reg(X_0_train, y_0_train, r=0.0)\n",
    "\n",
    "X_0_val = prepare_X(df_0_val)\n",
    "y_0_pred = w_0 + X_0_val.dot(w)\n",
    "print('validation:', rmse(y_0_val, y_0_pred))\n",
    "\n",
    "X_0_test = prepare_X(df_0_test)\n",
    "y_0_pred = w_0 + X_0_test.dot(w)\n",
    "print('test:', rmse(y_0_test, y_0_pred))"
   ]
  },
  {
   "cell_type": "markdown",
   "id": "d6d49b84-ee3e-4d04-9a24-ced07050b830",
   "metadata": {},
   "source": [
    "r = 0"
   ]
  },
  {
   "cell_type": "markdown",
   "id": "7237e520-d13f-4f98-929e-07a0fa4e79c7",
   "metadata": {},
   "source": [
    "### Question 5\n",
    "We used seed 42 for splitting the data. Let's find out how selecting the seed influences our score.\n",
    "- Try different seed values: [0, 1, 2, 3, 4, 5, 6, 7, 8, 9].\n",
    "- For each seed, do the train/validation/test split with 60%/20%/20% distribution.\n",
    "- Fill the missing values with 0 and train a model without regularization.\n",
    "- For each seed, evaluate the model on the validation dataset and collect the RMSE scores.\n",
    "- What's the standard deviation of all the scores? To compute the standard deviation, use np.std.\n",
    "- Round the result to 3 decimal digits (round(std, 3))"
   ]
  },
  {
   "cell_type": "code",
   "execution_count": 36,
   "id": "e70ee2f0-5797-4192-b147-a7a95d74fecc",
   "metadata": {
    "execution": {
     "iopub.execute_input": "2025-10-07T10:07:15.899901Z",
     "iopub.status.busy": "2025-10-07T10:07:15.899036Z",
     "iopub.status.idle": "2025-10-07T10:07:15.906743Z",
     "shell.execute_reply": "2025-10-07T10:07:15.905106Z",
     "shell.execute_reply.started": "2025-10-07T10:07:15.899875Z"
    }
   },
   "outputs": [],
   "source": [
    "def train_test_val_split(df, idx):\n",
    "    n = len(df)\n",
    "    n_val = int(n * 0.2)\n",
    "    n_test = int(n * 0.2)\n",
    "    n_train = n - n_val - n_test\n",
    "\n",
    "    df_train = df.iloc[idx[:n_train]]\n",
    "    df_val = df.iloc[idx[n_train:n_train+n_val]]\n",
    "    df_test = df.iloc[idx[n_train+n_val:]]\n",
    "\n",
    "    return df_train, df_val, df_test"
   ]
  },
  {
   "cell_type": "code",
   "execution_count": 37,
   "id": "eb12bd01-734f-44cf-932e-e679cbcfaea1",
   "metadata": {
    "execution": {
     "iopub.execute_input": "2025-10-07T10:07:15.908602Z",
     "iopub.status.busy": "2025-10-07T10:07:15.908003Z",
     "iopub.status.idle": "2025-10-07T10:07:16.193684Z",
     "shell.execute_reply": "2025-10-07T10:07:16.191176Z",
     "shell.execute_reply.started": "2025-10-07T10:07:15.908570Z"
    },
    "scrolled": true
   },
   "outputs": [
    {
     "name": "stdout",
     "output_type": "stream",
     "text": [
      "seed=0, w_0=27.38, score=0.52\n",
      "seed=1, w_0=29.02, score=0.52\n",
      "seed=2, w_0=25.9, score=0.52\n",
      "seed=3, w_0=28.02, score=0.52\n",
      "seed=4, w_0=25.93, score=0.51\n",
      "seed=5, w_0=25.9, score=0.53\n",
      "seed=6, w_0=25.92, score=0.53\n",
      "seed=7, w_0=28.41, score=0.51\n",
      "seed=8, w_0=26.48, score=0.51\n",
      "seed=9, w_0=27.51, score=0.51\n"
     ]
    }
   ],
   "source": [
    "score = np.zeros(10)\n",
    "for seed in [0, 1, 2, 3, 4, 5, 6, 7, 8, 9]:\n",
    "    idx = np.arange(n)\n",
    "    np.random.seed(seed)\n",
    "    np.random.shuffle(idx)\n",
    "\n",
    "    df_0_train, df_0_val, df_0_test = train_test_val_split(df_0, idx)\n",
    "    X_train, y_train = X_y_split(df_0_train)\n",
    "    X_test, y_test = X_y_split(df_0_test)\n",
    "    X_val, y_val = X_y_split(df_0_val)\n",
    "\n",
    "    w_0, w = train_linear_regression(X_train, y_train)\n",
    "\n",
    "    #X_test = prepare_X(df_0_test)\n",
    "    #y_pred = w_0 + X_train.dot(w)\n",
    "\n",
    "    #X_train = prepare_X(df_0_train)\n",
    "    #w_0, w = train_linear_regression(X_train, y_train)\n",
    "\n",
    "    #y_pred = w_0 + X_train.dot(w)\n",
    "   # print('train:', rmse(y_train, y_pred))\n",
    "\n",
    "    #X_val = prepare_X(df_0_val)\n",
    "    y_pred = w_0 + X_val.dot(w)\n",
    "    #print('validation:', rmse(y_val, y_pred))\n",
    "\n",
    "    score[seed] = rmse(y_val, y_pred)\n",
    "\n",
    "    print(\"seed=%s, w_0=%s, score=%s\" % (seed, round(w_0, 2), round(score[seed], 2)))\n",
    "\n",
    "\n",
    "    #score[seed] = rmse(y_train, y_pred)\n"
   ]
  },
  {
   "cell_type": "code",
   "execution_count": 38,
   "id": "b00ba6b9-ef6b-405f-82c3-b5f90cbb3f32",
   "metadata": {
    "execution": {
     "iopub.execute_input": "2025-10-07T10:07:16.196394Z",
     "iopub.status.busy": "2025-10-07T10:07:16.195125Z",
     "iopub.status.idle": "2025-10-07T10:07:16.206380Z",
     "shell.execute_reply": "2025-10-07T10:07:16.204693Z",
     "shell.execute_reply.started": "2025-10-07T10:07:16.196351Z"
    }
   },
   "outputs": [
    {
     "data": {
      "text/plain": [
       "array([0.52065313, 0.52133889, 0.522807  , 0.51595167, 0.51091295,\n",
       "       0.52834065, 0.53139107, 0.50906704, 0.51473991, 0.51318659])"
      ]
     },
     "execution_count": 38,
     "metadata": {},
     "output_type": "execute_result"
    }
   ],
   "source": [
    "score"
   ]
  },
  {
   "cell_type": "code",
   "execution_count": 39,
   "id": "b4118079-4ecc-405e-9429-498c7882318c",
   "metadata": {
    "execution": {
     "iopub.execute_input": "2025-10-07T10:07:16.209464Z",
     "iopub.status.busy": "2025-10-07T10:07:16.208003Z",
     "iopub.status.idle": "2025-10-07T10:07:16.218163Z",
     "shell.execute_reply": "2025-10-07T10:07:16.216847Z",
     "shell.execute_reply.started": "2025-10-07T10:07:16.209423Z"
    }
   },
   "outputs": [
    {
     "data": {
      "text/plain": [
       "0.0"
      ]
     },
     "execution_count": 39,
     "metadata": {},
     "output_type": "execute_result"
    }
   ],
   "source": [
    "round(score[seed].std(),3 )"
   ]
  },
  {
   "cell_type": "code",
   "execution_count": 40,
   "id": "b0abd85b",
   "metadata": {
    "execution": {
     "iopub.execute_input": "2025-10-07T10:07:16.222768Z",
     "iopub.status.busy": "2025-10-07T10:07:16.221843Z",
     "iopub.status.idle": "2025-10-07T10:07:16.234242Z",
     "shell.execute_reply": "2025-10-07T10:07:16.230409Z",
     "shell.execute_reply.started": "2025-10-07T10:07:16.222733Z"
    }
   },
   "outputs": [
    {
     "data": {
      "text/plain": [
       "0.007"
      ]
     },
     "execution_count": 40,
     "metadata": {},
     "output_type": "execute_result"
    }
   ],
   "source": [
    "round(score.std(), 3)"
   ]
  },
  {
   "cell_type": "markdown",
   "id": "c763da63-274f-4996-becd-d15183467245",
   "metadata": {},
   "source": [
    "### Question 6\n",
    "- Split the dataset like previously, use seed 9.\n",
    "- Combine train and validation datasets.\n",
    "- Fill the missing values with 0 and train a model with r=0.001.\n",
    "- What's the RMSE on the test dataset?"
   ]
  },
  {
   "cell_type": "code",
   "execution_count": 41,
   "id": "27dd53e3-fa45-4ec2-96ac-dd8e5f63821d",
   "metadata": {
    "execution": {
     "iopub.execute_input": "2025-10-07T10:07:16.237485Z",
     "iopub.status.busy": "2025-10-07T10:07:16.237071Z",
     "iopub.status.idle": "2025-10-07T10:07:16.246858Z",
     "shell.execute_reply": "2025-10-07T10:07:16.243409Z",
     "shell.execute_reply.started": "2025-10-07T10:07:16.237451Z"
    }
   },
   "outputs": [],
   "source": [
    "idx = np.arange(n)"
   ]
  },
  {
   "cell_type": "code",
   "execution_count": 42,
   "id": "858aba15-a1b8-4396-8df1-a3a701ac090c",
   "metadata": {
    "execution": {
     "iopub.execute_input": "2025-10-07T10:07:16.250959Z",
     "iopub.status.busy": "2025-10-07T10:07:16.250610Z",
     "iopub.status.idle": "2025-10-07T10:07:16.267752Z",
     "shell.execute_reply": "2025-10-07T10:07:16.259672Z",
     "shell.execute_reply.started": "2025-10-07T10:07:16.250929Z"
    }
   },
   "outputs": [],
   "source": [
    "np.random.seed(9)\n",
    "\n",
    "np.random.shuffle(idx)"
   ]
  },
  {
   "cell_type": "code",
   "execution_count": 43,
   "id": "b9f03205",
   "metadata": {
    "execution": {
     "iopub.execute_input": "2025-10-07T10:07:16.273738Z",
     "iopub.status.busy": "2025-10-07T10:07:16.273063Z",
     "iopub.status.idle": "2025-10-07T10:07:16.297830Z",
     "shell.execute_reply": "2025-10-07T10:07:16.283457Z",
     "shell.execute_reply.started": "2025-10-07T10:07:16.273712Z"
    }
   },
   "outputs": [],
   "source": [
    "df_train, df_val, df_test = train_test_val_split(df_0, idx)\n"
   ]
  },
  {
   "cell_type": "code",
   "execution_count": 44,
   "id": "d5ae2d63-be60-43ab-b4ee-6ce2631e8be2",
   "metadata": {
    "execution": {
     "iopub.execute_input": "2025-10-07T10:07:16.300422Z",
     "iopub.status.busy": "2025-10-07T10:07:16.299950Z",
     "iopub.status.idle": "2025-10-07T10:07:16.333813Z",
     "shell.execute_reply": "2025-10-07T10:07:16.326763Z",
     "shell.execute_reply.started": "2025-10-07T10:07:16.300388Z"
    }
   },
   "outputs": [
    {
     "name": "stdout",
     "output_type": "stream",
     "text": [
      "test: 0.5158\n"
     ]
    }
   ],
   "source": [
    "X_train, y_train = X_y_split(df_train)\n",
    "w0, w = train_linear_regression_reg(X_train, y_train, r=0.001)\n",
    "\n",
    "X_val, y_val = X_y_split(df_val)\n",
    "y_pred = w0 + X_val.dot(w)\n",
    "#print('validation:', rmse(y_val, y_pred))\n",
    "\n",
    "X_test, y_test = X_y_split(df_test)\n",
    "y_pred = w0 + X_test.dot(w)\n",
    "print('test:', round(rmse(y_test, y_pred), 4))"
   ]
  }
 ],
 "metadata": {
  "colab": {
   "provenance": []
  },
  "kernelspec": {
   "display_name": "Python 3 (ipykernel)",
   "language": "python",
   "name": "python3"
  },
  "language_info": {
   "codemirror_mode": {
    "name": "ipython",
    "version": 3
   },
   "file_extension": ".py",
   "mimetype": "text/x-python",
   "name": "python",
   "nbconvert_exporter": "python",
   "pygments_lexer": "ipython3",
   "version": "3.12.9"
  }
 },
 "nbformat": 4,
 "nbformat_minor": 5
}

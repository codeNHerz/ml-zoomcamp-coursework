{
 "cells": [
  {
   "cell_type": "code",
   "execution_count": null,
   "id": "4632d45e-e272-4dd7-9e1f-4d1e41619e16",
   "metadata": {},
   "outputs": [],
   "source": []
  },
  {
   "cell_type": "markdown",
   "id": "2c0d3c92-4007-46e6-ac36-4ac6059ea1d4",
   "metadata": {
    "execution": {
     "iopub.execute_input": "2025-09-30T18:01:23.311252Z",
     "iopub.status.busy": "2025-09-30T18:01:23.310833Z",
     "iopub.status.idle": "2025-09-30T18:01:23.331081Z",
     "shell.execute_reply": "2025-09-30T18:01:23.325822Z",
     "shell.execute_reply.started": "2025-09-30T18:01:23.311212Z"
    }
   },
   "source": [
    "predict ?"
   ]
  },
  {
   "cell_type": "markdown",
   "id": "20c7df72-b361-4bb5-9c45-2e2e168abfd5",
   "metadata": {},
   "source": [
    "72 \n",
    "auswahl an anweisungen die immer bei einembefehl ausgeführt werden???"
   ]
  },
  {
   "cell_type": "markdown",
   "id": "0269baa6-b5c0-4b46-9dc0-232dd84196e9",
   "metadata": {
    "execution": {
     "iopub.status.busy": "2025-09-30T18:01:23.332162Z",
     "iopub.status.idle": "2025-09-30T18:01:23.336225Z",
     "shell.execute_reply": "2025-09-30T18:01:23.335151Z",
     "shell.execute_reply.started": "2025-09-30T18:01:23.335110Z"
    }
   },
   "source": [
    "return x"
   ]
  },
  {
   "cell_type": "markdown",
   "id": "383e688c-04d4-47c9-a729-110405fc2143",
   "metadata": {
    "execution": {
     "iopub.status.busy": "2025-09-30T18:01:23.338098Z",
     "iopub.status.idle": "2025-09-30T18:01:23.344306Z",
     "shell.execute_reply": "2025-09-30T18:01:23.338660Z",
     "shell.execute_reply.started": "2025-09-30T18:01:23.338624Z"
    }
   },
   "source": [
    "2.12 ND 2,3,4 ??? wie sehen diese Autos aus"
   ]
  },
  {
   "cell_type": "markdown",
   "id": "90a9c3d0-1942-4df1-a23d-4186c34c8055",
   "metadata": {
    "execution": {
     "iopub.status.busy": "2025-09-30T18:01:23.347859Z",
     "iopub.status.idle": "2025-09-30T18:01:23.348831Z",
     "shell.execute_reply": "2025-09-30T18:01:23.348593Z",
     "shell.execute_reply.started": "2025-09-30T18:01:23.348567Z"
    }
   },
   "source": [
    "append?"
   ]
  },
  {
   "cell_type": "markdown",
   "id": "a7b9f0f8-b1b7-4f2d-acdd-ab06c0e81bdb",
   "metadata": {
    "execution": {
     "iopub.status.busy": "2025-09-30T18:01:23.359020Z",
     "iopub.status.idle": "2025-09-30T18:01:23.368494Z",
     "shell.execute_reply": "2025-09-30T18:01:23.367333Z",
     "shell.execute_reply.started": "2025-09-30T18:01:23.367283Z"
    }
   },
   "source": [
    "12: add a small number to diagonal \n"
   ]
  },
  {
   "cell_type": "markdown",
   "id": "093f9ddd-a056-45e5-81c6-60db9f6cd64d",
   "metadata": {},
   "source": [
    "HOMEWORK"
   ]
  },
  {
   "cell_type": "markdown",
   "id": "1faa172b-5634-472e-89b7-42ddb75ed2dd",
   "metadata": {},
   "source": [
    "The goal of this homework is to create a regression model for predicting the car fuel efficiency (column 'fuel_efficiency_mpg')."
   ]
  },
  {
   "cell_type": "code",
   "execution_count": 1,
   "id": "0191b373-0ecd-42b6-8541-22251816e9ee",
   "metadata": {
    "execution": {
     "iopub.execute_input": "2025-10-02T19:56:17.154142Z",
     "iopub.status.busy": "2025-10-02T19:56:17.146765Z",
     "iopub.status.idle": "2025-10-02T19:56:18.533593Z",
     "shell.execute_reply": "2025-10-02T19:56:18.532274Z",
     "shell.execute_reply.started": "2025-10-02T19:56:17.153823Z"
    }
   },
   "outputs": [],
   "source": [
    "import pandas as pd\n",
    "import numpy as np"
   ]
  },
  {
   "cell_type": "code",
   "execution_count": 2,
   "id": "67c7c2fb-598d-4666-8e4e-81444f2a3b16",
   "metadata": {
    "execution": {
     "iopub.execute_input": "2025-10-02T19:56:18.535261Z",
     "iopub.status.busy": "2025-10-02T19:56:18.534704Z",
     "iopub.status.idle": "2025-10-02T19:56:18.545689Z",
     "shell.execute_reply": "2025-10-02T19:56:18.545018Z",
     "shell.execute_reply.started": "2025-10-02T19:56:18.535217Z"
    }
   },
   "outputs": [],
   "source": [
    "data = 'https://raw.githubusercontent.com/alexeygrigorev/datasets/master/car_fuel_efficiency.csv'"
   ]
  },
  {
   "cell_type": "code",
   "execution_count": 3,
   "id": "14420db8-9284-41b5-9432-e59a00b7b6b1",
   "metadata": {
    "execution": {
     "iopub.execute_input": "2025-10-02T19:56:18.547651Z",
     "iopub.status.busy": "2025-10-02T19:56:18.547119Z",
     "iopub.status.idle": "2025-10-02T19:56:19.157154Z",
     "shell.execute_reply": "2025-10-02T19:56:19.154896Z",
     "shell.execute_reply.started": "2025-10-02T19:56:18.547618Z"
    }
   },
   "outputs": [
    {
     "name": "stdout",
     "output_type": "stream",
     "text": [
      "--2025-10-02 21:56:18--  https://raw.githubusercontent.com/alexeygrigorev/datasets/master/car_fuel_efficiency.csv\n",
      "Resolving raw.githubusercontent.com (raw.githubusercontent.com)... 185.199.108.133, 185.199.109.133, 185.199.110.133, ...\n",
      "connected. to raw.githubusercontent.com (raw.githubusercontent.com)|185.199.108.133|:443... \n",
      "200 OKequest sent, awaiting response... \n",
      "Length: 874188 (854K) [text/plain]\n",
      "Saving to: ‘car_fuel_efficiency.csv’\n",
      "\n",
      "car_fuel_efficiency 100%[===================>] 853.70K  --.-KB/s    in 0.09s   \n",
      "\n",
      "2025-10-02 21:56:19 (9.01 MB/s) - ‘car_fuel_efficiency.csv’ saved [874188/874188]\n",
      "\n"
     ]
    }
   ],
   "source": [
    "!wget $data -O car_fuel_efficiency.csv"
   ]
  },
  {
   "cell_type": "code",
   "execution_count": 4,
   "id": "d214a657-d33f-433f-ab76-c14da66a6071",
   "metadata": {
    "execution": {
     "iopub.execute_input": "2025-10-02T19:56:19.169978Z",
     "iopub.status.busy": "2025-10-02T19:56:19.160065Z",
     "iopub.status.idle": "2025-10-02T19:56:19.260479Z",
     "shell.execute_reply": "2025-10-02T19:56:19.258983Z",
     "shell.execute_reply.started": "2025-10-02T19:56:19.169920Z"
    }
   },
   "outputs": [],
   "source": [
    "df = pd.read_csv('car_fuel_efficiency.csv')"
   ]
  },
  {
   "cell_type": "code",
   "execution_count": 5,
   "id": "a5e45de3-514f-4083-8590-440513040608",
   "metadata": {
    "execution": {
     "iopub.execute_input": "2025-10-02T19:56:19.262277Z",
     "iopub.status.busy": "2025-10-02T19:56:19.261889Z",
     "iopub.status.idle": "2025-10-02T19:56:19.272340Z",
     "shell.execute_reply": "2025-10-02T19:56:19.271068Z",
     "shell.execute_reply.started": "2025-10-02T19:56:19.262224Z"
    }
   },
   "outputs": [],
   "source": [
    "df = df[['engine_displacement','horsepower','vehicle_weight','model_year','fuel_efficiency_mpg']]"
   ]
  },
  {
   "cell_type": "code",
   "execution_count": 6,
   "id": "1a452b4e-970d-41a5-8794-72c7b8de9247",
   "metadata": {
    "execution": {
     "iopub.execute_input": "2025-10-02T19:56:19.281727Z",
     "iopub.status.busy": "2025-10-02T19:56:19.281304Z",
     "iopub.status.idle": "2025-10-02T19:56:21.896657Z",
     "shell.execute_reply": "2025-10-02T19:56:21.895608Z",
     "shell.execute_reply.started": "2025-10-02T19:56:19.281698Z"
    }
   },
   "outputs": [],
   "source": [
    "import matplotlib.pyplot as plt\n",
    "import seaborn as sns\n",
    "\n",
    "%matplotlib inline"
   ]
  },
  {
   "cell_type": "code",
   "execution_count": 7,
   "id": "eb83ab1a-6856-46af-b82a-a47a95793c49",
   "metadata": {
    "execution": {
     "iopub.execute_input": "2025-10-02T19:56:21.898235Z",
     "iopub.status.busy": "2025-10-02T19:56:21.897717Z",
     "iopub.status.idle": "2025-10-02T19:56:22.574360Z",
     "shell.execute_reply": "2025-10-02T19:56:22.572918Z",
     "shell.execute_reply.started": "2025-10-02T19:56:21.898197Z"
    }
   },
   "outputs": [
    {
     "data": {
      "text/plain": [
       "<Axes: xlabel='fuel_efficiency_mpg', ylabel='Count'>"
      ]
     },
     "execution_count": 7,
     "metadata": {},
     "output_type": "execute_result"
    },
    {
     "data": {
      "image/png": "[encoded data removed]",
      "text/plain": [
       "<Figure size 640x480 with 1 Axes>"
      ]
     },
     "metadata": {},
     "output_type": "display_data"
    }
   ],
   "source": [
    "sns.histplot(df.fuel_efficiency_mpg, bins=50)"
   ]
  },
  {
   "cell_type": "markdown",
   "id": "5c86bed3-50d8-4df5-b917-3d956e71d186",
   "metadata": {},
   "source": [
    "EDA\n",
    "Look at the fuel_efficiency_mpg variable. Does it have a long tail? NO"
   ]
  },
  {
   "cell_type": "markdown",
   "id": "7272f040-3730-4dac-bfbf-6e54292b73bb",
   "metadata": {},
   "source": [
    "### Question 1\n",
    "There's one column with missing values. What is it?"
   ]
  },
  {
   "cell_type": "code",
   "execution_count": 8,
   "id": "275b49b3-523d-4937-aee0-414b99ec89dd",
   "metadata": {
    "execution": {
     "iopub.execute_input": "2025-10-02T19:56:22.576482Z",
     "iopub.status.busy": "2025-10-02T19:56:22.575918Z",
     "iopub.status.idle": "2025-10-02T19:56:22.617641Z",
     "shell.execute_reply": "2025-10-02T19:56:22.609938Z",
     "shell.execute_reply.started": "2025-10-02T19:56:22.576460Z"
    }
   },
   "outputs": [
    {
     "data": {
      "text/plain": [
       "engine_displacement      0\n",
       "horsepower             708\n",
       "vehicle_weight           0\n",
       "model_year               0\n",
       "fuel_efficiency_mpg      0\n",
       "dtype: int64"
      ]
     },
     "execution_count": 8,
     "metadata": {},
     "output_type": "execute_result"
    }
   ],
   "source": [
    "df.isnull().sum()"
   ]
  },
  {
   "cell_type": "markdown",
   "id": "2a6c1f74-efe7-4a63-bbbd-feacf505c277",
   "metadata": {},
   "source": [
    "'horsepower'"
   ]
  },
  {
   "cell_type": "markdown",
   "id": "ae8960bf-7ea8-4df3-98a3-d9dd65a3a670",
   "metadata": {},
   "source": [
    "### Question 2\n",
    "What's the median (50% percentile) for variable 'horsepower'?"
   ]
  },
  {
   "cell_type": "code",
   "execution_count": 9,
   "id": "8ca4653d-1af1-4a6b-9cf4-f47a3079af7a",
   "metadata": {
    "execution": {
     "iopub.execute_input": "2025-10-02T19:56:22.632465Z",
     "iopub.status.busy": "2025-10-02T19:56:22.631688Z",
     "iopub.status.idle": "2025-10-02T19:56:22.655758Z",
     "shell.execute_reply": "2025-10-02T19:56:22.654447Z",
     "shell.execute_reply.started": "2025-10-02T19:56:22.632432Z"
    }
   },
   "outputs": [
    {
     "data": {
      "text/plain": [
       "149.0"
      ]
     },
     "execution_count": 9,
     "metadata": {},
     "output_type": "execute_result"
    }
   ],
   "source": [
    "df['horsepower'].median()"
   ]
  },
  {
   "cell_type": "markdown",
   "id": "2ea536b2-2a5b-4a0a-8dcd-cc375b874f03",
   "metadata": {},
   "source": [
    "Prepare and split the dataset\n",
    "Shuffle the dataset (the filtered one you created above), use seed 42.\n",
    "Split your data in train/val/test sets, with 60%/20%/20% distribution.\n",
    "Use the same code as in the lectures"
   ]
  },
  {
   "cell_type": "code",
   "execution_count": 10,
   "id": "38b320c1-9d42-4554-ae2b-7e256999dfdd",
   "metadata": {
    "execution": {
     "iopub.execute_input": "2025-10-02T19:56:22.664286Z",
     "iopub.status.busy": "2025-10-02T19:56:22.657153Z",
     "iopub.status.idle": "2025-10-02T19:56:22.672532Z",
     "shell.execute_reply": "2025-10-02T19:56:22.670858Z",
     "shell.execute_reply.started": "2025-10-02T19:56:22.664245Z"
    }
   },
   "outputs": [],
   "source": [
    "n = len(df)\n",
    "\n",
    "n_val = int(n * 0.2)\n",
    "n_test = int(n * 0.2)\n",
    "n_train = n - n_val - n_test"
   ]
  },
  {
   "cell_type": "code",
   "execution_count": 11,
   "id": "1347aef5-3c6c-4df5-be4e-8773d0d89811",
   "metadata": {
    "execution": {
     "iopub.execute_input": "2025-10-02T19:56:22.680327Z",
     "iopub.status.busy": "2025-10-02T19:56:22.674526Z",
     "iopub.status.idle": "2025-10-02T19:56:22.696700Z",
     "shell.execute_reply": "2025-10-02T19:56:22.695385Z",
     "shell.execute_reply.started": "2025-10-02T19:56:22.680281Z"
    }
   },
   "outputs": [
    {
     "data": {
      "text/plain": [
       "9704"
      ]
     },
     "execution_count": 11,
     "metadata": {},
     "output_type": "execute_result"
    }
   ],
   "source": [
    "n"
   ]
  },
  {
   "cell_type": "code",
   "execution_count": 12,
   "id": "622007c6-439e-41f3-a26a-654d9769cbe0",
   "metadata": {
    "execution": {
     "iopub.execute_input": "2025-10-02T19:56:22.698116Z",
     "iopub.status.busy": "2025-10-02T19:56:22.697701Z",
     "iopub.status.idle": "2025-10-02T19:56:22.708698Z",
     "shell.execute_reply": "2025-10-02T19:56:22.707992Z",
     "shell.execute_reply.started": "2025-10-02T19:56:22.698085Z"
    }
   },
   "outputs": [
    {
     "data": {
      "text/plain": [
       "'df_train = df.iloc[:n_train]\\ndf_val = df.iloc[n_train:n_train+n_val]\\ndf_test = df.iloc[n_train+n_val:]'"
      ]
     },
     "execution_count": 12,
     "metadata": {},
     "output_type": "execute_result"
    }
   ],
   "source": [
    "'''df_train = df.iloc[:n_train]\n",
    "df_val = df.iloc[n_train:n_train+n_val]\n",
    "df_test = df.iloc[n_train+n_val:]'''"
   ]
  },
  {
   "cell_type": "markdown",
   "id": "81dd714a-0167-42e2-a760-a105fd0960b7",
   "metadata": {},
   "source": [
    "Datenset gesplittet 60/20/20"
   ]
  },
  {
   "cell_type": "code",
   "execution_count": 13,
   "id": "debe594f-4cfa-48a5-bba5-5186f91c5b32",
   "metadata": {
    "execution": {
     "iopub.execute_input": "2025-10-02T19:56:22.717693Z",
     "iopub.status.busy": "2025-10-02T19:56:22.714126Z",
     "iopub.status.idle": "2025-10-02T19:56:22.758619Z",
     "shell.execute_reply": "2025-10-02T19:56:22.723986Z",
     "shell.execute_reply.started": "2025-10-02T19:56:22.717654Z"
    }
   },
   "outputs": [],
   "source": [
    "idx = np.arange(n)"
   ]
  },
  {
   "cell_type": "code",
   "execution_count": 14,
   "id": "808ea959-bd57-40cc-bb32-8adc7d01796b",
   "metadata": {
    "execution": {
     "iopub.execute_input": "2025-10-02T19:56:22.812572Z",
     "iopub.status.busy": "2025-10-02T19:56:22.811983Z",
     "iopub.status.idle": "2025-10-02T19:56:22.832681Z",
     "shell.execute_reply": "2025-10-02T19:56:22.831479Z",
     "shell.execute_reply.started": "2025-10-02T19:56:22.812521Z"
    }
   },
   "outputs": [],
   "source": [
    "np.random.seed(42)\n",
    "\n",
    "np.random.shuffle(idx)\n"
   ]
  },
  {
   "cell_type": "markdown",
   "id": "e45dbcbd-7b7c-446e-90c6-6be914f7d22b",
   "metadata": {},
   "source": [
    "Datenset geshuffelt"
   ]
  },
  {
   "cell_type": "code",
   "execution_count": 15,
   "id": "b6e4bde9-ad30-4409-b827-d8a81d69210d",
   "metadata": {
    "execution": {
     "iopub.execute_input": "2025-10-02T19:56:22.838113Z",
     "iopub.status.busy": "2025-10-02T19:56:22.836977Z",
     "iopub.status.idle": "2025-10-02T19:56:22.855192Z",
     "shell.execute_reply": "2025-10-02T19:56:22.848360Z",
     "shell.execute_reply.started": "2025-10-02T19:56:22.838036Z"
    }
   },
   "outputs": [],
   "source": [
    "df_train = df.iloc[idx[:n_train]]\n",
    "df_val = df.iloc[idx[n_train:n_train+n_val]]\n",
    "df_test = df.iloc[idx[n_train+n_val:]]"
   ]
  },
  {
   "cell_type": "code",
   "execution_count": 16,
   "id": "ec48e2c5-5465-4224-8cc1-71b2c1bb6ab6",
   "metadata": {
    "execution": {
     "iopub.execute_input": "2025-10-02T19:56:22.867996Z",
     "iopub.status.busy": "2025-10-02T19:56:22.865052Z",
     "iopub.status.idle": "2025-10-02T19:56:22.899341Z",
     "shell.execute_reply": "2025-10-02T19:56:22.898479Z",
     "shell.execute_reply.started": "2025-10-02T19:56:22.867956Z"
    }
   },
   "outputs": [
    {
     "data": {
      "text/html": [
       "<div>\n",
       "<style scoped>\n",
       "    .dataframe tbody tr th:only-of-type {\n",
       "        vertical-align: middle;\n",
       "    }\n",
       "\n",
       "    .dataframe tbody tr th {\n",
       "        vertical-align: top;\n",
       "    }\n",
       "\n",
       "    .dataframe thead th {\n",
       "        text-align: right;\n",
       "    }\n",
       "</style>\n",
       "<table border=\"1\" class=\"dataframe\">\n",
       "  <thead>\n",
       "    <tr style=\"text-align: right;\">\n",
       "      <th></th>\n",
       "      <th>engine_displacement</th>\n",
       "      <th>horsepower</th>\n",
       "      <th>vehicle_weight</th>\n",
       "      <th>model_year</th>\n",
       "      <th>fuel_efficiency_mpg</th>\n",
       "    </tr>\n",
       "  </thead>\n",
       "  <tbody>\n",
       "    <tr>\n",
       "      <th>483</th>\n",
       "      <td>220</td>\n",
       "      <td>144.0</td>\n",
       "      <td>2535.887591</td>\n",
       "      <td>2009</td>\n",
       "      <td>16.642943</td>\n",
       "    </tr>\n",
       "    <tr>\n",
       "      <th>7506</th>\n",
       "      <td>160</td>\n",
       "      <td>141.0</td>\n",
       "      <td>2741.170484</td>\n",
       "      <td>2019</td>\n",
       "      <td>16.298377</td>\n",
       "    </tr>\n",
       "    <tr>\n",
       "      <th>8795</th>\n",
       "      <td>230</td>\n",
       "      <td>155.0</td>\n",
       "      <td>2471.880237</td>\n",
       "      <td>2017</td>\n",
       "      <td>18.591822</td>\n",
       "    </tr>\n",
       "    <tr>\n",
       "      <th>1688</th>\n",
       "      <td>150</td>\n",
       "      <td>206.0</td>\n",
       "      <td>3748.164469</td>\n",
       "      <td>2015</td>\n",
       "      <td>11.818843</td>\n",
       "    </tr>\n",
       "    <tr>\n",
       "      <th>6217</th>\n",
       "      <td>300</td>\n",
       "      <td>111.0</td>\n",
       "      <td>2135.716359</td>\n",
       "      <td>2006</td>\n",
       "      <td>19.402209</td>\n",
       "    </tr>\n",
       "  </tbody>\n",
       "</table>\n",
       "</div>"
      ],
      "text/plain": [
       "      engine_displacement  horsepower  vehicle_weight  model_year  \\\n",
       "483                   220       144.0     2535.887591        2009   \n",
       "7506                  160       141.0     2741.170484        2019   \n",
       "8795                  230       155.0     2471.880237        2017   \n",
       "1688                  150       206.0     3748.164469        2015   \n",
       "6217                  300       111.0     2135.716359        2006   \n",
       "\n",
       "      fuel_efficiency_mpg  \n",
       "483             16.642943  \n",
       "7506            16.298377  \n",
       "8795            18.591822  \n",
       "1688            11.818843  \n",
       "6217            19.402209  "
      ]
     },
     "execution_count": 16,
     "metadata": {},
     "output_type": "execute_result"
    }
   ],
   "source": [
    "df_train.head()"
   ]
  },
  {
   "cell_type": "markdown",
   "id": "47dab0da-1826-4998-b3e1-c084dbb2eeb6",
   "metadata": {},
   "source": [
    "### Question 3\n",
    "We need to deal with missing values for the column from Q1.\n",
    "We have two options: fill it with 0 or with the mean of this variable.\n",
    "Try both options. For each, train a linear regression model without regularization using the code from the lessons.\n",
    "For computing the mean, use the training only!\n",
    "Use the validation dataset to evaluate the models and compare the RMSE of each option.\n",
    "Round the RMSE scores to 2 decimal digits using round(score, 2)\n",
    "Which option gives better RMSE?\n"
   ]
  },
  {
   "cell_type": "code",
   "execution_count": 17,
   "id": "92b2af4b-f76b-4c39-a240-b5f5f91fb042",
   "metadata": {
    "execution": {
     "iopub.execute_input": "2025-10-02T19:56:22.901761Z",
     "iopub.status.busy": "2025-10-02T19:56:22.901232Z",
     "iopub.status.idle": "2025-10-02T19:56:22.907905Z",
     "shell.execute_reply": "2025-10-02T19:56:22.906071Z",
     "shell.execute_reply.started": "2025-10-02T19:56:22.901726Z"
    }
   },
   "outputs": [],
   "source": [
    "df_0 = df.fillna(0)"
   ]
  },
  {
   "cell_type": "markdown",
   "id": "4172aae4-0335-4dd6-b776-61bfee697167",
   "metadata": {},
   "source": [
    "fehlende Werte durch Null ersetzt und Fkt als df_0 definiert"
   ]
  },
  {
   "cell_type": "code",
   "execution_count": 18,
   "id": "93a07385-0a41-4289-aca1-e045be589a80",
   "metadata": {
    "execution": {
     "iopub.execute_input": "2025-10-02T19:56:22.910056Z",
     "iopub.status.busy": "2025-10-02T19:56:22.909742Z",
     "iopub.status.idle": "2025-10-02T19:56:22.917375Z",
     "shell.execute_reply": "2025-10-02T19:56:22.916491Z",
     "shell.execute_reply.started": "2025-10-02T19:56:22.910034Z"
    }
   },
   "outputs": [],
   "source": [
    "df_mean = df.fillna(df_train.horsepower.mean())"
   ]
  },
  {
   "cell_type": "markdown",
   "id": "a116e408-66bb-4340-924f-a68184461b6f",
   "metadata": {
    "execution": {
     "iopub.execute_input": "2025-10-01T18:03:26.029327Z",
     "iopub.status.busy": "2025-10-01T18:03:26.028936Z",
     "iopub.status.idle": "2025-10-01T18:03:26.042437Z",
     "shell.execute_reply": "2025-10-01T18:03:26.039774Z",
     "shell.execute_reply.started": "2025-10-01T18:03:26.029303Z"
    }
   },
   "source": [
    "fehlende Werte durch mean des trainingsdatensets von horsepower ersetzt und Fkt als df_mean definiert\n"
   ]
  },
  {
   "cell_type": "markdown",
   "id": "1471fa27-eab1-4714-b588-f6f131bbf017",
   "metadata": {},
   "source": [
    "Ein Modell mit linearer Regression trainieren mit fehlenden Werten = 0:"
   ]
  },
  {
   "cell_type": "code",
   "execution_count": 19,
   "id": "250d3f7f-ff2d-4fcd-8eb3-be0847344b7a",
   "metadata": {
    "execution": {
     "iopub.execute_input": "2025-10-02T19:56:22.919348Z",
     "iopub.status.busy": "2025-10-02T19:56:22.918829Z",
     "iopub.status.idle": "2025-10-02T19:56:22.929253Z",
     "shell.execute_reply": "2025-10-02T19:56:22.927737Z",
     "shell.execute_reply.started": "2025-10-02T19:56:22.919326Z"
    }
   },
   "outputs": [],
   "source": [
    "df_0_train = df_0.iloc[idx[:n_train]]\n",
    "df_0_val = df_0.iloc[idx[n_train:n_train+n_val]]\n",
    "df_0_test = df_0.iloc[idx[n_train+n_val:]]\n",
    "\n",
    "df_mean_train = df_mean.iloc[idx[:n_train]]\n",
    "df_mean_val = df_mean.iloc[idx[n_train:n_train+n_val]]\n",
    "df_mean_test = df_mean.iloc[idx[n_train+n_val:]]"
   ]
  },
  {
   "cell_type": "code",
   "execution_count": 20,
   "id": "ed8cfbaf-95a1-435b-bd91-803735e78cee",
   "metadata": {
    "execution": {
     "iopub.execute_input": "2025-10-02T19:56:22.931753Z",
     "iopub.status.busy": "2025-10-02T19:56:22.931066Z",
     "iopub.status.idle": "2025-10-02T19:56:22.937145Z",
     "shell.execute_reply": "2025-10-02T19:56:22.935533Z",
     "shell.execute_reply.started": "2025-10-02T19:56:22.931716Z"
    }
   },
   "outputs": [],
   "source": [
    "def train_test_val_split(df, idx):\n",
    "    n = len(df)\n",
    "    n_val = int(n * 0.2)\n",
    "    n_test = int(n * 0.2)\n",
    "    n_train = n - n_val - n_test\n",
    "    \n",
    "    df_train = df.iloc[idx[:n_train]]\n",
    "    df_val = df.iloc[idx[n_train:n_train+n_val]]\n",
    "    df_test = df.iloc[idx[n_train+n_val:]]\n",
    "\n",
    "    return df_train, df_val, df_test"
   ]
  },
  {
   "cell_type": "code",
   "execution_count": 21,
   "id": "503d86d1-d856-4b76-9eef-b9a90c934592",
   "metadata": {
    "execution": {
     "iopub.execute_input": "2025-10-02T19:56:22.951011Z",
     "iopub.status.busy": "2025-10-02T19:56:22.949417Z",
     "iopub.status.idle": "2025-10-02T19:56:22.959473Z",
     "shell.execute_reply": "2025-10-02T19:56:22.958440Z",
     "shell.execute_reply.started": "2025-10-02T19:56:22.950934Z"
    }
   },
   "outputs": [],
   "source": [
    "df_0_train, df_0_val, df_0_test = train_test_val_split(df_0, idx)\n",
    "df_mean_train, df_mean_val, df_mean_test = train_test_val_split(df_mean, idx)"
   ]
  },
  {
   "cell_type": "code",
   "execution_count": 22,
   "id": "26362a2e-6d2b-41b2-84bc-95c0f25d83d3",
   "metadata": {
    "execution": {
     "iopub.execute_input": "2025-10-02T19:56:22.962116Z",
     "iopub.status.busy": "2025-10-02T19:56:22.961041Z",
     "iopub.status.idle": "2025-10-02T19:56:22.970792Z",
     "shell.execute_reply": "2025-10-02T19:56:22.970092Z",
     "shell.execute_reply.started": "2025-10-02T19:56:22.962037Z"
    }
   },
   "outputs": [],
   "source": [
    "def X_y_split(df):\n",
    "    base = ['engine_displacement', 'horsepower', 'vehicle_weight', 'model_year']\n",
    "    \n",
    "    X = df[base]\n",
    "    y = df['fuel_efficiency_mpg']\n",
    "    \n",
    "    return np.array(X), np.array(y)"
   ]
  },
  {
   "cell_type": "code",
   "execution_count": 23,
   "id": "e0051f39-333c-43b0-97e3-02b84b35c620",
   "metadata": {
    "execution": {
     "iopub.execute_input": "2025-10-02T19:56:22.974136Z",
     "iopub.status.busy": "2025-10-02T19:56:22.972265Z",
     "iopub.status.idle": "2025-10-02T19:56:22.984546Z",
     "shell.execute_reply": "2025-10-02T19:56:22.983597Z",
     "shell.execute_reply.started": "2025-10-02T19:56:22.974100Z"
    }
   },
   "outputs": [],
   "source": [
    "X_0_train, y_0_train = X_y_split(df_0_train)\n",
    "X_0_val, y_0_val = X_y_split(df_0_val)\n",
    "X_0_test, y_0_test = X_y_split(df_0_test)\n",
    "\n",
    "X_mean_train, y_mean_train = X_y_split(df_mean_train)\n",
    "X_mean_val, y_mean_val = X_y_split(df_mean_val)\n",
    "X_mean_test, y_mean_test = X_y_split(df_mean_test)\n",
    "\n",
    "#X_0_train, y_0_train,X_0_val, y_0_val, X_0_test, y_0_test, X_mean_train, y_0_train, X_mean_val, y_0_val, X_mean_test, y_0_test"
   ]
  },
  {
   "cell_type": "code",
   "execution_count": 25,
   "id": "92616315-6cc9-40d2-9000-cc071a50f470",
   "metadata": {
    "execution": {
     "iopub.execute_input": "2025-10-02T19:56:22.994890Z",
     "iopub.status.busy": "2025-10-02T19:56:22.994350Z",
     "iopub.status.idle": "2025-10-02T19:56:22.999154Z",
     "shell.execute_reply": "2025-10-02T19:56:22.997789Z",
     "shell.execute_reply.started": "2025-10-02T19:56:22.994869Z"
    }
   },
   "outputs": [],
   "source": [
    "def train_linear_regression(X, y):\n",
    "    ones = np.ones(X.shape[0])\n",
    "    X = np.column_stack([ones, X])\n",
    "\n",
    "    XTX = X.T.dot(X)\n",
    "    XTX_inv = np.linalg.inv(XTX)\n",
    "    w = XTX_inv.dot(X.T).dot(y)\n",
    "    \n",
    "    return w[0], w[1:]"
   ]
  },
  {
   "cell_type": "code",
   "execution_count": 26,
   "id": "c3da22f3-66a8-4245-a380-c458f5de333f",
   "metadata": {
    "execution": {
     "iopub.execute_input": "2025-10-02T19:56:23.002383Z",
     "iopub.status.busy": "2025-10-02T19:56:23.001932Z",
     "iopub.status.idle": "2025-10-02T19:56:23.007846Z",
     "shell.execute_reply": "2025-10-02T19:56:23.007073Z",
     "shell.execute_reply.started": "2025-10-02T19:56:23.002354Z"
    }
   },
   "outputs": [],
   "source": [
    "base = ['engine_displacement', 'horsepower', 'vehicle_weight', 'model_year']"
   ]
  },
  {
   "cell_type": "code",
   "execution_count": 27,
   "id": "7f6d0192-efee-4ca6-bfe4-bf8de491bcb0",
   "metadata": {
    "execution": {
     "iopub.execute_input": "2025-10-02T19:56:23.010505Z",
     "iopub.status.busy": "2025-10-02T19:56:23.009988Z",
     "iopub.status.idle": "2025-10-02T19:56:23.076326Z",
     "shell.execute_reply": "2025-10-02T19:56:23.072856Z",
     "shell.execute_reply.started": "2025-10-02T19:56:23.010481Z"
    }
   },
   "outputs": [],
   "source": [
    "w_0_0, w_0 = train_linear_regression(X_0_train, y_0_train)\n",
    "w_0_mean, w_mean = train_linear_regression(X_mean_train, y_mean_train)"
   ]
  },
  {
   "cell_type": "code",
   "execution_count": 33,
   "id": "54d14157-40f9-4189-b3c5-7115574dab7c",
   "metadata": {
    "execution": {
     "iopub.execute_input": "2025-10-02T20:02:52.223132Z",
     "iopub.status.busy": "2025-10-02T20:02:52.222688Z",
     "iopub.status.idle": "2025-10-02T20:02:52.231664Z",
     "shell.execute_reply": "2025-10-02T20:02:52.230632Z",
     "shell.execute_reply.started": "2025-10-02T20:02:52.223068Z"
    }
   },
   "outputs": [],
   "source": [
    "y_0_pred = w_0_0 + X_0_train.dot(w_0)\n",
    "y_mean_pred = w_0_mean + X_mean_train.dot(w_mean)\n",
    "\n",
    "y_0_pred_val = w_0_0 + X_0_val.dot(w_0)\n",
    "y_mean_pred_val = w_0_mean + X_0_val.dot(w_mean)"
   ]
  },
  {
   "cell_type": "code",
   "execution_count": null,
   "id": "aca0a89f-c252-43f1-8df5-40da8f6178e4",
   "metadata": {},
   "outputs": [],
   "source": [
    "X_val = prepare_X(df_val)\n",
    "y_pred = w_0 + X_val.dot(w)"
   ]
  },
  {
   "cell_type": "code",
   "execution_count": null,
   "id": "b4116625-3053-4353-a3d1-000c658cb3b2",
   "metadata": {
    "execution": {
     "iopub.status.busy": "2025-10-02T19:56:23.987303Z",
     "iopub.status.idle": "2025-10-02T19:56:23.987703Z",
     "shell.execute_reply": "2025-10-02T19:56:23.987502Z",
     "shell.execute_reply.started": "2025-10-02T19:56:23.987485Z"
    }
   },
   "outputs": [],
   "source": []
  },
  {
   "cell_type": "code",
   "execution_count": null,
   "id": "397831d2-90ec-4c88-9375-79dc1183e46b",
   "metadata": {
    "execution": {
     "iopub.status.busy": "2025-10-02T19:56:23.989873Z",
     "iopub.status.idle": "2025-10-02T19:56:23.991640Z",
     "shell.execute_reply": "2025-10-02T19:56:23.991319Z",
     "shell.execute_reply.started": "2025-10-02T19:56:23.991291Z"
    }
   },
   "outputs": [],
   "source": []
  },
  {
   "cell_type": "code",
   "execution_count": null,
   "id": "28637298-aafa-4a84-b815-cb637cb69115",
   "metadata": {
    "execution": {
     "iopub.status.busy": "2025-10-02T19:56:24.018502Z",
     "iopub.status.idle": "2025-10-02T19:56:24.019648Z",
     "shell.execute_reply": "2025-10-02T19:56:24.019280Z",
     "shell.execute_reply.started": "2025-10-02T19:56:24.019257Z"
    }
   },
   "outputs": [],
   "source": [
    "w"
   ]
  },
  {
   "cell_type": "code",
   "execution_count": null,
   "id": "6e0a479f-87bf-4af8-bf60-3de29377c34a",
   "metadata": {
    "execution": {
     "iopub.status.busy": "2025-10-02T19:56:24.021223Z",
     "iopub.status.idle": "2025-10-02T19:56:24.022093Z",
     "shell.execute_reply": "2025-10-02T19:56:24.021841Z",
     "shell.execute_reply.started": "2025-10-02T19:56:24.021820Z"
    }
   },
   "outputs": [],
   "source": [
    "w_0"
   ]
  },
  {
   "cell_type": "code",
   "execution_count": null,
   "id": "c2b3779e-c623-4971-a1f1-b3819a5a09b6",
   "metadata": {
    "execution": {
     "iopub.status.busy": "2025-10-02T19:56:24.024992Z",
     "iopub.status.idle": "2025-10-02T19:56:24.026719Z",
     "shell.execute_reply": "2025-10-02T19:56:24.026198Z",
     "shell.execute_reply.started": "2025-10-02T19:56:24.026172Z"
    }
   },
   "outputs": [],
   "source": [
    "plt.figure(figsize=(6, 6))\n",
    "\n",
    "sns.histplot(y_0_train, label='target', color='red', alpha=1, bins=50)\n",
    "sns.histplot(y_0_pred, label='prediction', color='blue', alpha=1, bins=50)\n",
    "\n",
    "plt.legend()\n",
    "\n",
    "plt.ylabel('fuel_efficiency_mpg')\n",
    "plt.xlabel('Log(??? + 1)')\n",
    "plt.title('fehlende Werte Null')\n",
    "\n",
    "\n",
    "plt.show()"
   ]
  },
  {
   "cell_type": "code",
   "execution_count": null,
   "id": "746c47f9-d739-4212-90e4-ba316b4206da",
   "metadata": {
    "execution": {
     "iopub.status.busy": "2025-10-02T19:56:24.029625Z",
     "iopub.status.idle": "2025-10-02T19:56:24.031026Z",
     "shell.execute_reply": "2025-10-02T19:56:24.030194Z",
     "shell.execute_reply.started": "2025-10-02T19:56:24.030171Z"
    }
   },
   "outputs": [],
   "source": [
    "def prepare_X(df_0_train):\n",
    "    df_num = df\n",
    "    df_num = df_num.fillna(0)\n",
    "    X = df_num.values\n",
    "    return X"
   ]
  },
  {
   "cell_type": "code",
   "execution_count": null,
   "id": "68ac3a8e-eff4-4a50-8a97-9d3fe704d959",
   "metadata": {
    "execution": {
     "iopub.status.busy": "2025-10-02T19:56:24.034480Z",
     "iopub.status.idle": "2025-10-02T19:56:24.036206Z",
     "shell.execute_reply": "2025-10-02T19:56:24.035667Z",
     "shell.execute_reply.started": "2025-10-02T19:56:24.035634Z"
    }
   },
   "outputs": [],
   "source": [
    "def rmse(y, y_pred):\n",
    "    error = y_pred - y\n",
    "    mse = (error ** 2).mean()\n",
    "    return np.sqrt(mse)"
   ]
  },
  {
   "cell_type": "code",
   "execution_count": null,
   "id": "76554a87-e5f4-419f-86dd-132cd65f21b0",
   "metadata": {
    "execution": {
     "iopub.status.busy": "2025-10-02T19:56:24.038081Z",
     "iopub.status.idle": "2025-10-02T19:56:24.039320Z",
     "shell.execute_reply": "2025-10-02T19:56:24.038921Z",
     "shell.execute_reply.started": "2025-10-02T19:56:24.038904Z"
    }
   },
   "outputs": [],
   "source": [
    "rmse(y_train, y_pred)"
   ]
  },
  {
   "cell_type": "code",
   "execution_count": null,
   "id": "d1bbd7cd-fae0-4142-a2ee-05145aae4b59",
   "metadata": {
    "execution": {
     "iopub.status.busy": "2025-10-02T19:56:24.042405Z",
     "iopub.status.idle": "2025-10-02T19:56:24.043260Z",
     "shell.execute_reply": "2025-10-02T19:56:24.042893Z",
     "shell.execute_reply.started": "2025-10-02T19:56:24.042873Z"
    }
   },
   "outputs": [],
   "source": [
    "X_0_val = prepare_X(df_0_val)\n",
    "y_pred = w0 + X_0_val.dot(w)"
   ]
  },
  {
   "cell_type": "code",
   "execution_count": null,
   "id": "ffc974f1-3f19-4997-b24c-c927b2b9efcb",
   "metadata": {
    "execution": {
     "iopub.status.busy": "2025-10-02T19:56:24.045369Z",
     "iopub.status.idle": "2025-10-02T19:56:24.046289Z",
     "shell.execute_reply": "2025-10-02T19:56:24.046044Z",
     "shell.execute_reply.started": "2025-10-02T19:56:24.046022Z"
    }
   },
   "outputs": [],
   "source": [
    "X_0_train = prepare_X(df_0_train)\n",
    "w_0, w = train_linear_regression(X_train, y_train)"
   ]
  },
  {
   "cell_type": "code",
   "execution_count": null,
   "id": "478145ba-9542-4bfe-aaf6-6c77ee57116d",
   "metadata": {
    "execution": {
     "iopub.status.busy": "2025-10-02T19:56:24.049525Z",
     "iopub.status.idle": "2025-10-02T19:56:24.051071Z",
     "shell.execute_reply": "2025-10-02T19:56:24.050428Z",
     "shell.execute_reply.started": "2025-10-02T19:56:24.050403Z"
    }
   },
   "outputs": [],
   "source": [
    "ab hier jetzt mit mean geplant:"
   ]
  },
  {
   "cell_type": "code",
   "execution_count": null,
   "id": "29787ad1-78e6-42f5-a81e-d1ac821796f6",
   "metadata": {
    "execution": {
     "iopub.status.busy": "2025-10-02T19:56:24.052760Z",
     "iopub.status.idle": "2025-10-02T19:56:24.054438Z",
     "shell.execute_reply": "2025-10-02T19:56:24.053900Z",
     "shell.execute_reply.started": "2025-10-02T19:56:24.053759Z"
    }
   },
   "outputs": [],
   "source": [
    "df_mean_train = df.iloc[idx[:n_train]]\n",
    "df_mean_val = df.iloc[idx[n_train:n_train+n_val]]\n",
    "df_mean_test = df.iloc[idx[n_train+n_val:]]\n"
   ]
  },
  {
   "cell_type": "code",
   "execution_count": null,
   "id": "e51b3b09-565e-4b02-8d55-058524fbc076",
   "metadata": {
    "execution": {
     "iopub.status.busy": "2025-10-02T19:56:24.056150Z",
     "iopub.status.idle": "2025-10-02T19:56:24.056791Z",
     "shell.execute_reply": "2025-10-02T19:56:24.056551Z",
     "shell.execute_reply.started": "2025-10-02T19:56:24.056527Z"
    }
   },
   "outputs": [],
   "source": [
    "def train_linear_regression(X, y):\n",
    "    ones = np.ones(X.shape[0])\n",
    "    X = np.column_stack([ones, X])\n",
    "\n",
    "    XTX = X.T.dot(X)\n",
    "    XTX_inv = np.linalg.inv(XTX)\n",
    "    w_full = XTX_inv.dot(X.T).dot(y)\n",
    "    \n",
    "    return w_full[0], w_full[1:]"
   ]
  },
  {
   "cell_type": "code",
   "execution_count": null,
   "id": "e2c00e73-b0ca-456b-973d-aab762772c8e",
   "metadata": {
    "execution": {
     "iopub.status.busy": "2025-10-02T19:56:24.059661Z",
     "iopub.status.idle": "2025-10-02T19:56:24.060721Z",
     "shell.execute_reply": "2025-10-02T19:56:24.060424Z",
     "shell.execute_reply.started": "2025-10-02T19:56:24.060403Z"
    }
   },
   "outputs": [],
   "source": [
    "df_train = df.iloc[idx[:n_train]]\n",
    "df_val = df.iloc[idx[n_train:n_train+n_val]]\n",
    "df_test = df.iloc[idx[n_train+n_val:]]"
   ]
  },
  {
   "cell_type": "code",
   "execution_count": null,
   "id": "eb447d94-b02c-453b-a586-2a4fc70ed5fc",
   "metadata": {},
   "outputs": [],
   "source": []
  },
  {
   "cell_type": "code",
   "execution_count": null,
   "id": "1ce424e4-fb8d-409c-afd5-6131f4477934",
   "metadata": {},
   "outputs": [],
   "source": [
    "\n",
    "\n"
   ]
  }
 ],
 "metadata": {
  "kernelspec": {
   "display_name": "Python 3 (ipykernel)",
   "language": "python",
   "name": "python3"
  },
  "language_info": {
   "codemirror_mode": {
    "name": "ipython",
    "version": 3
   },
   "file_extension": ".py",
   "mimetype": "text/x-python",
   "name": "python",
   "nbconvert_exporter": "python",
   "pygments_lexer": "ipython3",
   "version": "3.12.9"
  }
 },
 "nbformat": 4,
 "nbformat_minor": 5
}

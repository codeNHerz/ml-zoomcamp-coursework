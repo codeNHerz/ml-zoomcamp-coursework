{
 "cells": [
  {
   "cell_type": "code",
   "execution_count": null,
   "id": "4632d45e-e272-4dd7-9e1f-4d1e41619e16",
   "metadata": {
    "id": "4632d45e-e272-4dd7-9e1f-4d1e41619e16"
   },
   "outputs": [],
   "source": []
  },
  {
   "cell_type": "markdown",
   "id": "2c0d3c92-4007-46e6-ac36-4ac6059ea1d4",
   "metadata": {
    "execution": {
     "iopub.execute_input": "2025-09-30T18:01:23.311252Z",
     "iopub.status.busy": "2025-09-30T18:01:23.310833Z",
     "iopub.status.idle": "2025-09-30T18:01:23.331081Z",
     "shell.execute_reply": "2025-09-30T18:01:23.325822Z",
     "shell.execute_reply.started": "2025-09-30T18:01:23.311212Z"
    },
    "id": "2c0d3c92-4007-46e6-ac36-4ac6059ea1d4"
   },
   "source": [
    "predict ?"
   ]
  },
  {
   "cell_type": "markdown",
   "id": "20c7df72-b361-4bb5-9c45-2e2e168abfd5",
   "metadata": {
    "id": "20c7df72-b361-4bb5-9c45-2e2e168abfd5"
   },
   "source": [
    "72\n",
    "auswahl an anweisungen die immer bei einembefehl ausgeführt werden???"
   ]
  },
  {
   "cell_type": "markdown",
   "id": "0269baa6-b5c0-4b46-9dc0-232dd84196e9",
   "metadata": {
    "execution": {
     "iopub.status.busy": "2025-09-30T18:01:23.332162Z",
     "iopub.status.idle": "2025-09-30T18:01:23.336225Z",
     "shell.execute_reply": "2025-09-30T18:01:23.335151Z",
     "shell.execute_reply.started": "2025-09-30T18:01:23.335110Z"
    },
    "id": "0269baa6-b5c0-4b46-9dc0-232dd84196e9"
   },
   "source": [
    "return x"
   ]
  },
  {
   "cell_type": "markdown",
   "id": "383e688c-04d4-47c9-a729-110405fc2143",
   "metadata": {
    "execution": {
     "iopub.status.busy": "2025-09-30T18:01:23.338098Z",
     "iopub.status.idle": "2025-09-30T18:01:23.344306Z",
     "shell.execute_reply": "2025-09-30T18:01:23.338660Z",
     "shell.execute_reply.started": "2025-09-30T18:01:23.338624Z"
    },
    "id": "383e688c-04d4-47c9-a729-110405fc2143"
   },
   "source": [
    "2.12 ND 2,3,4 ??? wie sehen diese Autos aus"
   ]
  },
  {
   "cell_type": "markdown",
   "id": "90a9c3d0-1942-4df1-a23d-4186c34c8055",
   "metadata": {
    "execution": {
     "iopub.status.busy": "2025-09-30T18:01:23.347859Z",
     "iopub.status.idle": "2025-09-30T18:01:23.348831Z",
     "shell.execute_reply": "2025-09-30T18:01:23.348593Z",
     "shell.execute_reply.started": "2025-09-30T18:01:23.348567Z"
    },
    "id": "90a9c3d0-1942-4df1-a23d-4186c34c8055"
   },
   "source": [
    "append?"
   ]
  },
  {
   "cell_type": "markdown",
   "id": "a7b9f0f8-b1b7-4f2d-acdd-ab06c0e81bdb",
   "metadata": {
    "execution": {
     "iopub.status.busy": "2025-09-30T18:01:23.359020Z",
     "iopub.status.idle": "2025-09-30T18:01:23.368494Z",
     "shell.execute_reply": "2025-09-30T18:01:23.367333Z",
     "shell.execute_reply.started": "2025-09-30T18:01:23.367283Z"
    },
    "id": "a7b9f0f8-b1b7-4f2d-acdd-ab06c0e81bdb"
   },
   "source": [
    "12: add a small number to diagonal\n"
   ]
  },
  {
   "cell_type": "markdown",
   "id": "093f9ddd-a056-45e5-81c6-60db9f6cd64d",
   "metadata": {
    "id": "093f9ddd-a056-45e5-81c6-60db9f6cd64d"
   },
   "source": [
    "HOMEWORK"
   ]
  },
  {
   "cell_type": "markdown",
   "id": "1faa172b-5634-472e-89b7-42ddb75ed2dd",
   "metadata": {
    "id": "1faa172b-5634-472e-89b7-42ddb75ed2dd"
   },
   "source": [
    "The goal of this homework is to create a regression model for predicting the car fuel efficiency (column 'fuel_efficiency_mpg')."
   ]
  },
  {
   "cell_type": "code",
   "execution_count": 1,
   "id": "0191b373-0ecd-42b6-8541-22251816e9ee",
   "metadata": {
    "execution": {
     "iopub.execute_input": "2025-10-05T16:40:51.706726Z",
     "iopub.status.busy": "2025-10-05T16:40:51.706185Z",
     "iopub.status.idle": "2025-10-05T16:40:53.052009Z",
     "shell.execute_reply": "2025-10-05T16:40:53.051242Z",
     "shell.execute_reply.started": "2025-10-05T16:40:51.706682Z"
    },
    "id": "0191b373-0ecd-42b6-8541-22251816e9ee"
   },
   "outputs": [],
   "source": [
    "import pandas as pd\n",
    "import numpy as np"
   ]
  },
  {
   "cell_type": "code",
   "execution_count": 2,
   "id": "67c7c2fb-598d-4666-8e4e-81444f2a3b16",
   "metadata": {
    "execution": {
     "iopub.execute_input": "2025-10-05T16:40:53.054742Z",
     "iopub.status.busy": "2025-10-05T16:40:53.053530Z",
     "iopub.status.idle": "2025-10-05T16:40:53.061058Z",
     "shell.execute_reply": "2025-10-05T16:40:53.059203Z",
     "shell.execute_reply.started": "2025-10-05T16:40:53.054593Z"
    },
    "id": "67c7c2fb-598d-4666-8e4e-81444f2a3b16"
   },
   "outputs": [],
   "source": [
    "data = 'https://raw.githubusercontent.com/alexeygrigorev/datasets/master/car_fuel_efficiency.csv'"
   ]
  },
  {
   "cell_type": "code",
   "execution_count": 3,
   "id": "14420db8-9284-41b5-9432-e59a00b7b6b1",
   "metadata": {
    "colab": {
     "base_uri": "https://localhost:8080/"
    },
    "execution": {
     "iopub.execute_input": "2025-10-05T16:40:53.073319Z",
     "iopub.status.busy": "2025-10-05T16:40:53.072233Z",
     "iopub.status.idle": "2025-10-05T16:40:53.624906Z",
     "shell.execute_reply": "2025-10-05T16:40:53.623488Z",
     "shell.execute_reply.started": "2025-10-05T16:40:53.073280Z"
    },
    "id": "14420db8-9284-41b5-9432-e59a00b7b6b1",
    "outputId": "93d7e979-4706-453e-cad4-435a1d0a3363"
   },
   "outputs": [
    {
     "name": "stdout",
     "output_type": "stream",
     "text": [
      "--2025-10-05 18:40:53--  https://raw.githubusercontent.com/alexeygrigorev/datasets/master/car_fuel_efficiency.csv\n",
      "Resolving raw.githubusercontent.com (raw.githubusercontent.com)... 185.199.110.133, 185.199.111.133, 185.199.109.133, ...\n",
      "Connecting to raw.githubusercontent.com (raw.githubusercontent.com)|185.199.110.133|:443... connected.\n",
      "HTTP request sent, awaiting response... 200 OK\n",
      "Length: 874188 (854K) [text/plain]\n",
      "Saving to: ‘car_fuel_efficiency.csv’\n",
      "\n",
      "car_fuel_efficiency 100%[===================>] 853.70K  --.-KB/s    in 0.1s    \n",
      "\n",
      "2025-10-05 18:40:53 (8.77 MB/s) - ‘car_fuel_efficiency.csv’ saved [874188/874188]\n",
      "\n"
     ]
    }
   ],
   "source": [
    "!wget $data -O car_fuel_efficiency.csv"
   ]
  },
  {
   "cell_type": "code",
   "execution_count": 4,
   "id": "d214a657-d33f-433f-ab76-c14da66a6071",
   "metadata": {
    "execution": {
     "iopub.execute_input": "2025-10-05T16:40:53.657736Z",
     "iopub.status.busy": "2025-10-05T16:40:53.627153Z",
     "iopub.status.idle": "2025-10-05T16:40:53.699135Z",
     "shell.execute_reply": "2025-10-05T16:40:53.698489Z",
     "shell.execute_reply.started": "2025-10-05T16:40:53.657680Z"
    },
    "id": "d214a657-d33f-433f-ab76-c14da66a6071"
   },
   "outputs": [],
   "source": [
    "df = pd.read_csv('car_fuel_efficiency.csv')"
   ]
  },
  {
   "cell_type": "code",
   "execution_count": 5,
   "id": "a5e45de3-514f-4083-8590-440513040608",
   "metadata": {
    "execution": {
     "iopub.execute_input": "2025-10-05T16:40:53.700834Z",
     "iopub.status.busy": "2025-10-05T16:40:53.700364Z",
     "iopub.status.idle": "2025-10-05T16:40:53.719109Z",
     "shell.execute_reply": "2025-10-05T16:40:53.711749Z",
     "shell.execute_reply.started": "2025-10-05T16:40:53.700799Z"
    },
    "id": "a5e45de3-514f-4083-8590-440513040608"
   },
   "outputs": [],
   "source": [
    "df = df[['engine_displacement','horsepower','vehicle_weight','model_year','fuel_efficiency_mpg']]"
   ]
  },
  {
   "cell_type": "code",
   "execution_count": 6,
   "id": "1a452b4e-970d-41a5-8794-72c7b8de9247",
   "metadata": {
    "execution": {
     "iopub.execute_input": "2025-10-05T16:40:53.729383Z",
     "iopub.status.busy": "2025-10-05T16:40:53.728193Z",
     "iopub.status.idle": "2025-10-05T16:40:55.647165Z",
     "shell.execute_reply": "2025-10-05T16:40:55.646534Z",
     "shell.execute_reply.started": "2025-10-05T16:40:53.729350Z"
    },
    "id": "1a452b4e-970d-41a5-8794-72c7b8de9247"
   },
   "outputs": [],
   "source": [
    "import matplotlib.pyplot as plt\n",
    "import seaborn as sns\n",
    "\n",
    "%matplotlib inline"
   ]
  },
  {
   "cell_type": "code",
   "execution_count": 7,
   "id": "eb83ab1a-6856-46af-b82a-a47a95793c49",
   "metadata": {
    "colab": {
     "base_uri": "https://localhost:8080/",
     "height": 467
    },
    "execution": {
     "iopub.execute_input": "2025-10-05T16:40:55.649292Z",
     "iopub.status.busy": "2025-10-05T16:40:55.648151Z",
     "iopub.status.idle": "2025-10-05T16:40:56.087839Z",
     "shell.execute_reply": "2025-10-05T16:40:56.085807Z",
     "shell.execute_reply.started": "2025-10-05T16:40:55.649220Z"
    },
    "id": "eb83ab1a-6856-46af-b82a-a47a95793c49",
    "outputId": "8e9a56c9-597a-47c2-bf94-fd912eb154a1"
   },
   "outputs": [
    {
     "data": {
      "text/plain": [
       "<Axes: xlabel='fuel_efficiency_mpg', ylabel='Count'>"
      ]
     },
     "execution_count": 7,
     "metadata": {},
     "output_type": "execute_result"
    },
    {
     "data": {
      "image/png": "[encoded data removed]",
      "text/plain": [
       "<Figure size 640x480 with 1 Axes>"
      ]
     },
     "metadata": {},
     "output_type": "display_data"
    }
   ],
   "source": [
    "sns.histplot(df.fuel_efficiency_mpg, bins=50)"
   ]
  },
  {
   "cell_type": "markdown",
   "id": "5c86bed3-50d8-4df5-b917-3d956e71d186",
   "metadata": {
    "id": "5c86bed3-50d8-4df5-b917-3d956e71d186"
   },
   "source": [
    "EDA\n",
    "Look at the fuel_efficiency_mpg variable. Does it have a long tail? NO"
   ]
  },
  {
   "cell_type": "markdown",
   "id": "7272f040-3730-4dac-bfbf-6e54292b73bb",
   "metadata": {
    "id": "7272f040-3730-4dac-bfbf-6e54292b73bb"
   },
   "source": [
    "### Question 1\n",
    "There's one column with missing values. What is it?"
   ]
  },
  {
   "cell_type": "code",
   "execution_count": 8,
   "id": "275b49b3-523d-4937-aee0-414b99ec89dd",
   "metadata": {
    "colab": {
     "base_uri": "https://localhost:8080/",
     "height": 241
    },
    "execution": {
     "iopub.execute_input": "2025-10-05T16:40:56.102216Z",
     "iopub.status.busy": "2025-10-05T16:40:56.089784Z",
     "iopub.status.idle": "2025-10-05T16:40:56.138412Z",
     "shell.execute_reply": "2025-10-05T16:40:56.136121Z",
     "shell.execute_reply.started": "2025-10-05T16:40:56.102169Z"
    },
    "id": "275b49b3-523d-4937-aee0-414b99ec89dd",
    "outputId": "f084d18f-6164-46a7-8615-2b9d5d44a58f"
   },
   "outputs": [
    {
     "data": {
      "text/plain": [
       "engine_displacement      0\n",
       "horsepower             708\n",
       "vehicle_weight           0\n",
       "model_year               0\n",
       "fuel_efficiency_mpg      0\n",
       "dtype: int64"
      ]
     },
     "execution_count": 8,
     "metadata": {},
     "output_type": "execute_result"
    }
   ],
   "source": [
    "df.isnull().sum()"
   ]
  },
  {
   "cell_type": "markdown",
   "id": "2a6c1f74-efe7-4a63-bbbd-feacf505c277",
   "metadata": {
    "id": "2a6c1f74-efe7-4a63-bbbd-feacf505c277"
   },
   "source": [
    "'horsepower'"
   ]
  },
  {
   "cell_type": "markdown",
   "id": "ae8960bf-7ea8-4df3-98a3-d9dd65a3a670",
   "metadata": {
    "id": "ae8960bf-7ea8-4df3-98a3-d9dd65a3a670"
   },
   "source": [
    "### Question 2\n",
    "What's the median (50% percentile) for variable 'horsepower'?"
   ]
  },
  {
   "cell_type": "code",
   "execution_count": 9,
   "id": "8ca4653d-1af1-4a6b-9cf4-f47a3079af7a",
   "metadata": {
    "colab": {
     "base_uri": "https://localhost:8080/"
    },
    "execution": {
     "iopub.execute_input": "2025-10-05T16:40:56.140947Z",
     "iopub.status.busy": "2025-10-05T16:40:56.140003Z",
     "iopub.status.idle": "2025-10-05T16:40:56.167718Z",
     "shell.execute_reply": "2025-10-05T16:40:56.157494Z",
     "shell.execute_reply.started": "2025-10-05T16:40:56.140872Z"
    },
    "id": "8ca4653d-1af1-4a6b-9cf4-f47a3079af7a",
    "outputId": "1f940638-8c50-4958-b2c3-da054ab44ae1"
   },
   "outputs": [
    {
     "data": {
      "text/plain": [
       "149.0"
      ]
     },
     "execution_count": 9,
     "metadata": {},
     "output_type": "execute_result"
    }
   ],
   "source": [
    "df['horsepower'].median()"
   ]
  },
  {
   "cell_type": "markdown",
   "id": "2ea536b2-2a5b-4a0a-8dcd-cc375b874f03",
   "metadata": {
    "id": "2ea536b2-2a5b-4a0a-8dcd-cc375b874f03"
   },
   "source": [
    "Prepare and split the dataset\n",
    "Shuffle the dataset (the filtered one you created above), use seed 42.\n",
    "Split your data in train/val/test sets, with 60%/20%/20% distribution.\n",
    "Use the same code as in the lectures"
   ]
  },
  {
   "cell_type": "code",
   "execution_count": 10,
   "id": "38b320c1-9d42-4554-ae2b-7e256999dfdd",
   "metadata": {
    "execution": {
     "iopub.execute_input": "2025-10-05T16:40:56.170601Z",
     "iopub.status.busy": "2025-10-05T16:40:56.169963Z",
     "iopub.status.idle": "2025-10-05T16:40:56.186141Z",
     "shell.execute_reply": "2025-10-05T16:40:56.179222Z",
     "shell.execute_reply.started": "2025-10-05T16:40:56.170566Z"
    },
    "id": "38b320c1-9d42-4554-ae2b-7e256999dfdd"
   },
   "outputs": [],
   "source": [
    "n = len(df)\n",
    "\n",
    "n_val = int(n * 0.2)\n",
    "n_test = int(n * 0.2)\n",
    "n_train = n - n_val - n_test"
   ]
  },
  {
   "cell_type": "code",
   "execution_count": 11,
   "id": "1347aef5-3c6c-4df5-be4e-8773d0d89811",
   "metadata": {
    "colab": {
     "base_uri": "https://localhost:8080/"
    },
    "execution": {
     "iopub.execute_input": "2025-10-05T16:40:56.191429Z",
     "iopub.status.busy": "2025-10-05T16:40:56.188825Z",
     "iopub.status.idle": "2025-10-05T16:40:56.210407Z",
     "shell.execute_reply": "2025-10-05T16:40:56.208827Z",
     "shell.execute_reply.started": "2025-10-05T16:40:56.190474Z"
    },
    "id": "1347aef5-3c6c-4df5-be4e-8773d0d89811",
    "outputId": "f9626f8e-03f9-42a1-b44a-b790cc46dddf"
   },
   "outputs": [
    {
     "data": {
      "text/plain": [
       "9704"
      ]
     },
     "execution_count": 11,
     "metadata": {},
     "output_type": "execute_result"
    }
   ],
   "source": [
    "n"
   ]
  },
  {
   "cell_type": "markdown",
   "id": "81dd714a-0167-42e2-a760-a105fd0960b7",
   "metadata": {
    "id": "81dd714a-0167-42e2-a760-a105fd0960b7"
   },
   "source": [
    "Datenset gesplittet 60/20/20"
   ]
  },
  {
   "cell_type": "code",
   "execution_count": 12,
   "id": "debe594f-4cfa-48a5-bba5-5186f91c5b32",
   "metadata": {
    "execution": {
     "iopub.execute_input": "2025-10-05T16:40:56.219232Z",
     "iopub.status.busy": "2025-10-05T16:40:56.212123Z",
     "iopub.status.idle": "2025-10-05T16:40:56.228768Z",
     "shell.execute_reply": "2025-10-05T16:40:56.226114Z",
     "shell.execute_reply.started": "2025-10-05T16:40:56.219189Z"
    },
    "id": "debe594f-4cfa-48a5-bba5-5186f91c5b32"
   },
   "outputs": [],
   "source": [
    "idx = np.arange(n)"
   ]
  },
  {
   "cell_type": "code",
   "execution_count": 13,
   "id": "808ea959-bd57-40cc-bb32-8adc7d01796b",
   "metadata": {
    "execution": {
     "iopub.execute_input": "2025-10-05T16:40:56.240989Z",
     "iopub.status.busy": "2025-10-05T16:40:56.236825Z",
     "iopub.status.idle": "2025-10-05T16:40:56.253432Z",
     "shell.execute_reply": "2025-10-05T16:40:56.251815Z",
     "shell.execute_reply.started": "2025-10-05T16:40:56.240938Z"
    },
    "id": "808ea959-bd57-40cc-bb32-8adc7d01796b"
   },
   "outputs": [],
   "source": [
    "np.random.seed(42)\n",
    "\n",
    "np.random.shuffle(idx)\n"
   ]
  },
  {
   "cell_type": "markdown",
   "id": "e45dbcbd-7b7c-446e-90c6-6be914f7d22b",
   "metadata": {
    "id": "e45dbcbd-7b7c-446e-90c6-6be914f7d22b"
   },
   "source": [
    "Datenset geshuffelt"
   ]
  },
  {
   "cell_type": "code",
   "execution_count": 14,
   "id": "b6e4bde9-ad30-4409-b827-d8a81d69210d",
   "metadata": {
    "execution": {
     "iopub.execute_input": "2025-10-05T16:40:56.260906Z",
     "iopub.status.busy": "2025-10-05T16:40:56.257186Z",
     "iopub.status.idle": "2025-10-05T16:40:56.277917Z",
     "shell.execute_reply": "2025-10-05T16:40:56.275451Z",
     "shell.execute_reply.started": "2025-10-05T16:40:56.260866Z"
    },
    "id": "b6e4bde9-ad30-4409-b827-d8a81d69210d"
   },
   "outputs": [],
   "source": [
    "df_train = df.iloc[idx[:n_train]]\n",
    "df_val = df.iloc[idx[n_train:n_train+n_val]]\n",
    "df_test = df.iloc[idx[n_train+n_val:]]"
   ]
  },
  {
   "cell_type": "code",
   "execution_count": 15,
   "id": "ec48e2c5-5465-4224-8cc1-71b2c1bb6ab6",
   "metadata": {
    "colab": {
     "base_uri": "https://localhost:8080/",
     "height": 206
    },
    "execution": {
     "iopub.execute_input": "2025-10-05T16:40:56.280388Z",
     "iopub.status.busy": "2025-10-05T16:40:56.279324Z",
     "iopub.status.idle": "2025-10-05T16:40:56.312591Z",
     "shell.execute_reply": "2025-10-05T16:40:56.309730Z",
     "shell.execute_reply.started": "2025-10-05T16:40:56.280314Z"
    },
    "id": "ec48e2c5-5465-4224-8cc1-71b2c1bb6ab6",
    "outputId": "2b3f2e17-4d5e-4b2c-c495-598809eb7146"
   },
   "outputs": [
    {
     "data": {
      "text/html": [
       "<div>\n",
       "<style scoped>\n",
       "    .dataframe tbody tr th:only-of-type {\n",
       "        vertical-align: middle;\n",
       "    }\n",
       "\n",
       "    .dataframe tbody tr th {\n",
       "        vertical-align: top;\n",
       "    }\n",
       "\n",
       "    .dataframe thead th {\n",
       "        text-align: right;\n",
       "    }\n",
       "</style>\n",
       "<table border=\"1\" class=\"dataframe\">\n",
       "  <thead>\n",
       "    <tr style=\"text-align: right;\">\n",
       "      <th></th>\n",
       "      <th>engine_displacement</th>\n",
       "      <th>horsepower</th>\n",
       "      <th>vehicle_weight</th>\n",
       "      <th>model_year</th>\n",
       "      <th>fuel_efficiency_mpg</th>\n",
       "    </tr>\n",
       "  </thead>\n",
       "  <tbody>\n",
       "    <tr>\n",
       "      <th>483</th>\n",
       "      <td>220</td>\n",
       "      <td>144.0</td>\n",
       "      <td>2535.887591</td>\n",
       "      <td>2009</td>\n",
       "      <td>16.642943</td>\n",
       "    </tr>\n",
       "    <tr>\n",
       "      <th>7506</th>\n",
       "      <td>160</td>\n",
       "      <td>141.0</td>\n",
       "      <td>2741.170484</td>\n",
       "      <td>2019</td>\n",
       "      <td>16.298377</td>\n",
       "    </tr>\n",
       "    <tr>\n",
       "      <th>8795</th>\n",
       "      <td>230</td>\n",
       "      <td>155.0</td>\n",
       "      <td>2471.880237</td>\n",
       "      <td>2017</td>\n",
       "      <td>18.591822</td>\n",
       "    </tr>\n",
       "    <tr>\n",
       "      <th>1688</th>\n",
       "      <td>150</td>\n",
       "      <td>206.0</td>\n",
       "      <td>3748.164469</td>\n",
       "      <td>2015</td>\n",
       "      <td>11.818843</td>\n",
       "    </tr>\n",
       "    <tr>\n",
       "      <th>6217</th>\n",
       "      <td>300</td>\n",
       "      <td>111.0</td>\n",
       "      <td>2135.716359</td>\n",
       "      <td>2006</td>\n",
       "      <td>19.402209</td>\n",
       "    </tr>\n",
       "  </tbody>\n",
       "</table>\n",
       "</div>"
      ],
      "text/plain": [
       "      engine_displacement  horsepower  vehicle_weight  model_year  \\\n",
       "483                   220       144.0     2535.887591        2009   \n",
       "7506                  160       141.0     2741.170484        2019   \n",
       "8795                  230       155.0     2471.880237        2017   \n",
       "1688                  150       206.0     3748.164469        2015   \n",
       "6217                  300       111.0     2135.716359        2006   \n",
       "\n",
       "      fuel_efficiency_mpg  \n",
       "483             16.642943  \n",
       "7506            16.298377  \n",
       "8795            18.591822  \n",
       "1688            11.818843  \n",
       "6217            19.402209  "
      ]
     },
     "execution_count": 15,
     "metadata": {},
     "output_type": "execute_result"
    }
   ],
   "source": [
    "df_train.head()"
   ]
  },
  {
   "cell_type": "markdown",
   "id": "47dab0da-1826-4998-b3e1-c084dbb2eeb6",
   "metadata": {
    "id": "47dab0da-1826-4998-b3e1-c084dbb2eeb6"
   },
   "source": [
    "### Question 3\n",
    "We need to deal with missing values for the column from Q1.\n",
    "We have two options: fill it with 0 or with the mean of this variable.\n",
    "Try both options. For each, train a linear regression model without regularization using the code from the lessons.\n",
    "For computing the mean, use the training only!\n",
    "Use the validation dataset to evaluate the models and compare the RMSE of each option.\n",
    "Round the RMSE scores to 2 decimal digits using round(score, 2)\n",
    "Which option gives better RMSE?\n"
   ]
  },
  {
   "cell_type": "code",
   "execution_count": 16,
   "id": "92b2af4b-f76b-4c39-a240-b5f5f91fb042",
   "metadata": {
    "execution": {
     "iopub.execute_input": "2025-10-05T16:40:56.316043Z",
     "iopub.status.busy": "2025-10-05T16:40:56.315000Z",
     "iopub.status.idle": "2025-10-05T16:40:56.337173Z",
     "shell.execute_reply": "2025-10-05T16:40:56.329753Z",
     "shell.execute_reply.started": "2025-10-05T16:40:56.315969Z"
    },
    "id": "92b2af4b-f76b-4c39-a240-b5f5f91fb042"
   },
   "outputs": [],
   "source": [
    "df_0 = df.fillna(0)"
   ]
  },
  {
   "cell_type": "markdown",
   "id": "4172aae4-0335-4dd6-b776-61bfee697167",
   "metadata": {
    "id": "4172aae4-0335-4dd6-b776-61bfee697167"
   },
   "source": [
    "fehlende Werte durch Null ersetzt und Fkt als df_0 definiert"
   ]
  },
  {
   "cell_type": "code",
   "execution_count": 17,
   "id": "93a07385-0a41-4289-aca1-e045be589a80",
   "metadata": {
    "execution": {
     "iopub.execute_input": "2025-10-05T16:40:56.341203Z",
     "iopub.status.busy": "2025-10-05T16:40:56.339932Z",
     "iopub.status.idle": "2025-10-05T16:40:56.359128Z",
     "shell.execute_reply": "2025-10-05T16:40:56.354494Z",
     "shell.execute_reply.started": "2025-10-05T16:40:56.341167Z"
    },
    "id": "93a07385-0a41-4289-aca1-e045be589a80"
   },
   "outputs": [],
   "source": [
    "df_mean = df.fillna(df_train.horsepower.mean())"
   ]
  },
  {
   "cell_type": "markdown",
   "id": "a116e408-66bb-4340-924f-a68184461b6f",
   "metadata": {
    "execution": {
     "iopub.execute_input": "2025-10-01T18:03:26.029327Z",
     "iopub.status.busy": "2025-10-01T18:03:26.028936Z",
     "iopub.status.idle": "2025-10-01T18:03:26.042437Z",
     "shell.execute_reply": "2025-10-01T18:03:26.039774Z",
     "shell.execute_reply.started": "2025-10-01T18:03:26.029303Z"
    },
    "id": "a116e408-66bb-4340-924f-a68184461b6f"
   },
   "source": [
    "fehlende Werte durch mean des trainingsdatensets von horsepower ersetzt und Fkt als df_mean definiert\n"
   ]
  },
  {
   "cell_type": "markdown",
   "id": "1471fa27-eab1-4714-b588-f6f131bbf017",
   "metadata": {
    "id": "1471fa27-eab1-4714-b588-f6f131bbf017"
   },
   "source": [
    "Ein Modell mit linearer Regression trainieren mit fehlenden Werten = 0:"
   ]
  },
  {
   "cell_type": "code",
   "execution_count": 18,
   "id": "250d3f7f-ff2d-4fcd-8eb3-be0847344b7a",
   "metadata": {
    "execution": {
     "iopub.execute_input": "2025-10-05T16:40:56.362859Z",
     "iopub.status.busy": "2025-10-05T16:40:56.362214Z",
     "iopub.status.idle": "2025-10-05T16:40:56.386281Z",
     "shell.execute_reply": "2025-10-05T16:40:56.379563Z",
     "shell.execute_reply.started": "2025-10-05T16:40:56.362822Z"
    },
    "id": "250d3f7f-ff2d-4fcd-8eb3-be0847344b7a"
   },
   "outputs": [],
   "source": [
    "df_0_train = df_0.iloc[idx[:n_train]]\n",
    "df_0_val = df_0.iloc[idx[n_train:n_train+n_val]]\n",
    "df_0_test = df_0.iloc[idx[n_train+n_val:]]\n",
    "\n",
    "df_mean_train = df_mean.iloc[idx[:n_train]]\n",
    "df_mean_val = df_mean.iloc[idx[n_train:n_train+n_val]]\n",
    "df_mean_test = df_mean.iloc[idx[n_train+n_val:]]"
   ]
  },
  {
   "cell_type": "code",
   "execution_count": 19,
   "id": "2e59d8f0-d679-475d-a74a-d8a59df19c9f",
   "metadata": {
    "execution": {
     "iopub.execute_input": "2025-10-05T16:40:56.388785Z",
     "iopub.status.busy": "2025-10-05T16:40:56.387977Z",
     "iopub.status.idle": "2025-10-05T16:40:56.402256Z",
     "shell.execute_reply": "2025-10-05T16:40:56.398443Z",
     "shell.execute_reply.started": "2025-10-05T16:40:56.388748Z"
    }
   },
   "outputs": [],
   "source": [
    "df_0_train = df_0_train.reset_index(drop=True)\n",
    "df_0_val = df_0_val.reset_index(drop=True)\n",
    "df_0_test = df_0_test.reset_index(drop=True)\n",
    "\n",
    "df_mean_train = df_mean_train.reset_index(drop=True)\n",
    "df_mean_val = df_mean_val.reset_index(drop=True)\n",
    "df_mean_test = df_mean_test.reset_index(drop=True)"
   ]
  },
  {
   "cell_type": "code",
   "execution_count": 20,
   "id": "ed8cfbaf-95a1-435b-bd91-803735e78cee",
   "metadata": {
    "execution": {
     "iopub.execute_input": "2025-10-05T16:40:56.404437Z",
     "iopub.status.busy": "2025-10-05T16:40:56.404093Z",
     "iopub.status.idle": "2025-10-05T16:40:56.413804Z",
     "shell.execute_reply": "2025-10-05T16:40:56.411049Z",
     "shell.execute_reply.started": "2025-10-05T16:40:56.404407Z"
    },
    "id": "ed8cfbaf-95a1-435b-bd91-803735e78cee"
   },
   "outputs": [],
   "source": [
    "def train_test_val_split(df, idx):\n",
    "    n = len(df)\n",
    "    n_val = int(n * 0.2)\n",
    "    n_test = int(n * 0.2)\n",
    "    n_train = n - n_val - n_test\n",
    "\n",
    "    df_train = df.iloc[idx[:n_train]]\n",
    "    df_val = df.iloc[idx[n_train:n_train+n_val]]\n",
    "    df_test = df.iloc[idx[n_train+n_val:]]\n",
    "\n",
    "    return df_train, df_val, df_test"
   ]
  },
  {
   "cell_type": "code",
   "execution_count": 21,
   "id": "503d86d1-d856-4b76-9eef-b9a90c934592",
   "metadata": {
    "execution": {
     "iopub.execute_input": "2025-10-05T16:40:56.452804Z",
     "iopub.status.busy": "2025-10-05T16:40:56.452063Z",
     "iopub.status.idle": "2025-10-05T16:40:56.465317Z",
     "shell.execute_reply": "2025-10-05T16:40:56.461361Z",
     "shell.execute_reply.started": "2025-10-05T16:40:56.452755Z"
    },
    "id": "503d86d1-d856-4b76-9eef-b9a90c934592"
   },
   "outputs": [],
   "source": [
    "df_0_train, df_0_val, df_0_test = train_test_val_split(df_0, idx)\n",
    "df_mean_train, df_mean_val, df_mean_test = train_test_val_split(df_mean, idx)"
   ]
  },
  {
   "cell_type": "code",
   "execution_count": 22,
   "id": "26362a2e-6d2b-41b2-84bc-95c0f25d83d3",
   "metadata": {
    "execution": {
     "iopub.execute_input": "2025-10-05T16:40:56.468500Z",
     "iopub.status.busy": "2025-10-05T16:40:56.467669Z",
     "iopub.status.idle": "2025-10-05T16:40:56.478660Z",
     "shell.execute_reply": "2025-10-05T16:40:56.474049Z",
     "shell.execute_reply.started": "2025-10-05T16:40:56.468465Z"
    },
    "id": "26362a2e-6d2b-41b2-84bc-95c0f25d83d3"
   },
   "outputs": [],
   "source": [
    "def X_y_split(df):\n",
    "    base = ['engine_displacement', 'horsepower', 'vehicle_weight', 'model_year']\n",
    "\n",
    "    X = df[base]\n",
    "    y = df['fuel_efficiency_mpg']\n",
    "\n",
    "    return np.array(X), np.array(y)"
   ]
  },
  {
   "cell_type": "code",
   "execution_count": 23,
   "id": "e0051f39-333c-43b0-97e3-02b84b35c620",
   "metadata": {
    "execution": {
     "iopub.execute_input": "2025-10-05T16:40:56.481383Z",
     "iopub.status.busy": "2025-10-05T16:40:56.480381Z",
     "iopub.status.idle": "2025-10-05T16:40:56.500694Z",
     "shell.execute_reply": "2025-10-05T16:40:56.498584Z",
     "shell.execute_reply.started": "2025-10-05T16:40:56.481347Z"
    },
    "id": "e0051f39-333c-43b0-97e3-02b84b35c620"
   },
   "outputs": [],
   "source": [
    "X_0_train, y_0_train = X_y_split(df_0_train)\n",
    "X_0_val, y_0_val = X_y_split(df_0_val)\n",
    "X_0_test, y_0_test = X_y_split(df_0_test)\n",
    "\n",
    "X_mean_train, y_mean_train = X_y_split(df_mean_train)\n",
    "X_mean_val, y_mean_val = X_y_split(df_mean_val)\n",
    "X_mean_test, y_mean_test = X_y_split(df_mean_test)\n",
    "\n",
    "#X_0_train, y_0_train,X_0_val, y_0_val, X_0_test, y_0_test, X_mean_train, y_0_train, X_mean_val, y_0_val, X_mean_test, y_0_test"
   ]
  },
  {
   "cell_type": "code",
   "execution_count": 24,
   "id": "92616315-6cc9-40d2-9000-cc071a50f470",
   "metadata": {
    "execution": {
     "iopub.execute_input": "2025-10-05T16:40:56.504977Z",
     "iopub.status.busy": "2025-10-05T16:40:56.503502Z",
     "iopub.status.idle": "2025-10-05T16:40:56.518546Z",
     "shell.execute_reply": "2025-10-05T16:40:56.514494Z",
     "shell.execute_reply.started": "2025-10-05T16:40:56.504950Z"
    },
    "id": "92616315-6cc9-40d2-9000-cc071a50f470"
   },
   "outputs": [],
   "source": [
    "def train_linear_regression(X, y):\n",
    "    ones = np.ones(X.shape[0])\n",
    "    X = np.column_stack([ones, X])\n",
    "\n",
    "    XTX = X.T.dot(X)\n",
    "    XTX_inv = np.linalg.inv(XTX)\n",
    "    w = XTX_inv.dot(X.T).dot(y)\n",
    "\n",
    "    return w[0], w[1:]"
   ]
  },
  {
   "cell_type": "code",
   "execution_count": 25,
   "id": "c3da22f3-66a8-4245-a380-c458f5de333f",
   "metadata": {
    "execution": {
     "iopub.execute_input": "2025-10-05T16:40:56.521640Z",
     "iopub.status.busy": "2025-10-05T16:40:56.520591Z",
     "iopub.status.idle": "2025-10-05T16:40:56.529168Z",
     "shell.execute_reply": "2025-10-05T16:40:56.527114Z",
     "shell.execute_reply.started": "2025-10-05T16:40:56.521604Z"
    },
    "id": "c3da22f3-66a8-4245-a380-c458f5de333f"
   },
   "outputs": [],
   "source": [
    "base = ['engine_displacement', 'horsepower', 'vehicle_weight', 'model_year']"
   ]
  },
  {
   "cell_type": "code",
   "execution_count": 26,
   "id": "7f6d0192-efee-4ca6-bfe4-bf8de491bcb0",
   "metadata": {
    "execution": {
     "iopub.execute_input": "2025-10-05T16:40:56.536604Z",
     "iopub.status.busy": "2025-10-05T16:40:56.535052Z",
     "iopub.status.idle": "2025-10-05T16:40:56.582205Z",
     "shell.execute_reply": "2025-10-05T16:40:56.580658Z",
     "shell.execute_reply.started": "2025-10-05T16:40:56.536564Z"
    },
    "id": "7f6d0192-efee-4ca6-bfe4-bf8de491bcb0"
   },
   "outputs": [],
   "source": [
    "w_0_0, w_0 = train_linear_regression(X_0_train, y_0_train)\n",
    "w_0_mean, w_mean = train_linear_regression(X_mean_train, y_mean_train)"
   ]
  },
  {
   "cell_type": "code",
   "execution_count": 27,
   "id": "54d14157-40f9-4189-b3c5-7115574dab7c",
   "metadata": {
    "execution": {
     "iopub.execute_input": "2025-10-05T16:40:56.583587Z",
     "iopub.status.busy": "2025-10-05T16:40:56.583278Z",
     "iopub.status.idle": "2025-10-05T16:40:56.629064Z",
     "shell.execute_reply": "2025-10-05T16:40:56.628004Z",
     "shell.execute_reply.started": "2025-10-05T16:40:56.583558Z"
    },
    "id": "54d14157-40f9-4189-b3c5-7115574dab7c"
   },
   "outputs": [],
   "source": [
    "y_0_pred = w_0_0 + X_0_train.dot(w_0)\n",
    "y_mean_pred = w_0_mean + X_mean_train.dot(w_mean)\n",
    "\n",
    "y_0_pred_test = w_0_0 + X_0_train.dot(w_0)\n",
    "y_mean_pred_test = w_0_0 + X_0_train.dot(w_mean)\n",
    "\n",
    "y_0_pred_val = w_0_0 + X_0_val.dot(w_0)\n",
    "y_mean_pred_val = w_0_mean + X_0_val.dot(w_mean)"
   ]
  },
  {
   "cell_type": "code",
   "execution_count": 28,
   "id": "pHEeuXzLpX8i",
   "metadata": {
    "execution": {
     "iopub.execute_input": "2025-10-05T16:40:56.631560Z",
     "iopub.status.busy": "2025-10-05T16:40:56.631033Z",
     "iopub.status.idle": "2025-10-05T16:40:56.638304Z",
     "shell.execute_reply": "2025-10-05T16:40:56.636674Z",
     "shell.execute_reply.started": "2025-10-05T16:40:56.631437Z"
    },
    "id": "pHEeuXzLpX8i"
   },
   "outputs": [],
   "source": [
    "def rmse(y, y_pred):\n",
    "    error = y_pred - y\n",
    "    mse = (error ** 2).mean()\n",
    "    return np.sqrt(mse)"
   ]
  },
  {
   "cell_type": "code",
   "execution_count": 29,
   "id": "tAy1yM5fpQbV",
   "metadata": {
    "colab": {
     "base_uri": "https://localhost:8080/"
    },
    "execution": {
     "iopub.execute_input": "2025-10-05T16:40:56.640071Z",
     "iopub.status.busy": "2025-10-05T16:40:56.639708Z",
     "iopub.status.idle": "2025-10-05T16:40:56.652034Z",
     "shell.execute_reply": "2025-10-05T16:40:56.647543Z",
     "shell.execute_reply.started": "2025-10-05T16:40:56.640040Z"
    },
    "id": "tAy1yM5fpQbV",
    "outputId": "ebb45875-5e69-47fa-e96e-f418ed0a8405"
   },
   "outputs": [
    {
     "data": {
      "text/plain": [
       "(0.52, 0.46)"
      ]
     },
     "execution_count": 29,
     "metadata": {},
     "output_type": "execute_result"
    }
   ],
   "source": [
    "round(rmse(y_0_train, y_0_pred), 2), round(rmse(y_mean_train, y_mean_pred), 2)"
   ]
  },
  {
   "cell_type": "code",
   "execution_count": 30,
   "id": "1cd1c9bf-94ca-4359-84b1-26dd362fc798",
   "metadata": {
    "execution": {
     "iopub.execute_input": "2025-10-05T16:40:56.655075Z",
     "iopub.status.busy": "2025-10-05T16:40:56.654039Z",
     "iopub.status.idle": "2025-10-05T16:40:56.689090Z",
     "shell.execute_reply": "2025-10-05T16:40:56.687670Z",
     "shell.execute_reply.started": "2025-10-05T16:40:56.655037Z"
    }
   },
   "outputs": [
    {
     "data": {
      "text/plain": [
       "(0.52, 0.46, 0.0)"
      ]
     },
     "execution_count": 30,
     "metadata": {},
     "output_type": "execute_result"
    }
   ],
   "source": [
    "round(rmse(y_0_train, y_0_pred),2), round(rmse(y_mean_train, y_mean_pred), 2), round(rmse(y_mean_test, y_mean_test), 2)"
   ]
  },
  {
   "cell_type": "markdown",
   "id": "XRh7CJnprbrw",
   "metadata": {
    "id": "XRh7CJnprbrw"
   },
   "source": [
    "es ist besser mit dem mean\n"
   ]
  },
  {
   "cell_type": "markdown",
   "id": "5a926a51-834f-4e74-b152-2ea6a951cd8e",
   "metadata": {
    "id": "nbfqkJ0-q9oC"
   },
   "source": [
    "## Question 4\n",
    "- Now let's train a regularized linear regression.\n",
    "- For this question, fill the NAs with 0.\n",
    "- Try different values of r from this list: [0, 0.01, 0.1, 1, 5, 10, 100].\n",
    "- Use RMSE to evaluate the model on the validation dataset.\n",
    "- Round the RMSE scores to 2 decimal digits.\n",
    "- Which r gives the best RMSE?\n",
    "- If there are multiple options, select the smallest r."
   ]
  },
  {
   "cell_type": "code",
   "execution_count": 31,
   "id": "f464028c-54e9-4ca5-b7ab-c4fe46acb2e1",
   "metadata": {
    "execution": {
     "iopub.execute_input": "2025-10-05T16:40:56.699203Z",
     "iopub.status.busy": "2025-10-05T16:40:56.694358Z",
     "iopub.status.idle": "2025-10-05T16:40:56.710121Z",
     "shell.execute_reply": "2025-10-05T16:40:56.707611Z",
     "shell.execute_reply.started": "2025-10-05T16:40:56.699163Z"
    }
   },
   "outputs": [],
   "source": [
    "def train_linear_regression_reg(X, y, r=0.0):\n",
    "    ones = np.ones(X.shape[0])\n",
    "    X = np.column_stack([ones, X])\n",
    "\n",
    "    XTX = X.T.dot(X)\n",
    "    reg = r * np.eye(XTX.shape[0])\n",
    "    XTX = XTX + reg\n",
    "\n",
    "    XTX_inv = np.linalg.inv(XTX)\n",
    "    w = XTX_inv.dot(X.T).dot(y)\n",
    "    \n",
    "    return w[0], w[1:]"
   ]
  },
  {
   "cell_type": "code",
   "execution_count": 32,
   "id": "4dca55ed-0d35-46ff-bdce-50c1d70ef2d5",
   "metadata": {
    "execution": {
     "iopub.execute_input": "2025-10-05T16:40:56.715188Z",
     "iopub.status.busy": "2025-10-05T16:40:56.713886Z",
     "iopub.status.idle": "2025-10-05T16:40:56.729107Z",
     "shell.execute_reply": "2025-10-05T16:40:56.726262Z",
     "shell.execute_reply.started": "2025-10-05T16:40:56.715151Z"
    }
   },
   "outputs": [],
   "source": [
    "def prepare_X(df):\n",
    "    \n",
    "    df_num = df[base]\n",
    "    df_num = df_num.fillna(0)\n",
    "    X = df_num.values\n",
    "\n",
    "    return X"
   ]
  },
  {
   "cell_type": "code",
   "execution_count": 33,
   "id": "b232a04a-76aa-4892-9a8a-97e1b98fc7b4",
   "metadata": {
    "execution": {
     "iopub.execute_input": "2025-10-05T16:40:56.734846Z",
     "iopub.status.busy": "2025-10-05T16:40:56.733909Z",
     "iopub.status.idle": "2025-10-05T16:40:56.913172Z",
     "shell.execute_reply": "2025-10-05T16:40:56.912286Z",
     "shell.execute_reply.started": "2025-10-05T16:40:56.734807Z"
    }
   },
   "outputs": [
    {
     "name": "stdout",
     "output_type": "stream",
     "text": [
      "0 28.82736547365895 0.52\n",
      "0.01 24.92683841981215 0.52\n",
      "0.1 11.239661084581073 0.52\n",
      "1 1.7315979411219746 0.52\n",
      "5 0.3638075020482907 0.52\n",
      "10 0.18306246621686947 0.52\n",
      "100 0.01841801730688404 0.52\n"
     ]
    }
   ],
   "source": [
    "for r in [0, 0.01, 0.1, 1, 5, 10, 100]:\n",
    "    w_0, w = train_linear_regression_reg(X_0_train, y_0_train, r=r)\n",
    "\n",
    "    X_0_val = prepare_X(df_val)\n",
    "    y_0_pred = w_0 + X_0_val.dot(w)\n",
    "    score = rmse(y_0_val, y_0_pred)\n",
    "    \n",
    "    print(r, w_0, (round(score, 2)))"
   ]
  },
  {
   "cell_type": "code",
   "execution_count": 34,
   "id": "d43b5c26-9f73-484b-911d-e746aa1b556d",
   "metadata": {
    "execution": {
     "iopub.execute_input": "2025-10-05T16:40:56.915340Z",
     "iopub.status.busy": "2025-10-05T16:40:56.914757Z",
     "iopub.status.idle": "2025-10-05T16:40:56.957298Z",
     "shell.execute_reply": "2025-10-05T16:40:56.951371Z",
     "shell.execute_reply.started": "2025-10-05T16:40:56.915307Z"
    }
   },
   "outputs": [
    {
     "name": "stdout",
     "output_type": "stream",
     "text": [
      "validation: 28.812024672654253\n",
      "test: 28.82979741108208\n"
     ]
    }
   ],
   "source": [
    "X_0_train = prepare_X(df_0_train)\n",
    "w0, w = train_linear_regression_reg(X_0_train, y_0_train, r=0.0)\n",
    "\n",
    "X_0_val = prepare_X(df_0_val)\n",
    "y_0_pred = w_0 + X_0_val.dot(w)\n",
    "print('validation:', rmse(y_0_val, y_0_pred))\n",
    "\n",
    "X_0_test = prepare_X(df_0_test)\n",
    "y_0_pred = w_0 + X_0_test.dot(w)\n",
    "print('test:', rmse(y_0_test, y_0_pred))"
   ]
  },
  {
   "cell_type": "markdown",
   "id": "d6d49b84-ee3e-4d04-9a24-ced07050b830",
   "metadata": {},
   "source": [
    "r = 0"
   ]
  },
  {
   "cell_type": "markdown",
   "id": "7237e520-d13f-4f98-929e-07a0fa4e79c7",
   "metadata": {},
   "source": [
    "### Question 5\n",
    "We used seed 42 for splitting the data. Let's find out how selecting the seed influences our score.\n",
    "- Try different seed values: [0, 1, 2, 3, 4, 5, 6, 7, 8, 9].\n",
    "- For each seed, do the train/validation/test split with 60%/20%/20% distribution.\n",
    "- Fill the missing values with 0 and train a model without regularization.\n",
    "- For each seed, evaluate the model on the validation dataset and collect the RMSE scores.\n",
    "- What's the standard deviation of all the scores? To compute the standard deviation, use np.std.\n",
    "- Round the result to 3 decimal digits (round(std, 3))"
   ]
  },
  {
   "cell_type": "code",
   "execution_count": 35,
   "id": "e70ee2f0-5797-4192-b147-a7a95d74fecc",
   "metadata": {
    "execution": {
     "iopub.execute_input": "2025-10-05T16:40:56.959131Z",
     "iopub.status.busy": "2025-10-05T16:40:56.958600Z",
     "iopub.status.idle": "2025-10-05T16:40:56.969126Z",
     "shell.execute_reply": "2025-10-05T16:40:56.967695Z",
     "shell.execute_reply.started": "2025-10-05T16:40:56.959096Z"
    }
   },
   "outputs": [],
   "source": [
    "def train_test_val_split(df, idx):\n",
    "    n = len(df)\n",
    "    n_val = int(n * 0.2)\n",
    "    n_test = int(n * 0.2)\n",
    "    n_train = n - n_val - n_test\n",
    "\n",
    "    df_train = df.iloc[idx[:n_train]]\n",
    "    df_val = df.iloc[idx[n_train:n_train+n_val]]\n",
    "    df_test = df.iloc[idx[n_train+n_val:]]\n",
    "\n",
    "    return df_train, df_val, df_test"
   ]
  },
  {
   "cell_type": "code",
   "execution_count": 36,
   "id": "de957026-49a1-4957-9d68-5ba7dac2a20d",
   "metadata": {
    "execution": {
     "iopub.execute_input": "2025-10-05T16:40:56.971366Z",
     "iopub.status.busy": "2025-10-05T16:40:56.970996Z",
     "iopub.status.idle": "2025-10-05T16:40:56.977490Z",
     "shell.execute_reply": "2025-10-05T16:40:56.976339Z",
     "shell.execute_reply.started": "2025-10-05T16:40:56.971335Z"
    }
   },
   "outputs": [],
   "source": [
    "def prepare_X(df):\n",
    "    df_num = df[base]\n",
    "    df_num = df_num.fillna(0)\n",
    "    X = df_num.values\n",
    "    return X"
   ]
  },
  {
   "cell_type": "code",
   "execution_count": 37,
   "id": "fda3bffd-018c-4692-b603-63831aca8de0",
   "metadata": {
    "execution": {
     "iopub.execute_input": "2025-10-05T16:40:56.980171Z",
     "iopub.status.busy": "2025-10-05T16:40:56.978767Z",
     "iopub.status.idle": "2025-10-05T16:40:56.990663Z",
     "shell.execute_reply": "2025-10-05T16:40:56.989321Z",
     "shell.execute_reply.started": "2025-10-05T16:40:56.980134Z"
    }
   },
   "outputs": [
    {
     "data": {
      "text/plain": [
       "array([[ 220.        ,  144.        , 2535.88759124, 2009.        ],\n",
       "       [ 160.        ,  141.        , 2741.17048439, 2019.        ],\n",
       "       [ 230.        ,  155.        , 2471.88023726, 2017.        ],\n",
       "       ...,\n",
       "       [ 210.        ,  152.        , 2500.17568746, 2020.        ],\n",
       "       [ 250.        ,  154.        , 2254.31324473, 2002.        ],\n",
       "       [ 210.        ,  152.        , 2435.20360628, 2004.        ]])"
      ]
     },
     "execution_count": 37,
     "metadata": {},
     "output_type": "execute_result"
    }
   ],
   "source": [
    "X = prepare_X(df_train)\n",
    "X"
   ]
  },
  {
   "cell_type": "code",
   "execution_count": 38,
   "id": "bf8eb87a-3352-48f4-a543-11c297b6b210",
   "metadata": {
    "execution": {
     "iopub.execute_input": "2025-10-05T16:40:56.993849Z",
     "iopub.status.busy": "2025-10-05T16:40:56.993142Z",
     "iopub.status.idle": "2025-10-05T16:40:57.012163Z",
     "shell.execute_reply": "2025-10-05T16:40:57.011272Z",
     "shell.execute_reply.started": "2025-10-05T16:40:56.993813Z"
    }
   },
   "outputs": [
    {
     "data": {
      "text/html": [
       "<div>\n",
       "<style scoped>\n",
       "    .dataframe tbody tr th:only-of-type {\n",
       "        vertical-align: middle;\n",
       "    }\n",
       "\n",
       "    .dataframe tbody tr th {\n",
       "        vertical-align: top;\n",
       "    }\n",
       "\n",
       "    .dataframe thead th {\n",
       "        text-align: right;\n",
       "    }\n",
       "</style>\n",
       "<table border=\"1\" class=\"dataframe\">\n",
       "  <thead>\n",
       "    <tr style=\"text-align: right;\">\n",
       "      <th></th>\n",
       "      <th>engine_displacement</th>\n",
       "      <th>horsepower</th>\n",
       "      <th>vehicle_weight</th>\n",
       "      <th>model_year</th>\n",
       "      <th>fuel_efficiency_mpg</th>\n",
       "    </tr>\n",
       "  </thead>\n",
       "  <tbody>\n",
       "    <tr>\n",
       "      <th>483</th>\n",
       "      <td>220</td>\n",
       "      <td>144.0</td>\n",
       "      <td>2535.887591</td>\n",
       "      <td>2009</td>\n",
       "      <td>16.642943</td>\n",
       "    </tr>\n",
       "    <tr>\n",
       "      <th>7506</th>\n",
       "      <td>160</td>\n",
       "      <td>141.0</td>\n",
       "      <td>2741.170484</td>\n",
       "      <td>2019</td>\n",
       "      <td>16.298377</td>\n",
       "    </tr>\n",
       "    <tr>\n",
       "      <th>8795</th>\n",
       "      <td>230</td>\n",
       "      <td>155.0</td>\n",
       "      <td>2471.880237</td>\n",
       "      <td>2017</td>\n",
       "      <td>18.591822</td>\n",
       "    </tr>\n",
       "    <tr>\n",
       "      <th>1688</th>\n",
       "      <td>150</td>\n",
       "      <td>206.0</td>\n",
       "      <td>3748.164469</td>\n",
       "      <td>2015</td>\n",
       "      <td>11.818843</td>\n",
       "    </tr>\n",
       "    <tr>\n",
       "      <th>6217</th>\n",
       "      <td>300</td>\n",
       "      <td>111.0</td>\n",
       "      <td>2135.716359</td>\n",
       "      <td>2006</td>\n",
       "      <td>19.402209</td>\n",
       "    </tr>\n",
       "    <tr>\n",
       "      <th>...</th>\n",
       "      <td>...</td>\n",
       "      <td>...</td>\n",
       "      <td>...</td>\n",
       "      <td>...</td>\n",
       "      <td>...</td>\n",
       "    </tr>\n",
       "    <tr>\n",
       "      <th>1696</th>\n",
       "      <td>260</td>\n",
       "      <td>139.0</td>\n",
       "      <td>2606.972984</td>\n",
       "      <td>2009</td>\n",
       "      <td>16.964054</td>\n",
       "    </tr>\n",
       "    <tr>\n",
       "      <th>5685</th>\n",
       "      <td>280</td>\n",
       "      <td>132.0</td>\n",
       "      <td>4004.214323</td>\n",
       "      <td>2014</td>\n",
       "      <td>10.059094</td>\n",
       "    </tr>\n",
       "    <tr>\n",
       "      <th>6735</th>\n",
       "      <td>210</td>\n",
       "      <td>152.0</td>\n",
       "      <td>2500.175687</td>\n",
       "      <td>2020</td>\n",
       "      <td>17.593237</td>\n",
       "    </tr>\n",
       "    <tr>\n",
       "      <th>2052</th>\n",
       "      <td>250</td>\n",
       "      <td>154.0</td>\n",
       "      <td>2254.313245</td>\n",
       "      <td>2002</td>\n",
       "      <td>18.925748</td>\n",
       "    </tr>\n",
       "    <tr>\n",
       "      <th>1776</th>\n",
       "      <td>210</td>\n",
       "      <td>152.0</td>\n",
       "      <td>2435.203606</td>\n",
       "      <td>2004</td>\n",
       "      <td>17.965284</td>\n",
       "    </tr>\n",
       "  </tbody>\n",
       "</table>\n",
       "<p>5824 rows × 5 columns</p>\n",
       "</div>"
      ],
      "text/plain": [
       "      engine_displacement  horsepower  vehicle_weight  model_year  \\\n",
       "483                   220       144.0     2535.887591        2009   \n",
       "7506                  160       141.0     2741.170484        2019   \n",
       "8795                  230       155.0     2471.880237        2017   \n",
       "1688                  150       206.0     3748.164469        2015   \n",
       "6217                  300       111.0     2135.716359        2006   \n",
       "...                   ...         ...             ...         ...   \n",
       "1696                  260       139.0     2606.972984        2009   \n",
       "5685                  280       132.0     4004.214323        2014   \n",
       "6735                  210       152.0     2500.175687        2020   \n",
       "2052                  250       154.0     2254.313245        2002   \n",
       "1776                  210       152.0     2435.203606        2004   \n",
       "\n",
       "      fuel_efficiency_mpg  \n",
       "483             16.642943  \n",
       "7506            16.298377  \n",
       "8795            18.591822  \n",
       "1688            11.818843  \n",
       "6217            19.402209  \n",
       "...                   ...  \n",
       "1696            16.964054  \n",
       "5685            10.059094  \n",
       "6735            17.593237  \n",
       "2052            18.925748  \n",
       "1776            17.965284  \n",
       "\n",
       "[5824 rows x 5 columns]"
      ]
     },
     "execution_count": 38,
     "metadata": {},
     "output_type": "execute_result"
    }
   ],
   "source": [
    "df_train"
   ]
  },
  {
   "cell_type": "code",
   "execution_count": 39,
   "id": "eb12bd01-734f-44cf-932e-e679cbcfaea1",
   "metadata": {
    "execution": {
     "iopub.execute_input": "2025-10-05T16:40:57.013592Z",
     "iopub.status.busy": "2025-10-05T16:40:57.013193Z",
     "iopub.status.idle": "2025-10-05T16:40:57.242449Z",
     "shell.execute_reply": "2025-10-05T16:40:57.241577Z",
     "shell.execute_reply.started": "2025-10-05T16:40:57.013564Z"
    },
    "scrolled": true
   },
   "outputs": [
    {
     "name": "stdout",
     "output_type": "stream",
     "text": [
      "seed=0, w_0=19.773678568355926, score=2.5039778482941717\n",
      "seed=1, w_0=27.426111081245768, score=2.539267888915932\n",
      "seed=2, w_0=1.186982287020209, score=2.5262500885954364\n",
      "seed=3, w_0=21.519810109076374, score=2.5989291766209774\n",
      "seed=4, w_0=14.217230179177523, score=2.5047092005081875\n",
      "seed=5, w_0=13.474174630467814, score=2.481975495192597\n",
      "seed=6, w_0=17.161256723171775, score=2.5490449764090855\n",
      "seed=7, w_0=21.583602504503403, score=2.493447930813017\n",
      "seed=8, w_0=1.7493993934311902, score=2.5597417255989336\n",
      "seed=9, w_0=15.658698967860994, score=2.499402468492385\n"
     ]
    }
   ],
   "source": [
    "score = np.zeros(10)\n",
    "for seed in [0, 1, 2, 3, 4, 5, 6, 7, 8, 9]:\n",
    "    idx = np.arange(n)\n",
    "    np.random.seed(seed)\n",
    "    np.random.shuffle(idx)\n",
    "\n",
    "    df_train, df_val, df_test = train_test_val_split(df, idx)\n",
    "    X_train, y_train = X_y_split(df_train)\n",
    "    X_test, y_test = X_y_split(df_test)\n",
    "    X_val, y_val = X_y_split(df_val)\n",
    "    \n",
    "    w0, w = train_linear_regression(X_train, y_train)\n",
    "\n",
    "    X_test = prepare_X(df_test)\n",
    "    #y_pred = w_0 + X_train.dot(w)\n",
    "\n",
    "    X_train = prepare_X(df_0_train)\n",
    "    w0, w = train_linear_regression(X_train, y_train)\n",
    "\n",
    "    y_pred = w0 + X_train.dot(w)\n",
    "   # print('train:', rmse(y_train, y_pred))\n",
    "\n",
    "    X_val = prepare_X(df_0_val)\n",
    "    y_pred = w0 + X_val.dot(w)\n",
    "    #print('validation:', rmse(y_val, y_pred))\n",
    "    \n",
    "    rmse(y_val, y_pred)\n",
    "    score[seed] = rmse(y_val, y_pred)\n",
    "\n",
    "    print(\"seed=%s, w_0=%s, score=%s\" % (seed, w0, score[seed]))\n",
    "\n",
    "    \n",
    "    #score[seed] = rmse(y_train, y_pred)\n"
   ]
  },
  {
   "cell_type": "code",
   "execution_count": 40,
   "id": "2f2f3d59-c1bc-4fe5-96e2-b084ac268d60",
   "metadata": {
    "execution": {
     "iopub.execute_input": "2025-10-05T16:40:57.245219Z",
     "iopub.status.busy": "2025-10-05T16:40:57.243945Z",
     "iopub.status.idle": "2025-10-05T16:40:57.251902Z",
     "shell.execute_reply": "2025-10-05T16:40:57.250780Z",
     "shell.execute_reply.started": "2025-10-05T16:40:57.244964Z"
    }
   },
   "outputs": [],
   "source": [
    "y= [1, 2, 3, 1, 2, 3]"
   ]
  },
  {
   "cell_type": "code",
   "execution_count": 41,
   "id": "b74cb4fa-3d89-4b01-8f50-370fa1fd27ca",
   "metadata": {
    "execution": {
     "iopub.execute_input": "2025-10-05T16:40:57.254377Z",
     "iopub.status.busy": "2025-10-05T16:40:57.253317Z",
     "iopub.status.idle": "2025-10-05T16:40:57.265110Z",
     "shell.execute_reply": "2025-10-05T16:40:57.261109Z",
     "shell.execute_reply.started": "2025-10-05T16:40:57.254335Z"
    }
   },
   "outputs": [],
   "source": [
    "def train_linear_regression(X, y):\n",
    "    ones = np.ones(X.shape[0])\n",
    "    X = np.column_stack([ones, X])\n",
    "\n",
    "    XTX = X.T.dot(X)\n",
    "    XTX_inv = np.linalg.inv(XTX)\n",
    "    w_full = XTX_inv.dot(X.T).dot(y)\n",
    "\n",
    "    return w_full[0], w_full[1:]"
   ]
  },
  {
   "cell_type": "code",
   "execution_count": 42,
   "id": "7b78712b-2ef3-4cbc-9dff-a7a0e594e9a3",
   "metadata": {
    "execution": {
     "iopub.execute_input": "2025-10-05T16:40:57.268427Z",
     "iopub.status.busy": "2025-10-05T16:40:57.267697Z",
     "iopub.status.idle": "2025-10-05T16:40:57.295534Z",
     "shell.execute_reply": "2025-10-05T16:40:57.294699Z",
     "shell.execute_reply.started": "2025-10-05T16:40:57.268324Z"
    }
   },
   "outputs": [],
   "source": [
    "w_0, w = train_linear_regression_reg(X_train, y_train, r=0.001)"
   ]
  },
  {
   "cell_type": "code",
   "execution_count": 43,
   "id": "870b3ba2-7708-4cbc-ba68-80a4de925754",
   "metadata": {
    "execution": {
     "iopub.execute_input": "2025-10-05T16:40:57.300135Z",
     "iopub.status.busy": "2025-10-05T16:40:57.298623Z",
     "iopub.status.idle": "2025-10-05T16:40:57.307827Z",
     "shell.execute_reply": "2025-10-05T16:40:57.305794Z",
     "shell.execute_reply.started": "2025-10-05T16:40:57.300076Z"
    }
   },
   "outputs": [],
   "source": [
    "def rmse(y, y_pred):\n",
    "    se = (y - y_pred) ** 2\n",
    "    mse = se.mean()\n",
    "    return np.sqrt(mse)"
   ]
  },
  {
   "cell_type": "code",
   "execution_count": 44,
   "id": "b00ba6b9-ef6b-405f-82c3-b5f90cbb3f32",
   "metadata": {
    "execution": {
     "iopub.execute_input": "2025-10-05T16:40:57.310884Z",
     "iopub.status.busy": "2025-10-05T16:40:57.309407Z",
     "iopub.status.idle": "2025-10-05T16:40:57.321301Z",
     "shell.execute_reply": "2025-10-05T16:40:57.320418Z",
     "shell.execute_reply.started": "2025-10-05T16:40:57.310846Z"
    }
   },
   "outputs": [
    {
     "data": {
      "text/plain": [
       "2.499402468492385"
      ]
     },
     "execution_count": 44,
     "metadata": {},
     "output_type": "execute_result"
    }
   ],
   "source": [
    "score[seed]"
   ]
  },
  {
   "cell_type": "code",
   "execution_count": 45,
   "id": "b4118079-4ecc-405e-9429-498c7882318c",
   "metadata": {
    "execution": {
     "iopub.execute_input": "2025-10-05T16:40:57.322817Z",
     "iopub.status.busy": "2025-10-05T16:40:57.322212Z",
     "iopub.status.idle": "2025-10-05T16:40:57.330654Z",
     "shell.execute_reply": "2025-10-05T16:40:57.328395Z",
     "shell.execute_reply.started": "2025-10-05T16:40:57.322781Z"
    }
   },
   "outputs": [
    {
     "data": {
      "text/plain": [
       "0.0"
      ]
     },
     "execution_count": 45,
     "metadata": {},
     "output_type": "execute_result"
    }
   ],
   "source": [
    "round(score[seed].std(),3 )"
   ]
  },
  {
   "cell_type": "markdown",
   "id": "c763da63-274f-4996-becd-d15183467245",
   "metadata": {},
   "source": [
    "### Question 6\n",
    "Split the dataset like previously, use seed 9.\n",
    "Combine train and validation datasets.\n",
    "Fill the missing values with 0 and train a model with r=0.001.\n",
    "What's the RMSE on the test dataset?"
   ]
  },
  {
   "cell_type": "code",
   "execution_count": 46,
   "id": "27dd53e3-fa45-4ec2-96ac-dd8e5f63821d",
   "metadata": {
    "execution": {
     "iopub.execute_input": "2025-10-05T16:40:57.333230Z",
     "iopub.status.busy": "2025-10-05T16:40:57.332574Z",
     "iopub.status.idle": "2025-10-05T16:40:57.339587Z",
     "shell.execute_reply": "2025-10-05T16:40:57.338788Z",
     "shell.execute_reply.started": "2025-10-05T16:40:57.333194Z"
    }
   },
   "outputs": [],
   "source": [
    "idx = np.arange(n)"
   ]
  },
  {
   "cell_type": "code",
   "execution_count": 47,
   "id": "858aba15-a1b8-4396-8df1-a3a701ac090c",
   "metadata": {
    "execution": {
     "iopub.execute_input": "2025-10-05T16:40:57.340977Z",
     "iopub.status.busy": "2025-10-05T16:40:57.340639Z",
     "iopub.status.idle": "2025-10-05T16:40:57.350841Z",
     "shell.execute_reply": "2025-10-05T16:40:57.347562Z",
     "shell.execute_reply.started": "2025-10-05T16:40:57.340957Z"
    }
   },
   "outputs": [],
   "source": [
    "np.random.seed(9)\n",
    "\n",
    "np.random.shuffle(idx)"
   ]
  },
  {
   "cell_type": "code",
   "execution_count": 48,
   "id": "b9528f69-3efd-4d7b-bc39-a8fde3b52301",
   "metadata": {
    "execution": {
     "iopub.execute_input": "2025-10-05T16:40:57.354641Z",
     "iopub.status.busy": "2025-10-05T16:40:57.354217Z",
     "iopub.status.idle": "2025-10-05T16:40:57.363138Z",
     "shell.execute_reply": "2025-10-05T16:40:57.361189Z",
     "shell.execute_reply.started": "2025-10-05T16:40:57.354607Z"
    }
   },
   "outputs": [],
   "source": [
    "def train_test_val_split(df, idx):\n",
    "    n = len(df)\n",
    "    n_val = int(n * 0.2)\n",
    "    n_test = int(n * 0.2)\n",
    "    n_train = n - n_val - n_test\n",
    "\n",
    "    np.random.seed(9)\n",
    "    np.random.shuffle(idx)\n",
    "    \n",
    "    df_train = df.iloc[idx[:n_train]]\n",
    "    df_val = df.iloc[idx[n_train:n_train+n_val]]\n",
    "    df_test = df.iloc[idx[n_train+n_val:]]\n",
    "\n",
    "    \n",
    "    return df_train, df_val, df_test"
   ]
  },
  {
   "cell_type": "code",
   "execution_count": 49,
   "id": "2b38759b-ad73-42ee-aa68-96e1c6bd8b51",
   "metadata": {
    "execution": {
     "iopub.execute_input": "2025-10-05T16:40:57.364990Z",
     "iopub.status.busy": "2025-10-05T16:40:57.364335Z",
     "iopub.status.idle": "2025-10-05T16:40:57.374213Z",
     "shell.execute_reply": "2025-10-05T16:40:57.372613Z",
     "shell.execute_reply.started": "2025-10-05T16:40:57.364954Z"
    }
   },
   "outputs": [],
   "source": [
    "df_full_train = pd.concat([df_train, df_val])"
   ]
  },
  {
   "cell_type": "code",
   "execution_count": 50,
   "id": "8f487663-6fb2-4631-9fd3-67cff3c139a4",
   "metadata": {
    "execution": {
     "iopub.execute_input": "2025-10-05T16:40:57.375774Z",
     "iopub.status.busy": "2025-10-05T16:40:57.375223Z",
     "iopub.status.idle": "2025-10-05T16:40:57.386987Z",
     "shell.execute_reply": "2025-10-05T16:40:57.386168Z",
     "shell.execute_reply.started": "2025-10-05T16:40:57.375743Z"
    }
   },
   "outputs": [],
   "source": [
    "df_full_train = df_full_train.reset_index(drop=True)"
   ]
  },
  {
   "cell_type": "code",
   "execution_count": 51,
   "id": "4417bc5f-46f0-4a4c-bb0e-9d874430278f",
   "metadata": {
    "execution": {
     "iopub.execute_input": "2025-10-05T16:40:57.390318Z",
     "iopub.status.busy": "2025-10-05T16:40:57.388615Z",
     "iopub.status.idle": "2025-10-05T16:40:57.407388Z",
     "shell.execute_reply": "2025-10-05T16:40:57.401464Z",
     "shell.execute_reply.started": "2025-10-05T16:40:57.390279Z"
    }
   },
   "outputs": [],
   "source": [
    "X_full_train = prepare_X(df_full_train)"
   ]
  },
  {
   "cell_type": "code",
   "execution_count": 52,
   "id": "f5e73964-985f-43c5-b865-652560208017",
   "metadata": {
    "execution": {
     "iopub.execute_input": "2025-10-05T16:40:57.410534Z",
     "iopub.status.busy": "2025-10-05T16:40:57.409724Z",
     "iopub.status.idle": "2025-10-05T16:40:57.429017Z",
     "shell.execute_reply": "2025-10-05T16:40:57.424839Z",
     "shell.execute_reply.started": "2025-10-05T16:40:57.410495Z"
    }
   },
   "outputs": [
    {
     "data": {
      "text/plain": [
       "array([[ 240.        ,  136.        , 4050.51228957, 2006.        ],\n",
       "       [ 190.        ,  141.        , 3195.86694158, 2017.        ],\n",
       "       [ 200.        ,  184.        , 3006.16436968, 2017.        ],\n",
       "       ...,\n",
       "       [ 180.        ,  154.        , 3346.96567067, 2018.        ],\n",
       "       [ 210.        ,  152.        , 2500.17568746, 2020.        ],\n",
       "       [ 260.        ,  174.        , 2702.25730066, 2011.        ]])"
      ]
     },
     "execution_count": 52,
     "metadata": {},
     "output_type": "execute_result"
    }
   ],
   "source": [
    "X_full_train"
   ]
  },
  {
   "cell_type": "code",
   "execution_count": 53,
   "id": "aa34aa97-c8bb-443c-ba77-bf2d5334eb8f",
   "metadata": {
    "execution": {
     "iopub.execute_input": "2025-10-05T16:40:57.432131Z",
     "iopub.status.busy": "2025-10-05T16:40:57.431709Z",
     "iopub.status.idle": "2025-10-05T16:40:57.441347Z",
     "shell.execute_reply": "2025-10-05T16:40:57.439181Z",
     "shell.execute_reply.started": "2025-10-05T16:40:57.432095Z"
    }
   },
   "outputs": [],
   "source": [
    "y_full_train = np.concatenate([y_train, y_val])"
   ]
  },
  {
   "cell_type": "code",
   "execution_count": 54,
   "id": "619d2ba7-692a-49e5-b9c7-cc5412a480ef",
   "metadata": {
    "execution": {
     "iopub.execute_input": "2025-10-05T16:40:57.443414Z",
     "iopub.status.busy": "2025-10-05T16:40:57.442920Z",
     "iopub.status.idle": "2025-10-05T16:40:57.467261Z",
     "shell.execute_reply": "2025-10-05T16:40:57.463885Z",
     "shell.execute_reply.started": "2025-10-05T16:40:57.443380Z"
    }
   },
   "outputs": [],
   "source": [
    "w0, w = train_linear_regression_reg(X_full_train, y_full_train, r=0.001)"
   ]
  },
  {
   "cell_type": "code",
   "execution_count": 55,
   "id": "f8844e16-761e-4ae5-905f-b24296a232b3",
   "metadata": {
    "execution": {
     "iopub.execute_input": "2025-10-05T16:40:57.473497Z",
     "iopub.status.busy": "2025-10-05T16:40:57.472761Z",
     "iopub.status.idle": "2025-10-05T16:40:57.497466Z",
     "shell.execute_reply": "2025-10-05T16:40:57.492315Z",
     "shell.execute_reply.started": "2025-10-05T16:40:57.473456Z"
    }
   },
   "outputs": [
    {
     "data": {
      "text/plain": [
       "0.5156261299169602"
      ]
     },
     "execution_count": 55,
     "metadata": {},
     "output_type": "execute_result"
    }
   ],
   "source": [
    "X_test = prepare_X(df_test)\n",
    "y_pred = w0 + X_test.dot(w)\n",
    "score = rmse(y_test, y_pred)\n",
    "score"
   ]
  },
  {
   "cell_type": "code",
   "execution_count": null,
   "id": "0f8b3f41-4baf-4ee5-ae94-387ed4d8acab",
   "metadata": {},
   "outputs": [],
   "source": []
  }
 ],
 "metadata": {
  "colab": {
   "provenance": []
  },
  "kernelspec": {
   "display_name": "Python 3 (ipykernel)",
   "language": "python",
   "name": "python3"
  },
  "language_info": {
   "codemirror_mode": {
    "name": "ipython",
    "version": 3
   },
   "file_extension": ".py",
   "mimetype": "text/x-python",
   "name": "python",
   "nbconvert_exporter": "python",
   "pygments_lexer": "ipython3",
   "version": "3.12.9"
  }
 },
 "nbformat": 4,
 "nbformat_minor": 5
}

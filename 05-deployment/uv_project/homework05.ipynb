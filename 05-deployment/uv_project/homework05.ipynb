{
 "cells": [
  {
   "cell_type": "markdown",
   "id": "e5a2ad9d-1785-4ec4-8b43-989b73b0a457",
   "metadata": {},
   "source": [
    "## Question 1\n",
    "\n",
    "* Install `uv`\n",
    "* What's the version of uv you installed?\n",
    "* Use `--version` to find out"
   ]
  },
  {
   "cell_type": "code",
   "execution_count": 54,
   "id": "ea8e5138-f417-4f64-86d6-beb31b82c0f6",
   "metadata": {
    "execution": {
     "iopub.status.busy": "2025-10-27T19:22:37.089591Z",
     "iopub.status.idle": "2025-10-27T19:22:37.094778Z",
     "shell.execute_reply": "2025-10-27T19:22:37.092007Z",
     "shell.execute_reply.started": "2025-10-27T19:22:37.090511Z"
    },
    "scrolled": true
   },
   "outputs": [],
   "source": [
    "#%pip install uv"
   ]
  },
  {
   "cell_type": "code",
   "execution_count": 55,
   "id": "11c02e01-aa10-4b9f-ab44-6c0197a39162",
   "metadata": {
    "execution": {
     "iopub.status.busy": "2025-10-27T19:22:37.096268Z",
     "iopub.status.idle": "2025-10-27T19:22:37.100983Z",
     "shell.execute_reply": "2025-10-27T19:22:37.100684Z",
     "shell.execute_reply.started": "2025-10-27T19:22:37.100333Z"
    }
   },
   "outputs": [],
   "source": [
    "#%uv --version"
   ]
  },
  {
   "cell_type": "markdown",
   "id": "1b21514a-d93b-4fee-943a-168924b6ec42",
   "metadata": {},
   "source": [
    "## Initialize an empty uv project\n",
    "\n",
    "You should create an empty folder for homework\n",
    "and do it there. \n"
   ]
  },
  {
   "cell_type": "code",
   "execution_count": 56,
   "id": "f217bbb7-01d2-42d6-90ea-ae33099b6a70",
   "metadata": {
    "execution": {
     "iopub.execute_input": "2025-10-27T19:25:50.192365Z",
     "iopub.status.busy": "2025-10-27T19:25:50.190252Z",
     "iopub.status.idle": "2025-10-27T19:25:50.337919Z",
     "shell.execute_reply": "2025-10-27T19:25:50.325899Z",
     "shell.execute_reply.started": "2025-10-27T19:25:50.192270Z"
    }
   },
   "outputs": [],
   "source": [
    "#uv init /Users/Nina/code/codeNHerz/ml-zoomcamp-coursework/mein_projekt/"
   ]
  },
  {
   "cell_type": "markdown",
   "id": "b08fefe3-8115-442d-8ef1-91d86b82acf7",
   "metadata": {},
   "source": [
    "## Question 2\n",
    "\n",
    "* Use uv to install Scikit-Learn version 1.6.1 \n",
    "* What's the first hash for Scikit-Learn you get in the lock file?\n",
    "* Include the entire string starting with sha256:, don't include quotes\n"
   ]
  },
  {
   "cell_type": "code",
   "execution_count": 57,
   "id": "9a9d770b-1083-4b62-9d67-0f3f5c7f9325",
   "metadata": {
    "execution": {
     "iopub.status.busy": "2025-10-27T19:22:37.107806Z",
     "iopub.status.idle": "2025-10-27T19:22:37.110971Z",
     "shell.execute_reply": "2025-10-27T19:22:37.110515Z",
     "shell.execute_reply.started": "2025-10-27T19:22:37.110487Z"
    }
   },
   "outputs": [],
   "source": [
    "#uv add scikit-learn==1.6.1"
   ]
  },
  {
   "cell_type": "code",
   "execution_count": 58,
   "id": "5f50295c-bb1a-4b8e-852f-5ffe39f716c6",
   "metadata": {
    "execution": {
     "iopub.status.busy": "2025-10-27T19:22:37.119474Z",
     "iopub.status.idle": "2025-10-27T19:22:37.122517Z",
     "shell.execute_reply": "2025-10-27T19:22:37.120545Z",
     "shell.execute_reply.started": "2025-10-27T19:22:37.120521Z"
    }
   },
   "outputs": [
    {
     "name": "stdout",
     "output_type": "stream",
     "text": [
      "sha256:3faa5c39054b2f03ca547da9b2f52fde67c06240c31853f306aea97f13647b55\n"
     ]
    }
   ],
   "source": [
    "print('sha256:3faa5c39054b2f03ca547da9b2f52fde67c06240c31853f306aea97f13647b55')"
   ]
  },
  {
   "cell_type": "markdown",
   "id": "c6122512-a4e1-4116-985b-10f6f760e041",
   "metadata": {},
   "source": [
    "Models\n",
    "We have prepared a pipeline with a dictionary vectorizer and a model.\n",
    "\n",
    "It was trained (roughly) using this code:\n",
    "\n",
    "```python\n",
    "categorical = ['lead_source']\n",
    "numeric = ['number_of_courses_viewed', 'annual_income']\n",
    "\n",
    "df[categorical] = df[categorical].fillna('NA')\n",
    "df[numeric] = df[numeric].fillna(0)\n",
    "\n",
    "train_dict = df[categorical + numeric].to_dict(orient='records')\n",
    "\n",
    "pipeline = make_pipeline(\n",
    "    DictVectorizer(),\n",
    "    LogisticRegression(solver='liblinear')\n",
    ")\n",
    "\n",
    "pipeline.fit(train_dict, y_train)\n",
    "```\n",
    "Note: You don't need to train the model. This code is just for your reference.\n",
    "\n",
    "And then saved with Pickle. Download it [here][https://github.com/DataTalksClub/machine-learning-zoomcamp/tree/master/cohorts/2025/05-deployment/pipeline_v1.bin].\n",
    "\n",
    "With wget:\n",
    "\n",
    "wget https://github.com/DataTalksClub/machine-learning-zoomcamp/raw/refs/heads/master/cohorts/2025/05-deployment/pipeline_v1.bin\n"
   ]
  },
  {
   "cell_type": "markdown",
   "id": "e1397602-fc7b-48f1-9319-5a586174f8d8",
   "metadata": {},
   "source": [
    "## Question 3\n",
    "\n",
    "Let's use the model!\n",
    "\n",
    "* Write a script for loading the pipeline with pickle\n",
    "* Score this record:\n",
    "\n",
    "```json\n",
    "{\n",
    "    \"lead_source\": \"paid_ads\",\n",
    "    \"number_of_courses_viewed\": 2,\n",
    "    \"annual_income\": 79276.0\n",
    "}\n",
    "```\n",
    "\n",
    "What's the probability that this lead will convert? \n",
    "\n",
    "* 0.333\n",
    "* 0.533\n",
    "* 0.733\n",
    "* 0.933\n",
    "\n",
    "If you're getting errors when unpickling the files, check their checksum:\n",
    "\n",
    "```bash\n",
    "$ md5sum pipeline_v1.bin\n",
    "7d17d2e4dfbaf1e408e1a62e6e880d49 *pipeline_v1.bin"
   ]
  },
  {
   "cell_type": "code",
   "execution_count": 59,
   "id": "0abf4ae0-ac24-4300-80c5-44d14dca8224",
   "metadata": {
    "execution": {
     "iopub.execute_input": "2025-10-27T19:29:37.677595Z",
     "iopub.status.busy": "2025-10-27T19:29:37.677080Z",
     "iopub.status.idle": "2025-10-27T19:29:38.240033Z",
     "shell.execute_reply": "2025-10-27T19:29:38.238574Z",
     "shell.execute_reply.started": "2025-10-27T19:29:37.677554Z"
    }
   },
   "outputs": [
    {
     "name": "stdout",
     "output_type": "stream",
     "text": [
      "--2025-10-27 21:36:34--  https://github.com/DataTalksClub/machine-learning-zoomcamp/raw/refs/heads/master/cohorts/2025/05-deployment/pipeline_v1.bin\n",
      "Resolving github.com (github.com)... 140.82.121.4\n",
      "Connecting to github.com (github.com)|140.82.121.4|:443... connected.\n",
      "HTTP request sent, awaiting response... 302 Found\n",
      "Location: https://raw.githubusercontent.com/DataTalksClub/machine-learning-zoomcamp/refs/heads/master/cohorts/2025/05-deployment/pipeline_v1.bin [following]\n",
      "--2025-10-27 21:36:34--  https://raw.githubusercontent.com/DataTalksClub/machine-learning-zoomcamp/refs/heads/master/cohorts/2025/05-deployment/pipeline_v1.bin\n",
      "Resolving raw.githubusercontent.com (raw.githubusercontent.com)... 185.199.109.133, 185.199.108.133, 185.199.110.133, ...\n",
      "Connecting to raw.githubusercontent.com (raw.githubusercontent.com)|185.199.109.133|:443... connected.\n",
      "HTTP request sent, awaiting response... 200 OK\n",
      "Length: 1300 (1.3K) [application/octet-stream]\n",
      "Saving to: ‘pipeline_v1.bin’\n",
      "\n",
      "pipeline_v1.bin     100%[===================>]   1.27K  --.-KB/s    in 0s      \n",
      "\n",
      "2025-10-27 21:36:34 (31.8 MB/s) - ‘pipeline_v1.bin’ saved [1300/1300]\n",
      "\n"
     ]
    }
   ],
   "source": [
    "!wget https://github.com/DataTalksClub/machine-learning-zoomcamp/raw/refs/heads/master/cohorts/2025/05-deployment/pipeline_v1.bin -O pipeline_v1.bin"
   ]
  },
  {
   "cell_type": "code",
   "execution_count": 60,
   "id": "8b0caf45-6170-4d31-bd7d-eb86f6b0dceb",
   "metadata": {
    "execution": {
     "iopub.execute_input": "2025-10-27T19:35:22.013049Z",
     "iopub.status.busy": "2025-10-27T19:35:22.012218Z",
     "iopub.status.idle": "2025-10-27T19:35:22.020748Z",
     "shell.execute_reply": "2025-10-27T19:35:22.017328Z",
     "shell.execute_reply.started": "2025-10-27T19:35:22.013013Z"
    }
   },
   "outputs": [],
   "source": [
    "import pickle\n",
    "import pandas as pd\n",
    "import inspect\n",
    "\n",
    "from sklearn.pipeline import make_pipeline\n",
    "from sklearn.pipeline import Pipeline"
   ]
  },
  {
   "cell_type": "code",
   "execution_count": 61,
   "id": "ebd6258f-6a5f-4904-804d-e9cbaf8c84fa",
   "metadata": {},
   "outputs": [
    {
     "name": "stdout",
     "output_type": "stream",
     "text": [
      "Pipeline(steps=[('dictvectorizer', DictVectorizer()),\n",
      "                ('logisticregression', LogisticRegression(solver='liblinear'))])\n",
      "Model pipeline loaded successfully!\n"
     ]
    }
   ],
   "source": [
    "# --- Load the trained pipeline ---\n",
    "with open(\"pipeline_v1.bin\", \"rb\") as f:\n",
    "    pipeline = pickle.load(f)\n",
    "\n",
    "print(pipeline)\n",
    "print(\"Model pipeline loaded successfully!\")\n",
    "\n",
    "# --- Define the input record ---\n",
    "record = {\n",
    "    \"lead_source\": \"paid_ads\",\n",
    "    \"number_of_courses_viewed\": 2,\n",
    "    \"annual_income\": 79276.0\n",
    "}"
   ]
  },
  {
   "cell_type": "code",
   "execution_count": 62,
   "id": "3e104282",
   "metadata": {},
   "outputs": [
    {
     "name": "stdout",
     "output_type": "stream",
     "text": [
      "['lead_source', 'number_of_courses_viewed', 'annual_income']\n",
      "richtige Reihenfolge der Features\n"
     ]
    }
   ],
   "source": [
    "categorical = ['lead_source']\n",
    "numeric = ['number_of_courses_viewed', 'annual_income']\n",
    "\n",
    "print(categorical + numeric)\n",
    "print(\"richtige Reihenfolge der Features\")"
   ]
  },
  {
   "cell_type": "code",
   "execution_count": 63,
   "id": "3eb80da1",
   "metadata": {},
   "outputs": [
    {
     "data": {
      "text/html": [
       "<div>\n",
       "<style scoped>\n",
       "    .dataframe tbody tr th:only-of-type {\n",
       "        vertical-align: middle;\n",
       "    }\n",
       "\n",
       "    .dataframe tbody tr th {\n",
       "        vertical-align: top;\n",
       "    }\n",
       "\n",
       "    .dataframe thead th {\n",
       "        text-align: right;\n",
       "    }\n",
       "</style>\n",
       "<table border=\"1\" class=\"dataframe\">\n",
       "  <thead>\n",
       "    <tr style=\"text-align: right;\">\n",
       "      <th></th>\n",
       "      <th>lead_source</th>\n",
       "      <th>number_of_courses_viewed</th>\n",
       "      <th>annual_income</th>\n",
       "    </tr>\n",
       "  </thead>\n",
       "  <tbody>\n",
       "    <tr>\n",
       "      <th>0</th>\n",
       "      <td>paid_ads</td>\n",
       "      <td>2</td>\n",
       "      <td>79276.0</td>\n",
       "    </tr>\n",
       "  </tbody>\n",
       "</table>\n",
       "</div>"
      ],
      "text/plain": [
       "  lead_source  number_of_courses_viewed  annual_income\n",
       "0    paid_ads                         2        79276.0"
      ]
     },
     "execution_count": 63,
     "metadata": {},
     "output_type": "execute_result"
    }
   ],
   "source": [
    "pred_df = pd.DataFrame(record, index=[0])\n",
    "pred_df"
   ]
  },
  {
   "cell_type": "code",
   "execution_count": 64,
   "id": "7b0fef01",
   "metadata": {},
   "outputs": [
    {
     "data": {
      "text/plain": [
       "[{'lead_source': 'paid_ads',\n",
       "  'number_of_courses_viewed': 2,\n",
       "  'annual_income': 79276.0}]"
      ]
     },
     "execution_count": 64,
     "metadata": {},
     "output_type": "execute_result"
    }
   ],
   "source": [
    "pred_dict = pred_df[categorical + numeric].to_dict(orient='records')\n",
    "pred_dict"
   ]
  },
  {
   "cell_type": "code",
   "execution_count": 65,
   "id": "daff004c",
   "metadata": {},
   "outputs": [
    {
     "data": {
      "text/plain": [
       "array([[0.46639273, 0.53360727]])"
      ]
     },
     "execution_count": 65,
     "metadata": {},
     "output_type": "execute_result"
    }
   ],
   "source": [
    "pipeline.predict_proba(pred_dict)"
   ]
  },
  {
   "cell_type": "code",
   "execution_count": null,
   "id": "02412f1e",
   "metadata": {},
   "outputs": [
    {
     "name": "stdout",
     "output_type": "stream",
     "text": [
      "Probability that this lead will convert: 0.466\n"
     ]
    }
   ],
   "source": [
    "y_pred = pipeline.predict_proba(pred_dict)\n",
    "y_pred = y_pred[0, 1]\n",
    "print(f\"Probability that this lead will convert: {y_pred:.3f}\")"
   ]
  },
  {
   "cell_type": "code",
   "execution_count": 67,
   "id": "672f8fd8-3c00-4af9-accc-f2b039a40324",
   "metadata": {
    "execution": {
     "iopub.execute_input": "2025-10-27T19:34:26.188444Z",
     "iopub.status.busy": "2025-10-27T19:34:26.184685Z",
     "iopub.status.idle": "2025-10-27T19:34:26.398811Z",
     "shell.execute_reply": "2025-10-27T19:34:26.386151Z",
     "shell.execute_reply.started": "2025-10-27T19:34:26.188344Z"
    }
   },
   "outputs": [
    {
     "name": "stdout",
     "output_type": "stream",
     "text": [
      " Closest match: 0.533\n"
     ]
    }
   ],
   "source": [
    "# --- Optional: Map to nearest answer choice ---\n",
    "choices = [0.333, 0.533, 0.733, 0.933]\n",
    "closest = min(choices, key=lambda x: abs(x - y_pred))\n",
    "print(f\" Closest match: {closest}\")"
   ]
  },
  {
   "cell_type": "code",
   "execution_count": null,
   "id": "860dfa41-cc30-43a4-80d2-d5703c2405d1",
   "metadata": {
    "execution": {
     "iopub.status.busy": "2025-10-27T19:22:37.132136Z",
     "iopub.status.idle": "2025-10-27T19:22:37.132853Z",
     "shell.execute_reply": "2025-10-27T19:22:37.132686Z",
     "shell.execute_reply.started": "2025-10-27T19:22:37.132668Z"
    }
   },
   "outputs": [],
   "source": [
    "#uv run python score_lead.py"
   ]
  },
  {
   "cell_type": "markdown",
   "id": "54086129-c3df-4f3f-9f30-f152e091b263",
   "metadata": {},
   "source": [
    "## Question 4\n",
    "\n",
    "Now let's serve this model as a web service\n",
    "\n",
    "* Install FastAPI\n",
    "* Write FastAPI code for serving the model\n",
    "* Now score this client using `requests`:\n",
    "\n",
    "```python\n",
    "url = \"YOUR_URL\"\n",
    "client = {\n",
    "    \"lead_source\": \"organic_search\",\n",
    "    \"number_of_courses_viewed\": 4,\n",
    "    \"annual_income\": 80304.0\n",
    "}\n",
    "requests.post(url, json=client).json()\n",
    "```\n",
    "\n",
    "What's the probability that this client will get a subscription?\n",
    "\n",
    "* 0.334\n",
    "* 0.534\n",
    "* 0.734\n",
    "* 0.934\n",
    "\n",
    "\n",
    "## Docker\n",
    "\n",
    "Install [Docker](https://github.com/DataTalksClub/machine-learning-zoomcamp/blob/master/05-deployment/06-docker.md). \n",
    "We will use it for the next two questions.\n",
    "\n",
    "For these questions, we prepared a base image: `agrigorev/zoomcamp-model:2025`. \n",
    "You'll need to use it (see Question 5 for an example).\n",
    "\n",
    "This image is based on `3.13.5-slim-bookworm` and has\n",
    "a pipeline with logistic regression (a different one)\n",
    "as well a dictionary vectorizer inside. \n",
    "\n",
    "This is how the Dockerfile for this image looks like:\n",
    "\n",
    "```docker \n",
    "FROM python:3.13.5-slim-bookworm\n",
    "WORKDIR /code\n",
    "COPY pipeline_v2.bin .\n",
    "```\n",
    "\n",
    "We already built it and then pushed it to [`agrigorev/zoomcamp-model:2025`](https://hub.docker.com/r/agrigorev/zoomcamp-model).\n",
    "\n",
    "> **Note**: You don't need to build this docker image, it's just for your reference.\n"
   ]
  },
  {
   "cell_type": "code",
   "execution_count": null,
   "id": "c96e236a-33ad-4708-9ca3-74c1a4dd4f1c",
   "metadata": {},
   "outputs": [],
   "source": []
  },
  {
   "cell_type": "markdown",
   "id": "dbbd4ce8-11cf-4b30-abb1-6067012463f0",
   "metadata": {},
   "source": [
    "## Question 5\n",
    "\n",
    "Download the base image `agrigorev/zoomcamp-model:2025`. You can easily make it by using [docker pull](https://docs.docker.com/engine/reference/commandline/pull/) command.\n",
    "\n",
    "So what's the size of this base image?\n",
    "\n",
    "* 45 MB\n",
    "* 121 MB\n",
    "* 245 MB\n",
    "* 330 MB\n",
    "\n",
    "You can get this information when running `docker images` - it'll be in the \"SIZE\" column.\n",
    "\n",
    "\n",
    "## Dockerfile\n",
    "\n",
    "Now create your own `Dockerfile` based on the image we prepared.\n",
    "\n",
    "It should start like that:\n",
    "\n",
    "```docker\n",
    "FROM agrigorev/zoomcamp-model:2025\n",
    "# add your stuff here\n",
    "```\n",
    "\n",
    "Now complete it:\n",
    "\n",
    "* Install all the dependencies from pyproject.toml\n",
    "* Copy your FastAPI script\n",
    "* Run it with uvicorn \n",
    "\n",
    "After that, you can build your docker image.\n"
   ]
  },
  {
   "cell_type": "code",
   "execution_count": null,
   "id": "7d10411e-0841-41a2-9862-6caa0ba9a976",
   "metadata": {},
   "outputs": [],
   "source": []
  },
  {
   "cell_type": "markdown",
   "id": "45ac7a94-b35a-4821-b318-4d250e0047a8",
   "metadata": {},
   "source": [
    "## Question 6\n",
    "\n",
    "Let's run your docker container!\n",
    "\n",
    "After running it, score this client once again:\n",
    "\n",
    "```python\n",
    "url = \"YOUR_URL\"\n",
    "client = {\n",
    "    \"lead_source\": \"organic_search\",\n",
    "    \"number_of_courses_viewed\": 4,\n",
    "    \"annual_income\": 80304.0\n",
    "}\n",
    "requests.post(url, json=client).json()\n",
    "```\n",
    "\n",
    "What's the probability that this lead will convert?\n",
    "\n",
    "* 0.39\n",
    "* 0.59\n",
    "* 0.79\n",
    "* 0.99\n",
    "\n"
   ]
  }
 ],
 "metadata": {
  "kernelspec": {
   "display_name": "lewagon",
   "language": "python",
   "name": "python3"
  },
  "language_info": {
   "codemirror_mode": {
    "name": "ipython",
    "version": 3
   },
   "file_extension": ".py",
   "mimetype": "text/x-python",
   "name": "python",
   "nbconvert_exporter": "python",
   "pygments_lexer": "ipython3",
   "version": "3.12.9"
  }
 },
 "nbformat": 4,
 "nbformat_minor": 5
}

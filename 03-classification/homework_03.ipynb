{
 "cells": [
  {
   "cell_type": "markdown",
   "id": "02a9adfe",
   "metadata": {},
   "source": [
    "# Homework\n",
    "\n",
    "**_NOTE:_** sometimes your answer doesn't match one of the options exactly. That's fine. Select the option that's closest to your solution.\n",
    "\n",
    "## Dataset\n",
    "\n",
    "In this homework, we will use the lead scoring dataset Bank Marketing dataset. Download it from here.\n",
    "\n",
    "Or you can do it with wget:\n",
    "\n",
    "```bash\n",
    "wget https://raw.githubusercontent.com/alexeygrigorev/datasets/master/course_lead_scoring.csv\n",
    "```\n",
    "\n",
    "In this dataset our desired target for classification task will be converted variable - has the client signed up to the platform or not.\n",
    "\n",
    "## Data preparation\n",
    "\n",
    "- Check if the missing values are presented in the features.\n",
    "- If there are missing values:\n",
    "  - For caterogiral features, replace them with 'NA'\n",
    "  - For numerical features, replace with with 0.0"
   ]
  },
  {
   "cell_type": "code",
   "execution_count": 1,
   "id": "f4b6a8dc",
   "metadata": {
    "execution": {
     "iopub.execute_input": "2025-10-16T18:18:42.790613Z",
     "iopub.status.busy": "2025-10-16T18:18:42.787697Z",
     "iopub.status.idle": "2025-10-16T18:18:45.263980Z",
     "shell.execute_reply": "2025-10-16T18:18:45.262776Z",
     "shell.execute_reply.started": "2025-10-16T18:18:42.790564Z"
    }
   },
   "outputs": [],
   "source": [
    "import numpy as np\n",
    "import pandas as pd\n",
    "\n",
    "import matplotlib.pyplot as plt"
   ]
  },
  {
   "cell_type": "code",
   "execution_count": 2,
   "id": "d15337e7",
   "metadata": {
    "execution": {
     "iopub.execute_input": "2025-10-16T18:18:45.265663Z",
     "iopub.status.busy": "2025-10-16T18:18:45.264972Z",
     "iopub.status.idle": "2025-10-16T18:18:45.287440Z",
     "shell.execute_reply": "2025-10-16T18:18:45.272199Z",
     "shell.execute_reply.started": "2025-10-16T18:18:45.265624Z"
    }
   },
   "outputs": [],
   "source": [
    "data = 'https://raw.githubusercontent.com/alexeygrigorev/datasets/master/course_lead_scoring.csv'"
   ]
  },
  {
   "cell_type": "code",
   "execution_count": 3,
   "id": "cd284ca9",
   "metadata": {
    "execution": {
     "iopub.execute_input": "2025-10-16T18:18:45.329700Z",
     "iopub.status.busy": "2025-10-16T18:18:45.319803Z",
     "iopub.status.idle": "2025-10-16T18:18:45.850828Z",
     "shell.execute_reply": "2025-10-16T18:18:45.849719Z",
     "shell.execute_reply.started": "2025-10-16T18:18:45.329653Z"
    }
   },
   "outputs": [
    {
     "name": "stdout",
     "output_type": "stream",
     "text": [
      "--2025-10-16 20:18:45--  https://raw.githubusercontent.com/alexeygrigorev/datasets/master/course_lead_scoring.csv\n",
      "Resolving raw.githubusercontent.com (raw.githubusercontent.com)... 185.199.111.133, 185.199.110.133, 185.199.109.133, ...\n",
      "Connecting to raw.githubusercontent.com (raw.githubusercontent.com)|185.199.111.133|:443... connected.\n",
      "HTTP request sent, awaiting response... 200 OK\n",
      "Length: 80876 (79K) [text/plain]\n",
      "Saving to: ‘course_lead_scoring.csv’\n",
      "\n",
      "course_lead_scoring 100%[===================>]  78.98K  --.-KB/s    in 0.02s   \n",
      "\n",
      "2025-10-16 20:18:45 (3.72 MB/s) - ‘course_lead_scoring.csv’ saved [80876/80876]\n",
      "\n"
     ]
    }
   ],
   "source": [
    "!wget $data -O course_lead_scoring.csv"
   ]
  },
  {
   "cell_type": "code",
   "execution_count": 4,
   "id": "23ad0628",
   "metadata": {
    "execution": {
     "iopub.execute_input": "2025-10-16T18:18:45.868172Z",
     "iopub.status.busy": "2025-10-16T18:18:45.852953Z",
     "iopub.status.idle": "2025-10-16T18:18:45.914117Z",
     "shell.execute_reply": "2025-10-16T18:18:45.913404Z",
     "shell.execute_reply.started": "2025-10-16T18:18:45.868120Z"
    }
   },
   "outputs": [],
   "source": [
    "df = pd.read_csv('course_lead_scoring.csv')\n"
   ]
  },
  {
   "cell_type": "code",
   "execution_count": 5,
   "id": "550ce14e-4409-4e4a-b7ce-397ef141a86e",
   "metadata": {
    "execution": {
     "iopub.execute_input": "2025-10-16T18:18:45.920265Z",
     "iopub.status.busy": "2025-10-16T18:18:45.915385Z",
     "iopub.status.idle": "2025-10-16T18:18:45.955925Z",
     "shell.execute_reply": "2025-10-16T18:18:45.955078Z",
     "shell.execute_reply.started": "2025-10-16T18:18:45.920235Z"
    }
   },
   "outputs": [
    {
     "data": {
      "text/plain": [
       "lead_source                  object\n",
       "industry                     object\n",
       "number_of_courses_viewed      int64\n",
       "annual_income               float64\n",
       "employment_status            object\n",
       "location                     object\n",
       "interaction_count             int64\n",
       "lead_score                  float64\n",
       "converted                     int64\n",
       "dtype: object"
      ]
     },
     "execution_count": 5,
     "metadata": {},
     "output_type": "execute_result"
    }
   ],
   "source": [
    "df.dtypes"
   ]
  },
  {
   "cell_type": "code",
   "execution_count": 6,
   "id": "d0f9d2d1",
   "metadata": {
    "execution": {
     "iopub.execute_input": "2025-10-16T18:18:45.965675Z",
     "iopub.status.busy": "2025-10-16T18:18:45.965302Z",
     "iopub.status.idle": "2025-10-16T18:18:45.983452Z",
     "shell.execute_reply": "2025-10-16T18:18:45.980458Z",
     "shell.execute_reply.started": "2025-10-16T18:18:45.965643Z"
    }
   },
   "outputs": [
    {
     "data": {
      "text/plain": [
       "Index(['number_of_courses_viewed', 'annual_income', 'interaction_count',\n",
       "       'lead_score'],\n",
       "      dtype='object')"
      ]
     },
     "execution_count": 6,
     "metadata": {},
     "output_type": "execute_result"
    }
   ],
   "source": [
    "numerical = ['number_of_courses_viewed', 'annual_income', 'interaction_count', 'lead_score']\n",
    "numerical = df.select_dtypes(exclude='object').columns.drop('converted')\n",
    "numerical = df.select_dtypes(exclude='object').columns.drop('converted')\n",
    "numerical"
   ]
  },
  {
   "cell_type": "code",
   "execution_count": 7,
   "id": "38074049-8dda-4191-b48d-1788f155c4c3",
   "metadata": {
    "execution": {
     "iopub.execute_input": "2025-10-16T18:18:46.025760Z",
     "iopub.status.busy": "2025-10-16T18:18:45.997019Z",
     "iopub.status.idle": "2025-10-16T18:18:46.083623Z",
     "shell.execute_reply": "2025-10-16T18:18:46.077477Z",
     "shell.execute_reply.started": "2025-10-16T18:18:46.025720Z"
    }
   },
   "outputs": [],
   "source": [
    "categorical = df.select_dtypes(include=['object']).columns"
   ]
  },
  {
   "cell_type": "code",
   "execution_count": 8,
   "id": "b65db25e-1f5c-4a49-a348-ea12f90759ab",
   "metadata": {
    "execution": {
     "iopub.execute_input": "2025-10-16T18:18:46.099946Z",
     "iopub.status.busy": "2025-10-16T18:18:46.089208Z",
     "iopub.status.idle": "2025-10-16T18:18:46.119811Z",
     "shell.execute_reply": "2025-10-16T18:18:46.118489Z",
     "shell.execute_reply.started": "2025-10-16T18:18:46.099909Z"
    }
   },
   "outputs": [],
   "source": [
    "df[numerical] = df[numerical].fillna(0.0)\n",
    "df[categorical] = df[categorical].fillna('NA')"
   ]
  },
  {
   "cell_type": "markdown",
   "id": "d384454e",
   "metadata": {},
   "source": [
    "# Question 1\n",
    "\n",
    "What is the most frequent observation (mode) for the column industry?\n",
    "\n",
    "- `NA`\n",
    "- `technology`\n",
    "- `healthcare`\n",
    "- `retail`"
   ]
  },
  {
   "cell_type": "code",
   "execution_count": 9,
   "id": "1b09f976-dce7-43b0-9d97-d7696fe7dac4",
   "metadata": {
    "execution": {
     "iopub.execute_input": "2025-10-16T18:18:46.122280Z",
     "iopub.status.busy": "2025-10-16T18:18:46.121666Z",
     "iopub.status.idle": "2025-10-16T18:18:46.140887Z",
     "shell.execute_reply": "2025-10-16T18:18:46.139245Z",
     "shell.execute_reply.started": "2025-10-16T18:18:46.122242Z"
    }
   },
   "outputs": [
    {
     "data": {
      "text/plain": [
       "0    retail\n",
       "Name: industry, dtype: object"
      ]
     },
     "execution_count": 9,
     "metadata": {},
     "output_type": "execute_result"
    }
   ],
   "source": [
    "df.industry.mode()"
   ]
  },
  {
   "cell_type": "markdown",
   "id": "e4382174",
   "metadata": {},
   "source": [
    "# Question 2\n",
    "\n",
    "Create the correlation matrix for the numerical features of your dataset. In a correlation matrix, you compute the correlation coefficient between every pair of features.\n",
    "\n",
    "What are the two features that have the biggest correlation?\n",
    "\n",
    "- `interaction_count` and `lead_score`\n",
    "- `number_of_courses_viewed` and `lead_score`\n",
    "- `number_of_courses_viewed` and `interaction_count`\n",
    "- `annual_income` and `interaction_count`\n",
    "\n",
    "Only consider the pairs above when answering this question.\n",
    "Split the data\n",
    "\n",
    "- Split your data in train/val/test sets with 60%/20%/20% distribution.\n",
    "- Use Scikit-Learn for that (the `train_test_split` function) and set the seed to ''42''.\n",
    "- Make sure that the target value `y` is not in your dataframe."
   ]
  },
  {
   "cell_type": "code",
   "execution_count": 10,
   "id": "df4221fd-81d3-4b76-aca5-53e2527d34a7",
   "metadata": {
    "execution": {
     "iopub.execute_input": "2025-10-16T18:18:46.146196Z",
     "iopub.status.busy": "2025-10-16T18:18:46.144909Z",
     "iopub.status.idle": "2025-10-16T18:18:46.171569Z",
     "shell.execute_reply": "2025-10-16T18:18:46.170437Z",
     "shell.execute_reply.started": "2025-10-16T18:18:46.146158Z"
    }
   },
   "outputs": [
    {
     "data": {
      "text/html": [
       "<div>\n",
       "<style scoped>\n",
       "    .dataframe tbody tr th:only-of-type {\n",
       "        vertical-align: middle;\n",
       "    }\n",
       "\n",
       "    .dataframe tbody tr th {\n",
       "        vertical-align: top;\n",
       "    }\n",
       "\n",
       "    .dataframe thead th {\n",
       "        text-align: right;\n",
       "    }\n",
       "</style>\n",
       "<table border=\"1\" class=\"dataframe\">\n",
       "  <thead>\n",
       "    <tr style=\"text-align: right;\">\n",
       "      <th></th>\n",
       "      <th>number_of_courses_viewed</th>\n",
       "      <th>annual_income</th>\n",
       "      <th>interaction_count</th>\n",
       "      <th>lead_score</th>\n",
       "    </tr>\n",
       "  </thead>\n",
       "  <tbody>\n",
       "    <tr>\n",
       "      <th>number_of_courses_viewed</th>\n",
       "      <td>1.000000</td>\n",
       "      <td>0.009770</td>\n",
       "      <td>-0.023565</td>\n",
       "      <td>-0.004879</td>\n",
       "    </tr>\n",
       "    <tr>\n",
       "      <th>annual_income</th>\n",
       "      <td>0.009770</td>\n",
       "      <td>1.000000</td>\n",
       "      <td>0.027036</td>\n",
       "      <td>0.015610</td>\n",
       "    </tr>\n",
       "    <tr>\n",
       "      <th>interaction_count</th>\n",
       "      <td>-0.023565</td>\n",
       "      <td>0.027036</td>\n",
       "      <td>1.000000</td>\n",
       "      <td>0.009888</td>\n",
       "    </tr>\n",
       "    <tr>\n",
       "      <th>lead_score</th>\n",
       "      <td>-0.004879</td>\n",
       "      <td>0.015610</td>\n",
       "      <td>0.009888</td>\n",
       "      <td>1.000000</td>\n",
       "    </tr>\n",
       "  </tbody>\n",
       "</table>\n",
       "</div>"
      ],
      "text/plain": [
       "                          number_of_courses_viewed  annual_income  \\\n",
       "number_of_courses_viewed                  1.000000       0.009770   \n",
       "annual_income                             0.009770       1.000000   \n",
       "interaction_count                        -0.023565       0.027036   \n",
       "lead_score                               -0.004879       0.015610   \n",
       "\n",
       "                          interaction_count  lead_score  \n",
       "number_of_courses_viewed          -0.023565   -0.004879  \n",
       "annual_income                      0.027036    0.015610  \n",
       "interaction_count                  1.000000    0.009888  \n",
       "lead_score                         0.009888    1.000000  "
      ]
     },
     "execution_count": 10,
     "metadata": {},
     "output_type": "execute_result"
    }
   ],
   "source": [
    "df[numerical].corr()"
   ]
  },
  {
   "cell_type": "markdown",
   "id": "df147c68-506f-4534-8963-f23f4eb903ed",
   "metadata": {},
   "source": [
    "interaction_count and lead_score: 0.009888, number_of_courses_viewed and lead_score: -0.004879"
   ]
  },
  {
   "cell_type": "markdown",
   "id": "07cd3ec4-da7b-475a-bfb4-abd0b6094706",
   "metadata": {},
   "source": [
    "number_of_courses_viewed and interaction_count: -0.023565\n"
   ]
  },
  {
   "cell_type": "markdown",
   "id": "e87b4e55-ee81-4135-8a24-4c3533bb0c28",
   "metadata": {},
   "source": [
    "annual_income and interaction_count: 0.027036\n"
   ]
  },
  {
   "cell_type": "code",
   "execution_count": 11,
   "id": "afd9e923-40cc-4e25-b999-585b4418c6b6",
   "metadata": {
    "execution": {
     "iopub.execute_input": "2025-10-16T18:18:46.176666Z",
     "iopub.status.busy": "2025-10-16T18:18:46.176059Z",
     "iopub.status.idle": "2025-10-16T18:18:48.296868Z",
     "shell.execute_reply": "2025-10-16T18:18:48.295734Z",
     "shell.execute_reply.started": "2025-10-16T18:18:46.176631Z"
    }
   },
   "outputs": [],
   "source": [
    "from sklearn.model_selection import train_test_split"
   ]
  },
  {
   "cell_type": "code",
   "execution_count": 12,
   "id": "44d5f16d-a90b-46ea-9b36-653ffcbe2fb6",
   "metadata": {
    "execution": {
     "iopub.execute_input": "2025-10-16T18:18:48.300153Z",
     "iopub.status.busy": "2025-10-16T18:18:48.298240Z",
     "iopub.status.idle": "2025-10-16T18:18:48.348324Z",
     "shell.execute_reply": "2025-10-16T18:18:48.347129Z",
     "shell.execute_reply.started": "2025-10-16T18:18:48.300104Z"
    }
   },
   "outputs": [],
   "source": [
    "df_train_full, df_test = train_test_split(df.drop(columns='converted'), test_size=0.2, random_state=42)"
   ]
  },
  {
   "cell_type": "code",
   "execution_count": 13,
   "id": "52ebeecf-87f7-473e-99ea-07fa33e179f2",
   "metadata": {
    "execution": {
     "iopub.execute_input": "2025-10-16T18:18:48.353731Z",
     "iopub.status.busy": "2025-10-16T18:18:48.352405Z",
     "iopub.status.idle": "2025-10-16T18:18:48.384489Z",
     "shell.execute_reply": "2025-10-16T18:18:48.378982Z",
     "shell.execute_reply.started": "2025-10-16T18:18:48.353694Z"
    }
   },
   "outputs": [],
   "source": [
    "df_train, df_val = train_test_split(df_train_full, test_size=0.25, random_state=42)"
   ]
  },
  {
   "cell_type": "code",
   "execution_count": 14,
   "id": "38424911-1d58-4298-ba66-8cf323917895",
   "metadata": {
    "execution": {
     "iopub.execute_input": "2025-10-16T18:18:48.386249Z",
     "iopub.status.busy": "2025-10-16T18:18:48.385785Z",
     "iopub.status.idle": "2025-10-16T18:18:48.438148Z",
     "shell.execute_reply": "2025-10-16T18:18:48.432561Z",
     "shell.execute_reply.started": "2025-10-16T18:18:48.386218Z"
    }
   },
   "outputs": [
    {
     "data": {
      "text/html": [
       "<div>\n",
       "<style scoped>\n",
       "    .dataframe tbody tr th:only-of-type {\n",
       "        vertical-align: middle;\n",
       "    }\n",
       "\n",
       "    .dataframe tbody tr th {\n",
       "        vertical-align: top;\n",
       "    }\n",
       "\n",
       "    .dataframe thead th {\n",
       "        text-align: right;\n",
       "    }\n",
       "</style>\n",
       "<table border=\"1\" class=\"dataframe\">\n",
       "  <thead>\n",
       "    <tr style=\"text-align: right;\">\n",
       "      <th></th>\n",
       "      <th>lead_source</th>\n",
       "      <th>industry</th>\n",
       "      <th>number_of_courses_viewed</th>\n",
       "      <th>annual_income</th>\n",
       "      <th>employment_status</th>\n",
       "      <th>location</th>\n",
       "      <th>interaction_count</th>\n",
       "      <th>lead_score</th>\n",
       "    </tr>\n",
       "  </thead>\n",
       "  <tbody>\n",
       "    <tr>\n",
       "      <th>1066</th>\n",
       "      <td>social_media</td>\n",
       "      <td>manufacturing</td>\n",
       "      <td>2</td>\n",
       "      <td>44403.0</td>\n",
       "      <td>self_employed</td>\n",
       "      <td>australia</td>\n",
       "      <td>1</td>\n",
       "      <td>0.71</td>\n",
       "    </tr>\n",
       "    <tr>\n",
       "      <th>638</th>\n",
       "      <td>events</td>\n",
       "      <td>retail</td>\n",
       "      <td>3</td>\n",
       "      <td>38048.0</td>\n",
       "      <td>student</td>\n",
       "      <td>north_america</td>\n",
       "      <td>6</td>\n",
       "      <td>0.97</td>\n",
       "    </tr>\n",
       "    <tr>\n",
       "      <th>799</th>\n",
       "      <td>social_media</td>\n",
       "      <td>education</td>\n",
       "      <td>2</td>\n",
       "      <td>71399.0</td>\n",
       "      <td>NA</td>\n",
       "      <td>europe</td>\n",
       "      <td>1</td>\n",
       "      <td>0.51</td>\n",
       "    </tr>\n",
       "    <tr>\n",
       "      <th>380</th>\n",
       "      <td>referral</td>\n",
       "      <td>education</td>\n",
       "      <td>2</td>\n",
       "      <td>47912.0</td>\n",
       "      <td>employed</td>\n",
       "      <td>australia</td>\n",
       "      <td>1</td>\n",
       "      <td>0.04</td>\n",
       "    </tr>\n",
       "    <tr>\n",
       "      <th>303</th>\n",
       "      <td>paid_ads</td>\n",
       "      <td>healthcare</td>\n",
       "      <td>1</td>\n",
       "      <td>34806.0</td>\n",
       "      <td>employed</td>\n",
       "      <td>europe</td>\n",
       "      <td>4</td>\n",
       "      <td>0.32</td>\n",
       "    </tr>\n",
       "    <tr>\n",
       "      <th>...</th>\n",
       "      <td>...</td>\n",
       "      <td>...</td>\n",
       "      <td>...</td>\n",
       "      <td>...</td>\n",
       "      <td>...</td>\n",
       "      <td>...</td>\n",
       "      <td>...</td>\n",
       "      <td>...</td>\n",
       "    </tr>\n",
       "    <tr>\n",
       "      <th>1130</th>\n",
       "      <td>events</td>\n",
       "      <td>manufacturing</td>\n",
       "      <td>1</td>\n",
       "      <td>57039.0</td>\n",
       "      <td>employed</td>\n",
       "      <td>south_america</td>\n",
       "      <td>2</td>\n",
       "      <td>0.30</td>\n",
       "    </tr>\n",
       "    <tr>\n",
       "      <th>1294</th>\n",
       "      <td>events</td>\n",
       "      <td>healthcare</td>\n",
       "      <td>2</td>\n",
       "      <td>56185.0</td>\n",
       "      <td>student</td>\n",
       "      <td>south_america</td>\n",
       "      <td>2</td>\n",
       "      <td>0.44</td>\n",
       "    </tr>\n",
       "    <tr>\n",
       "      <th>860</th>\n",
       "      <td>paid_ads</td>\n",
       "      <td>manufacturing</td>\n",
       "      <td>1</td>\n",
       "      <td>56402.0</td>\n",
       "      <td>student</td>\n",
       "      <td>north_america</td>\n",
       "      <td>1</td>\n",
       "      <td>0.02</td>\n",
       "    </tr>\n",
       "    <tr>\n",
       "      <th>1459</th>\n",
       "      <td>paid_ads</td>\n",
       "      <td>technology</td>\n",
       "      <td>1</td>\n",
       "      <td>45688.0</td>\n",
       "      <td>student</td>\n",
       "      <td>north_america</td>\n",
       "      <td>3</td>\n",
       "      <td>0.02</td>\n",
       "    </tr>\n",
       "    <tr>\n",
       "      <th>1126</th>\n",
       "      <td>events</td>\n",
       "      <td>manufacturing</td>\n",
       "      <td>0</td>\n",
       "      <td>43862.0</td>\n",
       "      <td>self_employed</td>\n",
       "      <td>asia</td>\n",
       "      <td>4</td>\n",
       "      <td>0.21</td>\n",
       "    </tr>\n",
       "  </tbody>\n",
       "</table>\n",
       "<p>1169 rows × 8 columns</p>\n",
       "</div>"
      ],
      "text/plain": [
       "       lead_source       industry  number_of_courses_viewed  annual_income  \\\n",
       "1066  social_media  manufacturing                         2        44403.0   \n",
       "638         events         retail                         3        38048.0   \n",
       "799   social_media      education                         2        71399.0   \n",
       "380       referral      education                         2        47912.0   \n",
       "303       paid_ads     healthcare                         1        34806.0   \n",
       "...            ...            ...                       ...            ...   \n",
       "1130        events  manufacturing                         1        57039.0   \n",
       "1294        events     healthcare                         2        56185.0   \n",
       "860       paid_ads  manufacturing                         1        56402.0   \n",
       "1459      paid_ads     technology                         1        45688.0   \n",
       "1126        events  manufacturing                         0        43862.0   \n",
       "\n",
       "     employment_status       location  interaction_count  lead_score  \n",
       "1066     self_employed      australia                  1        0.71  \n",
       "638            student  north_america                  6        0.97  \n",
       "799                 NA         europe                  1        0.51  \n",
       "380           employed      australia                  1        0.04  \n",
       "303           employed         europe                  4        0.32  \n",
       "...                ...            ...                ...         ...  \n",
       "1130          employed  south_america                  2        0.30  \n",
       "1294           student  south_america                  2        0.44  \n",
       "860            student  north_america                  1        0.02  \n",
       "1459           student  north_america                  3        0.02  \n",
       "1126     self_employed           asia                  4        0.21  \n",
       "\n",
       "[1169 rows x 8 columns]"
      ]
     },
     "execution_count": 14,
     "metadata": {},
     "output_type": "execute_result"
    }
   ],
   "source": [
    "df_train_full"
   ]
  },
  {
   "cell_type": "code",
   "execution_count": 15,
   "id": "84fc5ac0-e365-4a4b-8cbf-757297516d26",
   "metadata": {
    "execution": {
     "iopub.execute_input": "2025-10-16T18:18:48.519227Z",
     "iopub.status.busy": "2025-10-16T18:18:48.504168Z",
     "iopub.status.idle": "2025-10-16T18:18:48.563195Z",
     "shell.execute_reply": "2025-10-16T18:18:48.554959Z",
     "shell.execute_reply.started": "2025-10-16T18:18:48.519175Z"
    }
   },
   "outputs": [],
   "source": [
    "# Reset Index für saubere Zeilen\n",
    "df_train = df_train.reset_index(drop=True)\n",
    "df_val = df_val.reset_index(drop=True)\n",
    "df_test = df_test.reset_index(drop=True)"
   ]
  },
  {
   "cell_type": "code",
   "execution_count": 16,
   "id": "8b5e4de0-456c-4f82-bcb0-f90ef5ce102f",
   "metadata": {
    "execution": {
     "iopub.execute_input": "2025-10-16T18:18:48.586034Z",
     "iopub.status.busy": "2025-10-16T18:18:48.569249Z",
     "iopub.status.idle": "2025-10-16T18:18:49.216482Z",
     "shell.execute_reply": "2025-10-16T18:18:49.204440Z",
     "shell.execute_reply.started": "2025-10-16T18:18:48.585988Z"
    }
   },
   "outputs": [
    {
     "ename": "AttributeError",
     "evalue": "'DataFrame' object has no attribute 'converted'",
     "output_type": "error",
     "traceback": [
      "\u001b[0;31m---------------------------------------------------------------------------\u001b[0m",
      "\u001b[0;31mAttributeError\u001b[0m                            Traceback (most recent call last)",
      "\u001b[0;32m/var/folders/cc/w_rhbmvj6qs5mzv0rq59_l9c0000gn/T/ipykernel_60881/2405721908.py\u001b[0m in \u001b[0;36m?\u001b[0;34m()\u001b[0m\n\u001b[0;32m----> 1\u001b[0;31m \u001b[0my_train\u001b[0m \u001b[0;34m=\u001b[0m \u001b[0mdf_train\u001b[0m\u001b[0;34m.\u001b[0m\u001b[0mconverted\u001b[0m\u001b[0;34m.\u001b[0m\u001b[0mvalues\u001b[0m\u001b[0;34m\u001b[0m\u001b[0;34m\u001b[0m\u001b[0m\n\u001b[0m\u001b[1;32m      2\u001b[0m \u001b[0my_val\u001b[0m \u001b[0;34m=\u001b[0m \u001b[0mdf_val\u001b[0m\u001b[0;34m.\u001b[0m\u001b[0mconverted\u001b[0m\u001b[0;34m.\u001b[0m\u001b[0mvalues\u001b[0m\u001b[0;34m\u001b[0m\u001b[0;34m\u001b[0m\u001b[0m\n\u001b[1;32m      3\u001b[0m \u001b[0my_test\u001b[0m \u001b[0;34m=\u001b[0m \u001b[0mdf_test\u001b[0m\u001b[0;34m.\u001b[0m\u001b[0mconverted\u001b[0m\u001b[0;34m.\u001b[0m\u001b[0mvalues\u001b[0m\u001b[0;34m\u001b[0m\u001b[0;34m\u001b[0m\u001b[0m\n",
      "\u001b[0;32m~/.pyenv/versions/3.12.9/envs/lewagon/lib/python3.12/site-packages/pandas/core/generic.py\u001b[0m in \u001b[0;36m?\u001b[0;34m(self, name)\u001b[0m\n\u001b[1;32m   6295\u001b[0m             \u001b[0;32mand\u001b[0m \u001b[0mname\u001b[0m \u001b[0;32mnot\u001b[0m \u001b[0;32min\u001b[0m \u001b[0mself\u001b[0m\u001b[0;34m.\u001b[0m\u001b[0m_accessors\u001b[0m\u001b[0;34m\u001b[0m\u001b[0;34m\u001b[0m\u001b[0m\n\u001b[1;32m   6296\u001b[0m             \u001b[0;32mand\u001b[0m \u001b[0mself\u001b[0m\u001b[0;34m.\u001b[0m\u001b[0m_info_axis\u001b[0m\u001b[0;34m.\u001b[0m\u001b[0m_can_hold_identifiers_and_holds_name\u001b[0m\u001b[0;34m(\u001b[0m\u001b[0mname\u001b[0m\u001b[0;34m)\u001b[0m\u001b[0;34m\u001b[0m\u001b[0;34m\u001b[0m\u001b[0m\n\u001b[1;32m   6297\u001b[0m         \u001b[0;34m)\u001b[0m\u001b[0;34m:\u001b[0m\u001b[0;34m\u001b[0m\u001b[0;34m\u001b[0m\u001b[0m\n\u001b[1;32m   6298\u001b[0m             \u001b[0;32mreturn\u001b[0m \u001b[0mself\u001b[0m\u001b[0;34m[\u001b[0m\u001b[0mname\u001b[0m\u001b[0;34m]\u001b[0m\u001b[0;34m\u001b[0m\u001b[0;34m\u001b[0m\u001b[0m\n\u001b[0;32m-> 6299\u001b[0;31m         \u001b[0;32mreturn\u001b[0m \u001b[0mobject\u001b[0m\u001b[0;34m.\u001b[0m\u001b[0m__getattribute__\u001b[0m\u001b[0;34m(\u001b[0m\u001b[0mself\u001b[0m\u001b[0;34m,\u001b[0m \u001b[0mname\u001b[0m\u001b[0;34m)\u001b[0m\u001b[0;34m\u001b[0m\u001b[0;34m\u001b[0m\u001b[0m\n\u001b[0m",
      "\u001b[0;31mAttributeError\u001b[0m: 'DataFrame' object has no attribute 'converted'"
     ]
    }
   ],
   "source": [
    "y_train = df_train.converted.values\n",
    "y_val = df_val.converted.values\n",
    "y_test = df_test.converted.values"
   ]
  },
  {
   "cell_type": "code",
   "execution_count": null,
   "id": "b21a47d7-ef69-4f45-8efc-c0840448f3d9",
   "metadata": {
    "execution": {
     "iopub.status.busy": "2025-10-16T18:18:49.217062Z",
     "iopub.status.idle": "2025-10-16T18:18:49.217431Z",
     "shell.execute_reply": "2025-10-16T18:18:49.217230Z",
     "shell.execute_reply.started": "2025-10-16T18:18:49.217212Z"
    }
   },
   "outputs": [],
   "source": [
    "df_train_full = df_train_full.reset_index(drop=True)"
   ]
  },
  {
   "cell_type": "markdown",
   "id": "d045bff7",
   "metadata": {},
   "source": [
    "# Question 3\n",
    "\n",
    "- Calculate the mutual information score between y and other categorical variables in the dataset. Use the training set only.\n",
    "- Round the scores to 2 decimals using round(score, 2).\n",
    "\n",
    "Which of these variables has the biggest mutual information score?\n",
    "\n",
    "- `industry`\n",
    "- `location`\n",
    "- `lead_source`\n",
    "- `employment_status`"
   ]
  },
  {
   "cell_type": "code",
   "execution_count": null,
   "id": "3f95cc76-2d74-4928-bad1-40b8fd9d51d5",
   "metadata": {
    "execution": {
     "iopub.status.busy": "2025-10-16T18:18:49.218770Z",
     "iopub.status.idle": "2025-10-16T18:18:49.219341Z",
     "shell.execute_reply": "2025-10-16T18:18:49.219133Z",
     "shell.execute_reply.started": "2025-10-16T18:18:49.219114Z"
    }
   },
   "outputs": [],
   "source": [
    "from sklearn.metrics import mutual_info_score"
   ]
  },
  {
   "cell_type": "code",
   "execution_count": null,
   "id": "8637bc04-d54a-4b2b-a769-d7b72e90469a",
   "metadata": {
    "execution": {
     "iopub.status.busy": "2025-10-16T18:18:49.222236Z",
     "iopub.status.idle": "2025-10-16T18:18:49.223972Z",
     "shell.execute_reply": "2025-10-16T18:18:49.223320Z",
     "shell.execute_reply.started": "2025-10-16T18:18:49.223295Z"
    }
   },
   "outputs": [],
   "source": [
    "df_train_full, df_test = train_test_split(df, test_size=0.2, random_state=42)"
   ]
  },
  {
   "cell_type": "code",
   "execution_count": null,
   "id": "85c29bd7-6d4a-429e-b5c2-e7f999d187da",
   "metadata": {
    "execution": {
     "iopub.status.busy": "2025-10-16T18:18:49.231795Z",
     "iopub.status.idle": "2025-10-16T18:18:49.232708Z",
     "shell.execute_reply": "2025-10-16T18:18:49.232393Z",
     "shell.execute_reply.started": "2025-10-16T18:18:49.232371Z"
    }
   },
   "outputs": [],
   "source": [
    "df_train, df_val = train_test_split(df_train_full, test_size=293, random_state=42)"
   ]
  },
  {
   "cell_type": "code",
   "execution_count": null,
   "id": "fb8c3764-ac55-4539-b617-6729ab2b2e46",
   "metadata": {
    "execution": {
     "iopub.status.busy": "2025-10-16T18:18:49.235069Z",
     "iopub.status.idle": "2025-10-16T18:18:49.235818Z",
     "shell.execute_reply": "2025-10-16T18:18:49.235415Z",
     "shell.execute_reply.started": "2025-10-16T18:18:49.235399Z"
    }
   },
   "outputs": [],
   "source": [
    "def calculate_mi(series):\n",
    "    return mutual_info_score(series, df_train.converted)\n",
    "\n",
    "df_mi = df_train[categorical].apply(calculate_mi)\n",
    "df_mi = df_mi.sort_values(ascending=False).to_frame(name='MI')\n",
    "\n",
    "\n",
    "df_mi.round(2)"
   ]
  },
  {
   "cell_type": "markdown",
   "id": "8bb1ead4-825b-4419-83d1-8e63fac3572b",
   "metadata": {},
   "source": [
    "lead_source"
   ]
  },
  {
   "cell_type": "code",
   "execution_count": null,
   "id": "638c11f4-8193-4815-87d7-45dcb5846d18",
   "metadata": {
    "execution": {
     "iopub.status.busy": "2025-10-16T18:18:49.237742Z",
     "iopub.status.idle": "2025-10-16T18:18:49.238505Z",
     "shell.execute_reply": "2025-10-16T18:18:49.238261Z",
     "shell.execute_reply.started": "2025-10-16T18:18:49.238239Z"
    }
   },
   "outputs": [],
   "source": [
    "#df_train_full, df_test = train_test_split(df.drop(columns='converted'), test_size=0.2, random_state=42)"
   ]
  },
  {
   "cell_type": "markdown",
   "id": "59f37871",
   "metadata": {},
   "source": [
    "# Question 4\n",
    "\n",
    "- Now let's train a logistic regression.\n",
    "- Remember that we have several categorical variables in the dataset. Include them using one-hot encoding.\n",
    "- Fit the model on the training dataset.\n",
    "- To make sure the results are reproducible across different versions of Scikit-Learn, fit the model with these parameters:\n",
    "- model = LogisticRegression(solver='liblinear', C=1.0, max_iter=1000, random_state=42)\n",
    "- Calculate the accuracy on the validation dataset and round it to 2 decimal digits.\n",
    "\n",
    "What accuracy did you get?\n",
    "\n",
    "- 0.64\n",
    "- 0.74\n",
    "- 0.84\n",
    "- 0.94"
   ]
  },
  {
   "cell_type": "code",
   "execution_count": null,
   "id": "1580f085-d1dc-4589-84ed-ba3545cd7e19",
   "metadata": {
    "execution": {
     "iopub.status.busy": "2025-10-16T18:18:49.244781Z",
     "iopub.status.idle": "2025-10-16T18:18:49.245701Z",
     "shell.execute_reply": "2025-10-16T18:18:49.245415Z",
     "shell.execute_reply.started": "2025-10-16T18:18:49.245391Z"
    }
   },
   "outputs": [],
   "source": [
    "## One-hot encodingabs"
   ]
  },
  {
   "cell_type": "code",
   "execution_count": null,
   "id": "4b8e1f22-4b7b-4fc3-87b0-2c9ecaf955f3",
   "metadata": {
    "execution": {
     "iopub.status.busy": "2025-10-16T18:18:49.247214Z",
     "iopub.status.idle": "2025-10-16T18:18:49.248500Z",
     "shell.execute_reply": "2025-10-16T18:18:49.247877Z",
     "shell.execute_reply.started": "2025-10-16T18:18:49.247853Z"
    }
   },
   "outputs": [],
   "source": [
    "from sklearn.feature_extraction import DictVectorizer"
   ]
  },
  {
   "cell_type": "code",
   "execution_count": null,
   "id": "18fc434e-81d4-49d0-bf0e-ac25a52c13d7",
   "metadata": {
    "execution": {
     "iopub.status.busy": "2025-10-16T18:18:49.250736Z",
     "iopub.status.idle": "2025-10-16T18:18:49.251575Z",
     "shell.execute_reply": "2025-10-16T18:18:49.251148Z",
     "shell.execute_reply.started": "2025-10-16T18:18:49.251127Z"
    }
   },
   "outputs": [],
   "source": [
    "df_train, df_val = train_test_split(df_train_full, test_size=293, random_state=42)"
   ]
  },
  {
   "cell_type": "code",
   "execution_count": null,
   "id": "9362cae6-7e96-4da9-bb54-02c36f9b4b91",
   "metadata": {
    "execution": {
     "iopub.status.busy": "2025-10-16T18:18:49.254448Z",
     "iopub.status.idle": "2025-10-16T18:18:49.255541Z",
     "shell.execute_reply": "2025-10-16T18:18:49.254965Z",
     "shell.execute_reply.started": "2025-10-16T18:18:49.254943Z"
    }
   },
   "outputs": [],
   "source": [
    "df_train"
   ]
  },
  {
   "cell_type": "code",
   "execution_count": null,
   "id": "05265919-cd19-4f2f-ab5e-036867b2b5b1",
   "metadata": {
    "execution": {
     "iopub.status.busy": "2025-10-16T18:18:49.262358Z",
     "iopub.status.idle": "2025-10-16T18:18:49.263181Z",
     "shell.execute_reply": "2025-10-16T18:18:49.262798Z",
     "shell.execute_reply.started": "2025-10-16T18:18:49.262776Z"
    }
   },
   "outputs": [],
   "source": [
    "categorical = list(categorical)\n",
    "numerical = list(numerical)"
   ]
  },
  {
   "cell_type": "code",
   "execution_count": null,
   "id": "9c61bf89-0c4c-4698-a4e5-75996fcb6097",
   "metadata": {
    "execution": {
     "iopub.status.busy": "2025-10-16T18:18:49.265447Z",
     "iopub.status.idle": "2025-10-16T18:18:49.317208Z",
     "shell.execute_reply": "2025-10-16T18:18:49.316669Z",
     "shell.execute_reply.started": "2025-10-16T18:18:49.316638Z"
    }
   },
   "outputs": [],
   "source": [
    "train_dict = df_train[categorical + numerical].to_dict(orient='records')\n",
    "train_dict[0]"
   ]
  },
  {
   "cell_type": "code",
   "execution_count": null,
   "id": "f3602547-ab42-4399-977c-41c4b4bbf7c4",
   "metadata": {
    "execution": {
     "iopub.status.busy": "2025-10-16T18:18:49.318907Z",
     "iopub.status.idle": "2025-10-16T18:18:49.319548Z",
     "shell.execute_reply": "2025-10-16T18:18:49.319314Z",
     "shell.execute_reply.started": "2025-10-16T18:18:49.319294Z"
    }
   },
   "outputs": [],
   "source": [
    "dv = DictVectorizer(sparse=False)\n",
    "train_dict = df_train[categorical + numerical].to_dict(orient='records')\n",
    "X_train = dv.fit_transform(train_dict)\n",
    "\n",
    "val_dict = df_val[categorical + numerical].to_dict(orient='records')\n",
    "X_val = dv.transform(val_dict)"
   ]
  },
  {
   "cell_type": "code",
   "execution_count": null,
   "id": "4854b69a-5b67-4d2b-910b-a81848356a97",
   "metadata": {
    "execution": {
     "iopub.status.busy": "2025-10-16T18:18:49.324384Z",
     "iopub.status.idle": "2025-10-16T18:18:49.327206Z",
     "shell.execute_reply": "2025-10-16T18:18:49.326834Z",
     "shell.execute_reply.started": "2025-10-16T18:18:49.326810Z"
    }
   },
   "outputs": [],
   "source": [
    "X_train = dv.fit_transform(train_dict)"
   ]
  },
  {
   "cell_type": "code",
   "execution_count": null,
   "id": "85d1451c-8640-4c7f-a5ec-bba5786933d5",
   "metadata": {
    "execution": {
     "iopub.status.busy": "2025-10-16T18:18:49.329740Z",
     "iopub.status.idle": "2025-10-16T18:18:49.330339Z",
     "shell.execute_reply": "2025-10-16T18:18:49.330101Z",
     "shell.execute_reply.started": "2025-10-16T18:18:49.330083Z"
    }
   },
   "outputs": [],
   "source": [
    "X_train.shape"
   ]
  },
  {
   "cell_type": "code",
   "execution_count": null,
   "id": "f42b1a6c-63f4-457d-943a-c30782842b6b",
   "metadata": {
    "execution": {
     "iopub.status.busy": "2025-10-16T18:18:49.331621Z",
     "iopub.status.idle": "2025-10-16T18:18:49.332211Z",
     "shell.execute_reply": "2025-10-16T18:18:49.332035Z",
     "shell.execute_reply.started": "2025-10-16T18:18:49.332021Z"
    }
   },
   "outputs": [],
   "source": [
    "dv.get_feature_names_out()"
   ]
  },
  {
   "cell_type": "code",
   "execution_count": null,
   "id": "3330ab2b-8f00-4685-80e2-3e03942e249a",
   "metadata": {
    "execution": {
     "iopub.status.busy": "2025-10-16T18:18:49.334958Z",
     "iopub.status.idle": "2025-10-16T18:18:49.335447Z",
     "shell.execute_reply": "2025-10-16T18:18:49.335231Z",
     "shell.execute_reply.started": "2025-10-16T18:18:49.335211Z"
    }
   },
   "outputs": [],
   "source": [
    "y_train = df_train.converted.values\n",
    "y_val = df_val.converted.values"
   ]
  },
  {
   "cell_type": "code",
   "execution_count": null,
   "id": "16edaee3-4747-4e75-af13-c86396f4debc",
   "metadata": {
    "execution": {
     "iopub.status.busy": "2025-10-16T18:18:49.336951Z",
     "iopub.status.idle": "2025-10-16T18:18:49.338127Z",
     "shell.execute_reply": "2025-10-16T18:18:49.337826Z",
     "shell.execute_reply.started": "2025-10-16T18:18:49.337811Z"
    }
   },
   "outputs": [],
   "source": [
    "from sklearn.linear_model import LogisticRegression"
   ]
  },
  {
   "cell_type": "code",
   "execution_count": null,
   "id": "634a5ab3-9a80-418e-83e7-79217624b7a4",
   "metadata": {
    "execution": {
     "iopub.status.busy": "2025-10-16T18:18:49.339232Z",
     "iopub.status.idle": "2025-10-16T18:18:49.339720Z",
     "shell.execute_reply": "2025-10-16T18:18:49.339501Z",
     "shell.execute_reply.started": "2025-10-16T18:18:49.339481Z"
    }
   },
   "outputs": [],
   "source": [
    "model = LogisticRegression(solver='liblinear', C=1.0, max_iter=1000, random_state=42)\n",
    "model.fit(X_train, y_train)"
   ]
  },
  {
   "cell_type": "code",
   "execution_count": null,
   "id": "acad465f-364d-42c1-a0d9-724ec78219a1",
   "metadata": {
    "execution": {
     "iopub.status.busy": "2025-10-16T18:18:49.341659Z",
     "iopub.status.idle": "2025-10-16T18:18:49.342550Z",
     "shell.execute_reply": "2025-10-16T18:18:49.342160Z",
     "shell.execute_reply.started": "2025-10-16T18:18:49.342139Z"
    }
   },
   "outputs": [],
   "source": [
    "model.predict_proba(X_val)"
   ]
  },
  {
   "cell_type": "code",
   "execution_count": null,
   "id": "614c0b25-d027-4f12-8cc5-01912795860c",
   "metadata": {
    "execution": {
     "iopub.status.busy": "2025-10-16T18:18:49.345544Z",
     "iopub.status.idle": "2025-10-16T18:18:49.346103Z",
     "shell.execute_reply": "2025-10-16T18:18:49.345897Z",
     "shell.execute_reply.started": "2025-10-16T18:18:49.345877Z"
    }
   },
   "outputs": [],
   "source": [
    "y_pred = model.predict_proba(X_val)[:, 1]"
   ]
  },
  {
   "cell_type": "code",
   "execution_count": null,
   "id": "12184460-2090-4bbf-bef9-84c159b4dd37",
   "metadata": {
    "execution": {
     "iopub.status.busy": "2025-10-16T18:18:49.347810Z",
     "iopub.status.idle": "2025-10-16T18:18:49.348285Z",
     "shell.execute_reply": "2025-10-16T18:18:49.348136Z",
     "shell.execute_reply.started": "2025-10-16T18:18:49.348124Z"
    }
   },
   "outputs": [],
   "source": [
    "converted = y_pred >= 0.5"
   ]
  },
  {
   "cell_type": "code",
   "execution_count": null,
   "id": "c0167a47-b9c5-4d43-a4e4-775fd5d97cad",
   "metadata": {
    "execution": {
     "iopub.status.busy": "2025-10-16T18:18:49.350057Z",
     "iopub.status.idle": "2025-10-16T18:18:49.350606Z",
     "shell.execute_reply": "2025-10-16T18:18:49.350416Z",
     "shell.execute_reply.started": "2025-10-16T18:18:49.350397Z"
    }
   },
   "outputs": [],
   "source": [
    "y_pred.mean()"
   ]
  },
  {
   "cell_type": "code",
   "execution_count": null,
   "id": "6759e222-ced7-46e9-b00a-1d13e95cfc29",
   "metadata": {
    "execution": {
     "iopub.status.busy": "2025-10-16T18:18:49.353822Z",
     "iopub.status.idle": "2025-10-16T18:18:49.354364Z",
     "shell.execute_reply": "2025-10-16T18:18:49.354090Z",
     "shell.execute_reply.started": "2025-10-16T18:18:49.354077Z"
    }
   },
   "outputs": [],
   "source": [
    "(y_val == converted).mean()"
   ]
  },
  {
   "cell_type": "code",
   "execution_count": null,
   "id": "01e8db23-59e2-4e3e-b2e3-6c75214f8bcb",
   "metadata": {
    "execution": {
     "iopub.status.busy": "2025-10-16T18:18:49.358633Z",
     "iopub.status.idle": "2025-10-16T18:18:49.360066Z",
     "shell.execute_reply": "2025-10-16T18:18:49.359689Z",
     "shell.execute_reply.started": "2025-10-16T18:18:49.359667Z"
    }
   },
   "outputs": [],
   "source": [
    "y_pred = model.predict(X_val)"
   ]
  },
  {
   "cell_type": "code",
   "execution_count": null,
   "id": "be459e28-b4b1-47e0-8a2b-5c2f758b4e2f",
   "metadata": {
    "execution": {
     "iopub.status.busy": "2025-10-16T18:18:49.363621Z",
     "iopub.status.idle": "2025-10-16T18:18:49.364422Z",
     "shell.execute_reply": "2025-10-16T18:18:49.364225Z",
     "shell.execute_reply.started": "2025-10-16T18:18:49.364212Z"
    }
   },
   "outputs": [],
   "source": [
    "from sklearn.metrics import accuracy_score, confusion_matrix, classification_report"
   ]
  },
  {
   "cell_type": "code",
   "execution_count": null,
   "id": "50d6308c-b045-47fa-850c-696776a189e6",
   "metadata": {
    "execution": {
     "iopub.status.busy": "2025-10-16T18:18:49.368744Z",
     "iopub.status.idle": "2025-10-16T18:18:49.370434Z",
     "shell.execute_reply": "2025-10-16T18:18:49.369895Z",
     "shell.execute_reply.started": "2025-10-16T18:18:49.369871Z"
    }
   },
   "outputs": [],
   "source": [
    "round(accuracy_score(y_val, y_pred),2)"
   ]
  },
  {
   "cell_type": "code",
   "execution_count": null,
   "id": "4d565bf9-bd1a-4a54-a202-d62e25976d5e",
   "metadata": {
    "execution": {
     "iopub.status.busy": "2025-10-16T18:18:49.372890Z",
     "iopub.status.idle": "2025-10-16T18:18:49.373562Z",
     "shell.execute_reply": "2025-10-16T18:18:49.373416Z",
     "shell.execute_reply.started": "2025-10-16T18:18:49.373401Z"
    }
   },
   "outputs": [],
   "source": [
    "dicts_train_full = df_train_full[categorical + numerical].to_dict(orient='records')"
   ]
  },
  {
   "cell_type": "code",
   "execution_count": null,
   "id": "237633b1-d73f-4e87-ac1a-5345a296bd13",
   "metadata": {
    "execution": {
     "iopub.status.busy": "2025-10-16T18:18:49.374868Z",
     "iopub.status.idle": "2025-10-16T18:18:49.375865Z",
     "shell.execute_reply": "2025-10-16T18:18:49.375214Z",
     "shell.execute_reply.started": "2025-10-16T18:18:49.375195Z"
    }
   },
   "outputs": [],
   "source": [
    "dv = DictVectorizer(sparse=False)"
   ]
  },
  {
   "cell_type": "code",
   "execution_count": null,
   "id": "b886ee1e-c655-4768-afb7-060ab37ac867",
   "metadata": {
    "execution": {
     "iopub.status.busy": "2025-10-16T18:18:49.377585Z",
     "iopub.status.idle": "2025-10-16T18:18:49.379018Z",
     "shell.execute_reply": "2025-10-16T18:18:49.378603Z",
     "shell.execute_reply.started": "2025-10-16T18:18:49.378509Z"
    }
   },
   "outputs": [],
   "source": [
    "X_train_full = dv.fit_transform(dicts_train_full)"
   ]
  },
  {
   "cell_type": "code",
   "execution_count": null,
   "id": "60d45116-ecde-4268-b425-c6995ee044e5",
   "metadata": {
    "execution": {
     "iopub.status.busy": "2025-10-16T18:18:49.381262Z",
     "iopub.status.idle": "2025-10-16T18:18:49.383864Z",
     "shell.execute_reply": "2025-10-16T18:18:49.381845Z",
     "shell.execute_reply.started": "2025-10-16T18:18:49.381824Z"
    }
   },
   "outputs": [],
   "source": [
    "y_train_full = df_train_full.converted.values"
   ]
  },
  {
   "cell_type": "code",
   "execution_count": null,
   "id": "4769e5c4-ac19-4ce2-832a-ed96c2b2aea5",
   "metadata": {
    "execution": {
     "iopub.status.busy": "2025-10-16T18:18:49.387053Z",
     "iopub.status.idle": "2025-10-16T18:18:49.388000Z",
     "shell.execute_reply": "2025-10-16T18:18:49.387519Z",
     "shell.execute_reply.started": "2025-10-16T18:18:49.387505Z"
    }
   },
   "outputs": [],
   "source": [
    "model_baseline = LogisticRegression(solver='liblinear', C=1.0, max_iter=1000, random_state=42)\n",
    "model_baseline.fit(X_train, y_train)"
   ]
  },
  {
   "cell_type": "code",
   "execution_count": null,
   "id": "4005b306-7b5a-49a2-8d38-b23a5f06580e",
   "metadata": {
    "execution": {
     "iopub.status.busy": "2025-10-16T18:18:49.391882Z",
     "iopub.status.idle": "2025-10-16T18:18:49.392293Z",
     "shell.execute_reply": "2025-10-16T18:18:49.392150Z",
     "shell.execute_reply.started": "2025-10-16T18:18:49.392138Z"
    }
   },
   "outputs": [],
   "source": [
    "model.intercept_[0]"
   ]
  },
  {
   "cell_type": "code",
   "execution_count": null,
   "id": "78b11726-0b33-4c6f-87ad-f273756599c4",
   "metadata": {
    "execution": {
     "iopub.status.busy": "2025-10-16T18:18:49.393712Z",
     "iopub.status.idle": "2025-10-16T18:18:49.395625Z",
     "shell.execute_reply": "2025-10-16T18:18:49.395312Z",
     "shell.execute_reply.started": "2025-10-16T18:18:49.394566Z"
    }
   },
   "outputs": [],
   "source": [
    "model.coef_[0].round(3)"
   ]
  },
  {
   "cell_type": "code",
   "execution_count": null,
   "id": "6ccc3f0c-db66-479d-b0d7-81f842913eea",
   "metadata": {
    "execution": {
     "iopub.status.busy": "2025-10-16T18:18:49.398163Z",
     "iopub.status.idle": "2025-10-16T18:18:49.399343Z",
     "shell.execute_reply": "2025-10-16T18:18:49.398844Z",
     "shell.execute_reply.started": "2025-10-16T18:18:49.398741Z"
    }
   },
   "outputs": [],
   "source": [
    "dicts_test = df_test[categorical + numerical].to_dict(orient='records')"
   ]
  },
  {
   "cell_type": "code",
   "execution_count": null,
   "id": "508f7426-6b69-4c45-b5f1-ba4e54f9b61e",
   "metadata": {
    "execution": {
     "iopub.status.busy": "2025-10-16T18:18:49.401014Z",
     "iopub.status.idle": "2025-10-16T18:18:49.401636Z",
     "shell.execute_reply": "2025-10-16T18:18:49.401320Z",
     "shell.execute_reply.started": "2025-10-16T18:18:49.401304Z"
    }
   },
   "outputs": [],
   "source": [
    "X_test = dv.transform(dicts_test)"
   ]
  },
  {
   "cell_type": "code",
   "execution_count": null,
   "id": "6a3027fa-7557-4220-b515-b2b3a69ec0df",
   "metadata": {
    "execution": {
     "iopub.status.busy": "2025-10-16T18:18:49.405176Z",
     "iopub.status.idle": "2025-10-16T18:18:49.409032Z",
     "shell.execute_reply": "2025-10-16T18:18:49.407966Z",
     "shell.execute_reply.started": "2025-10-16T18:18:49.407783Z"
    }
   },
   "outputs": [],
   "source": [
    "y_pred = model.predict_proba(X_train)[:, 1]"
   ]
  },
  {
   "cell_type": "code",
   "execution_count": null,
   "id": "1c09eb30-46e8-4ed6-801f-d2a9850889aa",
   "metadata": {
    "execution": {
     "iopub.status.busy": "2025-10-16T18:18:49.411547Z",
     "iopub.status.idle": "2025-10-16T18:18:49.412322Z",
     "shell.execute_reply": "2025-10-16T18:18:49.412048Z",
     "shell.execute_reply.started": "2025-10-16T18:18:49.412015Z"
    }
   },
   "outputs": [],
   "source": [
    "converted_decision = (y_pred >= 0.5)\n",
    "converted_decision"
   ]
  },
  {
   "cell_type": "code",
   "execution_count": null,
   "id": "5d86fb00-3a26-47a2-b6ae-93ad0adccb81",
   "metadata": {
    "execution": {
     "iopub.status.busy": "2025-10-16T18:18:49.414977Z",
     "iopub.status.idle": "2025-10-16T18:18:49.415891Z",
     "shell.execute_reply": "2025-10-16T18:18:49.415649Z",
     "shell.execute_reply.started": "2025-10-16T18:18:49.415628Z"
    }
   },
   "outputs": [],
   "source": [
    "#(y_val == converted_decision).mean()"
   ]
  },
  {
   "cell_type": "code",
   "execution_count": null,
   "id": "bdf692f5-4066-49dc-aa84-f1f893d23f9e",
   "metadata": {
    "execution": {
     "iopub.status.busy": "2025-10-16T18:18:49.418003Z",
     "iopub.status.idle": "2025-10-16T18:18:49.418724Z",
     "shell.execute_reply": "2025-10-16T18:18:49.418577Z",
     "shell.execute_reply.started": "2025-10-16T18:18:49.418564Z"
    }
   },
   "outputs": [],
   "source": [
    "y_pred = model.predict(X_val)"
   ]
  },
  {
   "cell_type": "code",
   "execution_count": null,
   "id": "f769c48c-7b1d-4306-bd89-d9b4a1abf53c",
   "metadata": {
    "execution": {
     "iopub.status.busy": "2025-10-16T18:18:49.420842Z",
     "iopub.status.idle": "2025-10-16T18:18:49.421754Z",
     "shell.execute_reply": "2025-10-16T18:18:49.421477Z",
     "shell.execute_reply.started": "2025-10-16T18:18:49.421459Z"
    }
   },
   "outputs": [],
   "source": [
    "accuracy_score(y_val, y_pred)"
   ]
  },
  {
   "cell_type": "code",
   "execution_count": null,
   "id": "8c2a9103-53c2-404f-b60d-0a781b076a11",
   "metadata": {
    "execution": {
     "iopub.status.busy": "2025-10-16T18:18:49.425489Z",
     "iopub.status.idle": "2025-10-16T18:18:49.426511Z",
     "shell.execute_reply": "2025-10-16T18:18:49.426267Z",
     "shell.execute_reply.started": "2025-10-16T18:18:49.426244Z"
    }
   },
   "outputs": [],
   "source": [
    "ac = accuracy_score(y_val, y_pred)"
   ]
  },
  {
   "cell_type": "code",
   "execution_count": null,
   "id": "3eb33b06-1219-44a9-975e-696e56749aa2",
   "metadata": {
    "execution": {
     "iopub.status.busy": "2025-10-16T18:18:49.429150Z",
     "iopub.status.idle": "2025-10-16T18:18:49.429890Z",
     "shell.execute_reply": "2025-10-16T18:18:49.429717Z",
     "shell.execute_reply.started": "2025-10-16T18:18:49.429704Z"
    }
   },
   "outputs": [],
   "source": [
    "y_val_pred_baseline = model_baseline.predict(X_val)\n",
    "accuracy_baseline = accuracy_score(y_val, y_val_pred_baseline)\n",
    "print(f'Accuracy: {accuracy_baseline:.2f}')"
   ]
  },
  {
   "cell_type": "code",
   "execution_count": null,
   "id": "3110881f-cf90-45df-909d-69271a9f8a50",
   "metadata": {
    "execution": {
     "iopub.status.busy": "2025-10-16T18:18:49.431756Z",
     "iopub.status.idle": "2025-10-16T18:18:49.432467Z",
     "shell.execute_reply": "2025-10-16T18:18:49.432208Z",
     "shell.execute_reply.started": "2025-10-16T18:18:49.432187Z"
    }
   },
   "outputs": [],
   "source": [
    "round(ac,2)"
   ]
  },
  {
   "cell_type": "code",
   "execution_count": null,
   "id": "b1e74de9-74ad-44ed-a553-96013a1631d7",
   "metadata": {
    "execution": {
     "iopub.status.busy": "2025-10-16T18:18:49.433825Z",
     "iopub.status.idle": "2025-10-16T18:18:49.434833Z",
     "shell.execute_reply": "2025-10-16T18:18:49.434501Z",
     "shell.execute_reply.started": "2025-10-16T18:18:49.434478Z"
    }
   },
   "outputs": [],
   "source": [
    "# A function to evaluate the model without a specific feature\n",
    "def evaluate_without_feature(feature_to_exclude):\n",
    "    # Get the feature names from the DictVectorizer\n",
    "    feature_names = dv.get_feature_names_out()\n",
    "    \n",
    "    # Find indices of features to keep (all except the ones to exclude)\n",
    "    exclude_indices = [i for i, feat in enumerate(feature_names) if feature_to_exclude in feat]\n",
    "    keep_indices = [i for i in range(len(feature_names)) if i not in exclude_indices]\n",
    "    \n",
    "    # Create new datasets without the feature\n",
    "    X_train_reduced = X_train[:, keep_indices]\n",
    "    X_val_reduced = X_val[:, keep_indices]\n",
    "    \n",
    "    # Train the model\n",
    "    model = LogisticRegression(solver='liblinear', C=1.0, max_iter=1000, random_state=42)\n",
    "    model.fit(X_train_reduced, y_train)\n",
    "    \n",
    "    # Evaluate on validation set\n",
    "    y_val_pred = model.predict(X_val_reduced)\n",
    "    accuracy = accuracy_score(y_val, y_val_pred)\n",
    "    \n",
    "    return accuracy"
   ]
  },
  {
   "cell_type": "markdown",
   "id": "ee87ede0",
   "metadata": {},
   "source": [
    "# Question 5\n",
    "\n",
    "- Let's find the least useful feature using the feature elimination technique.\n",
    "- Train a model using the same features and parameters as in Q4 (without rounding).\n",
    "- Now exclude each feature from this set and train a model without it. Record the accuracy for each model.\n",
    "- For each feature, calculate the difference between the original accuracy and the accuracy without the feature.\n",
    "\n",
    "Which of following feature has the smallest difference?\n",
    "\n",
    "- `'industry'`\n",
    "- `'employment_status'`\n",
    "- `'lead_score'`\n",
    "\n",
    "**_NOTE:_** The difference doesn't have to be positive."
   ]
  },
  {
   "cell_type": "markdown",
   "id": "54e47bac-2248-402b-bfdd-a67f174ad7a0",
   "metadata": {},
   "source": [
    "numerical = ['number_of_courses_viewed', 'annual_income', 'interaction_count', 'lead_score']\n",
    "categorical = ['lead_source', 'industry', 'employment_status', 'location']"
   ]
  },
  {
   "cell_type": "code",
   "execution_count": null,
   "id": "a0ee1af6-b829-41bd-a662-016295d0c498",
   "metadata": {
    "execution": {
     "iopub.status.busy": "2025-10-16T18:18:49.436932Z",
     "iopub.status.idle": "2025-10-16T18:18:49.437266Z",
     "shell.execute_reply": "2025-10-16T18:18:49.437132Z",
     "shell.execute_reply.started": "2025-10-16T18:18:49.437120Z"
    }
   },
   "outputs": [],
   "source": [
    "df[['lead_source', 'converted']]"
   ]
  },
  {
   "cell_type": "code",
   "execution_count": null,
   "id": "60e2c600-2cb8-4bfc-926b-51dfeb04af01",
   "metadata": {
    "execution": {
     "iopub.status.busy": "2025-10-16T18:18:49.438587Z",
     "iopub.status.idle": "2025-10-16T18:18:49.440131Z",
     "shell.execute_reply": "2025-10-16T18:18:49.438885Z",
     "shell.execute_reply.started": "2025-10-16T18:18:49.438868Z"
    }
   },
   "outputs": [],
   "source": [
    "#df_train_full, df_test = train_test_split(df.drop(columns=['converted','lead_source']), test_size=0.2, random_state=42)"
   ]
  },
  {
   "cell_type": "code",
   "execution_count": null,
   "id": "46255648-8e01-4ee5-9177-ec9d327837d2",
   "metadata": {
    "execution": {
     "iopub.status.busy": "2025-10-16T18:18:49.442855Z",
     "iopub.status.idle": "2025-10-16T18:18:49.443300Z",
     "shell.execute_reply": "2025-10-16T18:18:49.443141Z",
     "shell.execute_reply.started": "2025-10-16T18:18:49.443126Z"
    }
   },
   "outputs": [],
   "source": [
    "X = df[numerical + categorical]\n",
    "y = df['converted']"
   ]
  },
  {
   "cell_type": "code",
   "execution_count": null,
   "id": "38d5a234-56a9-4a5b-b017-3675cc49958f",
   "metadata": {
    "execution": {
     "iopub.status.busy": "2025-10-16T18:18:49.446411Z",
     "iopub.status.idle": "2025-10-16T18:18:49.446901Z",
     "shell.execute_reply": "2025-10-16T18:18:49.446761Z",
     "shell.execute_reply.started": "2025-10-16T18:18:49.446749Z"
    }
   },
   "outputs": [],
   "source": [
    "df_train_full, df_test = train_test_split(df, test_size=0.2, random_state=42)"
   ]
  },
  {
   "cell_type": "code",
   "execution_count": null,
   "id": "2fb36589-37d8-4bd7-818d-abfed9c4255b",
   "metadata": {
    "execution": {
     "iopub.status.busy": "2025-10-16T18:18:49.449315Z",
     "iopub.status.idle": "2025-10-16T18:18:49.450052Z",
     "shell.execute_reply": "2025-10-16T18:18:49.449789Z",
     "shell.execute_reply.started": "2025-10-16T18:18:49.449622Z"
    }
   },
   "outputs": [],
   "source": [
    "df_train, df_val = train_test_split(df_train_full, test_size=293, random_state=42)"
   ]
  },
  {
   "cell_type": "code",
   "execution_count": null,
   "id": "1d11a965-d3a7-4f76-b4dc-7b55eaca531b",
   "metadata": {
    "execution": {
     "iopub.status.busy": "2025-10-16T18:18:49.452852Z",
     "iopub.status.idle": "2025-10-16T18:18:49.453216Z",
     "shell.execute_reply": "2025-10-16T18:18:49.453050Z",
     "shell.execute_reply.started": "2025-10-16T18:18:49.453039Z"
    }
   },
   "outputs": [],
   "source": [
    "dicts_train_full = df_train_full[categorical + numerical].to_dict(orient='records')"
   ]
  },
  {
   "cell_type": "code",
   "execution_count": null,
   "id": "e98479a1-532c-40fb-ba11-f79ff3460215",
   "metadata": {
    "execution": {
     "iopub.status.busy": "2025-10-16T18:18:49.454319Z",
     "iopub.status.idle": "2025-10-16T18:18:49.455035Z",
     "shell.execute_reply": "2025-10-16T18:18:49.454824Z",
     "shell.execute_reply.started": "2025-10-16T18:18:49.454751Z"
    }
   },
   "outputs": [],
   "source": [
    "dv = DictVectorizer(sparse=False)\n",
    "X_train_full = dv.fit_transform(dicts_train_full)"
   ]
  },
  {
   "cell_type": "code",
   "execution_count": null,
   "id": "9364c8d5-1db3-4524-a97f-383c0caacb1a",
   "metadata": {
    "execution": {
     "iopub.status.busy": "2025-10-16T18:18:49.456499Z",
     "iopub.status.idle": "2025-10-16T18:18:49.457275Z",
     "shell.execute_reply": "2025-10-16T18:18:49.456892Z",
     "shell.execute_reply.started": "2025-10-16T18:18:49.456871Z"
    }
   },
   "outputs": [],
   "source": [
    "y_train_full = df_train_full.converted.values"
   ]
  },
  {
   "cell_type": "code",
   "execution_count": null,
   "id": "fa881f25-566e-4c44-ad84-1ee78c7fb398",
   "metadata": {
    "execution": {
     "iopub.status.busy": "2025-10-16T18:18:49.459048Z",
     "iopub.status.idle": "2025-10-16T18:18:49.460928Z",
     "shell.execute_reply": "2025-10-16T18:18:49.460340Z",
     "shell.execute_reply.started": "2025-10-16T18:18:49.460312Z"
    }
   },
   "outputs": [],
   "source": [
    "dicts_test = df_test[categorical + numerical].to_dict(orient='records')"
   ]
  },
  {
   "cell_type": "code",
   "execution_count": null,
   "id": "6a06bf78-4fff-4ded-89f5-119ad41b6568",
   "metadata": {
    "execution": {
     "iopub.status.busy": "2025-10-16T18:18:49.463681Z",
     "iopub.status.idle": "2025-10-16T18:18:49.464746Z",
     "shell.execute_reply": "2025-10-16T18:18:49.464261Z",
     "shell.execute_reply.started": "2025-10-16T18:18:49.464241Z"
    }
   },
   "outputs": [],
   "source": [
    "# Evaluate the model without each feature\n",
    "features_to_test = ['industry', 'employment_status', 'lead_score']\n",
    "results = {}\n",
    "\n",
    "for feature in features_to_test:\n",
    "    accuracy_without_feature = evaluate_without_feature(feature)\n",
    "    difference = accuracy_baseline - accuracy_without_feature\n",
    "    results[feature] = {\n",
    "        'accuracy': accuracy_without_feature,\n",
    "        'difference': difference\n",
    "    }\n",
    "    print(f\"Without {feature}: Accuracy = {accuracy_without_feature:.6f}, Difference = {difference:.6f}\")\n",
    "\n",
    "# Find the feature with the smallest difference\n",
    "min_feature = min(results, key=lambda x: abs(results[x]['difference']))\n",
    "print(f\"\\nFeature with smallest impact: {min_feature}, Difference: {results[min_feature]['difference']:.6f}\")"
   ]
  },
  {
   "cell_type": "markdown",
   "id": "c528428c",
   "metadata": {},
   "source": [
    "# Question 6\n",
    "\n",
    "- Now let's train a regularized logistic regression.\n",
    "- Let's try the following values of the parameter `C: [0.01, 0.1, 1, 10, 100]`.\n",
    "- Train models using all the features as in Q4.\n",
    "- Calculate the accuracy on the validation dataset and round it to 3 decimal digits.\n",
    "\n",
    "Which of these `C` leads to the best accuracy on the validation set?\n",
    "\n",
    "- 0.01\n",
    "- 0.1\n",
    "- 1\n",
    "- 10\n",
    "- 100\n",
    "\n",
    "**_NOTE:_** If there are multiple options, select the smallest C."
   ]
  },
  {
   "cell_type": "code",
   "execution_count": null,
   "id": "f3e9ba4d-6e4b-4c50-bac0-2db5f32de649",
   "metadata": {
    "execution": {
     "iopub.status.busy": "2025-10-16T18:18:49.466713Z",
     "iopub.status.idle": "2025-10-16T18:18:49.467815Z",
     "shell.execute_reply": "2025-10-16T18:18:49.467380Z",
     "shell.execute_reply.started": "2025-10-16T18:18:49.467359Z"
    }
   },
   "outputs": [],
   "source": [
    "\n",
    "c_values = [0.01, 0.1, 1, 10, 100]\n",
    "\n",
    "# Dictionary to store results\n",
    "c_results = {}\n",
    "\n",
    "# Train and evaluate models for each C value\n",
    "for c in c_values:\n",
    "    # Train model with current C value\n",
    "    model = LogisticRegression(solver='liblinear', C=c, max_iter=1000, random_state=42)\n",
    "    model.fit(X_train, y_train)\n",
    "    \n",
    "    # Evaluate on validation set\n",
    "    y_val_pred = model.predict(X_val)\n",
    "    accuracy = accuracy_score(y_val, y_val_pred)\n",
    "    \n",
    "    # Store result\n",
    "    c_results[c] = round(accuracy, 3)\n",
    "    \n",
    "    print(f\"C = {c}, Validation Accuracy = {c_results[c]}\")\n",
    "\n",
    "best_accuracy = max(c_results.values())\n",
    "best_c_values = [c for c, acc in c_results.items() if acc == best_accuracy]\n",
    "best_c = min(best_c_values)\n",
    "\n",
    "print(f\"\\nBest C value: {best_c} with validation accuracy: {c_results[best_c]}\")"
   ]
  },
  {
   "cell_type": "markdown",
   "id": "d4dd3643",
   "metadata": {},
   "source": [
    "# Submit the results\n",
    "\n",
    "- Submit your results here: https://courses.datatalks.club/ml-zoomcamp-2025/homework/hw03\n",
    "- If your answer doesn't match options exactly, select the closest one"
   ]
  }
 ],
 "metadata": {
  "kernelspec": {
   "display_name": "Python 3 (ipykernel)",
   "language": "python",
   "name": "python3"
  },
  "language_info": {
   "codemirror_mode": {
    "name": "ipython",
    "version": 3
   },
   "file_extension": ".py",
   "mimetype": "text/x-python",
   "name": "python",
   "nbconvert_exporter": "python",
   "pygments_lexer": "ipython3",
   "version": "3.12.9"
  }
 },
 "nbformat": 4,
 "nbformat_minor": 5
}
